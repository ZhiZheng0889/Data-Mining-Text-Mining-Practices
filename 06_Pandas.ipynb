{
  "cells": [
    {
      "cell_type": "markdown",
      "source": [
        "## Pandas\n",
        "\n",
        "Pandas is an open-source Python library providing high-performance data manipulation and analysis tool using its powerful data structures. The name pandas is derived from the word Panel Data – an Econometrics from Multidimensional data.\n",
        "\n",
        "Prior to pandas, Python was majorly used for data munging and preparation. It had very little contribution towards data analysis. Pandas solved this problem. Using pandas, we can accomplish five typical steps in the processing and analysis of data, regardless of the origin of data — load, prepare, manipulate, model, and analyze.\n",
        "\n",
        "Python with pandas is used in a wide range of fields including academic and commercial domains including finance, economics, Statistics, analytics, etc.\n",
        "\n",
        "Key Features of pandas:\n",
        "- Fast and efficient DataFrame object with default and customized indexing.\n",
        "- Tools for loading data into in-memory data objects from different file formats.\n",
        "- Data alignment and integrated handling of missing data.\n",
        "- Reshaping and pivoting of date sets.\n",
        "- Label-based slicing, indexing and subsetting of large data sets.\n",
        "- Columns from a data structure can be deleted or inserted.\n",
        "- Group by data for aggregation and transformations.\n",
        "- High performance merging and joining of data.\n",
        "- Time Series functionality.\n",
        "\n",
        "Pandas deals with the following three data structures −\n",
        "- Series\n",
        "- DataFrame\n",
        "- Panel\n",
        "\n",
        "These data structures are built on top of Numpy array, which means they are fast."
      ],
      "metadata": {
        "id": "qI6gjgE5jYAu"
      }
    },
    {
      "cell_type": "code",
      "execution_count": null,
      "metadata": {
        "id": "9CelQfQ5iCnV"
      },
      "outputs": [],
      "source": [
        "import numpy as np\n",
        "import pandas as pd"
      ]
    },
    {
      "cell_type": "markdown",
      "source": [
        "## Series\n",
        "\n",
        "Series is a one-dimensional labeled array capable of holding data of any type (integer, string, float, python objects, etc.). The axis labels are collectively called index.\n",
        "\n",
        "To create a Series object, we can use `pandas.Series` constructor and pass a list (e.g., NumPy array) of values.\n",
        "\n",
        "`pandas.Series(<data>)`: One-dimensional ndarray with axis labels (indices)."
      ],
      "metadata": {
        "id": "OfJcuReajgA3"
      }
    },
    {
      "cell_type": "markdown",
      "source": [
        "grades = pd.Series(np.random.randint(50, 101, size=100))\n",
        "grades"
      ],
      "metadata": {
        "id": "9t08lSpyjj2f"
      }
    },
    {
      "cell_type": "code",
      "execution_count": null,
      "metadata": {
        "id": "qxUv7OcbiCnY"
      },
      "outputs": [],
      "source": [
        "catalog = pd.read_csv(\"catalog.csv\")"
      ]
    },
    {
      "cell_type": "code",
      "source": [
        "type(grades)"
      ],
      "metadata": {
        "id": "aRKJfE59jm6P"
      },
      "execution_count": null,
      "outputs": []
    },
    {
      "cell_type": "code",
      "source": [
        "grades.shape"
      ],
      "metadata": {
        "id": "RKBHwyTFjn4n"
      },
      "execution_count": null,
      "outputs": []
    },
    {
      "cell_type": "markdown",
      "source": [
        "The `index` property can be used to get the indices of a Series. If indices are not manually assigned or changed, by default they will be values starting from zero similar to NumPy array indices.\n",
        "\n",
        "`Series.index`: The index (axis labels) of the Series."
      ],
      "metadata": {
        "id": "MBjSQccrjpkv"
      }
    },
    {
      "cell_type": "code",
      "source": [
        "grades.index"
      ],
      "metadata": {
        "id": "rNrLfuRSjn98"
      },
      "execution_count": null,
      "outputs": []
    },
    {
      "cell_type": "markdown",
      "source": [
        "To get the values associated with an index, `loc` property with an index can be used. For instance, `loc[2]` returns row associated with index 2. On the other hand, `iloc` returns rows based on their location. For example, `iloc[2]` returns the third row in the dataset, regardless of its index.\n",
        "\n",
        "`Series.loc`: Access a group of rows and columns by label(s) or a boolean array.\n",
        "\n",
        "`Series.iloc`: Purely integer-location based indexing for selection by position."
      ],
      "metadata": {
        "id": "jwjubJErju7a"
      }
    },
    {
      "cell_type": "code",
      "source": [
        "grades.loc[2]"
      ],
      "metadata": {
        "id": "mOGEIlfTjoBn"
      },
      "execution_count": null,
      "outputs": []
    },
    {
      "cell_type": "code",
      "source": [
        "grades.iloc[2]"
      ],
      "metadata": {
        "id": "J2e-6CRHjxa3"
      },
      "execution_count": null,
      "outputs": []
    },
    {
      "cell_type": "markdown",
      "source": [
        "Direct use of an index is similar to `loc`."
      ],
      "metadata": {
        "id": "-pvHSC_Wj0H_"
      }
    },
    {
      "cell_type": "code",
      "source": [
        "grades[2]"
      ],
      "metadata": {
        "id": "-wiGhF0Vj2iW"
      },
      "execution_count": null,
      "outputs": []
    },
    {
      "cell_type": "markdown",
      "source": [
        "To get number of elements in a Series, `len` function can be used."
      ],
      "metadata": {
        "id": "yYdoAwuQj9Be"
      }
    },
    {
      "cell_type": "code",
      "source": [
        "len(grades)"
      ],
      "metadata": {
        "id": "Z3C2qYKHj7hX"
      },
      "execution_count": null,
      "outputs": []
    },
    {
      "cell_type": "markdown",
      "source": [
        "To directly delete an element in the Series, `del` keyword can be used."
      ],
      "metadata": {
        "id": "PW36N2GrkAQJ"
      }
    },
    {
      "cell_type": "code",
      "source": [
        "del grades[2]"
      ],
      "metadata": {
        "id": "kbTzD8SskDx9"
      },
      "execution_count": null,
      "outputs": []
    },
    {
      "cell_type": "code",
      "source": [
        "len(grades)"
      ],
      "metadata": {
        "id": "GqeuhjcXkD5l"
      },
      "execution_count": null,
      "outputs": []
    },
    {
      "cell_type": "code",
      "source": [
        "try:\n",
        "    grades.loc[2]\n",
        "except:\n",
        "    print(\"element does not exist\")"
      ],
      "metadata": {
        "id": "0JYD7LEnkEAO"
      },
      "execution_count": null,
      "outputs": []
    },
    {
      "cell_type": "code",
      "source": [
        "grades.iloc[2]"
      ],
      "metadata": {
        "id": "jz5JrjzhkEF8"
      },
      "execution_count": null,
      "outputs": []
    },
    {
      "cell_type": "code",
      "source": [
        "try:\n",
        "    del grades[2]\n",
        "except:\n",
        "    print(\"element does not exist\")"
      ],
      "metadata": {
        "id": "Bj1JCz4UkEJD"
      },
      "execution_count": null,
      "outputs": []
    },
    {
      "cell_type": "markdown",
      "source": [
        "`Series.drop(`: Return Series with specified index labels removed. This leaves the original Series unchanged. If `inplace=True` is passed, do operation inplace and return `None`."
      ],
      "metadata": {
        "id": "G7DPHyGakKbH"
      }
    },
    {
      "cell_type": "code",
      "source": [
        "grades.drop([1,3])"
      ],
      "metadata": {
        "id": "BVsXmh3dkMt_"
      },
      "execution_count": null,
      "outputs": []
    },
    {
      "cell_type": "markdown",
      "source": [
        "Regular slicing operations work with Series."
      ],
      "metadata": {
        "id": "he028vqSkSUO"
      }
    },
    {
      "cell_type": "code",
      "source": [
        "grades.iloc[:5]"
      ],
      "metadata": {
        "id": "yiK0KQ_dkS9G"
      },
      "execution_count": null,
      "outputs": []
    },
    {
      "cell_type": "code",
      "source": [
        "grades.iloc[2:6]"
      ],
      "metadata": {
        "id": "jLI-THDckUU-"
      },
      "execution_count": null,
      "outputs": []
    },
    {
      "cell_type": "code",
      "source": [
        "grades.iloc[-5:]"
      ],
      "metadata": {
        "id": "OMbCAf_skUXo"
      },
      "execution_count": null,
      "outputs": []
    },
    {
      "cell_type": "markdown",
      "source": [
        "`Series.head(<n=5>)`: Return the first n rows."
      ],
      "metadata": {
        "id": "Vbb15QAfkYbn"
      }
    },
    {
      "cell_type": "code",
      "source": [
        "grades.head()"
      ],
      "metadata": {
        "id": "18mwtIDekUaQ"
      },
      "execution_count": null,
      "outputs": []
    },
    {
      "cell_type": "markdown",
      "source": [
        "`Series.tail(<n=5>)`: Return the last n rows."
      ],
      "metadata": {
        "id": "G4Ru1Oxqkb71"
      }
    },
    {
      "cell_type": "code",
      "source": [
        "grades.tail(10)"
      ],
      "metadata": {
        "id": "Gu-xHWFCkUc4"
      },
      "execution_count": null,
      "outputs": []
    },
    {
      "cell_type": "markdown",
      "source": [
        "`Series.describe`: Generate descriptive statistics that summarize the central tendency, dispersion and shape of a dataset’s distribution, excluding NaN values."
      ],
      "metadata": {
        "id": "7sNa6HXYkeP_"
      }
    },
    {
      "cell_type": "code",
      "source": [
        "grades.describe()"
      ],
      "metadata": {
        "id": "sV1SD8DPkgmv"
      },
      "execution_count": null,
      "outputs": []
    },
    {
      "cell_type": "markdown",
      "source": [
        "`Series.values`: Return Series as ndarray or ndarray-like depending on the dtype."
      ],
      "metadata": {
        "id": "6kzh8NBSkjmC"
      }
    },
    {
      "cell_type": "code",
      "source": [
        "grades.values"
      ],
      "metadata": {
        "id": "jMN0EoQEkgqW"
      },
      "execution_count": null,
      "outputs": []
    },
    {
      "cell_type": "markdown",
      "source": [
        "Regular statistical methods are available for Series with numerical values."
      ],
      "metadata": {
        "id": "7_BrFtLjknS_"
      }
    },
    {
      "cell_type": "code",
      "source": [
        "grades.sum()"
      ],
      "metadata": {
        "id": "A82EhBTskpu-"
      },
      "execution_count": null,
      "outputs": []
    },
    {
      "cell_type": "code",
      "source": [
        "grades.mean()"
      ],
      "metadata": {
        "id": "IT27cLBGkpxi"
      },
      "execution_count": null,
      "outputs": []
    },
    {
      "cell_type": "code",
      "source": [
        "grades.std()"
      ],
      "metadata": {
        "id": "Hf0rXeeXkp0X"
      },
      "execution_count": null,
      "outputs": []
    },
    {
      "cell_type": "code",
      "source": [
        "grades.var()"
      ],
      "metadata": {
        "id": "rLU5LJ6tkp3C"
      },
      "execution_count": null,
      "outputs": []
    },
    {
      "cell_type": "code",
      "source": [
        "grades.min()"
      ],
      "metadata": {
        "id": "QlZPQPbBkp52"
      },
      "execution_count": null,
      "outputs": []
    },
    {
      "cell_type": "code",
      "source": [
        "grades.max()"
      ],
      "metadata": {
        "id": "2M5y0qxXkp89"
      },
      "execution_count": null,
      "outputs": []
    },
    {
      "cell_type": "code",
      "source": [
        "grades.cumsum()"
      ],
      "metadata": {
        "id": "UZiTv19Ikwhe"
      },
      "execution_count": null,
      "outputs": []
    },
    {
      "cell_type": "code",
      "source": [
        "grades+5"
      ],
      "metadata": {
        "id": "Zj54DI1NkwkH"
      },
      "execution_count": null,
      "outputs": []
    },
    {
      "cell_type": "code",
      "source": [],
      "metadata": {
        "id": "Ev7sdhyOkz7e"
      },
      "execution_count": null,
      "outputs": []
    },
    {
      "cell_type": "code",
      "source": [],
      "metadata": {
        "id": "eXdXEr2Nkz-f"
      },
      "execution_count": null,
      "outputs": []
    },
    {
      "cell_type": "code",
      "source": [],
      "metadata": {
        "id": "OTWNkh00k0BD"
      },
      "execution_count": null,
      "outputs": []
    },
    {
      "cell_type": "code",
      "execution_count": null,
      "metadata": {
        "scrolled": true,
        "id": "4hnGfny7iCnY",
        "outputId": "87a428de-cee6-4e66-c3b3-caf4137dd9e4"
      },
      "outputs": [
        {
          "data": {
            "text/html": [
              "<div>\n",
              "<style scoped>\n",
              "    .dataframe tbody tr th:only-of-type {\n",
              "        vertical-align: middle;\n",
              "    }\n",
              "\n",
              "    .dataframe tbody tr th {\n",
              "        vertical-align: top;\n",
              "    }\n",
              "\n",
              "    .dataframe thead th {\n",
              "        text-align: right;\n",
              "    }\n",
              "</style>\n",
              "<table border=\"1\" class=\"dataframe\">\n",
              "  <thead>\n",
              "    <tr style=\"text-align: right;\">\n",
              "      <th></th>\n",
              "      <th>Product ID</th>\n",
              "      <th>Category</th>\n",
              "      <th>Price</th>\n",
              "      <th>Inventory</th>\n",
              "      <th>Weight</th>\n",
              "      <th>Condition</th>\n",
              "    </tr>\n",
              "  </thead>\n",
              "  <tbody>\n",
              "    <tr>\n",
              "      <th>0</th>\n",
              "      <td>142019521928</td>\n",
              "      <td>Office Supplies</td>\n",
              "      <td>42.31</td>\n",
              "      <td>9</td>\n",
              "      <td>26.4</td>\n",
              "      <td>Used</td>\n",
              "    </tr>\n",
              "    <tr>\n",
              "      <th>1</th>\n",
              "      <td>135617259927</td>\n",
              "      <td>Furniture</td>\n",
              "      <td>29.28</td>\n",
              "      <td>9</td>\n",
              "      <td>13.4</td>\n",
              "      <td>New</td>\n",
              "    </tr>\n",
              "    <tr>\n",
              "      <th>2</th>\n",
              "      <td>786588848050</td>\n",
              "      <td>Furniture</td>\n",
              "      <td>98.50</td>\n",
              "      <td>6</td>\n",
              "      <td>43.7</td>\n",
              "      <td>Refurbished</td>\n",
              "    </tr>\n",
              "    <tr>\n",
              "      <th>3</th>\n",
              "      <td>957702802601</td>\n",
              "      <td>Electrical</td>\n",
              "      <td>14.68</td>\n",
              "      <td>26</td>\n",
              "      <td>17.1</td>\n",
              "      <td>Refurbished</td>\n",
              "    </tr>\n",
              "    <tr>\n",
              "      <th>4</th>\n",
              "      <td>716662964693</td>\n",
              "      <td>Furniture</td>\n",
              "      <td>27.17</td>\n",
              "      <td>0</td>\n",
              "      <td>24.2</td>\n",
              "      <td>Refurbished</td>\n",
              "    </tr>\n",
              "    <tr>\n",
              "      <th>5</th>\n",
              "      <td>868419050073</td>\n",
              "      <td>Electrical</td>\n",
              "      <td>45.08</td>\n",
              "      <td>41</td>\n",
              "      <td>29.9</td>\n",
              "      <td>New</td>\n",
              "    </tr>\n",
              "    <tr>\n",
              "      <th>6</th>\n",
              "      <td>91879907254</td>\n",
              "      <td>Industrial</td>\n",
              "      <td>22.24</td>\n",
              "      <td>3</td>\n",
              "      <td>48.9</td>\n",
              "      <td>New</td>\n",
              "    </tr>\n",
              "    <tr>\n",
              "      <th>7</th>\n",
              "      <td>147369664112</td>\n",
              "      <td>Office Supplies</td>\n",
              "      <td>35.12</td>\n",
              "      <td>3</td>\n",
              "      <td>7.7</td>\n",
              "      <td>New</td>\n",
              "    </tr>\n",
              "    <tr>\n",
              "      <th>8</th>\n",
              "      <td>861726542104</td>\n",
              "      <td>Office Supplies</td>\n",
              "      <td>41.37</td>\n",
              "      <td>16</td>\n",
              "      <td>36.7</td>\n",
              "      <td>New</td>\n",
              "    </tr>\n",
              "    <tr>\n",
              "      <th>9</th>\n",
              "      <td>236598380667</td>\n",
              "      <td>Electrical</td>\n",
              "      <td>84.64</td>\n",
              "      <td>24</td>\n",
              "      <td>27.8</td>\n",
              "      <td>Refurbished</td>\n",
              "    </tr>\n",
              "    <tr>\n",
              "      <th>10</th>\n",
              "      <td>652692835638</td>\n",
              "      <td>Electrical</td>\n",
              "      <td>15.32</td>\n",
              "      <td>16</td>\n",
              "      <td>17.6</td>\n",
              "      <td>Refurbished</td>\n",
              "    </tr>\n",
              "    <tr>\n",
              "      <th>11</th>\n",
              "      <td>878159088666</td>\n",
              "      <td>Electrical</td>\n",
              "      <td>52.33</td>\n",
              "      <td>19</td>\n",
              "      <td>48.6</td>\n",
              "      <td>Used</td>\n",
              "    </tr>\n",
              "    <tr>\n",
              "      <th>12</th>\n",
              "      <td>160297599302</td>\n",
              "      <td>Electrical</td>\n",
              "      <td>17.54</td>\n",
              "      <td>36</td>\n",
              "      <td>10.2</td>\n",
              "      <td>Used</td>\n",
              "    </tr>\n",
              "    <tr>\n",
              "      <th>13</th>\n",
              "      <td>967548509378</td>\n",
              "      <td>Electrical</td>\n",
              "      <td>40.07</td>\n",
              "      <td>2</td>\n",
              "      <td>0.8</td>\n",
              "      <td>Used</td>\n",
              "    </tr>\n",
              "    <tr>\n",
              "      <th>14</th>\n",
              "      <td>940471812588</td>\n",
              "      <td>Office Supplies</td>\n",
              "      <td>51.56</td>\n",
              "      <td>39</td>\n",
              "      <td>15.7</td>\n",
              "      <td>Used</td>\n",
              "    </tr>\n",
              "    <tr>\n",
              "      <th>15</th>\n",
              "      <td>980657053157</td>\n",
              "      <td>Electrical</td>\n",
              "      <td>21.63</td>\n",
              "      <td>27</td>\n",
              "      <td>12.2</td>\n",
              "      <td>Refurbished</td>\n",
              "    </tr>\n",
              "    <tr>\n",
              "      <th>16</th>\n",
              "      <td>452106625984</td>\n",
              "      <td>Lighting</td>\n",
              "      <td>70.95</td>\n",
              "      <td>23</td>\n",
              "      <td>4.5</td>\n",
              "      <td>Used</td>\n",
              "    </tr>\n",
              "    <tr>\n",
              "      <th>17</th>\n",
              "      <td>496296840068</td>\n",
              "      <td>Electrical</td>\n",
              "      <td>29.17</td>\n",
              "      <td>45</td>\n",
              "      <td>16.8</td>\n",
              "      <td>New</td>\n",
              "    </tr>\n",
              "    <tr>\n",
              "      <th>18</th>\n",
              "      <td>406228817406</td>\n",
              "      <td>Furniture</td>\n",
              "      <td>85.70</td>\n",
              "      <td>6</td>\n",
              "      <td>20.0</td>\n",
              "      <td>Used</td>\n",
              "    </tr>\n",
              "    <tr>\n",
              "      <th>19</th>\n",
              "      <td>147200243077</td>\n",
              "      <td>Industrial</td>\n",
              "      <td>81.45</td>\n",
              "      <td>19</td>\n",
              "      <td>34.6</td>\n",
              "      <td>Refurbished</td>\n",
              "    </tr>\n",
              "    <tr>\n",
              "      <th>20</th>\n",
              "      <td>243375248236</td>\n",
              "      <td>Lighting</td>\n",
              "      <td>10.00</td>\n",
              "      <td>38</td>\n",
              "      <td>4.6</td>\n",
              "      <td>Refurbished</td>\n",
              "    </tr>\n",
              "    <tr>\n",
              "      <th>21</th>\n",
              "      <td>635277947183</td>\n",
              "      <td>Office Supplies</td>\n",
              "      <td>73.71</td>\n",
              "      <td>47</td>\n",
              "      <td>8.9</td>\n",
              "      <td>Used</td>\n",
              "    </tr>\n",
              "    <tr>\n",
              "      <th>22</th>\n",
              "      <td>175101545294</td>\n",
              "      <td>Office Supplies</td>\n",
              "      <td>49.89</td>\n",
              "      <td>25</td>\n",
              "      <td>22.7</td>\n",
              "      <td>Used</td>\n",
              "    </tr>\n",
              "    <tr>\n",
              "      <th>23</th>\n",
              "      <td>784894990665</td>\n",
              "      <td>Furniture</td>\n",
              "      <td>30.04</td>\n",
              "      <td>10</td>\n",
              "      <td>43.8</td>\n",
              "      <td>Refurbished</td>\n",
              "    </tr>\n",
              "    <tr>\n",
              "      <th>24</th>\n",
              "      <td>717528950887</td>\n",
              "      <td>Office Supplies</td>\n",
              "      <td>42.20</td>\n",
              "      <td>7</td>\n",
              "      <td>26.9</td>\n",
              "      <td>Used</td>\n",
              "    </tr>\n",
              "    <tr>\n",
              "      <th>25</th>\n",
              "      <td>913937182548</td>\n",
              "      <td>Industrial</td>\n",
              "      <td>57.81</td>\n",
              "      <td>8</td>\n",
              "      <td>18.3</td>\n",
              "      <td>New</td>\n",
              "    </tr>\n",
              "    <tr>\n",
              "      <th>26</th>\n",
              "      <td>44601711304</td>\n",
              "      <td>Lighting</td>\n",
              "      <td>38.26</td>\n",
              "      <td>1</td>\n",
              "      <td>1.3</td>\n",
              "      <td>Used</td>\n",
              "    </tr>\n",
              "    <tr>\n",
              "      <th>27</th>\n",
              "      <td>600112844737</td>\n",
              "      <td>Furniture</td>\n",
              "      <td>54.50</td>\n",
              "      <td>43</td>\n",
              "      <td>4.1</td>\n",
              "      <td>New</td>\n",
              "    </tr>\n",
              "    <tr>\n",
              "      <th>28</th>\n",
              "      <td>585676698520</td>\n",
              "      <td>Electrical</td>\n",
              "      <td>89.68</td>\n",
              "      <td>32</td>\n",
              "      <td>4.6</td>\n",
              "      <td>Refurbished</td>\n",
              "    </tr>\n",
              "    <tr>\n",
              "      <th>29</th>\n",
              "      <td>79796069308</td>\n",
              "      <td>Electrical</td>\n",
              "      <td>66.86</td>\n",
              "      <td>16</td>\n",
              "      <td>5.9</td>\n",
              "      <td>Refurbished</td>\n",
              "    </tr>\n",
              "    <tr>\n",
              "      <th>...</th>\n",
              "      <td>...</td>\n",
              "      <td>...</td>\n",
              "      <td>...</td>\n",
              "      <td>...</td>\n",
              "      <td>...</td>\n",
              "      <td>...</td>\n",
              "    </tr>\n",
              "    <tr>\n",
              "      <th>9970</th>\n",
              "      <td>615332649235</td>\n",
              "      <td>Lighting</td>\n",
              "      <td>70.47</td>\n",
              "      <td>43</td>\n",
              "      <td>44.4</td>\n",
              "      <td>Used</td>\n",
              "    </tr>\n",
              "    <tr>\n",
              "      <th>9971</th>\n",
              "      <td>366795809025</td>\n",
              "      <td>Furniture</td>\n",
              "      <td>10.58</td>\n",
              "      <td>21</td>\n",
              "      <td>33.6</td>\n",
              "      <td>Used</td>\n",
              "    </tr>\n",
              "    <tr>\n",
              "      <th>9972</th>\n",
              "      <td>876114675869</td>\n",
              "      <td>Office Supplies</td>\n",
              "      <td>34.85</td>\n",
              "      <td>38</td>\n",
              "      <td>31.2</td>\n",
              "      <td>New</td>\n",
              "    </tr>\n",
              "    <tr>\n",
              "      <th>9973</th>\n",
              "      <td>197699685308</td>\n",
              "      <td>Office Supplies</td>\n",
              "      <td>53.72</td>\n",
              "      <td>16</td>\n",
              "      <td>48.5</td>\n",
              "      <td>Refurbished</td>\n",
              "    </tr>\n",
              "    <tr>\n",
              "      <th>9974</th>\n",
              "      <td>91093898069</td>\n",
              "      <td>Lighting</td>\n",
              "      <td>93.36</td>\n",
              "      <td>34</td>\n",
              "      <td>11.2</td>\n",
              "      <td>New</td>\n",
              "    </tr>\n",
              "    <tr>\n",
              "      <th>9975</th>\n",
              "      <td>14268905839</td>\n",
              "      <td>Electrical</td>\n",
              "      <td>29.36</td>\n",
              "      <td>44</td>\n",
              "      <td>41.5</td>\n",
              "      <td>New</td>\n",
              "    </tr>\n",
              "    <tr>\n",
              "      <th>9976</th>\n",
              "      <td>413753137519</td>\n",
              "      <td>Lighting</td>\n",
              "      <td>69.17</td>\n",
              "      <td>37</td>\n",
              "      <td>27.8</td>\n",
              "      <td>Used</td>\n",
              "    </tr>\n",
              "    <tr>\n",
              "      <th>9977</th>\n",
              "      <td>50463121885</td>\n",
              "      <td>Lighting</td>\n",
              "      <td>79.88</td>\n",
              "      <td>4</td>\n",
              "      <td>7.9</td>\n",
              "      <td>Refurbished</td>\n",
              "    </tr>\n",
              "    <tr>\n",
              "      <th>9978</th>\n",
              "      <td>442648253304</td>\n",
              "      <td>Lighting</td>\n",
              "      <td>18.90</td>\n",
              "      <td>21</td>\n",
              "      <td>8.1</td>\n",
              "      <td>Refurbished</td>\n",
              "    </tr>\n",
              "    <tr>\n",
              "      <th>9979</th>\n",
              "      <td>507147647800</td>\n",
              "      <td>Furniture</td>\n",
              "      <td>29.94</td>\n",
              "      <td>38</td>\n",
              "      <td>20.6</td>\n",
              "      <td>New</td>\n",
              "    </tr>\n",
              "    <tr>\n",
              "      <th>9980</th>\n",
              "      <td>742168959513</td>\n",
              "      <td>Lighting</td>\n",
              "      <td>65.89</td>\n",
              "      <td>1</td>\n",
              "      <td>30.3</td>\n",
              "      <td>Refurbished</td>\n",
              "    </tr>\n",
              "    <tr>\n",
              "      <th>9981</th>\n",
              "      <td>815952206545</td>\n",
              "      <td>Furniture</td>\n",
              "      <td>98.66</td>\n",
              "      <td>20</td>\n",
              "      <td>0.8</td>\n",
              "      <td>Refurbished</td>\n",
              "    </tr>\n",
              "    <tr>\n",
              "      <th>9982</th>\n",
              "      <td>491890116579</td>\n",
              "      <td>Industrial</td>\n",
              "      <td>36.05</td>\n",
              "      <td>2</td>\n",
              "      <td>5.7</td>\n",
              "      <td>Refurbished</td>\n",
              "    </tr>\n",
              "    <tr>\n",
              "      <th>9983</th>\n",
              "      <td>430738288736</td>\n",
              "      <td>Lighting</td>\n",
              "      <td>44.84</td>\n",
              "      <td>39</td>\n",
              "      <td>41.5</td>\n",
              "      <td>Used</td>\n",
              "    </tr>\n",
              "    <tr>\n",
              "      <th>9984</th>\n",
              "      <td>682465045543</td>\n",
              "      <td>Lighting</td>\n",
              "      <td>61.99</td>\n",
              "      <td>6</td>\n",
              "      <td>5.3</td>\n",
              "      <td>Used</td>\n",
              "    </tr>\n",
              "    <tr>\n",
              "      <th>9985</th>\n",
              "      <td>27378902925</td>\n",
              "      <td>Electrical</td>\n",
              "      <td>28.36</td>\n",
              "      <td>2</td>\n",
              "      <td>10.2</td>\n",
              "      <td>New</td>\n",
              "    </tr>\n",
              "    <tr>\n",
              "      <th>9986</th>\n",
              "      <td>49621312132</td>\n",
              "      <td>Electrical</td>\n",
              "      <td>83.84</td>\n",
              "      <td>39</td>\n",
              "      <td>49.1</td>\n",
              "      <td>New</td>\n",
              "    </tr>\n",
              "    <tr>\n",
              "      <th>9987</th>\n",
              "      <td>291464683168</td>\n",
              "      <td>Office Supplies</td>\n",
              "      <td>30.58</td>\n",
              "      <td>32</td>\n",
              "      <td>14.5</td>\n",
              "      <td>Used</td>\n",
              "    </tr>\n",
              "    <tr>\n",
              "      <th>9988</th>\n",
              "      <td>259898980011</td>\n",
              "      <td>Electrical</td>\n",
              "      <td>27.01</td>\n",
              "      <td>30</td>\n",
              "      <td>8.5</td>\n",
              "      <td>Refurbished</td>\n",
              "    </tr>\n",
              "    <tr>\n",
              "      <th>9989</th>\n",
              "      <td>114121047388</td>\n",
              "      <td>Lighting</td>\n",
              "      <td>90.66</td>\n",
              "      <td>26</td>\n",
              "      <td>29.3</td>\n",
              "      <td>Used</td>\n",
              "    </tr>\n",
              "    <tr>\n",
              "      <th>9990</th>\n",
              "      <td>323692635146</td>\n",
              "      <td>Lighting</td>\n",
              "      <td>62.21</td>\n",
              "      <td>38</td>\n",
              "      <td>10.0</td>\n",
              "      <td>Used</td>\n",
              "    </tr>\n",
              "    <tr>\n",
              "      <th>9991</th>\n",
              "      <td>156636116293</td>\n",
              "      <td>Industrial</td>\n",
              "      <td>28.08</td>\n",
              "      <td>5</td>\n",
              "      <td>21.8</td>\n",
              "      <td>New</td>\n",
              "    </tr>\n",
              "    <tr>\n",
              "      <th>9992</th>\n",
              "      <td>401297038633</td>\n",
              "      <td>Industrial</td>\n",
              "      <td>52.70</td>\n",
              "      <td>16</td>\n",
              "      <td>37.5</td>\n",
              "      <td>Used</td>\n",
              "    </tr>\n",
              "    <tr>\n",
              "      <th>9993</th>\n",
              "      <td>845444023134</td>\n",
              "      <td>Lighting</td>\n",
              "      <td>43.41</td>\n",
              "      <td>29</td>\n",
              "      <td>4.2</td>\n",
              "      <td>Used</td>\n",
              "    </tr>\n",
              "    <tr>\n",
              "      <th>9994</th>\n",
              "      <td>926912112440</td>\n",
              "      <td>Industrial</td>\n",
              "      <td>80.50</td>\n",
              "      <td>22</td>\n",
              "      <td>1.4</td>\n",
              "      <td>Refurbished</td>\n",
              "    </tr>\n",
              "    <tr>\n",
              "      <th>9995</th>\n",
              "      <td>887953572393</td>\n",
              "      <td>Electrical</td>\n",
              "      <td>75.43</td>\n",
              "      <td>0</td>\n",
              "      <td>14.4</td>\n",
              "      <td>New</td>\n",
              "    </tr>\n",
              "    <tr>\n",
              "      <th>9996</th>\n",
              "      <td>585077919932</td>\n",
              "      <td>Lighting</td>\n",
              "      <td>72.28</td>\n",
              "      <td>21</td>\n",
              "      <td>6.6</td>\n",
              "      <td>New</td>\n",
              "    </tr>\n",
              "    <tr>\n",
              "      <th>9997</th>\n",
              "      <td>192754250040</td>\n",
              "      <td>Industrial</td>\n",
              "      <td>75.69</td>\n",
              "      <td>49</td>\n",
              "      <td>11.2</td>\n",
              "      <td>New</td>\n",
              "    </tr>\n",
              "    <tr>\n",
              "      <th>9998</th>\n",
              "      <td>395994805746</td>\n",
              "      <td>Lighting</td>\n",
              "      <td>47.81</td>\n",
              "      <td>39</td>\n",
              "      <td>28.0</td>\n",
              "      <td>Refurbished</td>\n",
              "    </tr>\n",
              "    <tr>\n",
              "      <th>9999</th>\n",
              "      <td>710891685647</td>\n",
              "      <td>Industrial</td>\n",
              "      <td>79.47</td>\n",
              "      <td>9</td>\n",
              "      <td>3.3</td>\n",
              "      <td>New</td>\n",
              "    </tr>\n",
              "  </tbody>\n",
              "</table>\n",
              "<p>10000 rows × 6 columns</p>\n",
              "</div>"
            ],
            "text/plain": [
              "        Product ID         Category  Price  Inventory  Weight    Condition\n",
              "0     142019521928  Office Supplies  42.31          9    26.4         Used\n",
              "1     135617259927        Furniture  29.28          9    13.4          New\n",
              "2     786588848050        Furniture  98.50          6    43.7  Refurbished\n",
              "3     957702802601       Electrical  14.68         26    17.1  Refurbished\n",
              "4     716662964693        Furniture  27.17          0    24.2  Refurbished\n",
              "5     868419050073       Electrical  45.08         41    29.9          New\n",
              "6      91879907254       Industrial  22.24          3    48.9          New\n",
              "7     147369664112  Office Supplies  35.12          3     7.7          New\n",
              "8     861726542104  Office Supplies  41.37         16    36.7          New\n",
              "9     236598380667       Electrical  84.64         24    27.8  Refurbished\n",
              "10    652692835638       Electrical  15.32         16    17.6  Refurbished\n",
              "11    878159088666       Electrical  52.33         19    48.6         Used\n",
              "12    160297599302       Electrical  17.54         36    10.2         Used\n",
              "13    967548509378       Electrical  40.07          2     0.8         Used\n",
              "14    940471812588  Office Supplies  51.56         39    15.7         Used\n",
              "15    980657053157       Electrical  21.63         27    12.2  Refurbished\n",
              "16    452106625984         Lighting  70.95         23     4.5         Used\n",
              "17    496296840068       Electrical  29.17         45    16.8          New\n",
              "18    406228817406        Furniture  85.70          6    20.0         Used\n",
              "19    147200243077       Industrial  81.45         19    34.6  Refurbished\n",
              "20    243375248236         Lighting  10.00         38     4.6  Refurbished\n",
              "21    635277947183  Office Supplies  73.71         47     8.9         Used\n",
              "22    175101545294  Office Supplies  49.89         25    22.7         Used\n",
              "23    784894990665        Furniture  30.04         10    43.8  Refurbished\n",
              "24    717528950887  Office Supplies  42.20          7    26.9         Used\n",
              "25    913937182548       Industrial  57.81          8    18.3          New\n",
              "26     44601711304         Lighting  38.26          1     1.3         Used\n",
              "27    600112844737        Furniture  54.50         43     4.1          New\n",
              "28    585676698520       Electrical  89.68         32     4.6  Refurbished\n",
              "29     79796069308       Electrical  66.86         16     5.9  Refurbished\n",
              "...            ...              ...    ...        ...     ...          ...\n",
              "9970  615332649235         Lighting  70.47         43    44.4         Used\n",
              "9971  366795809025        Furniture  10.58         21    33.6         Used\n",
              "9972  876114675869  Office Supplies  34.85         38    31.2          New\n",
              "9973  197699685308  Office Supplies  53.72         16    48.5  Refurbished\n",
              "9974   91093898069         Lighting  93.36         34    11.2          New\n",
              "9975   14268905839       Electrical  29.36         44    41.5          New\n",
              "9976  413753137519         Lighting  69.17         37    27.8         Used\n",
              "9977   50463121885         Lighting  79.88          4     7.9  Refurbished\n",
              "9978  442648253304         Lighting  18.90         21     8.1  Refurbished\n",
              "9979  507147647800        Furniture  29.94         38    20.6          New\n",
              "9980  742168959513         Lighting  65.89          1    30.3  Refurbished\n",
              "9981  815952206545        Furniture  98.66         20     0.8  Refurbished\n",
              "9982  491890116579       Industrial  36.05          2     5.7  Refurbished\n",
              "9983  430738288736         Lighting  44.84         39    41.5         Used\n",
              "9984  682465045543         Lighting  61.99          6     5.3         Used\n",
              "9985   27378902925       Electrical  28.36          2    10.2          New\n",
              "9986   49621312132       Electrical  83.84         39    49.1          New\n",
              "9987  291464683168  Office Supplies  30.58         32    14.5         Used\n",
              "9988  259898980011       Electrical  27.01         30     8.5  Refurbished\n",
              "9989  114121047388         Lighting  90.66         26    29.3         Used\n",
              "9990  323692635146         Lighting  62.21         38    10.0         Used\n",
              "9991  156636116293       Industrial  28.08          5    21.8          New\n",
              "9992  401297038633       Industrial  52.70         16    37.5         Used\n",
              "9993  845444023134         Lighting  43.41         29     4.2         Used\n",
              "9994  926912112440       Industrial  80.50         22     1.4  Refurbished\n",
              "9995  887953572393       Electrical  75.43          0    14.4          New\n",
              "9996  585077919932         Lighting  72.28         21     6.6          New\n",
              "9997  192754250040       Industrial  75.69         49    11.2          New\n",
              "9998  395994805746         Lighting  47.81         39    28.0  Refurbished\n",
              "9999  710891685647       Industrial  79.47          9     3.3          New\n",
              "\n",
              "[10000 rows x 6 columns]"
            ]
          },
          "execution_count": 26,
          "metadata": {},
          "output_type": "execute_result"
        }
      ],
      "source": [
        "catalog"
      ]
    },
    {
      "cell_type": "code",
      "execution_count": null,
      "metadata": {
        "id": "NZLRJcnCiCnZ",
        "outputId": "a662074e-cfce-43b2-fd3b-563ab3542edc"
      },
      "outputs": [
        {
          "data": {
            "text/plain": [
              "<bound method DataFrame.info of         Product ID         Category  Price  Inventory  Weight    Condition\n",
              "0     142019521928  Office Supplies  42.31          9    26.4         Used\n",
              "1     135617259927        Furniture  29.28          9    13.4          New\n",
              "2     786588848050        Furniture  98.50          6    43.7  Refurbished\n",
              "3     957702802601       Electrical  14.68         26    17.1  Refurbished\n",
              "4     716662964693        Furniture  27.17          0    24.2  Refurbished\n",
              "5     868419050073       Electrical  45.08         41    29.9          New\n",
              "6      91879907254       Industrial  22.24          3    48.9          New\n",
              "7     147369664112  Office Supplies  35.12          3     7.7          New\n",
              "8     861726542104  Office Supplies  41.37         16    36.7          New\n",
              "9     236598380667       Electrical  84.64         24    27.8  Refurbished\n",
              "10    652692835638       Electrical  15.32         16    17.6  Refurbished\n",
              "11    878159088666       Electrical  52.33         19    48.6         Used\n",
              "12    160297599302       Electrical  17.54         36    10.2         Used\n",
              "13    967548509378       Electrical  40.07          2     0.8         Used\n",
              "14    940471812588  Office Supplies  51.56         39    15.7         Used\n",
              "15    980657053157       Electrical  21.63         27    12.2  Refurbished\n",
              "16    452106625984         Lighting  70.95         23     4.5         Used\n",
              "17    496296840068       Electrical  29.17         45    16.8          New\n",
              "18    406228817406        Furniture  85.70          6    20.0         Used\n",
              "19    147200243077       Industrial  81.45         19    34.6  Refurbished\n",
              "20    243375248236         Lighting  10.00         38     4.6  Refurbished\n",
              "21    635277947183  Office Supplies  73.71         47     8.9         Used\n",
              "22    175101545294  Office Supplies  49.89         25    22.7         Used\n",
              "23    784894990665        Furniture  30.04         10    43.8  Refurbished\n",
              "24    717528950887  Office Supplies  42.20          7    26.9         Used\n",
              "25    913937182548       Industrial  57.81          8    18.3          New\n",
              "26     44601711304         Lighting  38.26          1     1.3         Used\n",
              "27    600112844737        Furniture  54.50         43     4.1          New\n",
              "28    585676698520       Electrical  89.68         32     4.6  Refurbished\n",
              "29     79796069308       Electrical  66.86         16     5.9  Refurbished\n",
              "...            ...              ...    ...        ...     ...          ...\n",
              "9970  615332649235         Lighting  70.47         43    44.4         Used\n",
              "9971  366795809025        Furniture  10.58         21    33.6         Used\n",
              "9972  876114675869  Office Supplies  34.85         38    31.2          New\n",
              "9973  197699685308  Office Supplies  53.72         16    48.5  Refurbished\n",
              "9974   91093898069         Lighting  93.36         34    11.2          New\n",
              "9975   14268905839       Electrical  29.36         44    41.5          New\n",
              "9976  413753137519         Lighting  69.17         37    27.8         Used\n",
              "9977   50463121885         Lighting  79.88          4     7.9  Refurbished\n",
              "9978  442648253304         Lighting  18.90         21     8.1  Refurbished\n",
              "9979  507147647800        Furniture  29.94         38    20.6          New\n",
              "9980  742168959513         Lighting  65.89          1    30.3  Refurbished\n",
              "9981  815952206545        Furniture  98.66         20     0.8  Refurbished\n",
              "9982  491890116579       Industrial  36.05          2     5.7  Refurbished\n",
              "9983  430738288736         Lighting  44.84         39    41.5         Used\n",
              "9984  682465045543         Lighting  61.99          6     5.3         Used\n",
              "9985   27378902925       Electrical  28.36          2    10.2          New\n",
              "9986   49621312132       Electrical  83.84         39    49.1          New\n",
              "9987  291464683168  Office Supplies  30.58         32    14.5         Used\n",
              "9988  259898980011       Electrical  27.01         30     8.5  Refurbished\n",
              "9989  114121047388         Lighting  90.66         26    29.3         Used\n",
              "9990  323692635146         Lighting  62.21         38    10.0         Used\n",
              "9991  156636116293       Industrial  28.08          5    21.8          New\n",
              "9992  401297038633       Industrial  52.70         16    37.5         Used\n",
              "9993  845444023134         Lighting  43.41         29     4.2         Used\n",
              "9994  926912112440       Industrial  80.50         22     1.4  Refurbished\n",
              "9995  887953572393       Electrical  75.43          0    14.4          New\n",
              "9996  585077919932         Lighting  72.28         21     6.6          New\n",
              "9997  192754250040       Industrial  75.69         49    11.2          New\n",
              "9998  395994805746         Lighting  47.81         39    28.0  Refurbished\n",
              "9999  710891685647       Industrial  79.47          9     3.3          New\n",
              "\n",
              "[10000 rows x 6 columns]>"
            ]
          },
          "execution_count": 27,
          "metadata": {},
          "output_type": "execute_result"
        }
      ],
      "source": [
        "catalog.info"
      ]
    },
    {
      "cell_type": "code",
      "execution_count": null,
      "metadata": {
        "id": "R98mdRQ8iCnZ",
        "outputId": "a084420a-efe2-4f15-92d8-ce8a4b956500"
      },
      "outputs": [
        {
          "data": {
            "text/plain": [
              "(10000, 6)"
            ]
          },
          "execution_count": 28,
          "metadata": {},
          "output_type": "execute_result"
        }
      ],
      "source": [
        "catalog.shape"
      ]
    },
    {
      "cell_type": "code",
      "execution_count": null,
      "metadata": {
        "id": "TRRFMuxciCna",
        "outputId": "784f1fca-fdbe-4c02-9e9e-e915e0db1d37"
      },
      "outputs": [
        {
          "data": {
            "text/html": [
              "<div>\n",
              "<style scoped>\n",
              "    .dataframe tbody tr th:only-of-type {\n",
              "        vertical-align: middle;\n",
              "    }\n",
              "\n",
              "    .dataframe tbody tr th {\n",
              "        vertical-align: top;\n",
              "    }\n",
              "\n",
              "    .dataframe thead th {\n",
              "        text-align: right;\n",
              "    }\n",
              "</style>\n",
              "<table border=\"1\" class=\"dataframe\">\n",
              "  <thead>\n",
              "    <tr style=\"text-align: right;\">\n",
              "      <th></th>\n",
              "      <th>Product ID</th>\n",
              "      <th>Category</th>\n",
              "      <th>Price</th>\n",
              "      <th>Inventory</th>\n",
              "      <th>Weight</th>\n",
              "      <th>Condition</th>\n",
              "    </tr>\n",
              "  </thead>\n",
              "  <tbody>\n",
              "    <tr>\n",
              "      <th>count</th>\n",
              "      <td>1.000000e+04</td>\n",
              "      <td>10000</td>\n",
              "      <td>10000.000000</td>\n",
              "      <td>10000.000000</td>\n",
              "      <td>10000.000000</td>\n",
              "      <td>10000</td>\n",
              "    </tr>\n",
              "    <tr>\n",
              "      <th>unique</th>\n",
              "      <td>NaN</td>\n",
              "      <td>5</td>\n",
              "      <td>NaN</td>\n",
              "      <td>NaN</td>\n",
              "      <td>NaN</td>\n",
              "      <td>3</td>\n",
              "    </tr>\n",
              "    <tr>\n",
              "      <th>top</th>\n",
              "      <td>NaN</td>\n",
              "      <td>Electrical</td>\n",
              "      <td>NaN</td>\n",
              "      <td>NaN</td>\n",
              "      <td>NaN</td>\n",
              "      <td>Refurbished</td>\n",
              "    </tr>\n",
              "    <tr>\n",
              "      <th>freq</th>\n",
              "      <td>NaN</td>\n",
              "      <td>2055</td>\n",
              "      <td>NaN</td>\n",
              "      <td>NaN</td>\n",
              "      <td>NaN</td>\n",
              "      <td>3341</td>\n",
              "    </tr>\n",
              "    <tr>\n",
              "      <th>mean</th>\n",
              "      <td>5.058512e+11</td>\n",
              "      <td>NaN</td>\n",
              "      <td>54.591341</td>\n",
              "      <td>24.515100</td>\n",
              "      <td>25.056080</td>\n",
              "      <td>NaN</td>\n",
              "    </tr>\n",
              "    <tr>\n",
              "      <th>std</th>\n",
              "      <td>2.873598e+11</td>\n",
              "      <td>NaN</td>\n",
              "      <td>25.949133</td>\n",
              "      <td>14.475853</td>\n",
              "      <td>14.528007</td>\n",
              "      <td>NaN</td>\n",
              "    </tr>\n",
              "    <tr>\n",
              "      <th>min</th>\n",
              "      <td>7.068757e+06</td>\n",
              "      <td>NaN</td>\n",
              "      <td>10.000000</td>\n",
              "      <td>0.000000</td>\n",
              "      <td>0.100000</td>\n",
              "      <td>NaN</td>\n",
              "    </tr>\n",
              "    <tr>\n",
              "      <th>25%</th>\n",
              "      <td>2.587775e+11</td>\n",
              "      <td>NaN</td>\n",
              "      <td>32.395000</td>\n",
              "      <td>12.000000</td>\n",
              "      <td>12.400000</td>\n",
              "      <td>NaN</td>\n",
              "    </tr>\n",
              "    <tr>\n",
              "      <th>50%</th>\n",
              "      <td>5.070906e+11</td>\n",
              "      <td>NaN</td>\n",
              "      <td>54.340000</td>\n",
              "      <td>24.000000</td>\n",
              "      <td>24.900000</td>\n",
              "      <td>NaN</td>\n",
              "    </tr>\n",
              "    <tr>\n",
              "      <th>75%</th>\n",
              "      <td>7.538896e+11</td>\n",
              "      <td>NaN</td>\n",
              "      <td>77.052500</td>\n",
              "      <td>37.000000</td>\n",
              "      <td>37.900000</td>\n",
              "      <td>NaN</td>\n",
              "    </tr>\n",
              "    <tr>\n",
              "      <th>max</th>\n",
              "      <td>9.998621e+11</td>\n",
              "      <td>NaN</td>\n",
              "      <td>99.990000</td>\n",
              "      <td>49.000000</td>\n",
              "      <td>50.000000</td>\n",
              "      <td>NaN</td>\n",
              "    </tr>\n",
              "  </tbody>\n",
              "</table>\n",
              "</div>"
            ],
            "text/plain": [
              "          Product ID    Category         Price     Inventory        Weight  \\\n",
              "count   1.000000e+04       10000  10000.000000  10000.000000  10000.000000   \n",
              "unique           NaN           5           NaN           NaN           NaN   \n",
              "top              NaN  Electrical           NaN           NaN           NaN   \n",
              "freq             NaN        2055           NaN           NaN           NaN   \n",
              "mean    5.058512e+11         NaN     54.591341     24.515100     25.056080   \n",
              "std     2.873598e+11         NaN     25.949133     14.475853     14.528007   \n",
              "min     7.068757e+06         NaN     10.000000      0.000000      0.100000   \n",
              "25%     2.587775e+11         NaN     32.395000     12.000000     12.400000   \n",
              "50%     5.070906e+11         NaN     54.340000     24.000000     24.900000   \n",
              "75%     7.538896e+11         NaN     77.052500     37.000000     37.900000   \n",
              "max     9.998621e+11         NaN     99.990000     49.000000     50.000000   \n",
              "\n",
              "          Condition  \n",
              "count         10000  \n",
              "unique            3  \n",
              "top     Refurbished  \n",
              "freq           3341  \n",
              "mean            NaN  \n",
              "std             NaN  \n",
              "min             NaN  \n",
              "25%             NaN  \n",
              "50%             NaN  \n",
              "75%             NaN  \n",
              "max             NaN  "
            ]
          },
          "execution_count": 29,
          "metadata": {},
          "output_type": "execute_result"
        }
      ],
      "source": [
        "catalog.describe(include='all')"
      ]
    },
    {
      "cell_type": "code",
      "execution_count": null,
      "metadata": {
        "id": "MijuT5U3iCna",
        "outputId": "3d85b197-326b-4092-8f98-366ac82d4993"
      },
      "outputs": [
        {
          "data": {
            "text/plain": [
              "10000"
            ]
          },
          "execution_count": 30,
          "metadata": {},
          "output_type": "execute_result"
        }
      ],
      "source": [
        "len(catalog)"
      ]
    },
    {
      "cell_type": "code",
      "execution_count": null,
      "metadata": {
        "id": "6IHMmMWEiCna",
        "outputId": "09878f7a-4e1f-4a26-bb6d-3bc91d3a9000"
      },
      "outputs": [
        {
          "data": {
            "text/plain": [
              "Product ID    135617259927\n",
              "Category         Furniture\n",
              "Price                29.28\n",
              "Inventory                9\n",
              "Weight                13.4\n",
              "Condition              New\n",
              "Name: 1, dtype: object"
            ]
          },
          "execution_count": 31,
          "metadata": {},
          "output_type": "execute_result"
        }
      ],
      "source": [
        "catalog.loc[1]"
      ]
    },
    {
      "cell_type": "code",
      "execution_count": null,
      "metadata": {
        "id": "hLRWghaoiCnb",
        "outputId": "0b647f04-0ae5-4a9c-81fb-e184c83091bc"
      },
      "outputs": [
        {
          "data": {
            "text/plain": [
              "Product ID    135617259927\n",
              "Category         Furniture\n",
              "Price                29.28\n",
              "Inventory                9\n",
              "Weight                13.4\n",
              "Condition              New\n",
              "Name: 1, dtype: object"
            ]
          },
          "execution_count": 32,
          "metadata": {},
          "output_type": "execute_result"
        }
      ],
      "source": [
        "catalog.iloc[1]"
      ]
    },
    {
      "cell_type": "code",
      "execution_count": null,
      "metadata": {
        "id": "h64ugVqoiCnb",
        "outputId": "309a514e-dd38-4c20-c0ce-2f15e49a96e7"
      },
      "outputs": [
        {
          "data": {
            "text/html": [
              "<div>\n",
              "<style scoped>\n",
              "    .dataframe tbody tr th:only-of-type {\n",
              "        vertical-align: middle;\n",
              "    }\n",
              "\n",
              "    .dataframe tbody tr th {\n",
              "        vertical-align: top;\n",
              "    }\n",
              "\n",
              "    .dataframe thead th {\n",
              "        text-align: right;\n",
              "    }\n",
              "</style>\n",
              "<table border=\"1\" class=\"dataframe\">\n",
              "  <thead>\n",
              "    <tr style=\"text-align: right;\">\n",
              "      <th></th>\n",
              "      <th>Product ID</th>\n",
              "      <th>Category</th>\n",
              "      <th>Price</th>\n",
              "      <th>Inventory</th>\n",
              "      <th>Weight</th>\n",
              "      <th>Condition</th>\n",
              "    </tr>\n",
              "  </thead>\n",
              "  <tbody>\n",
              "    <tr>\n",
              "      <th>0</th>\n",
              "      <td>142019521928</td>\n",
              "      <td>Office Supplies</td>\n",
              "      <td>42.31</td>\n",
              "      <td>9</td>\n",
              "      <td>26.4</td>\n",
              "      <td>Used</td>\n",
              "    </tr>\n",
              "    <tr>\n",
              "      <th>1</th>\n",
              "      <td>135617259927</td>\n",
              "      <td>Furniture</td>\n",
              "      <td>29.28</td>\n",
              "      <td>9</td>\n",
              "      <td>13.4</td>\n",
              "      <td>New</td>\n",
              "    </tr>\n",
              "    <tr>\n",
              "      <th>2</th>\n",
              "      <td>786588848050</td>\n",
              "      <td>Furniture</td>\n",
              "      <td>98.50</td>\n",
              "      <td>6</td>\n",
              "      <td>43.7</td>\n",
              "      <td>Refurbished</td>\n",
              "    </tr>\n",
              "    <tr>\n",
              "      <th>3</th>\n",
              "      <td>957702802601</td>\n",
              "      <td>Electrical</td>\n",
              "      <td>14.68</td>\n",
              "      <td>26</td>\n",
              "      <td>17.1</td>\n",
              "      <td>Refurbished</td>\n",
              "    </tr>\n",
              "    <tr>\n",
              "      <th>4</th>\n",
              "      <td>716662964693</td>\n",
              "      <td>Furniture</td>\n",
              "      <td>27.17</td>\n",
              "      <td>0</td>\n",
              "      <td>24.2</td>\n",
              "      <td>Refurbished</td>\n",
              "    </tr>\n",
              "    <tr>\n",
              "      <th>5</th>\n",
              "      <td>868419050073</td>\n",
              "      <td>Electrical</td>\n",
              "      <td>45.08</td>\n",
              "      <td>41</td>\n",
              "      <td>29.9</td>\n",
              "      <td>New</td>\n",
              "    </tr>\n",
              "    <tr>\n",
              "      <th>6</th>\n",
              "      <td>91879907254</td>\n",
              "      <td>Industrial</td>\n",
              "      <td>22.24</td>\n",
              "      <td>3</td>\n",
              "      <td>48.9</td>\n",
              "      <td>New</td>\n",
              "    </tr>\n",
              "    <tr>\n",
              "      <th>7</th>\n",
              "      <td>147369664112</td>\n",
              "      <td>Office Supplies</td>\n",
              "      <td>35.12</td>\n",
              "      <td>3</td>\n",
              "      <td>7.7</td>\n",
              "      <td>New</td>\n",
              "    </tr>\n",
              "    <tr>\n",
              "      <th>8</th>\n",
              "      <td>861726542104</td>\n",
              "      <td>Office Supplies</td>\n",
              "      <td>41.37</td>\n",
              "      <td>16</td>\n",
              "      <td>36.7</td>\n",
              "      <td>New</td>\n",
              "    </tr>\n",
              "    <tr>\n",
              "      <th>9</th>\n",
              "      <td>236598380667</td>\n",
              "      <td>Electrical</td>\n",
              "      <td>84.64</td>\n",
              "      <td>24</td>\n",
              "      <td>27.8</td>\n",
              "      <td>Refurbished</td>\n",
              "    </tr>\n",
              "  </tbody>\n",
              "</table>\n",
              "</div>"
            ],
            "text/plain": [
              "     Product ID         Category  Price  Inventory  Weight    Condition\n",
              "0  142019521928  Office Supplies  42.31          9    26.4         Used\n",
              "1  135617259927        Furniture  29.28          9    13.4          New\n",
              "2  786588848050        Furniture  98.50          6    43.7  Refurbished\n",
              "3  957702802601       Electrical  14.68         26    17.1  Refurbished\n",
              "4  716662964693        Furniture  27.17          0    24.2  Refurbished\n",
              "5  868419050073       Electrical  45.08         41    29.9          New\n",
              "6   91879907254       Industrial  22.24          3    48.9          New\n",
              "7  147369664112  Office Supplies  35.12          3     7.7          New\n",
              "8  861726542104  Office Supplies  41.37         16    36.7          New\n",
              "9  236598380667       Electrical  84.64         24    27.8  Refurbished"
            ]
          },
          "execution_count": 33,
          "metadata": {},
          "output_type": "execute_result"
        }
      ],
      "source": [
        "catalog.head(10)"
      ]
    },
    {
      "cell_type": "code",
      "execution_count": null,
      "metadata": {
        "id": "UZ76h2k9iCnb",
        "outputId": "de0072e2-4ac9-4f47-fa51-6f3c79213bf5"
      },
      "outputs": [
        {
          "data": {
            "text/html": [
              "<div>\n",
              "<style scoped>\n",
              "    .dataframe tbody tr th:only-of-type {\n",
              "        vertical-align: middle;\n",
              "    }\n",
              "\n",
              "    .dataframe tbody tr th {\n",
              "        vertical-align: top;\n",
              "    }\n",
              "\n",
              "    .dataframe thead th {\n",
              "        text-align: right;\n",
              "    }\n",
              "</style>\n",
              "<table border=\"1\" class=\"dataframe\">\n",
              "  <thead>\n",
              "    <tr style=\"text-align: right;\">\n",
              "      <th></th>\n",
              "      <th>Product ID</th>\n",
              "      <th>Category</th>\n",
              "      <th>Price</th>\n",
              "      <th>Inventory</th>\n",
              "      <th>Weight</th>\n",
              "      <th>Condition</th>\n",
              "    </tr>\n",
              "  </thead>\n",
              "  <tbody>\n",
              "    <tr>\n",
              "      <th>9990</th>\n",
              "      <td>323692635146</td>\n",
              "      <td>Lighting</td>\n",
              "      <td>62.21</td>\n",
              "      <td>38</td>\n",
              "      <td>10.0</td>\n",
              "      <td>Used</td>\n",
              "    </tr>\n",
              "    <tr>\n",
              "      <th>9991</th>\n",
              "      <td>156636116293</td>\n",
              "      <td>Industrial</td>\n",
              "      <td>28.08</td>\n",
              "      <td>5</td>\n",
              "      <td>21.8</td>\n",
              "      <td>New</td>\n",
              "    </tr>\n",
              "    <tr>\n",
              "      <th>9992</th>\n",
              "      <td>401297038633</td>\n",
              "      <td>Industrial</td>\n",
              "      <td>52.70</td>\n",
              "      <td>16</td>\n",
              "      <td>37.5</td>\n",
              "      <td>Used</td>\n",
              "    </tr>\n",
              "    <tr>\n",
              "      <th>9993</th>\n",
              "      <td>845444023134</td>\n",
              "      <td>Lighting</td>\n",
              "      <td>43.41</td>\n",
              "      <td>29</td>\n",
              "      <td>4.2</td>\n",
              "      <td>Used</td>\n",
              "    </tr>\n",
              "    <tr>\n",
              "      <th>9994</th>\n",
              "      <td>926912112440</td>\n",
              "      <td>Industrial</td>\n",
              "      <td>80.50</td>\n",
              "      <td>22</td>\n",
              "      <td>1.4</td>\n",
              "      <td>Refurbished</td>\n",
              "    </tr>\n",
              "    <tr>\n",
              "      <th>9995</th>\n",
              "      <td>887953572393</td>\n",
              "      <td>Electrical</td>\n",
              "      <td>75.43</td>\n",
              "      <td>0</td>\n",
              "      <td>14.4</td>\n",
              "      <td>New</td>\n",
              "    </tr>\n",
              "    <tr>\n",
              "      <th>9996</th>\n",
              "      <td>585077919932</td>\n",
              "      <td>Lighting</td>\n",
              "      <td>72.28</td>\n",
              "      <td>21</td>\n",
              "      <td>6.6</td>\n",
              "      <td>New</td>\n",
              "    </tr>\n",
              "    <tr>\n",
              "      <th>9997</th>\n",
              "      <td>192754250040</td>\n",
              "      <td>Industrial</td>\n",
              "      <td>75.69</td>\n",
              "      <td>49</td>\n",
              "      <td>11.2</td>\n",
              "      <td>New</td>\n",
              "    </tr>\n",
              "    <tr>\n",
              "      <th>9998</th>\n",
              "      <td>395994805746</td>\n",
              "      <td>Lighting</td>\n",
              "      <td>47.81</td>\n",
              "      <td>39</td>\n",
              "      <td>28.0</td>\n",
              "      <td>Refurbished</td>\n",
              "    </tr>\n",
              "    <tr>\n",
              "      <th>9999</th>\n",
              "      <td>710891685647</td>\n",
              "      <td>Industrial</td>\n",
              "      <td>79.47</td>\n",
              "      <td>9</td>\n",
              "      <td>3.3</td>\n",
              "      <td>New</td>\n",
              "    </tr>\n",
              "  </tbody>\n",
              "</table>\n",
              "</div>"
            ],
            "text/plain": [
              "        Product ID    Category  Price  Inventory  Weight    Condition\n",
              "9990  323692635146    Lighting  62.21         38    10.0         Used\n",
              "9991  156636116293  Industrial  28.08          5    21.8          New\n",
              "9992  401297038633  Industrial  52.70         16    37.5         Used\n",
              "9993  845444023134    Lighting  43.41         29     4.2         Used\n",
              "9994  926912112440  Industrial  80.50         22     1.4  Refurbished\n",
              "9995  887953572393  Electrical  75.43          0    14.4          New\n",
              "9996  585077919932    Lighting  72.28         21     6.6          New\n",
              "9997  192754250040  Industrial  75.69         49    11.2          New\n",
              "9998  395994805746    Lighting  47.81         39    28.0  Refurbished\n",
              "9999  710891685647  Industrial  79.47          9     3.3          New"
            ]
          },
          "execution_count": 34,
          "metadata": {},
          "output_type": "execute_result"
        }
      ],
      "source": [
        "catalog.tail(10)"
      ]
    },
    {
      "cell_type": "code",
      "execution_count": null,
      "metadata": {
        "id": "S5FMdvAiiCnc",
        "outputId": "9e47589f-fb5b-4789-b375-73b922809d4d"
      },
      "outputs": [
        {
          "data": {
            "text/plain": [
              "99.99"
            ]
          },
          "execution_count": 41,
          "metadata": {},
          "output_type": "execute_result"
        }
      ],
      "source": [
        "catalog[\"Price\"].max()"
      ]
    },
    {
      "cell_type": "code",
      "execution_count": null,
      "metadata": {
        "id": "wEtzDr8oiCnc"
      },
      "outputs": [],
      "source": [
        "catalog.columns"
      ]
    },
    {
      "cell_type": "code",
      "source": [
        "catalog[\"Product ID\"]"
      ],
      "metadata": {
        "id": "71i4KM4iigMZ"
      },
      "execution_count": null,
      "outputs": []
    },
    {
      "cell_type": "code",
      "source": [
        "type(catalog[\"Product ID\"])"
      ],
      "metadata": {
        "id": "VgCGpDbSihbm"
      },
      "execution_count": null,
      "outputs": []
    },
    {
      "cell_type": "code",
      "source": [
        "catalog[[\"Product ID\", \"Category\"]]"
      ],
      "metadata": {
        "id": "t5xJI4afikDF"
      },
      "execution_count": null,
      "outputs": []
    },
    {
      "cell_type": "code",
      "source": [
        "catalog['Category'].unique()"
      ],
      "metadata": {
        "id": "5rjEWWpIikLG"
      },
      "execution_count": null,
      "outputs": []
    },
    {
      "cell_type": "code",
      "source": [
        "catalog['Category'].nunique()"
      ],
      "metadata": {
        "id": "IdkatIh7ioJ3"
      },
      "execution_count": null,
      "outputs": []
    },
    {
      "cell_type": "code",
      "source": [
        "del catalog[\"Weight\"]"
      ],
      "metadata": {
        "id": "mk-pqqwrioPV"
      },
      "execution_count": null,
      "outputs": []
    },
    {
      "cell_type": "code",
      "source": [
        "a = catalog.drop([1, 2])\n",
        "a"
      ],
      "metadata": {
        "id": "ID9kQeuFioSu"
      },
      "execution_count": null,
      "outputs": []
    },
    {
      "cell_type": "code",
      "source": [
        "a.iloc[1]"
      ],
      "metadata": {
        "id": "cFnv44-0iur9"
      },
      "execution_count": null,
      "outputs": []
    },
    {
      "cell_type": "code",
      "source": [
        "a.iloc[2]"
      ],
      "metadata": {
        "id": "WgJjkGKniuut"
      },
      "execution_count": null,
      "outputs": []
    },
    {
      "cell_type": "code",
      "source": [
        "catalog"
      ],
      "metadata": {
        "id": "v_R3W5sSiuxm"
      },
      "execution_count": null,
      "outputs": []
    },
    {
      "cell_type": "code",
      "source": [
        "b = a.drop(\"Category\", axis=1)\n",
        "b"
      ],
      "metadata": {
        "id": "wJd_IjZ0iz8I"
      },
      "execution_count": null,
      "outputs": []
    },
    {
      "cell_type": "code",
      "source": [
        "catalog"
      ],
      "metadata": {
        "id": "H4KO0vliiz_G"
      },
      "execution_count": null,
      "outputs": []
    },
    {
      "cell_type": "code",
      "source": [
        "b.head()"
      ],
      "metadata": {
        "id": "TBdIS1AAi0CY"
      },
      "execution_count": null,
      "outputs": []
    },
    {
      "cell_type": "code",
      "source": [
        "catalog['Price'].mean()"
      ],
      "metadata": {
        "id": "rpjDrAmBi7NI"
      },
      "execution_count": null,
      "outputs": []
    },
    {
      "cell_type": "code",
      "source": [
        "catalog['Price'].max()"
      ],
      "metadata": {
        "id": "-M2aNPe6i7QG"
      },
      "execution_count": null,
      "outputs": []
    },
    {
      "cell_type": "code",
      "source": [
        "catalog['Price'].min()"
      ],
      "metadata": {
        "id": "c0aTWeD3i7WQ"
      },
      "execution_count": null,
      "outputs": []
    },
    {
      "cell_type": "markdown",
      "source": [
        "## Aggregation"
      ],
      "metadata": {
        "id": "JqMu5jQ8jDnv"
      }
    },
    {
      "cell_type": "code",
      "source": [
        "catalog[\"Price\"].sum()"
      ],
      "metadata": {
        "id": "tB67udhhjFTh"
      },
      "execution_count": null,
      "outputs": []
    },
    {
      "cell_type": "code",
      "source": [
        "agg = catalog.groupby('Category')[\"Inventory\"].sum()\n",
        "agg"
      ],
      "metadata": {
        "id": "D9KgehQ4jGZO"
      },
      "execution_count": null,
      "outputs": []
    },
    {
      "cell_type": "code",
      "source": [
        "agg.to_csv(\"agg.csv\")"
      ],
      "metadata": {
        "id": "abacU8SmjGgv"
      },
      "execution_count": null,
      "outputs": []
    },
    {
      "cell_type": "code",
      "source": [
        "catalog.groupby([\"Category\", \"Condition\"])[\"Inventory\"].mean()"
      ],
      "metadata": {
        "id": "SWoulXzcjLXN"
      },
      "execution_count": null,
      "outputs": []
    },
    {
      "cell_type": "code",
      "source": [
        "catalog.groupby(\"Condition\")[\"Price\"].max()"
      ],
      "metadata": {
        "id": "g_59TIFOjNMH"
      },
      "execution_count": null,
      "outputs": []
    },
    {
      "cell_type": "markdown",
      "source": [
        "##Slicing"
      ],
      "metadata": {
        "id": "0yivLWHHjR_P"
      }
    },
    {
      "cell_type": "code",
      "source": [
        "catalog"
      ],
      "metadata": {
        "id": "7I5LqFKYjNWr"
      },
      "execution_count": null,
      "outputs": []
    },
    {
      "cell_type": "code",
      "source": [
        "catalog[\"Condition\"] == \"New\""
      ],
      "metadata": {
        "id": "HvjdlzMBjNZc"
      },
      "execution_count": null,
      "outputs": []
    },
    {
      "cell_type": "code",
      "source": [
        "catalog[catalog[\"Condition\"] == \"New\"]"
      ],
      "metadata": {
        "id": "-Z_W15o1jNcC"
      },
      "execution_count": null,
      "outputs": []
    },
    {
      "cell_type": "code",
      "source": [
        "catalog[(catalog[\"Inventory\"] > 0) & (catalog[\"Condition\"] == \"New\")]"
      ],
      "metadata": {
        "id": "BL9rpm_pjNfj"
      },
      "execution_count": null,
      "outputs": []
    },
    {
      "cell_type": "code",
      "source": [
        "catalog[(catalog[\"Inventory\"] > 0) | (catalog[\"Condition\"] == \"New\")].describe()"
      ],
      "metadata": {
        "id": "bY0RRbqzlD1P"
      },
      "execution_count": null,
      "outputs": []
    },
    {
      "cell_type": "code",
      "source": [
        "catalog[\"Price\"].plot(kind=\"hist\", bins=1000)"
      ],
      "metadata": {
        "id": "NDNG2oPJlD5B"
      },
      "execution_count": null,
      "outputs": []
    },
    {
      "cell_type": "code",
      "source": [],
      "metadata": {
        "id": "pLaotHmBlD8b"
      },
      "execution_count": null,
      "outputs": []
    }
  ],
  "metadata": {
    "kernelspec": {
      "display_name": "Python 3",
      "language": "python",
      "name": "python3"
    },
    "language_info": {
      "codemirror_mode": {
        "name": "ipython",
        "version": 3
      },
      "file_extension": ".py",
      "mimetype": "text/x-python",
      "name": "python",
      "nbconvert_exporter": "python",
      "pygments_lexer": "ipython3",
      "version": "3.7.1"
    },
    "colab": {
      "provenance": []
    }
  },
  "nbformat": 4,
  "nbformat_minor": 0
}