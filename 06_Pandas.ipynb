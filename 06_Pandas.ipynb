{
 "cells": [
  {
   "cell_type": "markdown",
   "metadata": {
    "id": "qI6gjgE5jYAu"
   },
   "source": [
    "## Pandas\n",
    "\n",
    "Pandas is an open-source Python library providing high-performance data manipulation and analysis tool using its powerful data structures. The name pandas is derived from the word Panel Data – an Econometrics from Multidimensional data.\n",
    "\n",
    "Prior to pandas, Python was majorly used for data munging and preparation. It had very little contribution towards data analysis. Pandas solved this problem. Using pandas, we can accomplish five typical steps in the processing and analysis of data, regardless of the origin of data — load, prepare, manipulate, model, and analyze.\n",
    "\n",
    "Python with pandas is used in a wide range of fields including academic and commercial domains including finance, economics, Statistics, analytics, etc.\n",
    "\n",
    "Key Features of pandas:\n",
    "- Fast and efficient DataFrame object with default and customized indexing.\n",
    "- Tools for loading data into in-memory data objects from different file formats.\n",
    "- Data alignment and integrated handling of missing data.\n",
    "- Reshaping and pivoting of date sets.\n",
    "- Label-based slicing, indexing and subsetting of large data sets.\n",
    "- Columns from a data structure can be deleted or inserted.\n",
    "- Group by data for aggregation and transformations.\n",
    "- High performance merging and joining of data.\n",
    "- Time Series functionality.\n",
    "\n",
    "Pandas deals with the following three data structures −\n",
    "- Series\n",
    "- DataFrame\n",
    "- Panel\n",
    "\n",
    "These data structures are built on top of Numpy array, which means they are fast."
   ]
  },
  {
   "cell_type": "code",
   "execution_count": 70,
   "metadata": {
    "id": "9CelQfQ5iCnV"
   },
   "outputs": [],
   "source": [
    "import numpy as np\n",
    "import pandas as pd"
   ]
  },
  {
   "cell_type": "markdown",
   "metadata": {
    "id": "OfJcuReajgA3"
   },
   "source": [
    "## Series\n",
    "\n",
    "Series is a one-dimensional labeled array capable of holding data of any type (integer, string, float, python objects, etc.). The axis labels are collectively called index.\n",
    "\n",
    "To create a Series object, we can use `pandas.Series` constructor and pass a list (e.g., NumPy array) of values.\n",
    "\n",
    "`pandas.Series(<data>)`: One-dimensional ndarray with axis labels (indices)."
   ]
  },
  {
   "cell_type": "code",
   "execution_count": 71,
   "metadata": {
    "id": "qxUv7OcbiCnY"
   },
   "outputs": [],
   "source": [
    "catalog = pd.read_csv(\"catalog.csv\")"
   ]
  },
  {
   "cell_type": "code",
   "execution_count": 72,
   "metadata": {
    "tags": []
   },
   "outputs": [],
   "source": [
    "grades = pd.Series(np.random.randint(50, 101, size=100))"
   ]
  },
  {
   "cell_type": "code",
   "execution_count": 73,
   "metadata": {
    "id": "aRKJfE59jm6P"
   },
   "outputs": [
    {
     "data": {
      "text/plain": [
       "pandas.core.series.Series"
      ]
     },
     "execution_count": 73,
     "metadata": {},
     "output_type": "execute_result"
    }
   ],
   "source": [
    "type(grades)"
   ]
  },
  {
   "cell_type": "code",
   "execution_count": 74,
   "metadata": {
    "id": "RKBHwyTFjn4n"
   },
   "outputs": [
    {
     "data": {
      "text/plain": [
       "(100,)"
      ]
     },
     "execution_count": 74,
     "metadata": {},
     "output_type": "execute_result"
    }
   ],
   "source": [
    "grades.shape"
   ]
  },
  {
   "cell_type": "markdown",
   "metadata": {
    "id": "MBjSQccrjpkv"
   },
   "source": [
    "The `index` property can be used to get the indices of a Series. If indices are not manually assigned or changed, by default they will be values starting from zero similar to NumPy array indices.\n",
    "\n",
    "`Series.index`: The index (axis labels) of the Series."
   ]
  },
  {
   "cell_type": "code",
   "execution_count": 75,
   "metadata": {
    "id": "rNrLfuRSjn98"
   },
   "outputs": [
    {
     "data": {
      "text/plain": [
       "RangeIndex(start=0, stop=100, step=1)"
      ]
     },
     "execution_count": 75,
     "metadata": {},
     "output_type": "execute_result"
    }
   ],
   "source": [
    "grades.index"
   ]
  },
  {
   "cell_type": "markdown",
   "metadata": {
    "id": "jwjubJErju7a"
   },
   "source": [
    "To get the values associated with an index, `loc` property with an index can be used. For instance, `loc[2]` returns row associated with index 2. On the other hand, `iloc` returns rows based on their location. For example, `iloc[2]` returns the third row in the dataset, regardless of its index.\n",
    "\n",
    "`Series.loc`: Access a group of rows and columns by label(s) or a boolean array.\n",
    "\n",
    "`Series.iloc`: Purely integer-location based indexing for selection by position."
   ]
  },
  {
   "cell_type": "code",
   "execution_count": 76,
   "metadata": {
    "id": "mOGEIlfTjoBn"
   },
   "outputs": [
    {
     "data": {
      "text/plain": [
       "59"
      ]
     },
     "execution_count": 76,
     "metadata": {},
     "output_type": "execute_result"
    }
   ],
   "source": [
    "grades.loc[2]"
   ]
  },
  {
   "cell_type": "code",
   "execution_count": 77,
   "metadata": {
    "id": "J2e-6CRHjxa3"
   },
   "outputs": [
    {
     "data": {
      "text/plain": [
       "59"
      ]
     },
     "execution_count": 77,
     "metadata": {},
     "output_type": "execute_result"
    }
   ],
   "source": [
    "grades.iloc[2]"
   ]
  },
  {
   "cell_type": "markdown",
   "metadata": {
    "id": "-pvHSC_Wj0H_"
   },
   "source": [
    "Direct use of an index is similar to `loc`."
   ]
  },
  {
   "cell_type": "code",
   "execution_count": 78,
   "metadata": {
    "id": "-wiGhF0Vj2iW"
   },
   "outputs": [
    {
     "data": {
      "text/plain": [
       "59"
      ]
     },
     "execution_count": 78,
     "metadata": {},
     "output_type": "execute_result"
    }
   ],
   "source": [
    "grades[2]"
   ]
  },
  {
   "cell_type": "markdown",
   "metadata": {
    "id": "yYdoAwuQj9Be"
   },
   "source": [
    "To get number of elements in a Series, `len` function can be used."
   ]
  },
  {
   "cell_type": "code",
   "execution_count": 79,
   "metadata": {
    "id": "Z3C2qYKHj7hX"
   },
   "outputs": [
    {
     "data": {
      "text/plain": [
       "100"
      ]
     },
     "execution_count": 79,
     "metadata": {},
     "output_type": "execute_result"
    }
   ],
   "source": [
    "len(grades)"
   ]
  },
  {
   "cell_type": "markdown",
   "metadata": {
    "id": "PW36N2GrkAQJ"
   },
   "source": [
    "To directly delete an element in the Series, `del` keyword can be used."
   ]
  },
  {
   "cell_type": "code",
   "execution_count": 80,
   "metadata": {
    "id": "kbTzD8SskDx9"
   },
   "outputs": [],
   "source": [
    "del grades[2]"
   ]
  },
  {
   "cell_type": "code",
   "execution_count": 81,
   "metadata": {
    "id": "GqeuhjcXkD5l"
   },
   "outputs": [
    {
     "data": {
      "text/plain": [
       "99"
      ]
     },
     "execution_count": 81,
     "metadata": {},
     "output_type": "execute_result"
    }
   ],
   "source": [
    "len(grades)"
   ]
  },
  {
   "cell_type": "code",
   "execution_count": 82,
   "metadata": {
    "id": "0JYD7LEnkEAO"
   },
   "outputs": [
    {
     "name": "stdout",
     "output_type": "stream",
     "text": [
      "element does not exist\n"
     ]
    }
   ],
   "source": [
    "try:\n",
    "    grades.loc[2]\n",
    "except:\n",
    "    print(\"element does not exist\")"
   ]
  },
  {
   "cell_type": "code",
   "execution_count": 83,
   "metadata": {
    "id": "jz5JrjzhkEF8"
   },
   "outputs": [
    {
     "data": {
      "text/plain": [
       "59"
      ]
     },
     "execution_count": 83,
     "metadata": {},
     "output_type": "execute_result"
    }
   ],
   "source": [
    "grades.iloc[2]"
   ]
  },
  {
   "cell_type": "code",
   "execution_count": 84,
   "metadata": {
    "id": "Bj1JCz4UkEJD"
   },
   "outputs": [
    {
     "name": "stdout",
     "output_type": "stream",
     "text": [
      "element does not exist\n"
     ]
    }
   ],
   "source": [
    "try:\n",
    "    del grades[2]\n",
    "except:\n",
    "    print(\"element does not exist\")"
   ]
  },
  {
   "cell_type": "markdown",
   "metadata": {
    "id": "G7DPHyGakKbH"
   },
   "source": [
    "`Series.drop(`: Return Series with specified index labels removed. This leaves the original Series unchanged. If `inplace=True` is passed, do operation inplace and return `None`."
   ]
  },
  {
   "cell_type": "code",
   "execution_count": 85,
   "metadata": {
    "id": "BVsXmh3dkMt_"
   },
   "outputs": [
    {
     "data": {
      "text/plain": [
       "0     79\n",
       "4     78\n",
       "5     98\n",
       "6     52\n",
       "7     62\n",
       "      ..\n",
       "95    61\n",
       "96    98\n",
       "97    66\n",
       "98    71\n",
       "99    82\n",
       "Length: 97, dtype: int32"
      ]
     },
     "execution_count": 85,
     "metadata": {},
     "output_type": "execute_result"
    }
   ],
   "source": [
    "grades.drop([1,3])"
   ]
  },
  {
   "cell_type": "markdown",
   "metadata": {
    "id": "he028vqSkSUO"
   },
   "source": [
    "Regular slicing operations work with Series."
   ]
  },
  {
   "cell_type": "code",
   "execution_count": 86,
   "metadata": {
    "id": "yiK0KQ_dkS9G"
   },
   "outputs": [
    {
     "data": {
      "text/plain": [
       "0    79\n",
       "1    54\n",
       "3    59\n",
       "4    78\n",
       "5    98\n",
       "dtype: int32"
      ]
     },
     "execution_count": 86,
     "metadata": {},
     "output_type": "execute_result"
    }
   ],
   "source": [
    "grades.iloc[:5]"
   ]
  },
  {
   "cell_type": "code",
   "execution_count": 87,
   "metadata": {
    "id": "jLI-THDckUU-"
   },
   "outputs": [
    {
     "data": {
      "text/plain": [
       "3    59\n",
       "4    78\n",
       "5    98\n",
       "6    52\n",
       "dtype: int32"
      ]
     },
     "execution_count": 87,
     "metadata": {},
     "output_type": "execute_result"
    }
   ],
   "source": [
    "grades.iloc[2:6]"
   ]
  },
  {
   "cell_type": "code",
   "execution_count": 88,
   "metadata": {
    "id": "OMbCAf_skUXo"
   },
   "outputs": [
    {
     "data": {
      "text/plain": [
       "95    61\n",
       "96    98\n",
       "97    66\n",
       "98    71\n",
       "99    82\n",
       "dtype: int32"
      ]
     },
     "execution_count": 88,
     "metadata": {},
     "output_type": "execute_result"
    }
   ],
   "source": [
    "grades.iloc[-5:]"
   ]
  },
  {
   "cell_type": "markdown",
   "metadata": {
    "id": "Vbb15QAfkYbn"
   },
   "source": [
    "`Series.head(<n=5>)`: Return the first n rows."
   ]
  },
  {
   "cell_type": "code",
   "execution_count": 89,
   "metadata": {
    "id": "18mwtIDekUaQ"
   },
   "outputs": [
    {
     "data": {
      "text/plain": [
       "0    79\n",
       "1    54\n",
       "3    59\n",
       "4    78\n",
       "5    98\n",
       "dtype: int32"
      ]
     },
     "execution_count": 89,
     "metadata": {},
     "output_type": "execute_result"
    }
   ],
   "source": [
    "grades.head()"
   ]
  },
  {
   "cell_type": "markdown",
   "metadata": {
    "id": "G4Ru1Oxqkb71"
   },
   "source": [
    "`Series.tail(<n=5>)`: Return the last n rows."
   ]
  },
  {
   "cell_type": "code",
   "execution_count": 90,
   "metadata": {
    "id": "Gu-xHWFCkUc4"
   },
   "outputs": [
    {
     "data": {
      "text/plain": [
       "90    92\n",
       "91    94\n",
       "92    71\n",
       "93    73\n",
       "94    74\n",
       "95    61\n",
       "96    98\n",
       "97    66\n",
       "98    71\n",
       "99    82\n",
       "dtype: int32"
      ]
     },
     "execution_count": 90,
     "metadata": {},
     "output_type": "execute_result"
    }
   ],
   "source": [
    "grades.tail(10)"
   ]
  },
  {
   "cell_type": "markdown",
   "metadata": {
    "id": "7sNa6HXYkeP_"
   },
   "source": [
    "`Series.describe`: Generate descriptive statistics that summarize the central tendency, dispersion and shape of a dataset’s distribution, excluding NaN values."
   ]
  },
  {
   "cell_type": "code",
   "execution_count": 91,
   "metadata": {
    "id": "sV1SD8DPkgmv"
   },
   "outputs": [
    {
     "data": {
      "text/plain": [
       "count     99.000000\n",
       "mean      73.484848\n",
       "std       15.138385\n",
       "min       50.000000\n",
       "25%       60.000000\n",
       "50%       72.000000\n",
       "75%       88.000000\n",
       "max      100.000000\n",
       "dtype: float64"
      ]
     },
     "execution_count": 91,
     "metadata": {},
     "output_type": "execute_result"
    }
   ],
   "source": [
    "grades.describe()"
   ]
  },
  {
   "cell_type": "markdown",
   "metadata": {
    "id": "6kzh8NBSkjmC"
   },
   "source": [
    "`Series.values`: Return Series as ndarray or ndarray-like depending on the dtype."
   ]
  },
  {
   "cell_type": "code",
   "execution_count": 92,
   "metadata": {
    "id": "jMN0EoQEkgqW"
   },
   "outputs": [
    {
     "data": {
      "text/plain": [
       "array([ 79,  54,  59,  78,  98,  52,  62,  95,  58,  64,  54,  57,  67,\n",
       "        52,  54,  62,  53,  80,  78,  80,  64,  79,  86,  85,  56,  90,\n",
       "        80,  93,  91, 100,  89,  52,  65,  74,  90,  67,  61,  76,  66,\n",
       "        56,  80,  74,  56,  51,  68,  50, 100,  52,  77,  75,  52,  60,\n",
       "        68,  82,  90,  97,  55,  88,  60,  96,  64,  95,  95,  91,  55,\n",
       "        71,  60,  98,  87,  68,  58,  77,  73,  94,  57,  88,  72,  60,\n",
       "        89,  95,  66,  58,  71,  58,  70,  73, 100,  67,  96,  92,  94,\n",
       "        71,  73,  74,  61,  98,  66,  71,  82])"
      ]
     },
     "execution_count": 92,
     "metadata": {},
     "output_type": "execute_result"
    }
   ],
   "source": [
    "grades.values"
   ]
  },
  {
   "cell_type": "markdown",
   "metadata": {
    "id": "7_BrFtLjknS_"
   },
   "source": [
    "Regular statistical methods are available for Series with numerical values."
   ]
  },
  {
   "cell_type": "code",
   "execution_count": 93,
   "metadata": {
    "id": "A82EhBTskpu-",
    "tags": []
   },
   "outputs": [
    {
     "data": {
      "text/plain": [
       "7275"
      ]
     },
     "execution_count": 93,
     "metadata": {},
     "output_type": "execute_result"
    }
   ],
   "source": [
    "grades.sum()"
   ]
  },
  {
   "cell_type": "code",
   "execution_count": 94,
   "metadata": {
    "id": "IT27cLBGkpxi"
   },
   "outputs": [
    {
     "data": {
      "text/plain": [
       "73.48484848484848"
      ]
     },
     "execution_count": 94,
     "metadata": {},
     "output_type": "execute_result"
    }
   ],
   "source": [
    "grades.mean()"
   ]
  },
  {
   "cell_type": "code",
   "execution_count": 95,
   "metadata": {
    "id": "Hf0rXeeXkp0X"
   },
   "outputs": [
    {
     "data": {
      "text/plain": [
       "15.138384539190458"
      ]
     },
     "execution_count": 95,
     "metadata": {},
     "output_type": "execute_result"
    }
   ],
   "source": [
    "grades.std()"
   ]
  },
  {
   "cell_type": "code",
   "execution_count": 96,
   "metadata": {
    "id": "rLU5LJ6tkp3C"
   },
   "outputs": [
    {
     "data": {
      "text/plain": [
       "229.1706864564007"
      ]
     },
     "execution_count": 96,
     "metadata": {},
     "output_type": "execute_result"
    }
   ],
   "source": [
    "grades.var()"
   ]
  },
  {
   "cell_type": "code",
   "execution_count": 97,
   "metadata": {
    "id": "QlZPQPbBkp52"
   },
   "outputs": [
    {
     "data": {
      "text/plain": [
       "50"
      ]
     },
     "execution_count": 97,
     "metadata": {},
     "output_type": "execute_result"
    }
   ],
   "source": [
    "grades.min()"
   ]
  },
  {
   "cell_type": "code",
   "execution_count": 98,
   "metadata": {
    "id": "2M5y0qxXkp89"
   },
   "outputs": [
    {
     "data": {
      "text/plain": [
       "100"
      ]
     },
     "execution_count": 98,
     "metadata": {},
     "output_type": "execute_result"
    }
   ],
   "source": [
    "grades.max()"
   ]
  },
  {
   "cell_type": "code",
   "execution_count": 99,
   "metadata": {
    "id": "UZiTv19Ikwhe"
   },
   "outputs": [
    {
     "data": {
      "text/plain": [
       "0       79\n",
       "1      133\n",
       "3      192\n",
       "4      270\n",
       "5      368\n",
       "      ... \n",
       "95    6958\n",
       "96    7056\n",
       "97    7122\n",
       "98    7193\n",
       "99    7275\n",
       "Length: 99, dtype: int32"
      ]
     },
     "execution_count": 99,
     "metadata": {},
     "output_type": "execute_result"
    }
   ],
   "source": [
    "grades.cumsum()"
   ]
  },
  {
   "cell_type": "code",
   "execution_count": 100,
   "metadata": {
    "id": "Zj54DI1NkwkH"
   },
   "outputs": [
    {
     "data": {
      "text/plain": [
       "0      84\n",
       "1      59\n",
       "3      64\n",
       "4      83\n",
       "5     103\n",
       "     ... \n",
       "95     66\n",
       "96    103\n",
       "97     71\n",
       "98     76\n",
       "99     87\n",
       "Length: 99, dtype: int32"
      ]
     },
     "execution_count": 100,
     "metadata": {},
     "output_type": "execute_result"
    }
   ],
   "source": [
    "grades+5"
   ]
  },
  {
   "cell_type": "code",
   "execution_count": null,
   "metadata": {
    "id": "Ev7sdhyOkz7e"
   },
   "outputs": [],
   "source": []
  },
  {
   "cell_type": "code",
   "execution_count": null,
   "metadata": {
    "id": "eXdXEr2Nkz-f"
   },
   "outputs": [],
   "source": []
  },
  {
   "cell_type": "code",
   "execution_count": null,
   "metadata": {
    "id": "OTWNkh00k0BD"
   },
   "outputs": [],
   "source": []
  },
  {
   "cell_type": "code",
   "execution_count": 101,
   "metadata": {
    "id": "4hnGfny7iCnY",
    "outputId": "87a428de-cee6-4e66-c3b3-caf4137dd9e4",
    "scrolled": true
   },
   "outputs": [
    {
     "data": {
      "text/html": [
       "<div>\n",
       "<style scoped>\n",
       "    .dataframe tbody tr th:only-of-type {\n",
       "        vertical-align: middle;\n",
       "    }\n",
       "\n",
       "    .dataframe tbody tr th {\n",
       "        vertical-align: top;\n",
       "    }\n",
       "\n",
       "    .dataframe thead th {\n",
       "        text-align: right;\n",
       "    }\n",
       "</style>\n",
       "<table border=\"1\" class=\"dataframe\">\n",
       "  <thead>\n",
       "    <tr style=\"text-align: right;\">\n",
       "      <th></th>\n",
       "      <th>Product ID</th>\n",
       "      <th>Category</th>\n",
       "      <th>Price</th>\n",
       "      <th>Inventory</th>\n",
       "      <th>Weight</th>\n",
       "      <th>Condition</th>\n",
       "    </tr>\n",
       "  </thead>\n",
       "  <tbody>\n",
       "    <tr>\n",
       "      <th>0</th>\n",
       "      <td>142019521928</td>\n",
       "      <td>Office Supplies</td>\n",
       "      <td>42.31</td>\n",
       "      <td>9</td>\n",
       "      <td>26.4</td>\n",
       "      <td>Used</td>\n",
       "    </tr>\n",
       "    <tr>\n",
       "      <th>1</th>\n",
       "      <td>135617259927</td>\n",
       "      <td>Furniture</td>\n",
       "      <td>29.28</td>\n",
       "      <td>9</td>\n",
       "      <td>13.4</td>\n",
       "      <td>New</td>\n",
       "    </tr>\n",
       "    <tr>\n",
       "      <th>2</th>\n",
       "      <td>786588848050</td>\n",
       "      <td>Furniture</td>\n",
       "      <td>98.50</td>\n",
       "      <td>6</td>\n",
       "      <td>43.7</td>\n",
       "      <td>Refurbished</td>\n",
       "    </tr>\n",
       "    <tr>\n",
       "      <th>3</th>\n",
       "      <td>957702802601</td>\n",
       "      <td>Electrical</td>\n",
       "      <td>14.68</td>\n",
       "      <td>26</td>\n",
       "      <td>17.1</td>\n",
       "      <td>Refurbished</td>\n",
       "    </tr>\n",
       "    <tr>\n",
       "      <th>4</th>\n",
       "      <td>716662964693</td>\n",
       "      <td>Furniture</td>\n",
       "      <td>27.17</td>\n",
       "      <td>0</td>\n",
       "      <td>24.2</td>\n",
       "      <td>Refurbished</td>\n",
       "    </tr>\n",
       "    <tr>\n",
       "      <th>...</th>\n",
       "      <td>...</td>\n",
       "      <td>...</td>\n",
       "      <td>...</td>\n",
       "      <td>...</td>\n",
       "      <td>...</td>\n",
       "      <td>...</td>\n",
       "    </tr>\n",
       "    <tr>\n",
       "      <th>9995</th>\n",
       "      <td>887953572393</td>\n",
       "      <td>Electrical</td>\n",
       "      <td>75.43</td>\n",
       "      <td>0</td>\n",
       "      <td>14.4</td>\n",
       "      <td>New</td>\n",
       "    </tr>\n",
       "    <tr>\n",
       "      <th>9996</th>\n",
       "      <td>585077919932</td>\n",
       "      <td>Lighting</td>\n",
       "      <td>72.28</td>\n",
       "      <td>21</td>\n",
       "      <td>6.6</td>\n",
       "      <td>New</td>\n",
       "    </tr>\n",
       "    <tr>\n",
       "      <th>9997</th>\n",
       "      <td>192754250040</td>\n",
       "      <td>Industrial</td>\n",
       "      <td>75.69</td>\n",
       "      <td>49</td>\n",
       "      <td>11.2</td>\n",
       "      <td>New</td>\n",
       "    </tr>\n",
       "    <tr>\n",
       "      <th>9998</th>\n",
       "      <td>395994805746</td>\n",
       "      <td>Lighting</td>\n",
       "      <td>47.81</td>\n",
       "      <td>39</td>\n",
       "      <td>28.0</td>\n",
       "      <td>Refurbished</td>\n",
       "    </tr>\n",
       "    <tr>\n",
       "      <th>9999</th>\n",
       "      <td>710891685647</td>\n",
       "      <td>Industrial</td>\n",
       "      <td>79.47</td>\n",
       "      <td>9</td>\n",
       "      <td>3.3</td>\n",
       "      <td>New</td>\n",
       "    </tr>\n",
       "  </tbody>\n",
       "</table>\n",
       "<p>10000 rows × 6 columns</p>\n",
       "</div>"
      ],
      "text/plain": [
       "        Product ID         Category  Price  Inventory  Weight    Condition\n",
       "0     142019521928  Office Supplies  42.31          9    26.4         Used\n",
       "1     135617259927        Furniture  29.28          9    13.4          New\n",
       "2     786588848050        Furniture  98.50          6    43.7  Refurbished\n",
       "3     957702802601       Electrical  14.68         26    17.1  Refurbished\n",
       "4     716662964693        Furniture  27.17          0    24.2  Refurbished\n",
       "...            ...              ...    ...        ...     ...          ...\n",
       "9995  887953572393       Electrical  75.43          0    14.4          New\n",
       "9996  585077919932         Lighting  72.28         21     6.6          New\n",
       "9997  192754250040       Industrial  75.69         49    11.2          New\n",
       "9998  395994805746         Lighting  47.81         39    28.0  Refurbished\n",
       "9999  710891685647       Industrial  79.47          9     3.3          New\n",
       "\n",
       "[10000 rows x 6 columns]"
      ]
     },
     "execution_count": 101,
     "metadata": {},
     "output_type": "execute_result"
    }
   ],
   "source": [
    "catalog"
   ]
  },
  {
   "cell_type": "code",
   "execution_count": 102,
   "metadata": {
    "id": "NZLRJcnCiCnZ",
    "outputId": "a662074e-cfce-43b2-fd3b-563ab3542edc"
   },
   "outputs": [
    {
     "data": {
      "text/plain": [
       "<bound method DataFrame.info of         Product ID         Category  Price  Inventory  Weight    Condition\n",
       "0     142019521928  Office Supplies  42.31          9    26.4         Used\n",
       "1     135617259927        Furniture  29.28          9    13.4          New\n",
       "2     786588848050        Furniture  98.50          6    43.7  Refurbished\n",
       "3     957702802601       Electrical  14.68         26    17.1  Refurbished\n",
       "4     716662964693        Furniture  27.17          0    24.2  Refurbished\n",
       "...            ...              ...    ...        ...     ...          ...\n",
       "9995  887953572393       Electrical  75.43          0    14.4          New\n",
       "9996  585077919932         Lighting  72.28         21     6.6          New\n",
       "9997  192754250040       Industrial  75.69         49    11.2          New\n",
       "9998  395994805746         Lighting  47.81         39    28.0  Refurbished\n",
       "9999  710891685647       Industrial  79.47          9     3.3          New\n",
       "\n",
       "[10000 rows x 6 columns]>"
      ]
     },
     "execution_count": 102,
     "metadata": {},
     "output_type": "execute_result"
    }
   ],
   "source": [
    "catalog.info"
   ]
  },
  {
   "cell_type": "code",
   "execution_count": 103,
   "metadata": {
    "id": "R98mdRQ8iCnZ",
    "outputId": "a084420a-efe2-4f15-92d8-ce8a4b956500"
   },
   "outputs": [
    {
     "data": {
      "text/plain": [
       "(10000, 6)"
      ]
     },
     "execution_count": 103,
     "metadata": {},
     "output_type": "execute_result"
    }
   ],
   "source": [
    "catalog.shape"
   ]
  },
  {
   "cell_type": "code",
   "execution_count": 104,
   "metadata": {
    "id": "TRRFMuxciCna",
    "outputId": "784f1fca-fdbe-4c02-9e9e-e915e0db1d37"
   },
   "outputs": [
    {
     "data": {
      "text/html": [
       "<div>\n",
       "<style scoped>\n",
       "    .dataframe tbody tr th:only-of-type {\n",
       "        vertical-align: middle;\n",
       "    }\n",
       "\n",
       "    .dataframe tbody tr th {\n",
       "        vertical-align: top;\n",
       "    }\n",
       "\n",
       "    .dataframe thead th {\n",
       "        text-align: right;\n",
       "    }\n",
       "</style>\n",
       "<table border=\"1\" class=\"dataframe\">\n",
       "  <thead>\n",
       "    <tr style=\"text-align: right;\">\n",
       "      <th></th>\n",
       "      <th>Product ID</th>\n",
       "      <th>Category</th>\n",
       "      <th>Price</th>\n",
       "      <th>Inventory</th>\n",
       "      <th>Weight</th>\n",
       "      <th>Condition</th>\n",
       "    </tr>\n",
       "  </thead>\n",
       "  <tbody>\n",
       "    <tr>\n",
       "      <th>count</th>\n",
       "      <td>1.000000e+04</td>\n",
       "      <td>10000</td>\n",
       "      <td>10000.000000</td>\n",
       "      <td>10000.000000</td>\n",
       "      <td>10000.000000</td>\n",
       "      <td>10000</td>\n",
       "    </tr>\n",
       "    <tr>\n",
       "      <th>unique</th>\n",
       "      <td>NaN</td>\n",
       "      <td>5</td>\n",
       "      <td>NaN</td>\n",
       "      <td>NaN</td>\n",
       "      <td>NaN</td>\n",
       "      <td>3</td>\n",
       "    </tr>\n",
       "    <tr>\n",
       "      <th>top</th>\n",
       "      <td>NaN</td>\n",
       "      <td>Electrical</td>\n",
       "      <td>NaN</td>\n",
       "      <td>NaN</td>\n",
       "      <td>NaN</td>\n",
       "      <td>Refurbished</td>\n",
       "    </tr>\n",
       "    <tr>\n",
       "      <th>freq</th>\n",
       "      <td>NaN</td>\n",
       "      <td>2055</td>\n",
       "      <td>NaN</td>\n",
       "      <td>NaN</td>\n",
       "      <td>NaN</td>\n",
       "      <td>3341</td>\n",
       "    </tr>\n",
       "    <tr>\n",
       "      <th>mean</th>\n",
       "      <td>5.058512e+11</td>\n",
       "      <td>NaN</td>\n",
       "      <td>54.591341</td>\n",
       "      <td>24.515100</td>\n",
       "      <td>25.056080</td>\n",
       "      <td>NaN</td>\n",
       "    </tr>\n",
       "    <tr>\n",
       "      <th>std</th>\n",
       "      <td>2.873598e+11</td>\n",
       "      <td>NaN</td>\n",
       "      <td>25.949133</td>\n",
       "      <td>14.475853</td>\n",
       "      <td>14.528007</td>\n",
       "      <td>NaN</td>\n",
       "    </tr>\n",
       "    <tr>\n",
       "      <th>min</th>\n",
       "      <td>7.068757e+06</td>\n",
       "      <td>NaN</td>\n",
       "      <td>10.000000</td>\n",
       "      <td>0.000000</td>\n",
       "      <td>0.100000</td>\n",
       "      <td>NaN</td>\n",
       "    </tr>\n",
       "    <tr>\n",
       "      <th>25%</th>\n",
       "      <td>2.587775e+11</td>\n",
       "      <td>NaN</td>\n",
       "      <td>32.395000</td>\n",
       "      <td>12.000000</td>\n",
       "      <td>12.400000</td>\n",
       "      <td>NaN</td>\n",
       "    </tr>\n",
       "    <tr>\n",
       "      <th>50%</th>\n",
       "      <td>5.070906e+11</td>\n",
       "      <td>NaN</td>\n",
       "      <td>54.340000</td>\n",
       "      <td>24.000000</td>\n",
       "      <td>24.900000</td>\n",
       "      <td>NaN</td>\n",
       "    </tr>\n",
       "    <tr>\n",
       "      <th>75%</th>\n",
       "      <td>7.538896e+11</td>\n",
       "      <td>NaN</td>\n",
       "      <td>77.052500</td>\n",
       "      <td>37.000000</td>\n",
       "      <td>37.900000</td>\n",
       "      <td>NaN</td>\n",
       "    </tr>\n",
       "    <tr>\n",
       "      <th>max</th>\n",
       "      <td>9.998621e+11</td>\n",
       "      <td>NaN</td>\n",
       "      <td>99.990000</td>\n",
       "      <td>49.000000</td>\n",
       "      <td>50.000000</td>\n",
       "      <td>NaN</td>\n",
       "    </tr>\n",
       "  </tbody>\n",
       "</table>\n",
       "</div>"
      ],
      "text/plain": [
       "          Product ID    Category         Price     Inventory        Weight  \\\n",
       "count   1.000000e+04       10000  10000.000000  10000.000000  10000.000000   \n",
       "unique           NaN           5           NaN           NaN           NaN   \n",
       "top              NaN  Electrical           NaN           NaN           NaN   \n",
       "freq             NaN        2055           NaN           NaN           NaN   \n",
       "mean    5.058512e+11         NaN     54.591341     24.515100     25.056080   \n",
       "std     2.873598e+11         NaN     25.949133     14.475853     14.528007   \n",
       "min     7.068757e+06         NaN     10.000000      0.000000      0.100000   \n",
       "25%     2.587775e+11         NaN     32.395000     12.000000     12.400000   \n",
       "50%     5.070906e+11         NaN     54.340000     24.000000     24.900000   \n",
       "75%     7.538896e+11         NaN     77.052500     37.000000     37.900000   \n",
       "max     9.998621e+11         NaN     99.990000     49.000000     50.000000   \n",
       "\n",
       "          Condition  \n",
       "count         10000  \n",
       "unique            3  \n",
       "top     Refurbished  \n",
       "freq           3341  \n",
       "mean            NaN  \n",
       "std             NaN  \n",
       "min             NaN  \n",
       "25%             NaN  \n",
       "50%             NaN  \n",
       "75%             NaN  \n",
       "max             NaN  "
      ]
     },
     "execution_count": 104,
     "metadata": {},
     "output_type": "execute_result"
    }
   ],
   "source": [
    "catalog.describe(include='all')"
   ]
  },
  {
   "cell_type": "code",
   "execution_count": 105,
   "metadata": {
    "id": "MijuT5U3iCna",
    "outputId": "3d85b197-326b-4092-8f98-366ac82d4993"
   },
   "outputs": [
    {
     "data": {
      "text/plain": [
       "10000"
      ]
     },
     "execution_count": 105,
     "metadata": {},
     "output_type": "execute_result"
    }
   ],
   "source": [
    "len(catalog)"
   ]
  },
  {
   "cell_type": "code",
   "execution_count": 106,
   "metadata": {
    "id": "6IHMmMWEiCna",
    "outputId": "09878f7a-4e1f-4a26-bb6d-3bc91d3a9000"
   },
   "outputs": [
    {
     "data": {
      "text/plain": [
       "Product ID    135617259927\n",
       "Category         Furniture\n",
       "Price                29.28\n",
       "Inventory                9\n",
       "Weight                13.4\n",
       "Condition              New\n",
       "Name: 1, dtype: object"
      ]
     },
     "execution_count": 106,
     "metadata": {},
     "output_type": "execute_result"
    }
   ],
   "source": [
    "catalog.loc[1]"
   ]
  },
  {
   "cell_type": "code",
   "execution_count": 107,
   "metadata": {
    "id": "hLRWghaoiCnb",
    "outputId": "0b647f04-0ae5-4a9c-81fb-e184c83091bc"
   },
   "outputs": [
    {
     "data": {
      "text/plain": [
       "Product ID    135617259927\n",
       "Category         Furniture\n",
       "Price                29.28\n",
       "Inventory                9\n",
       "Weight                13.4\n",
       "Condition              New\n",
       "Name: 1, dtype: object"
      ]
     },
     "execution_count": 107,
     "metadata": {},
     "output_type": "execute_result"
    }
   ],
   "source": [
    "catalog.iloc[1]"
   ]
  },
  {
   "cell_type": "code",
   "execution_count": 108,
   "metadata": {
    "id": "h64ugVqoiCnb",
    "outputId": "309a514e-dd38-4c20-c0ce-2f15e49a96e7"
   },
   "outputs": [
    {
     "data": {
      "text/html": [
       "<div>\n",
       "<style scoped>\n",
       "    .dataframe tbody tr th:only-of-type {\n",
       "        vertical-align: middle;\n",
       "    }\n",
       "\n",
       "    .dataframe tbody tr th {\n",
       "        vertical-align: top;\n",
       "    }\n",
       "\n",
       "    .dataframe thead th {\n",
       "        text-align: right;\n",
       "    }\n",
       "</style>\n",
       "<table border=\"1\" class=\"dataframe\">\n",
       "  <thead>\n",
       "    <tr style=\"text-align: right;\">\n",
       "      <th></th>\n",
       "      <th>Product ID</th>\n",
       "      <th>Category</th>\n",
       "      <th>Price</th>\n",
       "      <th>Inventory</th>\n",
       "      <th>Weight</th>\n",
       "      <th>Condition</th>\n",
       "    </tr>\n",
       "  </thead>\n",
       "  <tbody>\n",
       "    <tr>\n",
       "      <th>0</th>\n",
       "      <td>142019521928</td>\n",
       "      <td>Office Supplies</td>\n",
       "      <td>42.31</td>\n",
       "      <td>9</td>\n",
       "      <td>26.4</td>\n",
       "      <td>Used</td>\n",
       "    </tr>\n",
       "    <tr>\n",
       "      <th>1</th>\n",
       "      <td>135617259927</td>\n",
       "      <td>Furniture</td>\n",
       "      <td>29.28</td>\n",
       "      <td>9</td>\n",
       "      <td>13.4</td>\n",
       "      <td>New</td>\n",
       "    </tr>\n",
       "    <tr>\n",
       "      <th>2</th>\n",
       "      <td>786588848050</td>\n",
       "      <td>Furniture</td>\n",
       "      <td>98.50</td>\n",
       "      <td>6</td>\n",
       "      <td>43.7</td>\n",
       "      <td>Refurbished</td>\n",
       "    </tr>\n",
       "    <tr>\n",
       "      <th>3</th>\n",
       "      <td>957702802601</td>\n",
       "      <td>Electrical</td>\n",
       "      <td>14.68</td>\n",
       "      <td>26</td>\n",
       "      <td>17.1</td>\n",
       "      <td>Refurbished</td>\n",
       "    </tr>\n",
       "    <tr>\n",
       "      <th>4</th>\n",
       "      <td>716662964693</td>\n",
       "      <td>Furniture</td>\n",
       "      <td>27.17</td>\n",
       "      <td>0</td>\n",
       "      <td>24.2</td>\n",
       "      <td>Refurbished</td>\n",
       "    </tr>\n",
       "    <tr>\n",
       "      <th>5</th>\n",
       "      <td>868419050073</td>\n",
       "      <td>Electrical</td>\n",
       "      <td>45.08</td>\n",
       "      <td>41</td>\n",
       "      <td>29.9</td>\n",
       "      <td>New</td>\n",
       "    </tr>\n",
       "    <tr>\n",
       "      <th>6</th>\n",
       "      <td>91879907254</td>\n",
       "      <td>Industrial</td>\n",
       "      <td>22.24</td>\n",
       "      <td>3</td>\n",
       "      <td>48.9</td>\n",
       "      <td>New</td>\n",
       "    </tr>\n",
       "    <tr>\n",
       "      <th>7</th>\n",
       "      <td>147369664112</td>\n",
       "      <td>Office Supplies</td>\n",
       "      <td>35.12</td>\n",
       "      <td>3</td>\n",
       "      <td>7.7</td>\n",
       "      <td>New</td>\n",
       "    </tr>\n",
       "    <tr>\n",
       "      <th>8</th>\n",
       "      <td>861726542104</td>\n",
       "      <td>Office Supplies</td>\n",
       "      <td>41.37</td>\n",
       "      <td>16</td>\n",
       "      <td>36.7</td>\n",
       "      <td>New</td>\n",
       "    </tr>\n",
       "    <tr>\n",
       "      <th>9</th>\n",
       "      <td>236598380667</td>\n",
       "      <td>Electrical</td>\n",
       "      <td>84.64</td>\n",
       "      <td>24</td>\n",
       "      <td>27.8</td>\n",
       "      <td>Refurbished</td>\n",
       "    </tr>\n",
       "  </tbody>\n",
       "</table>\n",
       "</div>"
      ],
      "text/plain": [
       "     Product ID         Category  Price  Inventory  Weight    Condition\n",
       "0  142019521928  Office Supplies  42.31          9    26.4         Used\n",
       "1  135617259927        Furniture  29.28          9    13.4          New\n",
       "2  786588848050        Furniture  98.50          6    43.7  Refurbished\n",
       "3  957702802601       Electrical  14.68         26    17.1  Refurbished\n",
       "4  716662964693        Furniture  27.17          0    24.2  Refurbished\n",
       "5  868419050073       Electrical  45.08         41    29.9          New\n",
       "6   91879907254       Industrial  22.24          3    48.9          New\n",
       "7  147369664112  Office Supplies  35.12          3     7.7          New\n",
       "8  861726542104  Office Supplies  41.37         16    36.7          New\n",
       "9  236598380667       Electrical  84.64         24    27.8  Refurbished"
      ]
     },
     "execution_count": 108,
     "metadata": {},
     "output_type": "execute_result"
    }
   ],
   "source": [
    "catalog.head(10)"
   ]
  },
  {
   "cell_type": "code",
   "execution_count": 109,
   "metadata": {
    "id": "UZ76h2k9iCnb",
    "outputId": "de0072e2-4ac9-4f47-fa51-6f3c79213bf5"
   },
   "outputs": [
    {
     "data": {
      "text/html": [
       "<div>\n",
       "<style scoped>\n",
       "    .dataframe tbody tr th:only-of-type {\n",
       "        vertical-align: middle;\n",
       "    }\n",
       "\n",
       "    .dataframe tbody tr th {\n",
       "        vertical-align: top;\n",
       "    }\n",
       "\n",
       "    .dataframe thead th {\n",
       "        text-align: right;\n",
       "    }\n",
       "</style>\n",
       "<table border=\"1\" class=\"dataframe\">\n",
       "  <thead>\n",
       "    <tr style=\"text-align: right;\">\n",
       "      <th></th>\n",
       "      <th>Product ID</th>\n",
       "      <th>Category</th>\n",
       "      <th>Price</th>\n",
       "      <th>Inventory</th>\n",
       "      <th>Weight</th>\n",
       "      <th>Condition</th>\n",
       "    </tr>\n",
       "  </thead>\n",
       "  <tbody>\n",
       "    <tr>\n",
       "      <th>9990</th>\n",
       "      <td>323692635146</td>\n",
       "      <td>Lighting</td>\n",
       "      <td>62.21</td>\n",
       "      <td>38</td>\n",
       "      <td>10.0</td>\n",
       "      <td>Used</td>\n",
       "    </tr>\n",
       "    <tr>\n",
       "      <th>9991</th>\n",
       "      <td>156636116293</td>\n",
       "      <td>Industrial</td>\n",
       "      <td>28.08</td>\n",
       "      <td>5</td>\n",
       "      <td>21.8</td>\n",
       "      <td>New</td>\n",
       "    </tr>\n",
       "    <tr>\n",
       "      <th>9992</th>\n",
       "      <td>401297038633</td>\n",
       "      <td>Industrial</td>\n",
       "      <td>52.70</td>\n",
       "      <td>16</td>\n",
       "      <td>37.5</td>\n",
       "      <td>Used</td>\n",
       "    </tr>\n",
       "    <tr>\n",
       "      <th>9993</th>\n",
       "      <td>845444023134</td>\n",
       "      <td>Lighting</td>\n",
       "      <td>43.41</td>\n",
       "      <td>29</td>\n",
       "      <td>4.2</td>\n",
       "      <td>Used</td>\n",
       "    </tr>\n",
       "    <tr>\n",
       "      <th>9994</th>\n",
       "      <td>926912112440</td>\n",
       "      <td>Industrial</td>\n",
       "      <td>80.50</td>\n",
       "      <td>22</td>\n",
       "      <td>1.4</td>\n",
       "      <td>Refurbished</td>\n",
       "    </tr>\n",
       "    <tr>\n",
       "      <th>9995</th>\n",
       "      <td>887953572393</td>\n",
       "      <td>Electrical</td>\n",
       "      <td>75.43</td>\n",
       "      <td>0</td>\n",
       "      <td>14.4</td>\n",
       "      <td>New</td>\n",
       "    </tr>\n",
       "    <tr>\n",
       "      <th>9996</th>\n",
       "      <td>585077919932</td>\n",
       "      <td>Lighting</td>\n",
       "      <td>72.28</td>\n",
       "      <td>21</td>\n",
       "      <td>6.6</td>\n",
       "      <td>New</td>\n",
       "    </tr>\n",
       "    <tr>\n",
       "      <th>9997</th>\n",
       "      <td>192754250040</td>\n",
       "      <td>Industrial</td>\n",
       "      <td>75.69</td>\n",
       "      <td>49</td>\n",
       "      <td>11.2</td>\n",
       "      <td>New</td>\n",
       "    </tr>\n",
       "    <tr>\n",
       "      <th>9998</th>\n",
       "      <td>395994805746</td>\n",
       "      <td>Lighting</td>\n",
       "      <td>47.81</td>\n",
       "      <td>39</td>\n",
       "      <td>28.0</td>\n",
       "      <td>Refurbished</td>\n",
       "    </tr>\n",
       "    <tr>\n",
       "      <th>9999</th>\n",
       "      <td>710891685647</td>\n",
       "      <td>Industrial</td>\n",
       "      <td>79.47</td>\n",
       "      <td>9</td>\n",
       "      <td>3.3</td>\n",
       "      <td>New</td>\n",
       "    </tr>\n",
       "  </tbody>\n",
       "</table>\n",
       "</div>"
      ],
      "text/plain": [
       "        Product ID    Category  Price  Inventory  Weight    Condition\n",
       "9990  323692635146    Lighting  62.21         38    10.0         Used\n",
       "9991  156636116293  Industrial  28.08          5    21.8          New\n",
       "9992  401297038633  Industrial  52.70         16    37.5         Used\n",
       "9993  845444023134    Lighting  43.41         29     4.2         Used\n",
       "9994  926912112440  Industrial  80.50         22     1.4  Refurbished\n",
       "9995  887953572393  Electrical  75.43          0    14.4          New\n",
       "9996  585077919932    Lighting  72.28         21     6.6          New\n",
       "9997  192754250040  Industrial  75.69         49    11.2          New\n",
       "9998  395994805746    Lighting  47.81         39    28.0  Refurbished\n",
       "9999  710891685647  Industrial  79.47          9     3.3          New"
      ]
     },
     "execution_count": 109,
     "metadata": {},
     "output_type": "execute_result"
    }
   ],
   "source": [
    "catalog.tail(10)"
   ]
  },
  {
   "cell_type": "code",
   "execution_count": 110,
   "metadata": {
    "id": "S5FMdvAiiCnc",
    "outputId": "9e47589f-fb5b-4789-b375-73b922809d4d"
   },
   "outputs": [
    {
     "data": {
      "text/plain": [
       "99.99"
      ]
     },
     "execution_count": 110,
     "metadata": {},
     "output_type": "execute_result"
    }
   ],
   "source": [
    "catalog[\"Price\"].max()"
   ]
  },
  {
   "cell_type": "code",
   "execution_count": 111,
   "metadata": {
    "id": "wEtzDr8oiCnc"
   },
   "outputs": [
    {
     "data": {
      "text/plain": [
       "Index(['Product ID', 'Category', 'Price', 'Inventory', 'Weight', 'Condition'], dtype='object')"
      ]
     },
     "execution_count": 111,
     "metadata": {},
     "output_type": "execute_result"
    }
   ],
   "source": [
    "catalog.columns"
   ]
  },
  {
   "cell_type": "code",
   "execution_count": 112,
   "metadata": {
    "id": "71i4KM4iigMZ"
   },
   "outputs": [
    {
     "data": {
      "text/plain": [
       "0       142019521928\n",
       "1       135617259927\n",
       "2       786588848050\n",
       "3       957702802601\n",
       "4       716662964693\n",
       "            ...     \n",
       "9995    887953572393\n",
       "9996    585077919932\n",
       "9997    192754250040\n",
       "9998    395994805746\n",
       "9999    710891685647\n",
       "Name: Product ID, Length: 10000, dtype: int64"
      ]
     },
     "execution_count": 112,
     "metadata": {},
     "output_type": "execute_result"
    }
   ],
   "source": [
    "catalog[\"Product ID\"]"
   ]
  },
  {
   "cell_type": "code",
   "execution_count": 113,
   "metadata": {
    "id": "VgCGpDbSihbm"
   },
   "outputs": [
    {
     "data": {
      "text/plain": [
       "pandas.core.series.Series"
      ]
     },
     "execution_count": 113,
     "metadata": {},
     "output_type": "execute_result"
    }
   ],
   "source": [
    "type(catalog[\"Product ID\"])"
   ]
  },
  {
   "cell_type": "code",
   "execution_count": 114,
   "metadata": {
    "id": "t5xJI4afikDF"
   },
   "outputs": [
    {
     "data": {
      "text/html": [
       "<div>\n",
       "<style scoped>\n",
       "    .dataframe tbody tr th:only-of-type {\n",
       "        vertical-align: middle;\n",
       "    }\n",
       "\n",
       "    .dataframe tbody tr th {\n",
       "        vertical-align: top;\n",
       "    }\n",
       "\n",
       "    .dataframe thead th {\n",
       "        text-align: right;\n",
       "    }\n",
       "</style>\n",
       "<table border=\"1\" class=\"dataframe\">\n",
       "  <thead>\n",
       "    <tr style=\"text-align: right;\">\n",
       "      <th></th>\n",
       "      <th>Product ID</th>\n",
       "      <th>Category</th>\n",
       "    </tr>\n",
       "  </thead>\n",
       "  <tbody>\n",
       "    <tr>\n",
       "      <th>0</th>\n",
       "      <td>142019521928</td>\n",
       "      <td>Office Supplies</td>\n",
       "    </tr>\n",
       "    <tr>\n",
       "      <th>1</th>\n",
       "      <td>135617259927</td>\n",
       "      <td>Furniture</td>\n",
       "    </tr>\n",
       "    <tr>\n",
       "      <th>2</th>\n",
       "      <td>786588848050</td>\n",
       "      <td>Furniture</td>\n",
       "    </tr>\n",
       "    <tr>\n",
       "      <th>3</th>\n",
       "      <td>957702802601</td>\n",
       "      <td>Electrical</td>\n",
       "    </tr>\n",
       "    <tr>\n",
       "      <th>4</th>\n",
       "      <td>716662964693</td>\n",
       "      <td>Furniture</td>\n",
       "    </tr>\n",
       "    <tr>\n",
       "      <th>...</th>\n",
       "      <td>...</td>\n",
       "      <td>...</td>\n",
       "    </tr>\n",
       "    <tr>\n",
       "      <th>9995</th>\n",
       "      <td>887953572393</td>\n",
       "      <td>Electrical</td>\n",
       "    </tr>\n",
       "    <tr>\n",
       "      <th>9996</th>\n",
       "      <td>585077919932</td>\n",
       "      <td>Lighting</td>\n",
       "    </tr>\n",
       "    <tr>\n",
       "      <th>9997</th>\n",
       "      <td>192754250040</td>\n",
       "      <td>Industrial</td>\n",
       "    </tr>\n",
       "    <tr>\n",
       "      <th>9998</th>\n",
       "      <td>395994805746</td>\n",
       "      <td>Lighting</td>\n",
       "    </tr>\n",
       "    <tr>\n",
       "      <th>9999</th>\n",
       "      <td>710891685647</td>\n",
       "      <td>Industrial</td>\n",
       "    </tr>\n",
       "  </tbody>\n",
       "</table>\n",
       "<p>10000 rows × 2 columns</p>\n",
       "</div>"
      ],
      "text/plain": [
       "        Product ID         Category\n",
       "0     142019521928  Office Supplies\n",
       "1     135617259927        Furniture\n",
       "2     786588848050        Furniture\n",
       "3     957702802601       Electrical\n",
       "4     716662964693        Furniture\n",
       "...            ...              ...\n",
       "9995  887953572393       Electrical\n",
       "9996  585077919932         Lighting\n",
       "9997  192754250040       Industrial\n",
       "9998  395994805746         Lighting\n",
       "9999  710891685647       Industrial\n",
       "\n",
       "[10000 rows x 2 columns]"
      ]
     },
     "execution_count": 114,
     "metadata": {},
     "output_type": "execute_result"
    }
   ],
   "source": [
    "catalog[[\"Product ID\", \"Category\"]]"
   ]
  },
  {
   "cell_type": "code",
   "execution_count": 115,
   "metadata": {
    "id": "5rjEWWpIikLG"
   },
   "outputs": [
    {
     "data": {
      "text/plain": [
       "array(['Office Supplies', 'Furniture', 'Electrical', 'Industrial',\n",
       "       'Lighting'], dtype=object)"
      ]
     },
     "execution_count": 115,
     "metadata": {},
     "output_type": "execute_result"
    }
   ],
   "source": [
    "catalog['Category'].unique()"
   ]
  },
  {
   "cell_type": "code",
   "execution_count": 116,
   "metadata": {
    "id": "IdkatIh7ioJ3"
   },
   "outputs": [
    {
     "data": {
      "text/plain": [
       "5"
      ]
     },
     "execution_count": 116,
     "metadata": {},
     "output_type": "execute_result"
    }
   ],
   "source": [
    "catalog['Category'].nunique()"
   ]
  },
  {
   "cell_type": "code",
   "execution_count": 117,
   "metadata": {
    "id": "mk-pqqwrioPV"
   },
   "outputs": [],
   "source": [
    "del catalog[\"Weight\"]"
   ]
  },
  {
   "cell_type": "code",
   "execution_count": 118,
   "metadata": {
    "id": "ID9kQeuFioSu"
   },
   "outputs": [
    {
     "data": {
      "text/html": [
       "<div>\n",
       "<style scoped>\n",
       "    .dataframe tbody tr th:only-of-type {\n",
       "        vertical-align: middle;\n",
       "    }\n",
       "\n",
       "    .dataframe tbody tr th {\n",
       "        vertical-align: top;\n",
       "    }\n",
       "\n",
       "    .dataframe thead th {\n",
       "        text-align: right;\n",
       "    }\n",
       "</style>\n",
       "<table border=\"1\" class=\"dataframe\">\n",
       "  <thead>\n",
       "    <tr style=\"text-align: right;\">\n",
       "      <th></th>\n",
       "      <th>Product ID</th>\n",
       "      <th>Category</th>\n",
       "      <th>Price</th>\n",
       "      <th>Inventory</th>\n",
       "      <th>Condition</th>\n",
       "    </tr>\n",
       "  </thead>\n",
       "  <tbody>\n",
       "    <tr>\n",
       "      <th>0</th>\n",
       "      <td>142019521928</td>\n",
       "      <td>Office Supplies</td>\n",
       "      <td>42.31</td>\n",
       "      <td>9</td>\n",
       "      <td>Used</td>\n",
       "    </tr>\n",
       "    <tr>\n",
       "      <th>3</th>\n",
       "      <td>957702802601</td>\n",
       "      <td>Electrical</td>\n",
       "      <td>14.68</td>\n",
       "      <td>26</td>\n",
       "      <td>Refurbished</td>\n",
       "    </tr>\n",
       "    <tr>\n",
       "      <th>4</th>\n",
       "      <td>716662964693</td>\n",
       "      <td>Furniture</td>\n",
       "      <td>27.17</td>\n",
       "      <td>0</td>\n",
       "      <td>Refurbished</td>\n",
       "    </tr>\n",
       "    <tr>\n",
       "      <th>5</th>\n",
       "      <td>868419050073</td>\n",
       "      <td>Electrical</td>\n",
       "      <td>45.08</td>\n",
       "      <td>41</td>\n",
       "      <td>New</td>\n",
       "    </tr>\n",
       "    <tr>\n",
       "      <th>6</th>\n",
       "      <td>91879907254</td>\n",
       "      <td>Industrial</td>\n",
       "      <td>22.24</td>\n",
       "      <td>3</td>\n",
       "      <td>New</td>\n",
       "    </tr>\n",
       "    <tr>\n",
       "      <th>...</th>\n",
       "      <td>...</td>\n",
       "      <td>...</td>\n",
       "      <td>...</td>\n",
       "      <td>...</td>\n",
       "      <td>...</td>\n",
       "    </tr>\n",
       "    <tr>\n",
       "      <th>9995</th>\n",
       "      <td>887953572393</td>\n",
       "      <td>Electrical</td>\n",
       "      <td>75.43</td>\n",
       "      <td>0</td>\n",
       "      <td>New</td>\n",
       "    </tr>\n",
       "    <tr>\n",
       "      <th>9996</th>\n",
       "      <td>585077919932</td>\n",
       "      <td>Lighting</td>\n",
       "      <td>72.28</td>\n",
       "      <td>21</td>\n",
       "      <td>New</td>\n",
       "    </tr>\n",
       "    <tr>\n",
       "      <th>9997</th>\n",
       "      <td>192754250040</td>\n",
       "      <td>Industrial</td>\n",
       "      <td>75.69</td>\n",
       "      <td>49</td>\n",
       "      <td>New</td>\n",
       "    </tr>\n",
       "    <tr>\n",
       "      <th>9998</th>\n",
       "      <td>395994805746</td>\n",
       "      <td>Lighting</td>\n",
       "      <td>47.81</td>\n",
       "      <td>39</td>\n",
       "      <td>Refurbished</td>\n",
       "    </tr>\n",
       "    <tr>\n",
       "      <th>9999</th>\n",
       "      <td>710891685647</td>\n",
       "      <td>Industrial</td>\n",
       "      <td>79.47</td>\n",
       "      <td>9</td>\n",
       "      <td>New</td>\n",
       "    </tr>\n",
       "  </tbody>\n",
       "</table>\n",
       "<p>9998 rows × 5 columns</p>\n",
       "</div>"
      ],
      "text/plain": [
       "        Product ID         Category  Price  Inventory    Condition\n",
       "0     142019521928  Office Supplies  42.31          9         Used\n",
       "3     957702802601       Electrical  14.68         26  Refurbished\n",
       "4     716662964693        Furniture  27.17          0  Refurbished\n",
       "5     868419050073       Electrical  45.08         41          New\n",
       "6      91879907254       Industrial  22.24          3          New\n",
       "...            ...              ...    ...        ...          ...\n",
       "9995  887953572393       Electrical  75.43          0          New\n",
       "9996  585077919932         Lighting  72.28         21          New\n",
       "9997  192754250040       Industrial  75.69         49          New\n",
       "9998  395994805746         Lighting  47.81         39  Refurbished\n",
       "9999  710891685647       Industrial  79.47          9          New\n",
       "\n",
       "[9998 rows x 5 columns]"
      ]
     },
     "execution_count": 118,
     "metadata": {},
     "output_type": "execute_result"
    }
   ],
   "source": [
    "a = catalog.drop([1, 2])\n",
    "a"
   ]
  },
  {
   "cell_type": "code",
   "execution_count": 119,
   "metadata": {
    "id": "cFnv44-0iur9"
   },
   "outputs": [
    {
     "data": {
      "text/plain": [
       "Product ID    957702802601\n",
       "Category        Electrical\n",
       "Price                14.68\n",
       "Inventory               26\n",
       "Condition      Refurbished\n",
       "Name: 3, dtype: object"
      ]
     },
     "execution_count": 119,
     "metadata": {},
     "output_type": "execute_result"
    }
   ],
   "source": [
    "a.iloc[1]"
   ]
  },
  {
   "cell_type": "code",
   "execution_count": 120,
   "metadata": {
    "id": "WgJjkGKniuut"
   },
   "outputs": [
    {
     "data": {
      "text/plain": [
       "Product ID    716662964693\n",
       "Category         Furniture\n",
       "Price                27.17\n",
       "Inventory                0\n",
       "Condition      Refurbished\n",
       "Name: 4, dtype: object"
      ]
     },
     "execution_count": 120,
     "metadata": {},
     "output_type": "execute_result"
    }
   ],
   "source": [
    "a.iloc[2]"
   ]
  },
  {
   "cell_type": "code",
   "execution_count": 121,
   "metadata": {
    "id": "v_R3W5sSiuxm"
   },
   "outputs": [
    {
     "data": {
      "text/html": [
       "<div>\n",
       "<style scoped>\n",
       "    .dataframe tbody tr th:only-of-type {\n",
       "        vertical-align: middle;\n",
       "    }\n",
       "\n",
       "    .dataframe tbody tr th {\n",
       "        vertical-align: top;\n",
       "    }\n",
       "\n",
       "    .dataframe thead th {\n",
       "        text-align: right;\n",
       "    }\n",
       "</style>\n",
       "<table border=\"1\" class=\"dataframe\">\n",
       "  <thead>\n",
       "    <tr style=\"text-align: right;\">\n",
       "      <th></th>\n",
       "      <th>Product ID</th>\n",
       "      <th>Category</th>\n",
       "      <th>Price</th>\n",
       "      <th>Inventory</th>\n",
       "      <th>Condition</th>\n",
       "    </tr>\n",
       "  </thead>\n",
       "  <tbody>\n",
       "    <tr>\n",
       "      <th>0</th>\n",
       "      <td>142019521928</td>\n",
       "      <td>Office Supplies</td>\n",
       "      <td>42.31</td>\n",
       "      <td>9</td>\n",
       "      <td>Used</td>\n",
       "    </tr>\n",
       "    <tr>\n",
       "      <th>1</th>\n",
       "      <td>135617259927</td>\n",
       "      <td>Furniture</td>\n",
       "      <td>29.28</td>\n",
       "      <td>9</td>\n",
       "      <td>New</td>\n",
       "    </tr>\n",
       "    <tr>\n",
       "      <th>2</th>\n",
       "      <td>786588848050</td>\n",
       "      <td>Furniture</td>\n",
       "      <td>98.50</td>\n",
       "      <td>6</td>\n",
       "      <td>Refurbished</td>\n",
       "    </tr>\n",
       "    <tr>\n",
       "      <th>3</th>\n",
       "      <td>957702802601</td>\n",
       "      <td>Electrical</td>\n",
       "      <td>14.68</td>\n",
       "      <td>26</td>\n",
       "      <td>Refurbished</td>\n",
       "    </tr>\n",
       "    <tr>\n",
       "      <th>4</th>\n",
       "      <td>716662964693</td>\n",
       "      <td>Furniture</td>\n",
       "      <td>27.17</td>\n",
       "      <td>0</td>\n",
       "      <td>Refurbished</td>\n",
       "    </tr>\n",
       "    <tr>\n",
       "      <th>...</th>\n",
       "      <td>...</td>\n",
       "      <td>...</td>\n",
       "      <td>...</td>\n",
       "      <td>...</td>\n",
       "      <td>...</td>\n",
       "    </tr>\n",
       "    <tr>\n",
       "      <th>9995</th>\n",
       "      <td>887953572393</td>\n",
       "      <td>Electrical</td>\n",
       "      <td>75.43</td>\n",
       "      <td>0</td>\n",
       "      <td>New</td>\n",
       "    </tr>\n",
       "    <tr>\n",
       "      <th>9996</th>\n",
       "      <td>585077919932</td>\n",
       "      <td>Lighting</td>\n",
       "      <td>72.28</td>\n",
       "      <td>21</td>\n",
       "      <td>New</td>\n",
       "    </tr>\n",
       "    <tr>\n",
       "      <th>9997</th>\n",
       "      <td>192754250040</td>\n",
       "      <td>Industrial</td>\n",
       "      <td>75.69</td>\n",
       "      <td>49</td>\n",
       "      <td>New</td>\n",
       "    </tr>\n",
       "    <tr>\n",
       "      <th>9998</th>\n",
       "      <td>395994805746</td>\n",
       "      <td>Lighting</td>\n",
       "      <td>47.81</td>\n",
       "      <td>39</td>\n",
       "      <td>Refurbished</td>\n",
       "    </tr>\n",
       "    <tr>\n",
       "      <th>9999</th>\n",
       "      <td>710891685647</td>\n",
       "      <td>Industrial</td>\n",
       "      <td>79.47</td>\n",
       "      <td>9</td>\n",
       "      <td>New</td>\n",
       "    </tr>\n",
       "  </tbody>\n",
       "</table>\n",
       "<p>10000 rows × 5 columns</p>\n",
       "</div>"
      ],
      "text/plain": [
       "        Product ID         Category  Price  Inventory    Condition\n",
       "0     142019521928  Office Supplies  42.31          9         Used\n",
       "1     135617259927        Furniture  29.28          9          New\n",
       "2     786588848050        Furniture  98.50          6  Refurbished\n",
       "3     957702802601       Electrical  14.68         26  Refurbished\n",
       "4     716662964693        Furniture  27.17          0  Refurbished\n",
       "...            ...              ...    ...        ...          ...\n",
       "9995  887953572393       Electrical  75.43          0          New\n",
       "9996  585077919932         Lighting  72.28         21          New\n",
       "9997  192754250040       Industrial  75.69         49          New\n",
       "9998  395994805746         Lighting  47.81         39  Refurbished\n",
       "9999  710891685647       Industrial  79.47          9          New\n",
       "\n",
       "[10000 rows x 5 columns]"
      ]
     },
     "execution_count": 121,
     "metadata": {},
     "output_type": "execute_result"
    }
   ],
   "source": [
    "catalog"
   ]
  },
  {
   "cell_type": "code",
   "execution_count": 122,
   "metadata": {
    "id": "wJd_IjZ0iz8I"
   },
   "outputs": [
    {
     "data": {
      "text/html": [
       "<div>\n",
       "<style scoped>\n",
       "    .dataframe tbody tr th:only-of-type {\n",
       "        vertical-align: middle;\n",
       "    }\n",
       "\n",
       "    .dataframe tbody tr th {\n",
       "        vertical-align: top;\n",
       "    }\n",
       "\n",
       "    .dataframe thead th {\n",
       "        text-align: right;\n",
       "    }\n",
       "</style>\n",
       "<table border=\"1\" class=\"dataframe\">\n",
       "  <thead>\n",
       "    <tr style=\"text-align: right;\">\n",
       "      <th></th>\n",
       "      <th>Product ID</th>\n",
       "      <th>Price</th>\n",
       "      <th>Inventory</th>\n",
       "      <th>Condition</th>\n",
       "    </tr>\n",
       "  </thead>\n",
       "  <tbody>\n",
       "    <tr>\n",
       "      <th>0</th>\n",
       "      <td>142019521928</td>\n",
       "      <td>42.31</td>\n",
       "      <td>9</td>\n",
       "      <td>Used</td>\n",
       "    </tr>\n",
       "    <tr>\n",
       "      <th>3</th>\n",
       "      <td>957702802601</td>\n",
       "      <td>14.68</td>\n",
       "      <td>26</td>\n",
       "      <td>Refurbished</td>\n",
       "    </tr>\n",
       "    <tr>\n",
       "      <th>4</th>\n",
       "      <td>716662964693</td>\n",
       "      <td>27.17</td>\n",
       "      <td>0</td>\n",
       "      <td>Refurbished</td>\n",
       "    </tr>\n",
       "    <tr>\n",
       "      <th>5</th>\n",
       "      <td>868419050073</td>\n",
       "      <td>45.08</td>\n",
       "      <td>41</td>\n",
       "      <td>New</td>\n",
       "    </tr>\n",
       "    <tr>\n",
       "      <th>6</th>\n",
       "      <td>91879907254</td>\n",
       "      <td>22.24</td>\n",
       "      <td>3</td>\n",
       "      <td>New</td>\n",
       "    </tr>\n",
       "    <tr>\n",
       "      <th>...</th>\n",
       "      <td>...</td>\n",
       "      <td>...</td>\n",
       "      <td>...</td>\n",
       "      <td>...</td>\n",
       "    </tr>\n",
       "    <tr>\n",
       "      <th>9995</th>\n",
       "      <td>887953572393</td>\n",
       "      <td>75.43</td>\n",
       "      <td>0</td>\n",
       "      <td>New</td>\n",
       "    </tr>\n",
       "    <tr>\n",
       "      <th>9996</th>\n",
       "      <td>585077919932</td>\n",
       "      <td>72.28</td>\n",
       "      <td>21</td>\n",
       "      <td>New</td>\n",
       "    </tr>\n",
       "    <tr>\n",
       "      <th>9997</th>\n",
       "      <td>192754250040</td>\n",
       "      <td>75.69</td>\n",
       "      <td>49</td>\n",
       "      <td>New</td>\n",
       "    </tr>\n",
       "    <tr>\n",
       "      <th>9998</th>\n",
       "      <td>395994805746</td>\n",
       "      <td>47.81</td>\n",
       "      <td>39</td>\n",
       "      <td>Refurbished</td>\n",
       "    </tr>\n",
       "    <tr>\n",
       "      <th>9999</th>\n",
       "      <td>710891685647</td>\n",
       "      <td>79.47</td>\n",
       "      <td>9</td>\n",
       "      <td>New</td>\n",
       "    </tr>\n",
       "  </tbody>\n",
       "</table>\n",
       "<p>9998 rows × 4 columns</p>\n",
       "</div>"
      ],
      "text/plain": [
       "        Product ID  Price  Inventory    Condition\n",
       "0     142019521928  42.31          9         Used\n",
       "3     957702802601  14.68         26  Refurbished\n",
       "4     716662964693  27.17          0  Refurbished\n",
       "5     868419050073  45.08         41          New\n",
       "6      91879907254  22.24          3          New\n",
       "...            ...    ...        ...          ...\n",
       "9995  887953572393  75.43          0          New\n",
       "9996  585077919932  72.28         21          New\n",
       "9997  192754250040  75.69         49          New\n",
       "9998  395994805746  47.81         39  Refurbished\n",
       "9999  710891685647  79.47          9          New\n",
       "\n",
       "[9998 rows x 4 columns]"
      ]
     },
     "execution_count": 122,
     "metadata": {},
     "output_type": "execute_result"
    }
   ],
   "source": [
    "b = a.drop(\"Category\", axis=1)\n",
    "b"
   ]
  },
  {
   "cell_type": "code",
   "execution_count": 123,
   "metadata": {
    "id": "H4KO0vliiz_G"
   },
   "outputs": [
    {
     "data": {
      "text/html": [
       "<div>\n",
       "<style scoped>\n",
       "    .dataframe tbody tr th:only-of-type {\n",
       "        vertical-align: middle;\n",
       "    }\n",
       "\n",
       "    .dataframe tbody tr th {\n",
       "        vertical-align: top;\n",
       "    }\n",
       "\n",
       "    .dataframe thead th {\n",
       "        text-align: right;\n",
       "    }\n",
       "</style>\n",
       "<table border=\"1\" class=\"dataframe\">\n",
       "  <thead>\n",
       "    <tr style=\"text-align: right;\">\n",
       "      <th></th>\n",
       "      <th>Product ID</th>\n",
       "      <th>Category</th>\n",
       "      <th>Price</th>\n",
       "      <th>Inventory</th>\n",
       "      <th>Condition</th>\n",
       "    </tr>\n",
       "  </thead>\n",
       "  <tbody>\n",
       "    <tr>\n",
       "      <th>0</th>\n",
       "      <td>142019521928</td>\n",
       "      <td>Office Supplies</td>\n",
       "      <td>42.31</td>\n",
       "      <td>9</td>\n",
       "      <td>Used</td>\n",
       "    </tr>\n",
       "    <tr>\n",
       "      <th>1</th>\n",
       "      <td>135617259927</td>\n",
       "      <td>Furniture</td>\n",
       "      <td>29.28</td>\n",
       "      <td>9</td>\n",
       "      <td>New</td>\n",
       "    </tr>\n",
       "    <tr>\n",
       "      <th>2</th>\n",
       "      <td>786588848050</td>\n",
       "      <td>Furniture</td>\n",
       "      <td>98.50</td>\n",
       "      <td>6</td>\n",
       "      <td>Refurbished</td>\n",
       "    </tr>\n",
       "    <tr>\n",
       "      <th>3</th>\n",
       "      <td>957702802601</td>\n",
       "      <td>Electrical</td>\n",
       "      <td>14.68</td>\n",
       "      <td>26</td>\n",
       "      <td>Refurbished</td>\n",
       "    </tr>\n",
       "    <tr>\n",
       "      <th>4</th>\n",
       "      <td>716662964693</td>\n",
       "      <td>Furniture</td>\n",
       "      <td>27.17</td>\n",
       "      <td>0</td>\n",
       "      <td>Refurbished</td>\n",
       "    </tr>\n",
       "    <tr>\n",
       "      <th>...</th>\n",
       "      <td>...</td>\n",
       "      <td>...</td>\n",
       "      <td>...</td>\n",
       "      <td>...</td>\n",
       "      <td>...</td>\n",
       "    </tr>\n",
       "    <tr>\n",
       "      <th>9995</th>\n",
       "      <td>887953572393</td>\n",
       "      <td>Electrical</td>\n",
       "      <td>75.43</td>\n",
       "      <td>0</td>\n",
       "      <td>New</td>\n",
       "    </tr>\n",
       "    <tr>\n",
       "      <th>9996</th>\n",
       "      <td>585077919932</td>\n",
       "      <td>Lighting</td>\n",
       "      <td>72.28</td>\n",
       "      <td>21</td>\n",
       "      <td>New</td>\n",
       "    </tr>\n",
       "    <tr>\n",
       "      <th>9997</th>\n",
       "      <td>192754250040</td>\n",
       "      <td>Industrial</td>\n",
       "      <td>75.69</td>\n",
       "      <td>49</td>\n",
       "      <td>New</td>\n",
       "    </tr>\n",
       "    <tr>\n",
       "      <th>9998</th>\n",
       "      <td>395994805746</td>\n",
       "      <td>Lighting</td>\n",
       "      <td>47.81</td>\n",
       "      <td>39</td>\n",
       "      <td>Refurbished</td>\n",
       "    </tr>\n",
       "    <tr>\n",
       "      <th>9999</th>\n",
       "      <td>710891685647</td>\n",
       "      <td>Industrial</td>\n",
       "      <td>79.47</td>\n",
       "      <td>9</td>\n",
       "      <td>New</td>\n",
       "    </tr>\n",
       "  </tbody>\n",
       "</table>\n",
       "<p>10000 rows × 5 columns</p>\n",
       "</div>"
      ],
      "text/plain": [
       "        Product ID         Category  Price  Inventory    Condition\n",
       "0     142019521928  Office Supplies  42.31          9         Used\n",
       "1     135617259927        Furniture  29.28          9          New\n",
       "2     786588848050        Furniture  98.50          6  Refurbished\n",
       "3     957702802601       Electrical  14.68         26  Refurbished\n",
       "4     716662964693        Furniture  27.17          0  Refurbished\n",
       "...            ...              ...    ...        ...          ...\n",
       "9995  887953572393       Electrical  75.43          0          New\n",
       "9996  585077919932         Lighting  72.28         21          New\n",
       "9997  192754250040       Industrial  75.69         49          New\n",
       "9998  395994805746         Lighting  47.81         39  Refurbished\n",
       "9999  710891685647       Industrial  79.47          9          New\n",
       "\n",
       "[10000 rows x 5 columns]"
      ]
     },
     "execution_count": 123,
     "metadata": {},
     "output_type": "execute_result"
    }
   ],
   "source": [
    "catalog"
   ]
  },
  {
   "cell_type": "code",
   "execution_count": 124,
   "metadata": {
    "id": "TBdIS1AAi0CY"
   },
   "outputs": [
    {
     "data": {
      "text/html": [
       "<div>\n",
       "<style scoped>\n",
       "    .dataframe tbody tr th:only-of-type {\n",
       "        vertical-align: middle;\n",
       "    }\n",
       "\n",
       "    .dataframe tbody tr th {\n",
       "        vertical-align: top;\n",
       "    }\n",
       "\n",
       "    .dataframe thead th {\n",
       "        text-align: right;\n",
       "    }\n",
       "</style>\n",
       "<table border=\"1\" class=\"dataframe\">\n",
       "  <thead>\n",
       "    <tr style=\"text-align: right;\">\n",
       "      <th></th>\n",
       "      <th>Product ID</th>\n",
       "      <th>Price</th>\n",
       "      <th>Inventory</th>\n",
       "      <th>Condition</th>\n",
       "    </tr>\n",
       "  </thead>\n",
       "  <tbody>\n",
       "    <tr>\n",
       "      <th>0</th>\n",
       "      <td>142019521928</td>\n",
       "      <td>42.31</td>\n",
       "      <td>9</td>\n",
       "      <td>Used</td>\n",
       "    </tr>\n",
       "    <tr>\n",
       "      <th>3</th>\n",
       "      <td>957702802601</td>\n",
       "      <td>14.68</td>\n",
       "      <td>26</td>\n",
       "      <td>Refurbished</td>\n",
       "    </tr>\n",
       "    <tr>\n",
       "      <th>4</th>\n",
       "      <td>716662964693</td>\n",
       "      <td>27.17</td>\n",
       "      <td>0</td>\n",
       "      <td>Refurbished</td>\n",
       "    </tr>\n",
       "    <tr>\n",
       "      <th>5</th>\n",
       "      <td>868419050073</td>\n",
       "      <td>45.08</td>\n",
       "      <td>41</td>\n",
       "      <td>New</td>\n",
       "    </tr>\n",
       "    <tr>\n",
       "      <th>6</th>\n",
       "      <td>91879907254</td>\n",
       "      <td>22.24</td>\n",
       "      <td>3</td>\n",
       "      <td>New</td>\n",
       "    </tr>\n",
       "  </tbody>\n",
       "</table>\n",
       "</div>"
      ],
      "text/plain": [
       "     Product ID  Price  Inventory    Condition\n",
       "0  142019521928  42.31          9         Used\n",
       "3  957702802601  14.68         26  Refurbished\n",
       "4  716662964693  27.17          0  Refurbished\n",
       "5  868419050073  45.08         41          New\n",
       "6   91879907254  22.24          3          New"
      ]
     },
     "execution_count": 124,
     "metadata": {},
     "output_type": "execute_result"
    }
   ],
   "source": [
    "b.head()"
   ]
  },
  {
   "cell_type": "code",
   "execution_count": 125,
   "metadata": {
    "id": "rpjDrAmBi7NI"
   },
   "outputs": [
    {
     "data": {
      "text/plain": [
       "54.591341"
      ]
     },
     "execution_count": 125,
     "metadata": {},
     "output_type": "execute_result"
    }
   ],
   "source": [
    "catalog['Price'].mean()"
   ]
  },
  {
   "cell_type": "code",
   "execution_count": 126,
   "metadata": {
    "id": "-M2aNPe6i7QG"
   },
   "outputs": [
    {
     "data": {
      "text/plain": [
       "99.99"
      ]
     },
     "execution_count": 126,
     "metadata": {},
     "output_type": "execute_result"
    }
   ],
   "source": [
    "catalog['Price'].max()"
   ]
  },
  {
   "cell_type": "code",
   "execution_count": 127,
   "metadata": {
    "id": "c0aTWeD3i7WQ"
   },
   "outputs": [
    {
     "data": {
      "text/plain": [
       "10.0"
      ]
     },
     "execution_count": 127,
     "metadata": {},
     "output_type": "execute_result"
    }
   ],
   "source": [
    "catalog['Price'].min()"
   ]
  },
  {
   "cell_type": "markdown",
   "metadata": {
    "id": "JqMu5jQ8jDnv"
   },
   "source": [
    "## Aggregation"
   ]
  },
  {
   "cell_type": "code",
   "execution_count": 128,
   "metadata": {
    "id": "tB67udhhjFTh"
   },
   "outputs": [
    {
     "data": {
      "text/plain": [
       "545913.41"
      ]
     },
     "execution_count": 128,
     "metadata": {},
     "output_type": "execute_result"
    }
   ],
   "source": [
    "catalog[\"Price\"].sum()"
   ]
  },
  {
   "cell_type": "code",
   "execution_count": 129,
   "metadata": {
    "id": "D9KgehQ4jGZO"
   },
   "outputs": [
    {
     "data": {
      "text/plain": [
       "Category\n",
       "Electrical         50871\n",
       "Furniture          50107\n",
       "Industrial         48378\n",
       "Lighting           48481\n",
       "Office Supplies    47314\n",
       "Name: Inventory, dtype: int64"
      ]
     },
     "execution_count": 129,
     "metadata": {},
     "output_type": "execute_result"
    }
   ],
   "source": [
    "agg = catalog.groupby('Category')[\"Inventory\"].sum()\n",
    "agg"
   ]
  },
  {
   "cell_type": "code",
   "execution_count": 130,
   "metadata": {
    "id": "abacU8SmjGgv"
   },
   "outputs": [],
   "source": [
    "agg.to_csv(\"agg.csv\")"
   ]
  },
  {
   "cell_type": "code",
   "execution_count": 131,
   "metadata": {
    "id": "SWoulXzcjLXN"
   },
   "outputs": [
    {
     "data": {
      "text/plain": [
       "Category         Condition  \n",
       "Electrical       New            25.026239\n",
       "                 Refurbished    24.360284\n",
       "                 Used           24.893072\n",
       "Furniture        New            24.648889\n",
       "                 Refurbished    24.085799\n",
       "                 Used           25.767616\n",
       "Industrial       New            24.767020\n",
       "                 Refurbished    24.838124\n",
       "                 Used           24.705230\n",
       "Lighting         New            23.657475\n",
       "                 Refurbished    23.770416\n",
       "                 Used           24.747415\n",
       "Office Supplies  New            24.091493\n",
       "                 Refurbished    24.040000\n",
       "                 Used           24.313411\n",
       "Name: Inventory, dtype: float64"
      ]
     },
     "execution_count": 131,
     "metadata": {},
     "output_type": "execute_result"
    }
   ],
   "source": [
    "catalog.groupby([\"Category\", \"Condition\"])[\"Inventory\"].mean()"
   ]
  },
  {
   "cell_type": "code",
   "execution_count": 132,
   "metadata": {
    "id": "g_59TIFOjNMH"
   },
   "outputs": [
    {
     "data": {
      "text/plain": [
       "Condition\n",
       "New            99.98\n",
       "Refurbished    99.99\n",
       "Used           99.93\n",
       "Name: Price, dtype: float64"
      ]
     },
     "execution_count": 132,
     "metadata": {},
     "output_type": "execute_result"
    }
   ],
   "source": [
    "catalog.groupby(\"Condition\")[\"Price\"].max()"
   ]
  },
  {
   "cell_type": "markdown",
   "metadata": {
    "id": "0yivLWHHjR_P"
   },
   "source": [
    "##Slicing"
   ]
  },
  {
   "cell_type": "code",
   "execution_count": 133,
   "metadata": {
    "id": "7I5LqFKYjNWr"
   },
   "outputs": [
    {
     "data": {
      "text/html": [
       "<div>\n",
       "<style scoped>\n",
       "    .dataframe tbody tr th:only-of-type {\n",
       "        vertical-align: middle;\n",
       "    }\n",
       "\n",
       "    .dataframe tbody tr th {\n",
       "        vertical-align: top;\n",
       "    }\n",
       "\n",
       "    .dataframe thead th {\n",
       "        text-align: right;\n",
       "    }\n",
       "</style>\n",
       "<table border=\"1\" class=\"dataframe\">\n",
       "  <thead>\n",
       "    <tr style=\"text-align: right;\">\n",
       "      <th></th>\n",
       "      <th>Product ID</th>\n",
       "      <th>Category</th>\n",
       "      <th>Price</th>\n",
       "      <th>Inventory</th>\n",
       "      <th>Condition</th>\n",
       "    </tr>\n",
       "  </thead>\n",
       "  <tbody>\n",
       "    <tr>\n",
       "      <th>0</th>\n",
       "      <td>142019521928</td>\n",
       "      <td>Office Supplies</td>\n",
       "      <td>42.31</td>\n",
       "      <td>9</td>\n",
       "      <td>Used</td>\n",
       "    </tr>\n",
       "    <tr>\n",
       "      <th>1</th>\n",
       "      <td>135617259927</td>\n",
       "      <td>Furniture</td>\n",
       "      <td>29.28</td>\n",
       "      <td>9</td>\n",
       "      <td>New</td>\n",
       "    </tr>\n",
       "    <tr>\n",
       "      <th>2</th>\n",
       "      <td>786588848050</td>\n",
       "      <td>Furniture</td>\n",
       "      <td>98.50</td>\n",
       "      <td>6</td>\n",
       "      <td>Refurbished</td>\n",
       "    </tr>\n",
       "    <tr>\n",
       "      <th>3</th>\n",
       "      <td>957702802601</td>\n",
       "      <td>Electrical</td>\n",
       "      <td>14.68</td>\n",
       "      <td>26</td>\n",
       "      <td>Refurbished</td>\n",
       "    </tr>\n",
       "    <tr>\n",
       "      <th>4</th>\n",
       "      <td>716662964693</td>\n",
       "      <td>Furniture</td>\n",
       "      <td>27.17</td>\n",
       "      <td>0</td>\n",
       "      <td>Refurbished</td>\n",
       "    </tr>\n",
       "    <tr>\n",
       "      <th>...</th>\n",
       "      <td>...</td>\n",
       "      <td>...</td>\n",
       "      <td>...</td>\n",
       "      <td>...</td>\n",
       "      <td>...</td>\n",
       "    </tr>\n",
       "    <tr>\n",
       "      <th>9995</th>\n",
       "      <td>887953572393</td>\n",
       "      <td>Electrical</td>\n",
       "      <td>75.43</td>\n",
       "      <td>0</td>\n",
       "      <td>New</td>\n",
       "    </tr>\n",
       "    <tr>\n",
       "      <th>9996</th>\n",
       "      <td>585077919932</td>\n",
       "      <td>Lighting</td>\n",
       "      <td>72.28</td>\n",
       "      <td>21</td>\n",
       "      <td>New</td>\n",
       "    </tr>\n",
       "    <tr>\n",
       "      <th>9997</th>\n",
       "      <td>192754250040</td>\n",
       "      <td>Industrial</td>\n",
       "      <td>75.69</td>\n",
       "      <td>49</td>\n",
       "      <td>New</td>\n",
       "    </tr>\n",
       "    <tr>\n",
       "      <th>9998</th>\n",
       "      <td>395994805746</td>\n",
       "      <td>Lighting</td>\n",
       "      <td>47.81</td>\n",
       "      <td>39</td>\n",
       "      <td>Refurbished</td>\n",
       "    </tr>\n",
       "    <tr>\n",
       "      <th>9999</th>\n",
       "      <td>710891685647</td>\n",
       "      <td>Industrial</td>\n",
       "      <td>79.47</td>\n",
       "      <td>9</td>\n",
       "      <td>New</td>\n",
       "    </tr>\n",
       "  </tbody>\n",
       "</table>\n",
       "<p>10000 rows × 5 columns</p>\n",
       "</div>"
      ],
      "text/plain": [
       "        Product ID         Category  Price  Inventory    Condition\n",
       "0     142019521928  Office Supplies  42.31          9         Used\n",
       "1     135617259927        Furniture  29.28          9          New\n",
       "2     786588848050        Furniture  98.50          6  Refurbished\n",
       "3     957702802601       Electrical  14.68         26  Refurbished\n",
       "4     716662964693        Furniture  27.17          0  Refurbished\n",
       "...            ...              ...    ...        ...          ...\n",
       "9995  887953572393       Electrical  75.43          0          New\n",
       "9996  585077919932         Lighting  72.28         21          New\n",
       "9997  192754250040       Industrial  75.69         49          New\n",
       "9998  395994805746         Lighting  47.81         39  Refurbished\n",
       "9999  710891685647       Industrial  79.47          9          New\n",
       "\n",
       "[10000 rows x 5 columns]"
      ]
     },
     "execution_count": 133,
     "metadata": {},
     "output_type": "execute_result"
    }
   ],
   "source": [
    "catalog"
   ]
  },
  {
   "cell_type": "code",
   "execution_count": 134,
   "metadata": {
    "id": "HvjdlzMBjNZc"
   },
   "outputs": [
    {
     "data": {
      "text/plain": [
       "0       False\n",
       "1        True\n",
       "2       False\n",
       "3       False\n",
       "4       False\n",
       "        ...  \n",
       "9995     True\n",
       "9996     True\n",
       "9997     True\n",
       "9998    False\n",
       "9999     True\n",
       "Name: Condition, Length: 10000, dtype: bool"
      ]
     },
     "execution_count": 134,
     "metadata": {},
     "output_type": "execute_result"
    }
   ],
   "source": [
    "catalog[\"Condition\"] == \"New\""
   ]
  },
  {
   "cell_type": "code",
   "execution_count": 135,
   "metadata": {
    "id": "-Z_W15o1jNcC"
   },
   "outputs": [
    {
     "data": {
      "text/html": [
       "<div>\n",
       "<style scoped>\n",
       "    .dataframe tbody tr th:only-of-type {\n",
       "        vertical-align: middle;\n",
       "    }\n",
       "\n",
       "    .dataframe tbody tr th {\n",
       "        vertical-align: top;\n",
       "    }\n",
       "\n",
       "    .dataframe thead th {\n",
       "        text-align: right;\n",
       "    }\n",
       "</style>\n",
       "<table border=\"1\" class=\"dataframe\">\n",
       "  <thead>\n",
       "    <tr style=\"text-align: right;\">\n",
       "      <th></th>\n",
       "      <th>Product ID</th>\n",
       "      <th>Category</th>\n",
       "      <th>Price</th>\n",
       "      <th>Inventory</th>\n",
       "      <th>Condition</th>\n",
       "    </tr>\n",
       "  </thead>\n",
       "  <tbody>\n",
       "    <tr>\n",
       "      <th>1</th>\n",
       "      <td>135617259927</td>\n",
       "      <td>Furniture</td>\n",
       "      <td>29.28</td>\n",
       "      <td>9</td>\n",
       "      <td>New</td>\n",
       "    </tr>\n",
       "    <tr>\n",
       "      <th>5</th>\n",
       "      <td>868419050073</td>\n",
       "      <td>Electrical</td>\n",
       "      <td>45.08</td>\n",
       "      <td>41</td>\n",
       "      <td>New</td>\n",
       "    </tr>\n",
       "    <tr>\n",
       "      <th>6</th>\n",
       "      <td>91879907254</td>\n",
       "      <td>Industrial</td>\n",
       "      <td>22.24</td>\n",
       "      <td>3</td>\n",
       "      <td>New</td>\n",
       "    </tr>\n",
       "    <tr>\n",
       "      <th>7</th>\n",
       "      <td>147369664112</td>\n",
       "      <td>Office Supplies</td>\n",
       "      <td>35.12</td>\n",
       "      <td>3</td>\n",
       "      <td>New</td>\n",
       "    </tr>\n",
       "    <tr>\n",
       "      <th>8</th>\n",
       "      <td>861726542104</td>\n",
       "      <td>Office Supplies</td>\n",
       "      <td>41.37</td>\n",
       "      <td>16</td>\n",
       "      <td>New</td>\n",
       "    </tr>\n",
       "    <tr>\n",
       "      <th>...</th>\n",
       "      <td>...</td>\n",
       "      <td>...</td>\n",
       "      <td>...</td>\n",
       "      <td>...</td>\n",
       "      <td>...</td>\n",
       "    </tr>\n",
       "    <tr>\n",
       "      <th>9991</th>\n",
       "      <td>156636116293</td>\n",
       "      <td>Industrial</td>\n",
       "      <td>28.08</td>\n",
       "      <td>5</td>\n",
       "      <td>New</td>\n",
       "    </tr>\n",
       "    <tr>\n",
       "      <th>9995</th>\n",
       "      <td>887953572393</td>\n",
       "      <td>Electrical</td>\n",
       "      <td>75.43</td>\n",
       "      <td>0</td>\n",
       "      <td>New</td>\n",
       "    </tr>\n",
       "    <tr>\n",
       "      <th>9996</th>\n",
       "      <td>585077919932</td>\n",
       "      <td>Lighting</td>\n",
       "      <td>72.28</td>\n",
       "      <td>21</td>\n",
       "      <td>New</td>\n",
       "    </tr>\n",
       "    <tr>\n",
       "      <th>9997</th>\n",
       "      <td>192754250040</td>\n",
       "      <td>Industrial</td>\n",
       "      <td>75.69</td>\n",
       "      <td>49</td>\n",
       "      <td>New</td>\n",
       "    </tr>\n",
       "    <tr>\n",
       "      <th>9999</th>\n",
       "      <td>710891685647</td>\n",
       "      <td>Industrial</td>\n",
       "      <td>79.47</td>\n",
       "      <td>9</td>\n",
       "      <td>New</td>\n",
       "    </tr>\n",
       "  </tbody>\n",
       "</table>\n",
       "<p>3334 rows × 5 columns</p>\n",
       "</div>"
      ],
      "text/plain": [
       "        Product ID         Category  Price  Inventory Condition\n",
       "1     135617259927        Furniture  29.28          9       New\n",
       "5     868419050073       Electrical  45.08         41       New\n",
       "6      91879907254       Industrial  22.24          3       New\n",
       "7     147369664112  Office Supplies  35.12          3       New\n",
       "8     861726542104  Office Supplies  41.37         16       New\n",
       "...            ...              ...    ...        ...       ...\n",
       "9991  156636116293       Industrial  28.08          5       New\n",
       "9995  887953572393       Electrical  75.43          0       New\n",
       "9996  585077919932         Lighting  72.28         21       New\n",
       "9997  192754250040       Industrial  75.69         49       New\n",
       "9999  710891685647       Industrial  79.47          9       New\n",
       "\n",
       "[3334 rows x 5 columns]"
      ]
     },
     "execution_count": 135,
     "metadata": {},
     "output_type": "execute_result"
    }
   ],
   "source": [
    "catalog[catalog[\"Condition\"] == \"New\"]"
   ]
  },
  {
   "cell_type": "code",
   "execution_count": 136,
   "metadata": {
    "id": "BL9rpm_pjNfj"
   },
   "outputs": [
    {
     "data": {
      "text/html": [
       "<div>\n",
       "<style scoped>\n",
       "    .dataframe tbody tr th:only-of-type {\n",
       "        vertical-align: middle;\n",
       "    }\n",
       "\n",
       "    .dataframe tbody tr th {\n",
       "        vertical-align: top;\n",
       "    }\n",
       "\n",
       "    .dataframe thead th {\n",
       "        text-align: right;\n",
       "    }\n",
       "</style>\n",
       "<table border=\"1\" class=\"dataframe\">\n",
       "  <thead>\n",
       "    <tr style=\"text-align: right;\">\n",
       "      <th></th>\n",
       "      <th>Product ID</th>\n",
       "      <th>Category</th>\n",
       "      <th>Price</th>\n",
       "      <th>Inventory</th>\n",
       "      <th>Condition</th>\n",
       "    </tr>\n",
       "  </thead>\n",
       "  <tbody>\n",
       "    <tr>\n",
       "      <th>1</th>\n",
       "      <td>135617259927</td>\n",
       "      <td>Furniture</td>\n",
       "      <td>29.28</td>\n",
       "      <td>9</td>\n",
       "      <td>New</td>\n",
       "    </tr>\n",
       "    <tr>\n",
       "      <th>5</th>\n",
       "      <td>868419050073</td>\n",
       "      <td>Electrical</td>\n",
       "      <td>45.08</td>\n",
       "      <td>41</td>\n",
       "      <td>New</td>\n",
       "    </tr>\n",
       "    <tr>\n",
       "      <th>6</th>\n",
       "      <td>91879907254</td>\n",
       "      <td>Industrial</td>\n",
       "      <td>22.24</td>\n",
       "      <td>3</td>\n",
       "      <td>New</td>\n",
       "    </tr>\n",
       "    <tr>\n",
       "      <th>7</th>\n",
       "      <td>147369664112</td>\n",
       "      <td>Office Supplies</td>\n",
       "      <td>35.12</td>\n",
       "      <td>3</td>\n",
       "      <td>New</td>\n",
       "    </tr>\n",
       "    <tr>\n",
       "      <th>8</th>\n",
       "      <td>861726542104</td>\n",
       "      <td>Office Supplies</td>\n",
       "      <td>41.37</td>\n",
       "      <td>16</td>\n",
       "      <td>New</td>\n",
       "    </tr>\n",
       "    <tr>\n",
       "      <th>...</th>\n",
       "      <td>...</td>\n",
       "      <td>...</td>\n",
       "      <td>...</td>\n",
       "      <td>...</td>\n",
       "      <td>...</td>\n",
       "    </tr>\n",
       "    <tr>\n",
       "      <th>9986</th>\n",
       "      <td>49621312132</td>\n",
       "      <td>Electrical</td>\n",
       "      <td>83.84</td>\n",
       "      <td>39</td>\n",
       "      <td>New</td>\n",
       "    </tr>\n",
       "    <tr>\n",
       "      <th>9991</th>\n",
       "      <td>156636116293</td>\n",
       "      <td>Industrial</td>\n",
       "      <td>28.08</td>\n",
       "      <td>5</td>\n",
       "      <td>New</td>\n",
       "    </tr>\n",
       "    <tr>\n",
       "      <th>9996</th>\n",
       "      <td>585077919932</td>\n",
       "      <td>Lighting</td>\n",
       "      <td>72.28</td>\n",
       "      <td>21</td>\n",
       "      <td>New</td>\n",
       "    </tr>\n",
       "    <tr>\n",
       "      <th>9997</th>\n",
       "      <td>192754250040</td>\n",
       "      <td>Industrial</td>\n",
       "      <td>75.69</td>\n",
       "      <td>49</td>\n",
       "      <td>New</td>\n",
       "    </tr>\n",
       "    <tr>\n",
       "      <th>9999</th>\n",
       "      <td>710891685647</td>\n",
       "      <td>Industrial</td>\n",
       "      <td>79.47</td>\n",
       "      <td>9</td>\n",
       "      <td>New</td>\n",
       "    </tr>\n",
       "  </tbody>\n",
       "</table>\n",
       "<p>3261 rows × 5 columns</p>\n",
       "</div>"
      ],
      "text/plain": [
       "        Product ID         Category  Price  Inventory Condition\n",
       "1     135617259927        Furniture  29.28          9       New\n",
       "5     868419050073       Electrical  45.08         41       New\n",
       "6      91879907254       Industrial  22.24          3       New\n",
       "7     147369664112  Office Supplies  35.12          3       New\n",
       "8     861726542104  Office Supplies  41.37         16       New\n",
       "...            ...              ...    ...        ...       ...\n",
       "9986   49621312132       Electrical  83.84         39       New\n",
       "9991  156636116293       Industrial  28.08          5       New\n",
       "9996  585077919932         Lighting  72.28         21       New\n",
       "9997  192754250040       Industrial  75.69         49       New\n",
       "9999  710891685647       Industrial  79.47          9       New\n",
       "\n",
       "[3261 rows x 5 columns]"
      ]
     },
     "execution_count": 136,
     "metadata": {},
     "output_type": "execute_result"
    }
   ],
   "source": [
    "catalog[(catalog[\"Inventory\"] > 0) & (catalog[\"Condition\"] == \"New\")]"
   ]
  },
  {
   "cell_type": "code",
   "execution_count": 137,
   "metadata": {
    "id": "bY0RRbqzlD1P"
   },
   "outputs": [
    {
     "data": {
      "text/html": [
       "<div>\n",
       "<style scoped>\n",
       "    .dataframe tbody tr th:only-of-type {\n",
       "        vertical-align: middle;\n",
       "    }\n",
       "\n",
       "    .dataframe tbody tr th {\n",
       "        vertical-align: top;\n",
       "    }\n",
       "\n",
       "    .dataframe thead th {\n",
       "        text-align: right;\n",
       "    }\n",
       "</style>\n",
       "<table border=\"1\" class=\"dataframe\">\n",
       "  <thead>\n",
       "    <tr style=\"text-align: right;\">\n",
       "      <th></th>\n",
       "      <th>Product ID</th>\n",
       "      <th>Price</th>\n",
       "      <th>Inventory</th>\n",
       "    </tr>\n",
       "  </thead>\n",
       "  <tbody>\n",
       "    <tr>\n",
       "      <th>count</th>\n",
       "      <td>9.866000e+03</td>\n",
       "      <td>9866.000000</td>\n",
       "      <td>9866.000000</td>\n",
       "    </tr>\n",
       "    <tr>\n",
       "      <th>mean</th>\n",
       "      <td>5.057246e+11</td>\n",
       "      <td>54.594014</td>\n",
       "      <td>24.848064</td>\n",
       "    </tr>\n",
       "    <tr>\n",
       "      <th>std</th>\n",
       "      <td>2.876596e+11</td>\n",
       "      <td>25.952977</td>\n",
       "      <td>14.287140</td>\n",
       "    </tr>\n",
       "    <tr>\n",
       "      <th>min</th>\n",
       "      <td>7.068757e+06</td>\n",
       "      <td>10.000000</td>\n",
       "      <td>0.000000</td>\n",
       "    </tr>\n",
       "    <tr>\n",
       "      <th>25%</th>\n",
       "      <td>2.577998e+11</td>\n",
       "      <td>32.420000</td>\n",
       "      <td>13.000000</td>\n",
       "    </tr>\n",
       "    <tr>\n",
       "      <th>50%</th>\n",
       "      <td>5.070906e+11</td>\n",
       "      <td>54.355000</td>\n",
       "      <td>25.000000</td>\n",
       "    </tr>\n",
       "    <tr>\n",
       "      <th>75%</th>\n",
       "      <td>7.539573e+11</td>\n",
       "      <td>77.070000</td>\n",
       "      <td>37.000000</td>\n",
       "    </tr>\n",
       "    <tr>\n",
       "      <th>max</th>\n",
       "      <td>9.998621e+11</td>\n",
       "      <td>99.990000</td>\n",
       "      <td>49.000000</td>\n",
       "    </tr>\n",
       "  </tbody>\n",
       "</table>\n",
       "</div>"
      ],
      "text/plain": [
       "         Product ID        Price    Inventory\n",
       "count  9.866000e+03  9866.000000  9866.000000\n",
       "mean   5.057246e+11    54.594014    24.848064\n",
       "std    2.876596e+11    25.952977    14.287140\n",
       "min    7.068757e+06    10.000000     0.000000\n",
       "25%    2.577998e+11    32.420000    13.000000\n",
       "50%    5.070906e+11    54.355000    25.000000\n",
       "75%    7.539573e+11    77.070000    37.000000\n",
       "max    9.998621e+11    99.990000    49.000000"
      ]
     },
     "execution_count": 137,
     "metadata": {},
     "output_type": "execute_result"
    }
   ],
   "source": [
    "catalog[(catalog[\"Inventory\"] > 0) | (catalog[\"Condition\"] == \"New\")].describe()"
   ]
  },
  {
   "cell_type": "code",
   "execution_count": 138,
   "metadata": {
    "id": "NDNG2oPJlD5B"
   },
   "outputs": [
    {
     "data": {
      "text/plain": [
       "<Axes: ylabel='Frequency'>"
      ]
     },
     "execution_count": 138,
     "metadata": {},
     "output_type": "execute_result"
    },
    {
     "data": {
      "image/png": "[encoded data removed]",
      "text/plain": [
       "<Figure size 640x480 with 1 Axes>"
      ]
     },
     "metadata": {},
     "output_type": "display_data"
    }
   ],
   "source": [
    "catalog[\"Price\"].plot(kind=\"hist\", bins=1000)"
   ]
  },
  {
   "cell_type": "code",
   "execution_count": null,
   "metadata": {
    "id": "pLaotHmBlD8b"
   },
   "outputs": [],
   "source": []
  }
 ],
 "metadata": {
  "colab": {
   "provenance": []
  },
  "kernelspec": {
   "display_name": "Python 3 (ipykernel)",
   "language": "python",
   "name": "python3"
  },
  "language_info": {
   "codemirror_mode": {
    "name": "ipython",
    "version": 3
   },
   "file_extension": ".py",
   "mimetype": "text/x-python",
   "name": "python",
   "nbconvert_exporter": "python",
   "pygments_lexer": "ipython3",
   "version": "3.11.4"
  }
 },
 "nbformat": 4,
 "nbformat_minor": 4
}
