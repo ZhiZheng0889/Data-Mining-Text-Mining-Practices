{
 "cells": [
  {
   "cell_type": "markdown",
   "metadata": {
    "id": "muntmLW-N1Bh"
   },
   "source": [
    "# Basics\n",
    "\n",
    "## Syntax\n",
    "\n",
    "Python uses new lines to complete a command, as opposed to other programming languages which often use semicolons or parentheses.\n",
    "\n",
    "Python relies on indentation, using whitespace, to define scope; such as the scope of loops, functions and classes. Other programming languages often use curly-brackets for this purpose.\n",
    "\n",
    "## Comments\n",
    "\n",
    "Comments start with a #, and Python will render the rest of the line as a comment."
   ]
  },
  {
   "cell_type": "code",
   "execution_count": 1,
   "metadata": {
    "id": "WzIiNMkSN1Bq"
   },
   "outputs": [],
   "source": [
    "# This line is a comment and is ignored by the Python interpreter."
   ]
  },
  {
   "cell_type": "markdown",
   "metadata": {
    "id": "3qPmZteRN1Bt"
   },
   "source": [
    "Comments do not have to start from the beginning of a line."
   ]
  },
  {
   "cell_type": "code",
   "execution_count": 2,
   "metadata": {
    "id": "5ya1bHoKN1Bu",
    "outputId": "f87567b5-1633-480f-af62-83687c9bb1d7"
   },
   "outputs": [
    {
     "name": "stdout",
     "output_type": "stream",
     "text": [
      "Hello world!\n"
     ]
    }
   ],
   "source": [
    "print('Hello world!') # the rest of this line is a comment"
   ]
  },
  {
   "cell_type": "markdown",
   "metadata": {
    "id": "WAA8FnYjN1Bw"
   },
   "source": [
    "## Print\n",
    "\n",
    "To display values on the screen, ```print(<expression>)``` function can be used."
   ]
  },
  {
   "cell_type": "markdown",
   "metadata": {
    "id": "-lNRd1lFOCY5"
   },
   "source": [
    "# Variables\n",
    "\n",
    "A variable is a storage location (identified by a memory address) paired with an associated name, which contains some known or unknown quantity of information referred to as a value. The variable name is the usual way to reference the stored value, in addition to referring to the variable itself, depending on the context. This separation of name and content allows the name to be used independently of the exact information it represents.\n",
    "\n",
    "## Naming\n",
    "\n",
    "A variable is recommended to have a descriptive name such as (age, carname, total_volume).\n",
    "\n",
    "Rules for Python variables:\n",
    "- A variable name must start with a letter or the underscore (_) character.\n",
    "- A variable name cannot start with a number.\n",
    "- A variable name can only contain alpha-numeric characters and underscores (A-z, 0-9, and _ ).\n",
    "- Variable names are case-sensitive (age, Age and AGE are three different variables).\n",
    "\n",
    "## Definition\n",
    "\n",
    "To assign a value to a variable, variable name should be placed on the left-hand side, followed by the assignment (=) operator, and then the desired expression."
   ]
  },
  {
   "cell_type": "code",
   "execution_count": 3,
   "metadata": {
    "id": "ONrZfDplOHhK"
   },
   "outputs": [],
   "source": [
    "numeric_variable = 12\n",
    "user_age = 21\n",
    "product_weight = 15.4\n",
    "\n",
    "message = 'Hello World!'\n",
    "user_name = 'John Doe'"
   ]
  },
  {
   "cell_type": "markdown",
   "metadata": {
    "id": "wdnYEmxpOPob"
   },
   "source": [
    "Different values can be assigned to the same variable."
   ]
  },
  {
   "cell_type": "code",
   "execution_count": 4,
   "metadata": {
    "colab": {
     "base_uri": "https://localhost:8080/"
    },
    "id": "rX4x1BPZOKO5",
    "outputId": "b941c501-d4c6-4ac5-fc18-aa66019a252d"
   },
   "outputs": [
    {
     "name": "stdout",
     "output_type": "stream",
     "text": [
      "John Doe\n",
      "Jane Doe11\n"
     ]
    }
   ],
   "source": [
    "print(user_name)\n",
    "user_name = 'Jane Doe11'\n",
    "print(user_name)"
   ]
  },
  {
   "cell_type": "markdown",
   "metadata": {
    "id": "2bCoulD6Of1a"
   },
   "source": [
    "# Input\n",
    "\n",
    "The `input` function reads a line from input as a string (stripping a trailing newline) and returns that."
   ]
  },
  {
   "cell_type": "code",
   "execution_count": 5,
   "metadata": {
    "colab": {
     "base_uri": "https://localhost:8080/"
    },
    "id": "Xsb10Q0DOgWa",
    "outputId": "fa5e300e-ce25-4759-a4f5-f904b5f61e4c"
   },
   "outputs": [
    {
     "name": "stdout",
     "output_type": "stream",
     "text": [
      "Enter your first name:\n"
     ]
    },
    {
     "name": "stdin",
     "output_type": "stream",
     "text": [
      " Zhi\n"
     ]
    },
    {
     "name": "stdout",
     "output_type": "stream",
     "text": [
      "User entered: Zhi\n"
     ]
    }
   ],
   "source": [
    "print('Enter your first name:')\n",
    "first_name = input()\n",
    "\n",
    "print('User entered:', first_name)"
   ]
  },
  {
   "cell_type": "markdown",
   "metadata": {
    "id": "4Q47-xYHOo7M"
   },
   "source": [
    "If a string argument is provided to the `input` function, it will be printed on the screen before asking for the input."
   ]
  },
  {
   "cell_type": "code",
   "execution_count": 6,
   "metadata": {
    "colab": {
     "base_uri": "https://localhost:8080/"
    },
    "id": "teH-v_fJOiOh",
    "outputId": "13b8e804-bbfc-4b84-e67e-4b444d59330e"
   },
   "outputs": [
    {
     "name": "stdin",
     "output_type": "stream",
     "text": [
      "Enter last name:  Zheng\n"
     ]
    },
    {
     "name": "stdout",
     "output_type": "stream",
     "text": [
      "Hello Zhi Zheng!\n",
      "Hello Zhi Zheng!\n"
     ]
    }
   ],
   "source": [
    "last_name = input('Enter last name: ')\n",
    "\n",
    "print('Hello {} {}!'.format(first_name, last_name))\n",
    "print('Hello {} {}!'.format(first_name, last_name))"
   ]
  },
  {
   "cell_type": "markdown",
   "metadata": {
    "id": "5UfHw7s0O2dv"
   },
   "source": [
    "If any data type other than string is needed from the user, it has to be converted after entering."
   ]
  },
  {
   "cell_type": "code",
   "execution_count": 7,
   "metadata": {
    "colab": {
     "base_uri": "https://localhost:8080/"
    },
    "id": "B8eAxfUROnra",
    "outputId": "10109512-3912-4adb-f481-02637f4d66cc"
   },
   "outputs": [
    {
     "name": "stdin",
     "output_type": "stream",
     "text": [
      "Enter your age:  26\n"
     ]
    },
    {
     "name": "stdout",
     "output_type": "stream",
     "text": [
      "Zhi Zheng is 36 years old!\n",
      "Zhi Zheng is 36 years old!\n"
     ]
    }
   ],
   "source": [
    "age_raw = input('Enter your age: ')\n",
    "age = int(age_raw) + 10\n",
    "\n",
    "print(first_name, last_name, 'is', age, 'years old!')\n",
    "print('{} {} is {} years old!'.format(first_name, last_name, age))"
   ]
  },
  {
   "cell_type": "markdown",
   "metadata": {
    "id": "v1-G5VDGPN_j"
   },
   "source": [
    "## Data *Types*"
   ]
  },
  {
   "cell_type": "markdown",
   "metadata": {
    "id": "0PoPgNW1Pakr"
   },
   "source": [
    "None\n",
    "None is typically used to represent the absence of a value.\n",
    "\n"
   ]
  },
  {
   "cell_type": "code",
   "execution_count": 8,
   "metadata": {
    "colab": {
     "base_uri": "https://localhost:8080/"
    },
    "id": "MpgmzThaO5mR",
    "outputId": "ef6f7fc1-058a-4dd5-d866-8cdb9cedcf93"
   },
   "outputs": [
    {
     "name": "stdout",
     "output_type": "stream",
     "text": [
      "None\n",
      "<class 'NoneType'>\n"
     ]
    }
   ],
   "source": [
    "no_value = None\n",
    "\n",
    "print(no_value)\n",
    "print(type(no_value))"
   ]
  },
  {
   "cell_type": "markdown",
   "metadata": {
    "id": "0SXw617pPldi"
   },
   "source": [
    "## Numeric Types\n",
    "\n",
    "There are three numeric types in Python:\n",
    "- int (e.g. 2, 4, 20)\n",
    "- float (e.g. 5.0, 1.6)\n",
    "- complex(e.g. 5 + 6 j, 4 - 3 j)"
   ]
  },
  {
   "cell_type": "markdown",
   "metadata": {
    "id": "oVd0-_03PojU"
   },
   "source": [
    "## `int` Type"
   ]
  },
  {
   "cell_type": "code",
   "execution_count": 9,
   "metadata": {
    "colab": {
     "base_uri": "https://localhost:8080/"
    },
    "id": "40CxWGXHPdt6",
    "outputId": "a3e8be73-f66c-44b4-aed3-989eeb8d0663"
   },
   "outputs": [
    {
     "name": "stdout",
     "output_type": "stream",
     "text": [
      "User age: 21\n",
      "Account balance: -21\n"
     ]
    }
   ],
   "source": [
    "user_age = 21\n",
    "account_balance = -21\n",
    "\n",
    "print(\"User age:\", user_age)\n",
    "print(\"Account balance:\", account_balance)"
   ]
  },
  {
   "cell_type": "markdown",
   "metadata": {
    "id": "o_-gzD8FPuhy"
   },
   "source": [
    "To get the type of a value or an expression, `type(<expression>)` can be used."
   ]
  },
  {
   "cell_type": "code",
   "execution_count": 10,
   "metadata": {
    "colab": {
     "base_uri": "https://localhost:8080/"
    },
    "id": "TW4ezk6yPjQy",
    "outputId": "5ba1c225-4a87-4723-c78b-6fc5ced277d7"
   },
   "outputs": [
    {
     "name": "stdout",
     "output_type": "stream",
     "text": [
      "Type of 'user_age' value: <class 'int'>\n",
      "Type of 'account_balance' value: <class 'int'>\n"
     ]
    }
   ],
   "source": [
    "print(\"Type of 'user_age' value:\", type(user_age))\n",
    "print(\"Type of 'account_balance' value:\", type(account_balance))"
   ]
  },
  {
   "cell_type": "markdown",
   "metadata": {
    "id": "2aZPE4UYPz7S"
   },
   "source": [
    "float Type"
   ]
  },
  {
   "cell_type": "code",
   "execution_count": 11,
   "metadata": {
    "colab": {
     "base_uri": "https://localhost:8080/"
    },
    "id": "0kHYy9QvPxWD",
    "outputId": "e73555aa-d620-40c3-a908-2c689e91363c"
   },
   "outputs": [
    {
     "name": "stdout",
     "output_type": "stream",
     "text": [
      "Product weight is 12.4 lbs\n",
      "North pole temperature is -21.0 F\n",
      "Type of \"product_weight\" is <class 'float'>\n",
      "Type of \"north_pole_temperature\" is <class 'float'>\n"
     ]
    }
   ],
   "source": [
    "product_weight = 12.4\n",
    "north_pole_temperature = -21.0\n",
    "\n",
    "print('Product weight is', product_weight, 'lbs')\n",
    "print('North pole temperature is', north_pole_temperature, 'F')\n",
    "\n",
    "print('Type of \"product_weight\" is', type(product_weight))\n",
    "print('Type of \"north_pole_temperature\" is', type(north_pole_temperature))"
   ]
  },
  {
   "cell_type": "markdown",
   "metadata": {
    "id": "0e15gk7LP5oD"
   },
   "source": [
    "complex Type"
   ]
  },
  {
   "cell_type": "code",
   "execution_count": 12,
   "metadata": {
    "colab": {
     "base_uri": "https://localhost:8080/"
    },
    "id": "PCLsGwS-P3Cq",
    "outputId": "cb8dea55-8755-4e14-ef99-8c07b9d4233b"
   },
   "outputs": [
    {
     "name": "stdout",
     "output_type": "stream",
     "text": [
      "Voltage oscillation 1 is (12+5j)\n",
      "Voltage oscillation 2 is (12+5j)\n",
      "Square root of -1 is 1j\n",
      "Type of \"voltage_oscillation1\" is <class 'complex'>\n",
      "Type of \"voltage_oscillation2\" is <class 'complex'>\n",
      "Type of \"square_root\" is <class 'complex'>\n"
     ]
    }
   ],
   "source": [
    "voltage_oscillation1 = complex(12, 5)\n",
    "voltage_oscillation2 = 12 + 5j # another method for defining complex values\n",
    "square_root = complex(0, 1)\n",
    "\n",
    "print('Voltage oscillation 1 is', voltage_oscillation1)\n",
    "print('Voltage oscillation 2 is', voltage_oscillation2)\n",
    "print('Square root of -1 is', square_root)\n",
    "\n",
    "print('Type of \"voltage_oscillation1\" is', type(voltage_oscillation1))\n",
    "print('Type of \"voltage_oscillation2\" is', type(voltage_oscillation2))\n",
    "print('Type of \"square_root\" is', type(square_root))"
   ]
  },
  {
   "cell_type": "markdown",
   "metadata": {
    "id": "UPA7QmSVQGUa"
   },
   "source": [
    "# Boolean\n",
    "\n",
    "Booleans represent the truth values `False` and `True`. The two objects representing the values `False` and `True` are the only Boolean objects. The Boolean type is a subtype of the integer type, and Boolean values behave like the values 0 and 1, respectively, in almost all contexts, the exception being that when converted to a string, the strings \"False\" or \"True\" are returned, respectively."
   ]
  },
  {
   "cell_type": "code",
   "execution_count": 13,
   "metadata": {
    "colab": {
     "base_uri": "https://localhost:8080/"
    },
    "id": "2C-bEWyvP_cC",
    "outputId": "6c0c13d0-d193-4176-b6c1-db0ecad5f64e"
   },
   "outputs": [
    {
     "name": "stdout",
     "output_type": "stream",
     "text": [
      "Is student enrolled? True\n",
      "Is class full? False\n",
      "Type of 'is_student_enrolled': <class 'bool'>\n",
      "Type of 'is_class_full': <class 'bool'>\n"
     ]
    }
   ],
   "source": [
    "is_student_enrolled = True\n",
    "is_class_full = False\n",
    "\n",
    "print(\"Is student enrolled?\", is_student_enrolled)\n",
    "print(\"Is class full?\", is_class_full)\n",
    "\n",
    "print(\"Type of 'is_student_enrolled':\", type(is_student_enrolled))\n",
    "print(\"Type of 'is_class_full':\", type(is_class_full))"
   ]
  },
  {
   "cell_type": "markdown",
   "metadata": {
    "id": "nI1vvAdmQSGs"
   },
   "source": [
    "# String Type\n",
    "\n",
    "Besides numbers, Python can also manipulate strings (text), which can be expressed in several ways. They can be enclosed in single quotes ('...') or double quotes (\"...\") with the same result."
   ]
  },
  {
   "cell_type": "code",
   "execution_count": 14,
   "metadata": {
    "colab": {
     "base_uri": "https://localhost:8080/"
    },
    "id": "TJh3XwkZQI-T",
    "outputId": "80728812-9851-4c09-914d-7f3e906e5bef"
   },
   "outputs": [
    {
     "name": "stdout",
     "output_type": "stream",
     "text": [
      "First geeting: Hello World!\n",
      "Second geeting: Hello World, again!\n",
      "Type of \"greeting1\" is: <class 'str'>\n"
     ]
    },
    {
     "name": "stdin",
     "output_type": "stream",
     "text": [
      "your name:  Zhi Zheng\n"
     ]
    },
    {
     "name": "stdout",
     "output_type": "stream",
     "text": [
      "Zhi Zheng\n"
     ]
    }
   ],
   "source": [
    "greeting1 = 'Hello World!'\n",
    "greeting2 = \"Hello World, again!\"\n",
    "\n",
    "print('First geeting:', greeting1)\n",
    "print('Second geeting:', greeting2)\n",
    "\n",
    "print('Type of \"greeting1\" is:', type(greeting1))\n",
    "my_name = input('your name: ')\n",
    "print(my_name)"
   ]
  },
  {
   "cell_type": "markdown",
   "metadata": {
    "id": "T3ASvwoKQZ1S"
   },
   "source": [
    "String literals can span multiple lines. One way is using triple-quotes: \"\"\"...\"\"\" or '''...'''. End of lines are automatically included in the string, but it's possible to prevent this by adding a \\ at the end of the line. The following example:"
   ]
  },
  {
   "cell_type": "code",
   "execution_count": 15,
   "metadata": {
    "colab": {
     "base_uri": "https://localhost:8080/"
    },
    "id": "Wjeqp3srQVPR",
    "outputId": "0dd90ca1-504e-4467-e40f-3dd3997830de"
   },
   "outputs": [
    {
     "name": "stdout",
     "output_type": "stream",
     "text": [
      "Welcome message: Welcome to IENG 331!\n",
      "In this course we will learn the basics of computer programming\n",
      "using the Python programming language. We will also learn the basics of data science and scientific computing.\n"
     ]
    }
   ],
   "source": [
    "message = '''Welcome to IENG 331!\n",
    "In this course we will learn the basics of computer programming\n",
    "using the Python programming language. We will also learn the\\\n",
    " basics of data science and scientific computing.'''\n",
    "\n",
    "print('Welcome message:', message)"
   ]
  },
  {
   "cell_type": "markdown",
   "metadata": {
    "id": "hi51YAa2QgI7"
   },
   "source": [
    "When not assigned to a variable, multi-line strings can act as comments. This\n",
    "\n",
    "---\n",
    "\n",
    "extended documentation ability is called docstring."
   ]
  },
  {
   "cell_type": "code",
   "execution_count": 16,
   "metadata": {
    "colab": {
     "base_uri": "https://localhost:8080/",
     "height": 35
    },
    "id": "pozRNA7BQcxq",
    "outputId": "783e97e0-74d3-4820-8a37-fc2e2064b643"
   },
   "outputs": [
    {
     "data": {
      "text/plain": [
       "'\\nThis is a very long comment It will be ignored by Python\\nThis explain how the following function works\\n'"
      ]
     },
     "execution_count": 16,
     "metadata": {},
     "output_type": "execute_result"
    }
   ],
   "source": [
    "'''\n",
    "This is a very long comment\\\n",
    " It will be ignored by Python\n",
    "This explain how the following function works\n",
    "'''"
   ]
  },
  {
   "cell_type": "markdown",
   "metadata": {
    "id": "oUR5vlDhQm56"
   },
   "source": [
    "# Indexing\n",
    "\n",
    "Strings can be indexed, with the first character having index 0. There is no separate character type; a character is simply a string of size one. Note that since -0 is the same as 0, negative indices start from -1."
   ]
  },
  {
   "cell_type": "code",
   "execution_count": 17,
   "metadata": {
    "colab": {
     "base_uri": "https://localhost:8080/"
    },
    "id": "p0eAnL5OQjJK",
    "outputId": "2419e97a-3bda-410d-908d-a84ff24c2678"
   },
   "outputs": [
    {
     "name": "stdout",
     "output_type": "stream",
     "text": [
      "1st character in Hello World! is:  H\n",
      "12th character in Hello World! is:  !\n",
      "Last character in Hello World, again! is: !\n",
      "o\n"
     ]
    }
   ],
   "source": [
    "print('1st character in', greeting1, 'is: ', greeting1[0])\n",
    "print('12th character in', greeting1, 'is: ', greeting1[11])\n",
    "# print('13th character in', greeting1, 'is: ', greeting1[12]) # IndexError: string index out of range\n",
    "print('Last character in', greeting2, 'is:', greeting2[-1])\n",
    "print(greeting2[4])"
   ]
  },
  {
   "cell_type": "markdown",
   "metadata": {
    "id": "tn7bo9cSQv_B"
   },
   "source": [
    "## Slicing\n",
    "\n",
    "In addition to indexing, slicing is also supported. While indexing is  used to obtain individual characters, slicing allows you to obtain substring."
   ]
  },
  {
   "cell_type": "code",
   "execution_count": 18,
   "metadata": {
    "colab": {
     "base_uri": "https://localhost:8080/",
     "height": 87
    },
    "id": "t4dPr-8gQqoy",
    "outputId": "0af9f471-a1d9-4472-da32-a0c5ca96d726"
   },
   "outputs": [
    {
     "name": "stdout",
     "output_type": "stream",
     "text": [
      "First 5 characters in Hello World! are: Hello \n",
      "Last 6 characters in Hello World, again! are: again!\n",
      " again!\n"
     ]
    },
    {
     "data": {
      "text/plain": [
       "'Hello World, agai'"
      ]
     },
     "execution_count": 18,
     "metadata": {},
     "output_type": "execute_result"
    }
   ],
   "source": [
    "print('First 5 characters in', greeting1, 'are:', greeting1[0:6])\n",
    "print('Last 6 characters in', greeting2, 'are:', greeting2[-6:])\n",
    "print(greeting2[-7:])\n",
    "greeting2[-2]\n",
    "greeting2[:-2]"
   ]
  },
  {
   "cell_type": "code",
   "execution_count": 19,
   "metadata": {
    "colab": {
     "base_uri": "https://localhost:8080/",
     "height": 53
    },
    "id": "fX1b2oXFQ1ok",
    "outputId": "0f29078d-4f86-4af5-8cfa-ebc854574d83"
   },
   "outputs": [
    {
     "name": "stdout",
     "output_type": "stream",
     "text": [
      "!dlroW olleH\n"
     ]
    },
    {
     "data": {
      "text/plain": [
       "'!niaga ,dlroW olleH'"
      ]
     },
     "execution_count": 19,
     "metadata": {},
     "output_type": "execute_result"
    }
   ],
   "source": [
    "print(greeting1[::-1])\n",
    "greeting2[::-1]"
   ]
  },
  {
   "cell_type": "markdown",
   "metadata": {
    "id": "b2Jb3k4vQ55U"
   },
   "source": [
    "## Concatenation\n",
    "\n",
    "Strings can be concatenated (glued together) with the `+` operator and repeated with `*`."
   ]
  },
  {
   "cell_type": "code",
   "execution_count": 20,
   "metadata": {
    "colab": {
     "base_uri": "https://localhost:8080/"
    },
    "id": "WuPajJxVQ3rT",
    "outputId": "73dea1ec-f0ab-48d9-9e05-515d9bbb896d"
   },
   "outputs": [
    {
     "name": "stdout",
     "output_type": "stream",
     "text": [
      "Good morning, John!\n",
      "The best drink in the world is Coffee\n"
     ]
    }
   ],
   "source": [
    "greeting = 'Good morning, '\n",
    "user_name = 'John'\n",
    "print(greeting + user_name + '!')\n",
    "\n",
    "drink = 'Co' + 'f' * 2 + 'e' * 2\n",
    "print('The best drink in the world is', drink)"
   ]
  },
  {
   "cell_type": "markdown",
   "metadata": {
    "id": "ZrWWvM41Q-uB"
   },
   "source": [
    "A shortcut to concatenate strings:"
   ]
  },
  {
   "cell_type": "code",
   "execution_count": 21,
   "metadata": {
    "colab": {
     "base_uri": "https://localhost:8080/"
    },
    "id": "F7mHXGCYQ8jJ",
    "outputId": "f42acb80-5e76-426c-e0a5-782c7fbbf240"
   },
   "outputs": [
    {
     "name": "stdout",
     "output_type": "stream",
     "text": [
      "Welcome back, John Smith Jr.\n"
     ]
    }
   ],
   "source": [
    "user_name = 'John ' 'Smith ' 'Jr.'\n",
    "print('Welcome back,', user_name)"
   ]
  },
  {
   "cell_type": "markdown",
   "metadata": {
    "id": "-Nzl6fDCREfs"
   },
   "source": [
    "## Special Characters\n",
    "\n",
    "There are a number of special characters that cannot be displayed directly in a string. In order to include them, they have to be escaped by a backslash (`\\`). They include new line character (`\\n`), tab character (`\\t`), backslach character (`\\\\`), single quote (`\\'`), and double quote (`\\\"`)."
   ]
  },
  {
   "cell_type": "code",
   "execution_count": 22,
   "metadata": {
    "colab": {
     "base_uri": "https://localhost:8080/"
    },
    "id": "0pOyK2ztRB7J",
    "outputId": "efa281ab-3f53-477c-af6b-e7764abd8a3d"
   },
   "outputs": [
    {
     "name": "stdout",
     "output_type": "stream",
     "text": [
      "Welcome valued customer,\n",
      "Unfortu\\nately, we don't have the item 'XDF34F' you requested.\n",
      "\n",
      "    \tBest Regards\n",
      "\tSupport Team\n"
     ]
    }
   ],
   "source": [
    "message = '''Welcome valued customer,\\nUnfortu\\\\nately, we don\\'t have the item \\'XDF34F\\' you requested.\\n\n",
    "    \\tBest Regards\\n\\tSupport Team'''\n",
    "\n",
    "print(message)"
   ]
  },
  {
   "cell_type": "markdown",
   "metadata": {
    "id": "IyhURX1ARLOS"
   },
   "source": [
    "## Length\n",
    "\n",
    "The `len()` method returns the length of a string."
   ]
  },
  {
   "cell_type": "code",
   "execution_count": 23,
   "metadata": {
    "colab": {
     "base_uri": "https://localhost:8080/"
    },
    "id": "2ib8KraARIOj",
    "outputId": "c8bd31ed-dcc1-4641-b2d2-c4be57d59a20"
   },
   "outputs": [
    {
     "name": "stdout",
     "output_type": "stream",
     "text": [
      "Your password is 20 characters long.\n"
     ]
    }
   ],
   "source": [
    "password = 'Super]ecr3tPa$$word!'\n",
    "print('Your password is', len(password), 'characters long.')"
   ]
  },
  {
   "cell_type": "markdown",
   "metadata": {
    "id": "UxQ9Ka5GRRca"
   },
   "source": [
    "## String Methods\n",
    "\n",
    "Python provides several methdods (function that are callable on a value) for working with strings. These methods can be accessed by typing a '.' after a string value or variable, and then typing the method name."
   ]
  },
  {
   "cell_type": "code",
   "execution_count": 24,
   "metadata": {
    "colab": {
     "base_uri": "https://localhost:8080/",
     "height": 35
    },
    "id": "dAAw0eJkROiT",
    "outputId": "5ef97c03-2b38-4e0b-c144-3d33dd83e3bd"
   },
   "outputs": [
    {
     "data": {
      "text/plain": [
       "'welcome to CAP 5771!'"
      ]
     },
     "execution_count": 24,
     "metadata": {},
     "output_type": "execute_result"
    }
   ],
   "source": [
    "message = \"welcome to CAP 5771!\"\n",
    "message"
   ]
  },
  {
   "cell_type": "markdown",
   "metadata": {
    "id": "GwwLIz0qRXFC"
   },
   "source": [
    "`lower()`: Return a copy of the string with all the cased characters converted to lowercase."
   ]
  },
  {
   "cell_type": "code",
   "execution_count": 25,
   "metadata": {
    "colab": {
     "base_uri": "https://localhost:8080/",
     "height": 35
    },
    "id": "V3apT6p-RXwr",
    "outputId": "99283cde-a060-4aa0-f0f9-d8ede708d159"
   },
   "outputs": [
    {
     "data": {
      "text/plain": [
       "'welcome to cap 5771!'"
      ]
     },
     "execution_count": 25,
     "metadata": {},
     "output_type": "execute_result"
    }
   ],
   "source": [
    "message.lower()"
   ]
  },
  {
   "cell_type": "markdown",
   "metadata": {
    "id": "PcoIjJDkRd40"
   },
   "source": [
    "`upper()`: Return a copy of the string with all the cased characters converted to uppercase."
   ]
  },
  {
   "cell_type": "code",
   "execution_count": 26,
   "metadata": {
    "colab": {
     "base_uri": "https://localhost:8080/",
     "height": 35
    },
    "id": "HTETuMpURafL",
    "outputId": "893e03bd-9cdc-44d0-98f9-016be38a4bd5"
   },
   "outputs": [
    {
     "data": {
      "text/plain": [
       "'WELCOME TO CAP 5771!'"
      ]
     },
     "execution_count": 26,
     "metadata": {},
     "output_type": "execute_result"
    }
   ],
   "source": [
    "message.upper()"
   ]
  },
  {
   "cell_type": "markdown",
   "metadata": {
    "id": "rm7qhkdvRhp6"
   },
   "source": [
    "`capitalize()`: Return a copy of the string with its first character capitalized and the rest lowercased."
   ]
  },
  {
   "cell_type": "code",
   "execution_count": 27,
   "metadata": {
    "colab": {
     "base_uri": "https://localhost:8080/",
     "height": 35
    },
    "id": "WWqGFhCERg5z",
    "outputId": "3e07402f-da12-4daf-ffa1-79ef64355877"
   },
   "outputs": [
    {
     "data": {
      "text/plain": [
       "'Welcome to cap 5771!'"
      ]
     },
     "execution_count": 27,
     "metadata": {},
     "output_type": "execute_result"
    }
   ],
   "source": [
    "message.capitalize()"
   ]
  },
  {
   "cell_type": "markdown",
   "metadata": {
    "id": "VWFMpBuCRtfN"
   },
   "source": [
    "`swapcase()`: Return a copy of the string with uppercase characters converted to lowercase and vice versa."
   ]
  },
  {
   "cell_type": "code",
   "execution_count": 28,
   "metadata": {
    "colab": {
     "base_uri": "https://localhost:8080/",
     "height": 35
    },
    "id": "qLLcMwHTRrHz",
    "outputId": "4d067a6a-1271-4b32-8d13-a20d12681c75"
   },
   "outputs": [
    {
     "data": {
      "text/plain": [
       "'WELCOME TO cap 5771!'"
      ]
     },
     "execution_count": 28,
     "metadata": {},
     "output_type": "execute_result"
    }
   ],
   "source": [
    "message.swapcase()"
   ]
  },
  {
   "cell_type": "markdown",
   "metadata": {
    "id": "pxKLndrgRytS"
   },
   "source": [
    "`title()`: Return a titlecased version of the string where words start with an uppercase character and the remaining characters are lowercase."
   ]
  },
  {
   "cell_type": "code",
   "execution_count": 29,
   "metadata": {
    "colab": {
     "base_uri": "https://localhost:8080/",
     "height": 35
    },
    "id": "E6D5X0bXRwN0",
    "outputId": "9f988ab1-b25a-4c0e-c03f-c7ec2f4d50de"
   },
   "outputs": [
    {
     "data": {
      "text/plain": [
       "'Welcome To Cap 5771!'"
      ]
     },
     "execution_count": 29,
     "metadata": {},
     "output_type": "execute_result"
    }
   ],
   "source": [
    "message.title()"
   ]
  },
  {
   "cell_type": "markdown",
   "metadata": {
    "id": "2kzE3pG9SBxN"
   },
   "source": [
    "`casefold()`: Return a casefolded copy of the string. Casefolded strings may be used for caseless matching."
   ]
  },
  {
   "cell_type": "code",
   "execution_count": 30,
   "metadata": {
    "colab": {
     "base_uri": "https://localhost:8080/",
     "height": 35
    },
    "id": "ID6Q4Ch3R1_L",
    "outputId": "679e0bec-1067-4dab-f070-191856e01404"
   },
   "outputs": [
    {
     "data": {
      "text/plain": [
       "'welcome to cap 5771!'"
      ]
     },
     "execution_count": 30,
     "metadata": {},
     "output_type": "execute_result"
    }
   ],
   "source": [
    "message.casefold()"
   ]
  },
  {
   "cell_type": "markdown",
   "metadata": {
    "id": "5z8yixpFSKcf"
   },
   "source": [
    "`split(<sep>)`: Return a list of the words in the string, using `sep` as the delimiter string."
   ]
  },
  {
   "cell_type": "code",
   "execution_count": 31,
   "metadata": {
    "colab": {
     "base_uri": "https://localhost:8080/"
    },
    "id": "P0AU8KgiSEX7",
    "outputId": "0d0b74c7-a19b-4256-ecf2-45640a908a31"
   },
   "outputs": [
    {
     "data": {
      "text/plain": [
       "['w', 'lcom', ' to CAP 5771!']"
      ]
     },
     "execution_count": 31,
     "metadata": {},
     "output_type": "execute_result"
    }
   ],
   "source": [
    "message.split(\"e\")"
   ]
  },
  {
   "cell_type": "markdown",
   "metadata": {
    "id": "lmHLUuEySN4g"
   },
   "source": [
    "`find(<sub>, <start>, <end>)`: Return the lowest index in the string where substring `sub` is found within the slice `s[start:end]` (`start` and `end` are optional)."
   ]
  },
  {
   "cell_type": "code",
   "execution_count": 32,
   "metadata": {
    "colab": {
     "base_uri": "https://localhost:8080/"
    },
    "id": "jsIsDek5SH7s",
    "outputId": "383d50b4-0bc0-4e3e-926a-80416b549d50"
   },
   "outputs": [
    {
     "data": {
      "text/plain": [
       "11"
      ]
     },
     "execution_count": 32,
     "metadata": {},
     "output_type": "execute_result"
    }
   ],
   "source": [
    "message.find(\"CAP\")"
   ]
  },
  {
   "cell_type": "markdown",
   "metadata": {
    "id": "nRPq8rTpSWI5"
   },
   "source": [
    "replace(<old>, <new>): Return a copy of the string with all occurrences of substring old replaced by new.\n",
    "\n"
   ]
  },
  {
   "cell_type": "code",
   "execution_count": 33,
   "metadata": {
    "colab": {
     "base_uri": "https://localhost:8080/"
    },
    "id": "lpqVDnhxSRw2",
    "outputId": "6bc282bf-ed11-4170-b2d4-fb96056be0b0"
   },
   "outputs": [
    {
     "name": "stdout",
     "output_type": "stream",
     "text": [
      "welcome to CAP 3250!\n",
      "hello to CAP 5771!\n"
     ]
    }
   ],
   "source": [
    "print(message.replace(\"5771\", \"3250\"))\n",
    "print(message.replace(\"welcome\", \"hello\"))"
   ]
  },
  {
   "cell_type": "markdown",
   "metadata": {
    "id": "WSMk8p6fSfBK"
   },
   "source": [
    "count(<sub>, <start>, <end>): Return the number of non-overlapping occurrences of substring sub in the range [start, end] (start and end are optional)."
   ]
  },
  {
   "cell_type": "code",
   "execution_count": 34,
   "metadata": {
    "colab": {
     "base_uri": "https://localhost:8080/"
    },
    "id": "a6YBySAASbWL",
    "outputId": "5df8340b-38be-4dd9-f6c9-a9f8ce498092"
   },
   "outputs": [
    {
     "data": {
      "text/plain": [
       "2"
      ]
     },
     "execution_count": 34,
     "metadata": {},
     "output_type": "execute_result"
    }
   ],
   "source": [
    "message.count(\"e\")"
   ]
  },
  {
   "cell_type": "markdown",
   "metadata": {
    "id": "6sJoAMTXSkRb"
   },
   "source": [
    "`strip([<chars>])`: Return a copy of the string with the leading and trailing `chars` removed."
   ]
  },
  {
   "cell_type": "code",
   "execution_count": 35,
   "metadata": {
    "colab": {
     "base_uri": "https://localhost:8080/",
     "height": 35
    },
    "id": "NhckQs2rShvk",
    "outputId": "5f516a02-27e5-4e06-c55a-553a6fc4b990"
   },
   "outputs": [
    {
     "data": {
      "text/plain": [
       "'welcome to IENG 331!'"
      ]
     },
     "execution_count": 35,
     "metadata": {},
     "output_type": "execute_result"
    }
   ],
   "source": [
    "message = \"       welcome to IENG 331!          \"\n",
    "message.strip()"
   ]
  },
  {
   "cell_type": "markdown",
   "metadata": {
    "id": "xaM7B93RSpQj"
   },
   "source": [
    "String Formatting\n",
    "Often you'll want more control over the formatting of your output than simply printing space-separated values. There are several ways to format output."
   ]
  },
  {
   "cell_type": "code",
   "execution_count": 36,
   "metadata": {
    "colab": {
     "base_uri": "https://localhost:8080/"
    },
    "id": "olwuNzTISnLa",
    "outputId": "71b74d8b-b72b-44b3-c04c-b862bfed3714"
   },
   "outputs": [
    {
     "name": "stdout",
     "output_type": "stream",
     "text": [
      "Hello John Smith The item costs 58467534.996\n",
      "Hello John Smith. The item costs 58467534.996.\n"
     ]
    }
   ],
   "source": [
    "first_name = 'John'\n",
    "last_name = 'Smith'\n",
    "price = +58467534.996\n",
    "balance = -645234.34\n",
    "\n",
    "print('Hello', first_name, last_name, 'The item costs', price)\n",
    "\n",
    "print('Hello {} {}. The item costs {}.'.format(first_name, last_name, price))"
   ]
  },
  {
   "cell_type": "markdown",
   "metadata": {
    "id": "x9BHTV3cSuiy"
   },
   "source": [
    "Add , to large numbers:"
   ]
  },
  {
   "cell_type": "code",
   "execution_count": 37,
   "metadata": {
    "colab": {
     "base_uri": "https://localhost:8080/",
     "height": 35
    },
    "id": "fAFU0RuYSr8a",
    "outputId": "21ff99bb-adb6-4662-8a03-2c89ca4161cd"
   },
   "outputs": [
    {
     "data": {
      "text/plain": [
       "'The item costs $58,467,534.996'"
      ]
     },
     "execution_count": 37,
     "metadata": {},
     "output_type": "execute_result"
    }
   ],
   "source": [
    "'The item costs ${:,}'.format(price)"
   ]
  },
  {
   "cell_type": "markdown",
   "metadata": {
    "id": "l97VLY9ySzR1"
   },
   "source": [
    "Add sign to numbers:"
   ]
  },
  {
   "cell_type": "code",
   "execution_count": 38,
   "metadata": {
    "colab": {
     "base_uri": "https://localhost:8080/",
     "height": 35
    },
    "id": "1L4kYONRSxR2",
    "outputId": "ed379d9c-f03b-456c-dea3-73842ec1ed9f"
   },
   "outputs": [
    {
     "data": {
      "text/plain": [
       "'The item costs 58,467,534.996'"
      ]
     },
     "execution_count": 38,
     "metadata": {},
     "output_type": "execute_result"
    }
   ],
   "source": [
    "'The item costs {:02,}'.format(price)"
   ]
  },
  {
   "cell_type": "markdown",
   "metadata": {
    "id": "MiPXTm4VS5UA"
   },
   "source": [
    "To add sign only when the number is negative:"
   ]
  },
  {
   "cell_type": "code",
   "execution_count": 39,
   "metadata": {
    "colab": {
     "base_uri": "https://localhost:8080/",
     "height": 35
    },
    "id": "_4q8P0XxS2Lz",
    "outputId": "af28c94d-7930-4918-e646-b1080ee31ab9"
   },
   "outputs": [
    {
     "data": {
      "text/plain": [
       "'The item costs -645,234.34'"
      ]
     },
     "execution_count": 39,
     "metadata": {},
     "output_type": "execute_result"
    }
   ],
   "source": [
    "'The item costs {: ,}'.format(balance)"
   ]
  },
  {
   "cell_type": "markdown",
   "metadata": {
    "id": "fNiTGyeNTE69"
   },
   "source": [
    "Formatting float values:"
   ]
  },
  {
   "cell_type": "code",
   "execution_count": 40,
   "metadata": {
    "colab": {
     "base_uri": "https://localhost:8080/",
     "height": 35
    },
    "id": "qBdvf5P0TIbI",
    "outputId": "b8d43abc-2a58-4441-c7bb-2e27eab8928a"
   },
   "outputs": [
    {
     "data": {
      "text/plain": [
       "'The item costs $58,467,535.00'"
      ]
     },
     "execution_count": 40,
     "metadata": {},
     "output_type": "execute_result"
    }
   ],
   "source": [
    "'The item costs ${:,.2f}'.format(price)"
   ]
  },
  {
   "cell_type": "markdown",
   "metadata": {
    "id": "ImRJRd5kTcaM"
   },
   "source": [
    "format percentage values:"
   ]
  },
  {
   "cell_type": "code",
   "execution_count": 41,
   "metadata": {
    "colab": {
     "base_uri": "https://localhost:8080/",
     "height": 35
    },
    "id": "-s1gkcfWTc8k",
    "outputId": "37e35b6f-6e69-470a-8562-71e4cdb96129"
   },
   "outputs": [
    {
     "data": {
      "text/plain": [
       "'9.735% of the population falls in group A'"
      ]
     },
     "execution_count": 41,
     "metadata": {},
     "output_type": "execute_result"
    }
   ],
   "source": [
    "percentage = 0.097345\n",
    "'{:2.3%} of the population falls in group A'.format(percentage)"
   ]
  },
  {
   "cell_type": "markdown",
   "metadata": {
    "id": "7joaKQeIThur"
   },
   "source": [
    "To add spacing before or after text:"
   ]
  },
  {
   "cell_type": "code",
   "execution_count": 42,
   "metadata": {
    "colab": {
     "base_uri": "https://localhost:8080/",
     "height": 35
    },
    "id": "q5NgxLuaTf-k",
    "outputId": "5fc367a7-8d24-493a-e947-6e2dbefcaedf"
   },
   "outputs": [
    {
     "data": {
      "text/plain": [
       "'First name: John       Last name:                Smith'"
      ]
     },
     "execution_count": 42,
     "metadata": {},
     "output_type": "execute_result"
    }
   ],
   "source": [
    "'First name: {:<10} Last name: {:>20}'.format(first_name, last_name)"
   ]
  },
  {
   "cell_type": "markdown",
   "metadata": {
    "id": "qwItD9FTTmPT"
   },
   "source": [
    "To add spacing and center text:"
   ]
  },
  {
   "cell_type": "code",
   "execution_count": 43,
   "metadata": {
    "colab": {
     "base_uri": "https://localhost:8080/",
     "height": 35
    },
    "id": "WvNUIEx2TkeD",
    "outputId": "b3d550a8-34a9-4bec-8a77-7923282a179d"
   },
   "outputs": [
    {
     "data": {
      "text/plain": [
       "'Welcome:                   John                  '"
      ]
     },
     "execution_count": 43,
     "metadata": {},
     "output_type": "execute_result"
    }
   ],
   "source": [
    "'Welcome: {:^40}'.format(first_name)"
   ]
  },
  {
   "cell_type": "markdown",
   "metadata": {
    "id": "ZvAl13AKTzIv"
   },
   "source": [
    "# Lists\n",
    "\n",
    "Python has a number of compound data types (sequence types), used to group together other values. The most common is the list, which can be written as a list of comma-separated values (items) between square brackets. Lists might contain items of different types, but usually the items all have the same type."
   ]
  },
  {
   "cell_type": "code",
   "execution_count": 44,
   "metadata": {
    "colab": {
     "base_uri": "https://localhost:8080/"
    },
    "id": "396WxCaTTpAq",
    "outputId": "b453dc8b-1897-4bae-fd31-b4fd6cb2099f"
   },
   "outputs": [
    {
     "data": {
      "text/plain": [
       "[]"
      ]
     },
     "execution_count": 44,
     "metadata": {},
     "output_type": "execute_result"
    }
   ],
   "source": [
    "empty_list = []\n",
    "empty_list"
   ]
  },
  {
   "cell_type": "code",
   "execution_count": 45,
   "metadata": {
    "colab": {
     "base_uri": "https://localhost:8080/"
    },
    "id": "lph6xuc4T4Tw",
    "outputId": "5b25d581-6044-4ad4-f167-ccd937189d58"
   },
   "outputs": [
    {
     "name": "stdin",
     "output_type": "stream",
     "text": [
      "your numbers:  17\n"
     ]
    },
    {
     "name": "stdout",
     "output_type": "stream",
     "text": [
      "17\n"
     ]
    },
    {
     "data": {
      "text/plain": [
       "['1', '7']"
      ]
     },
     "execution_count": 45,
     "metadata": {},
     "output_type": "execute_result"
    }
   ],
   "source": [
    "squares = [1, 4, 5, 16, 25]\n",
    "squares\n",
    "lis = input('your numbers: ')\n",
    "print(lis)\n",
    "list(lis)"
   ]
  },
  {
   "cell_type": "markdown",
   "metadata": {
    "id": "95t_FlkmUDkO"
   },
   "source": [
    "To get the list length, len(<list>) function can be used. Similarly, max() and min(<list>) functions can be used to get the maximum and minimum elements in a list."
   ]
  },
  {
   "cell_type": "code",
   "execution_count": 46,
   "metadata": {
    "colab": {
     "base_uri": "https://localhost:8080/"
    },
    "id": "Y4VCeToKT6EA",
    "outputId": "754fb720-8961-4ae9-b186-5dc2b1d2c56b"
   },
   "outputs": [
    {
     "data": {
      "text/plain": [
       "5"
      ]
     },
     "execution_count": 46,
     "metadata": {},
     "output_type": "execute_result"
    }
   ],
   "source": [
    "len(squares)"
   ]
  },
  {
   "cell_type": "code",
   "execution_count": 47,
   "metadata": {
    "colab": {
     "base_uri": "https://localhost:8080/"
    },
    "id": "LIys-7N3UCbp",
    "outputId": "f9754c5d-0c28-4552-8b59-df1ccd0f7784"
   },
   "outputs": [
    {
     "data": {
      "text/plain": [
       "25"
      ]
     },
     "execution_count": 47,
     "metadata": {},
     "output_type": "execute_result"
    }
   ],
   "source": [
    "max(squares)"
   ]
  },
  {
   "cell_type": "code",
   "execution_count": 48,
   "metadata": {
    "colab": {
     "base_uri": "https://localhost:8080/"
    },
    "id": "2KHuEyirUNhT",
    "outputId": "eb6fecf0-96bf-4c6e-f135-3e42983208d5"
   },
   "outputs": [
    {
     "data": {
      "text/plain": [
       "1"
      ]
     },
     "execution_count": 48,
     "metadata": {},
     "output_type": "execute_result"
    }
   ],
   "source": [
    "min(squares)"
   ]
  },
  {
   "cell_type": "markdown",
   "metadata": {
    "id": "sT8EKUuoUViL"
   },
   "source": [
    "## Indexing and Slicing\n",
    "\n",
    "Like strings (and all other sequence types), lists can be indexed and sliced."
   ]
  },
  {
   "cell_type": "code",
   "execution_count": 49,
   "metadata": {
    "colab": {
     "base_uri": "https://localhost:8080/"
    },
    "id": "FehtZYVtUUlD",
    "outputId": "e5fc3839-2658-4649-e9f7-2e4195896c35"
   },
   "outputs": [
    {
     "data": {
      "text/plain": [
       "[25, 16, 5, 4, 1]"
      ]
     },
     "execution_count": 49,
     "metadata": {},
     "output_type": "execute_result"
    }
   ],
   "source": [
    "squares[-1::-1]"
   ]
  },
  {
   "cell_type": "code",
   "execution_count": 50,
   "metadata": {
    "colab": {
     "base_uri": "https://localhost:8080/"
    },
    "id": "5i-zUftkUYTh",
    "outputId": "21c642c4-8541-44ee-8981-198008c45f60"
   },
   "outputs": [
    {
     "data": {
      "text/plain": [
       "25"
      ]
     },
     "execution_count": 50,
     "metadata": {},
     "output_type": "execute_result"
    }
   ],
   "source": [
    "squares[-1]"
   ]
  },
  {
   "cell_type": "code",
   "execution_count": 51,
   "metadata": {
    "colab": {
     "base_uri": "https://localhost:8080/"
    },
    "id": "o2pKk5RqUZg0",
    "outputId": "92af1a22-2fb3-4293-ab33-aeb57f640475"
   },
   "outputs": [
    {
     "data": {
      "text/plain": [
       "[5, 16, 25]"
      ]
     },
     "execution_count": 51,
     "metadata": {},
     "output_type": "execute_result"
    }
   ],
   "source": [
    "squares[-3:]"
   ]
  },
  {
   "cell_type": "code",
   "execution_count": 52,
   "metadata": {
    "colab": {
     "base_uri": "https://localhost:8080/"
    },
    "id": "ooaaGg-NUbHz",
    "outputId": "5c276197-da7a-48b0-bff6-8b0c9b50b33a"
   },
   "outputs": [
    {
     "data": {
      "text/plain": [
       "[4, 25]"
      ]
     },
     "execution_count": 52,
     "metadata": {},
     "output_type": "execute_result"
    }
   ],
   "source": [
    "squares[1::3]"
   ]
  },
  {
   "cell_type": "code",
   "execution_count": 53,
   "metadata": {
    "id": "66oE3BJgUcVg"
   },
   "outputs": [
    {
     "data": {
      "text/plain": [
       "[25, 16, 5, 4, 1]"
      ]
     },
     "execution_count": 53,
     "metadata": {},
     "output_type": "execute_result"
    }
   ],
   "source": [
    "squares[::-1]"
   ]
  },
  {
   "cell_type": "markdown",
   "metadata": {
    "id": "GVfu3DAUUdyA"
   },
   "source": [
    "## Concatenation\n",
    "\n",
    "Lists also support operations like concatenation."
   ]
  },
  {
   "cell_type": "code",
   "execution_count": 54,
   "metadata": {
    "colab": {
     "base_uri": "https://localhost:8080/"
    },
    "id": "wPVHTcP9Uf3Q",
    "outputId": "ae01685c-7b1a-4807-e65b-81c6267165fe"
   },
   "outputs": [
    {
     "data": {
      "text/plain": [
       "[1, 4, 5, 16, 25, 53, 49, 64, 81, 100]"
      ]
     },
     "execution_count": 54,
     "metadata": {},
     "output_type": "execute_result"
    }
   ],
   "source": [
    "more_squares = squares + [53, 49, 64, 81, 100]\n",
    "more_squares"
   ]
  },
  {
   "cell_type": "markdown",
   "metadata": {
    "id": "HUSjHBlwUkJ_"
   },
   "source": [
    "## Changing Values\n",
    "\n",
    "Unlike strings, which are immutable, lists are a mutable type, i.e. it is possible to change their content."
   ]
  },
  {
   "cell_type": "code",
   "execution_count": 55,
   "metadata": {
    "colab": {
     "base_uri": "https://localhost:8080/"
    },
    "id": "FiQPQuVBUhif",
    "outputId": "bbd3f1d5-c70e-4cff-ab7e-44bee15e36cd"
   },
   "outputs": [
    {
     "name": "stdout",
     "output_type": "stream",
     "text": [
      "[1, 4, 5, 16, 25, 53, 49, 64, 81, 121]\n"
     ]
    }
   ],
   "source": [
    "more_squares[9] = 121\n",
    "print(more_squares)"
   ]
  },
  {
   "cell_type": "markdown",
   "metadata": {
    "id": "huqOeN5NUojJ"
   },
   "source": [
    "## List Methods\n",
    "\n",
    "Python provides several methods (function that are callable on a value) for working with lists. These methods can be accessed by typing a '.' after a list value or variable, and then typing the method name."
   ]
  },
  {
   "cell_type": "code",
   "execution_count": 56,
   "metadata": {
    "colab": {
     "base_uri": "https://localhost:8080/"
    },
    "id": "po7R94W1UjcD",
    "outputId": "22dc152b-75d3-4dcd-f5c7-89f70615d9e7"
   },
   "outputs": [
    {
     "data": {
      "text/plain": [
       "['apple', 'orange', 'grape', 'banana', 'apple', 'strawberry']"
      ]
     },
     "execution_count": 56,
     "metadata": {},
     "output_type": "execute_result"
    }
   ],
   "source": [
    "fruits = [\"apple\", \"orange\", \"grape\", \"banana\", \"apple\", \"strawberry\"]\n",
    "fruits"
   ]
  },
  {
   "cell_type": "markdown",
   "metadata": {
    "id": "pyaDmIH0Utyc"
   },
   "source": [
    "append(<value>): Appends value to the end of the sequence."
   ]
  },
  {
   "cell_type": "code",
   "execution_count": 57,
   "metadata": {
    "colab": {
     "base_uri": "https://localhost:8080/"
    },
    "id": "t6qMSmdqUsbq",
    "outputId": "dfdd260f-a41d-4ba2-b3e3-aadfbc182c8e"
   },
   "outputs": [
    {
     "data": {
      "text/plain": [
       "['apple', 'orange', 'grape', 'banana', 'apple', 'strawberry', 'melon']"
      ]
     },
     "execution_count": 57,
     "metadata": {},
     "output_type": "execute_result"
    }
   ],
   "source": [
    "fruits.append(\"melon\")\n",
    "fruits"
   ]
  },
  {
   "cell_type": "markdown",
   "metadata": {
    "id": "lA_WpGh9UyDl"
   },
   "source": [
    "pop(<i>): Retrieves the item at index i and also removes it from list. (i is optional, if not provided, last element will be returned and removed)"
   ]
  },
  {
   "cell_type": "code",
   "execution_count": 58,
   "metadata": {
    "colab": {
     "base_uri": "https://localhost:8080/",
     "height": 35
    },
    "id": "6KDzHQWUUv5U",
    "outputId": "ec62633d-c2d8-429b-a7dc-402e57a68b12"
   },
   "outputs": [
    {
     "data": {
      "text/plain": [
       "'melon'"
      ]
     },
     "execution_count": 58,
     "metadata": {},
     "output_type": "execute_result"
    }
   ],
   "source": [
    "last_fruit = fruits.pop()\n",
    "last_fruit"
   ]
  },
  {
   "cell_type": "code",
   "execution_count": 59,
   "metadata": {
    "colab": {
     "base_uri": "https://localhost:8080/"
    },
    "id": "tSfSwH1eU0Iz",
    "outputId": "55873080-db07-424e-8b70-035d010580e6"
   },
   "outputs": [
    {
     "data": {
      "text/plain": [
       "['apple', 'orange', 'grape', 'banana', 'apple', 'strawberry']"
      ]
     },
     "execution_count": 59,
     "metadata": {},
     "output_type": "execute_result"
    }
   ],
   "source": [
    "fruits"
   ]
  },
  {
   "cell_type": "code",
   "execution_count": 60,
   "metadata": {
    "colab": {
     "base_uri": "https://localhost:8080/",
     "height": 35
    },
    "id": "nVhFD2sHU30u",
    "outputId": "d1fd8b2a-2176-486d-83a0-36780664be5a"
   },
   "outputs": [
    {
     "data": {
      "text/plain": [
       "'orange'"
      ]
     },
     "execution_count": 60,
     "metadata": {},
     "output_type": "execute_result"
    }
   ],
   "source": [
    "second_fruit = fruits.pop(1)\n",
    "second_fruit"
   ]
  },
  {
   "cell_type": "code",
   "execution_count": 61,
   "metadata": {
    "colab": {
     "base_uri": "https://localhost:8080/"
    },
    "id": "TTOOJeHhU5gr",
    "outputId": "3ea104a9-6a2d-4196-fdb2-c411dab32e73"
   },
   "outputs": [
    {
     "data": {
      "text/plain": [
       "['apple', 'grape', 'banana', 'apple', 'strawberry']"
      ]
     },
     "execution_count": 61,
     "metadata": {},
     "output_type": "execute_result"
    }
   ],
   "source": [
    "fruits"
   ]
  },
  {
   "cell_type": "markdown",
   "metadata": {
    "id": "8-ax_YKOU3Ol"
   },
   "source": [
    "insert(<i>, <value>): Inserts value into list at the index given by i."
   ]
  },
  {
   "cell_type": "code",
   "execution_count": 62,
   "metadata": {
    "colab": {
     "base_uri": "https://localhost:8080/"
    },
    "id": "NGRkDaFpU8ox",
    "outputId": "ce491e72-40e9-4437-e24f-17be0ebdb676"
   },
   "outputs": [
    {
     "data": {
      "text/plain": [
       "['blueberry', 'apple', 'grape', 'banana', 'apple', 'strawberry']"
      ]
     },
     "execution_count": 62,
     "metadata": {},
     "output_type": "execute_result"
    }
   ],
   "source": [
    "fruits.insert(0, \"blueberry\")\n",
    "fruits"
   ]
  },
  {
   "cell_type": "markdown",
   "metadata": {
    "id": "gWjWnR-sVBDE"
   },
   "source": [
    "remove(<value>): Remove the first item from list that matches value."
   ]
  },
  {
   "cell_type": "code",
   "execution_count": 63,
   "metadata": {
    "colab": {
     "base_uri": "https://localhost:8080/"
    },
    "id": "l0meyBd4U-jr",
    "outputId": "c185859d-01b3-4ec1-d6b0-8d75b1df3a3d"
   },
   "outputs": [
    {
     "data": {
      "text/plain": [
       "['blueberry', 'grape', 'banana', 'apple', 'strawberry']"
      ]
     },
     "execution_count": 63,
     "metadata": {},
     "output_type": "execute_result"
    }
   ],
   "source": [
    "fruits.remove(\"apple\")\n",
    "fruits"
   ]
  },
  {
   "cell_type": "markdown",
   "metadata": {
    "id": "34HOfdA-VF2s"
   },
   "source": [
    "sort(): This method sorts the list in place."
   ]
  },
  {
   "cell_type": "code",
   "execution_count": 64,
   "metadata": {
    "colab": {
     "base_uri": "https://localhost:8080/"
    },
    "id": "466ebo_oVEFT",
    "outputId": "d71b558b-0ea3-49b3-8130-f7f8174cf648"
   },
   "outputs": [
    {
     "data": {
      "text/plain": [
       "['apple', 'banana', 'blueberry', 'grape', 'strawberry']"
      ]
     },
     "execution_count": 64,
     "metadata": {},
     "output_type": "execute_result"
    }
   ],
   "source": [
    "fruits.sort()\n",
    "fruits"
   ]
  },
  {
   "cell_type": "markdown",
   "metadata": {
    "id": "74wJPkZgVL2q"
   },
   "source": [
    "reverse(): Reverses the items of the list in place."
   ]
  },
  {
   "cell_type": "code",
   "execution_count": 65,
   "metadata": {
    "colab": {
     "base_uri": "https://localhost:8080/"
    },
    "id": "5Z4YZRLNVIIz",
    "outputId": "d75e3daa-7a9d-4e84-afda-701a3e8f2a1c"
   },
   "outputs": [
    {
     "data": {
      "text/plain": [
       "['strawberry', 'grape', 'blueberry', 'banana', 'apple']"
      ]
     },
     "execution_count": 65,
     "metadata": {},
     "output_type": "execute_result"
    }
   ],
   "source": [
    "fruits.reverse()\n",
    "fruits"
   ]
  },
  {
   "cell_type": "markdown",
   "metadata": {
    "id": "QXMXCkVCVQsk"
   },
   "source": [
    "count(<value>): Returns number of occurrences of value in the list."
   ]
  },
  {
   "cell_type": "code",
   "execution_count": 66,
   "metadata": {
    "colab": {
     "base_uri": "https://localhost:8080/"
    },
    "id": "T8YV4E3zVKJE",
    "outputId": "c7e4e6b3-02f8-4deb-ca55-408fe0fefe72"
   },
   "outputs": [
    {
     "data": {
      "text/plain": [
       "1"
      ]
     },
     "execution_count": 66,
     "metadata": {},
     "output_type": "execute_result"
    }
   ],
   "source": [
    "fruits.count('apple')"
   ]
  },
  {
   "cell_type": "markdown",
   "metadata": {
    "id": "XLORbCLXVK7T"
   },
   "source": [
    "index(<value>, <start>, <end>): Return first index of value, searching from start to end (start and end are optional). If value is not found, an error will be thrown."
   ]
  },
  {
   "cell_type": "code",
   "execution_count": 67,
   "metadata": {
    "colab": {
     "base_uri": "https://localhost:8080/"
    },
    "id": "WrAGJa-TVUUM",
    "outputId": "e3f8f326-41f8-4b0f-a976-0d0c13f330e6"
   },
   "outputs": [
    {
     "data": {
      "text/plain": [
       "4"
      ]
     },
     "execution_count": 67,
     "metadata": {},
     "output_type": "execute_result"
    }
   ],
   "source": [
    "fruits.index(\"apple\")"
   ]
  },
  {
   "cell_type": "markdown",
   "metadata": {
    "id": "7MxZfPN2VXiG"
   },
   "source": [
    "join(<list>): Return a string which is the concatenation of the strings in list. This method is callable on a string and accepts a list argument."
   ]
  },
  {
   "cell_type": "code",
   "execution_count": 68,
   "metadata": {
    "colab": {
     "base_uri": "https://localhost:8080/",
     "height": 35
    },
    "id": "_uwIz2nxVV3T",
    "outputId": "befbacee-8ee3-4990-9fc5-336799a122c3"
   },
   "outputs": [
    {
     "data": {
      "text/plain": [
       "'strawberry? grape? blueberry? banana? apple'"
      ]
     },
     "execution_count": 68,
     "metadata": {},
     "output_type": "execute_result"
    }
   ],
   "source": [
    "\"? \".join(fruits)"
   ]
  },
  {
   "cell_type": "markdown",
   "metadata": {
    "id": "jHzwbbbMVbmt"
   },
   "source": [
    "copy(): Creates a shallow copy of the list."
   ]
  },
  {
   "cell_type": "code",
   "execution_count": 69,
   "metadata": {
    "colab": {
     "base_uri": "https://localhost:8080/"
    },
    "id": "grjSyT03VZyc",
    "outputId": "967dad51-69a5-43b4-b20e-a39be9f53402"
   },
   "outputs": [
    {
     "name": "stdout",
     "output_type": "stream",
     "text": [
      "['watermelon', 'grape', 'blueberry', 'banana', 'apple']\n",
      "['watermelon', 'grape', 'blueberry', 'banana', 'apple']\n",
      "['strawberry', 'grape', 'blueberry', 'banana', 'apple']\n"
     ]
    }
   ],
   "source": [
    "fruits_reference = fruits\n",
    "fruits_copy = fruits.copy()\n",
    "fruits[0] = \"watermelon\"\n",
    "\n",
    "print(fruits)\n",
    "print(fruits_reference)\n",
    "print(fruits_copy)"
   ]
  },
  {
   "cell_type": "markdown",
   "metadata": {
    "id": "g9rv4UoLVf8t"
   },
   "source": [
    "clear(): Removes all items from the list."
   ]
  },
  {
   "cell_type": "code",
   "execution_count": 70,
   "metadata": {
    "colab": {
     "base_uri": "https://localhost:8080/"
    },
    "id": "IyhqEJA9Vd5s",
    "outputId": "22bd2a19-a8ca-43d3-b235-b54b37e92c76"
   },
   "outputs": [
    {
     "data": {
      "text/plain": [
       "[]"
      ]
     },
     "execution_count": 70,
     "metadata": {},
     "output_type": "execute_result"
    }
   ],
   "source": [
    "fruits.clear()\n",
    "fruits"
   ]
  },
  {
   "cell_type": "markdown",
   "metadata": {
    "id": "jY2Xijo5Vjnu"
   },
   "source": [
    "## List Comprehensions\n",
    "\n",
    "List comprehensions provide a concise way to create lists. Common applications are to make new lists where each element is the result of some operations applied to each member of another sequence or iterable, or to create a subsequence of those elements that satisfy a certain condition.\n",
    "\n",
    "A list comprehension consists of brackets containing an expression followed by a for clause, then zero or more for or if clauses. The result will be a new list resulting from evaluating the expression in the context of the for and if clauses which follow it."
   ]
  },
  {
   "cell_type": "markdown",
   "metadata": {
    "id": "920JqCm_VjuB"
   },
   "source": [
    "Create a list of squares using a for loop:"
   ]
  },
  {
   "cell_type": "code",
   "execution_count": 71,
   "metadata": {
    "colab": {
     "base_uri": "https://localhost:8080/"
    },
    "id": "h2mQta90VhwE",
    "outputId": "bb2c4452-49be-4c45-8ea4-2e18baa3ff8f"
   },
   "outputs": [
    {
     "data": {
      "text/plain": [
       "[0, 1, 4, 9, 16, 25, 36, 49, 64, 81]"
      ]
     },
     "execution_count": 71,
     "metadata": {},
     "output_type": "execute_result"
    }
   ],
   "source": [
    "squares = []\n",
    "for number in range(10):\n",
    "    squares.append(number ** 2)\n",
    "squares"
   ]
  },
  {
   "cell_type": "markdown",
   "metadata": {
    "id": "Ai7inNwAVqdG"
   },
   "source": [
    "Create a list of squares using list comprehensions:"
   ]
  },
  {
   "cell_type": "code",
   "execution_count": 72,
   "metadata": {
    "colab": {
     "base_uri": "https://localhost:8080/"
    },
    "id": "GZDW1iwwVpF6",
    "outputId": "0824843d-edcb-4955-ff2f-970f93ea0f7f"
   },
   "outputs": [
    {
     "data": {
      "text/plain": [
       "[0, 1, 4, 9, 16, 25, 36, 49, 64, 81]"
      ]
     },
     "execution_count": 72,
     "metadata": {},
     "output_type": "execute_result"
    }
   ],
   "source": [
    "squares = [x ** 2 for x in range(10)]\n",
    "squares"
   ]
  },
  {
   "cell_type": "markdown",
   "metadata": {
    "id": "fbG4QbrWVswW"
   },
   "source": [
    "We can also create a list of squares using list comprehensions and conditionals. In this case, even values are filtered out."
   ]
  },
  {
   "cell_type": "code",
   "execution_count": 73,
   "metadata": {
    "colab": {
     "base_uri": "https://localhost:8080/"
    },
    "id": "_yLDYuXGVwvr",
    "outputId": "2c129543-12d0-474e-82a0-c45e4659993f"
   },
   "outputs": [
    {
     "data": {
      "text/plain": [
       "[0, 9, 36, 81]"
      ]
     },
     "execution_count": 73,
     "metadata": {},
     "output_type": "execute_result"
    }
   ],
   "source": [
    "odd_squares = [x for x in squares if x % 3 == 0]\n",
    "odd_squares"
   ]
  },
  {
   "cell_type": "code",
   "execution_count": 74,
   "metadata": {
    "colab": {
     "base_uri": "https://localhost:8080/"
    },
    "id": "aj9eKqofVyVK",
    "outputId": "b3b98074-3166-4be9-cd2e-e261e2f53a8b"
   },
   "outputs": [
    {
     "name": "stdout",
     "output_type": "stream",
     "text": [
      "[0, 9, 36, 81]\n"
     ]
    }
   ],
   "source": [
    "odd_squares = []\n",
    "for x in squares:\n",
    "    if x % 3 ==0:\n",
    "        odd_squares.append(x)\n",
    "print(odd_squares)"
   ]
  },
  {
   "cell_type": "markdown",
   "metadata": {
    "id": "GGpI5KRNV6f7"
   },
   "source": [
    "# Tuples\n",
    "\n",
    "A tuple is a collection which is ordered and unchangeable. In Python tuples are written with round brackets.\n",
    "\n",
    "The Tuples have following properties:\n",
    "- You cannot change values in a tuple.\n",
    "- You cannot remove items in a tuple."
   ]
  },
  {
   "cell_type": "code",
   "execution_count": 75,
   "metadata": {
    "id": "JndrMgsvVztM"
   },
   "outputs": [],
   "source": [
    "colors_tuple = (\"red\", \"green\", \"blue\", \"yellow\", \"black\", \"white\")"
   ]
  },
  {
   "cell_type": "code",
   "execution_count": 76,
   "metadata": {
    "colab": {
     "base_uri": "https://localhost:8080/"
    },
    "id": "XlmaanrSV-WU",
    "outputId": "fe037403-176d-4a27-e957-8a9e9e4678e7"
   },
   "outputs": [
    {
     "data": {
      "text/plain": [
       "('red', 'green', 'blue', 'yellow', 'black', 'white')"
      ]
     },
     "execution_count": 76,
     "metadata": {},
     "output_type": "execute_result"
    }
   ],
   "source": [
    "colors_tuple"
   ]
  },
  {
   "cell_type": "code",
   "execution_count": 77,
   "metadata": {
    "colab": {
     "base_uri": "https://localhost:8080/",
     "height": 35
    },
    "id": "3OM9JDjTV_z7",
    "outputId": "4cdfbdfc-4430-4c42-f6d4-3e0d6ab05630"
   },
   "outputs": [
    {
     "data": {
      "text/plain": [
       "'green'"
      ]
     },
     "execution_count": 77,
     "metadata": {},
     "output_type": "execute_result"
    }
   ],
   "source": [
    "colors_tuple[1]"
   ]
  },
  {
   "cell_type": "code",
   "execution_count": 78,
   "metadata": {
    "colab": {
     "base_uri": "https://localhost:8080/"
    },
    "id": "taksqruEWCv7",
    "outputId": "51e8db0b-bcf3-4d90-b81f-7594802a3df9"
   },
   "outputs": [
    {
     "data": {
      "text/plain": [
       "('green', 'blue', 'yellow')"
      ]
     },
     "execution_count": 78,
     "metadata": {},
     "output_type": "execute_result"
    }
   ],
   "source": [
    "colors_tuple[1:4]"
   ]
  },
  {
   "cell_type": "code",
   "execution_count": 79,
   "metadata": {
    "colab": {
     "base_uri": "https://localhost:8080/"
    },
    "id": "JNySbYH0WDYb",
    "outputId": "0fc6891e-df7e-4c7b-c0d6-c8d213c9927d"
   },
   "outputs": [
    {
     "data": {
      "text/plain": [
       "()"
      ]
     },
     "execution_count": 79,
     "metadata": {},
     "output_type": "execute_result"
    }
   ],
   "source": [
    "empty_tuple = ()\n",
    "empty_tuple"
   ]
  },
  {
   "cell_type": "code",
   "execution_count": 80,
   "metadata": {
    "colab": {
     "base_uri": "https://localhost:8080/"
    },
    "id": "cLhMMNeSWGXL",
    "outputId": "27914192-0a6e-4260-d5e5-5762042caa19"
   },
   "outputs": [
    {
     "data": {
      "text/plain": [
       "42"
      ]
     },
     "execution_count": 80,
     "metadata": {},
     "output_type": "execute_result"
    }
   ],
   "source": [
    "single_element_tuple = (42)\n",
    "single_element_tuple"
   ]
  },
  {
   "cell_type": "markdown",
   "metadata": {
    "id": "4K6_wdF9WIsZ"
   },
   "source": [
    "## Tuple Methods\n",
    "\n",
    "Python provides couple of methods (function that are callable on a value) for working with tuples. These methods can be accessed by typing a '.' after a tuple value or variable, and then typing the method name."
   ]
  },
  {
   "cell_type": "code",
   "execution_count": 81,
   "metadata": {
    "colab": {
     "base_uri": "https://localhost:8080/"
    },
    "id": "iFCaEaHsWG80",
    "outputId": "ad1bc09d-29ca-4b6b-b8aa-98208aa35e6f"
   },
   "outputs": [
    {
     "data": {
      "text/plain": [
       "(100, 95, 87, 95, 71)"
      ]
     },
     "execution_count": 81,
     "metadata": {},
     "output_type": "execute_result"
    }
   ],
   "source": [
    "grades = (100, 95, 87, 95, 71)\n",
    "grades"
   ]
  },
  {
   "cell_type": "markdown",
   "metadata": {
    "id": "YGW3xz_uWMvs"
   },
   "source": [
    "index(<value>): Find the index of the value in the tuple, if it exists. If the value is not found, it will raise an error."
   ]
  },
  {
   "cell_type": "code",
   "execution_count": 82,
   "metadata": {
    "colab": {
     "base_uri": "https://localhost:8080/"
    },
    "id": "nqOv-Et3WLLb",
    "outputId": "9f8c5646-4365-4336-a415-2338af3a2fba"
   },
   "outputs": [
    {
     "data": {
      "text/plain": [
       "2"
      ]
     },
     "execution_count": 82,
     "metadata": {},
     "output_type": "execute_result"
    }
   ],
   "source": [
    "search_value = 71\n",
    "grades.index(search_value)\n",
    "grades.count(95)"
   ]
  },
  {
   "cell_type": "markdown",
   "metadata": {
    "id": "j5Rs5uKwWQQ8"
   },
   "source": [
    "count(<value>): Find the number of times a value appears in the tuple."
   ]
  },
  {
   "cell_type": "code",
   "execution_count": 83,
   "metadata": {
    "colab": {
     "base_uri": "https://localhost:8080/"
    },
    "id": "zUDuDypBWOsC",
    "outputId": "a83dbee2-3f7d-40ce-8b1c-21ef09e8712f"
   },
   "outputs": [
    {
     "data": {
      "text/plain": [
       "2"
      ]
     },
     "execution_count": 83,
     "metadata": {},
     "output_type": "execute_result"
    }
   ],
   "source": [
    "count_value = 95\n",
    "grades.count(count_value)"
   ]
  },
  {
   "cell_type": "markdown",
   "metadata": {
    "id": "z9hzuvIBWYb8"
   },
   "source": [
    "## Sets\n",
    "\n",
    "A set is a collection of unique elements which are unordered and unindexed. In Python sets are written with curly brackets. Set objects also support mathematical operations like union, intersection, difference, and symmetric difference."
   ]
  },
  {
   "cell_type": "code",
   "execution_count": 84,
   "metadata": {
    "colab": {
     "base_uri": "https://localhost:8080/"
    },
    "id": "cJShc2HzWSMk",
    "outputId": "2e49c7ee-c0bc-4079-af58-76bdf726c7bf"
   },
   "outputs": [
    {
     "data": {
      "text/plain": [
       "{'apple', 'banana', 'cherry'}"
      ]
     },
     "execution_count": 84,
     "metadata": {},
     "output_type": "execute_result"
    }
   ],
   "source": [
    "fruits_set = {\"apple\", \"banana\", \"cherry\", \"apple\"}\n",
    "fruits_set"
   ]
  },
  {
   "cell_type": "markdown",
   "metadata": {
    "id": "S3f37xnbWceF"
   },
   "source": [
    "len() function can be used to get the length of a set."
   ]
  },
  {
   "cell_type": "code",
   "execution_count": 85,
   "metadata": {
    "colab": {
     "base_uri": "https://localhost:8080/"
    },
    "id": "hJV8DqP3WbG0",
    "outputId": "92a8cf75-7180-45b4-9568-1bc137f2f71f"
   },
   "outputs": [
    {
     "data": {
      "text/plain": [
       "3"
      ]
     },
     "execution_count": 85,
     "metadata": {},
     "output_type": "execute_result"
    }
   ],
   "source": [
    "len(fruits_set)"
   ]
  },
  {
   "cell_type": "markdown",
   "metadata": {
    "id": "CX5rojt1Wf6l"
   },
   "source": [
    "## Set Methods\n",
    "\n",
    "Python provides several methods (function that are callable on a value) for working with sets. These methods can be accessed by typing a '.' after a set value or variable, and then typing the method name."
   ]
  },
  {
   "cell_type": "code",
   "execution_count": 86,
   "metadata": {
    "id": "uknkipUIWeNc"
   },
   "outputs": [],
   "source": [
    "set1 = {'a', 'b', 'c', 'd'}\n",
    "set2 = {'c', 'd', 'e', 'f'}"
   ]
  },
  {
   "cell_type": "markdown",
   "metadata": {
    "id": "4j573Nj6WjZQ"
   },
   "source": [
    "add(<value>): Add the value to a set. If the value already exists, nothing will happen."
   ]
  },
  {
   "cell_type": "code",
   "execution_count": 87,
   "metadata": {
    "colab": {
     "base_uri": "https://localhost:8080/"
    },
    "id": "f-J97_DJWiQr",
    "outputId": "63eebd67-6031-4df8-d17b-7b3996a25944"
   },
   "outputs": [
    {
     "data": {
      "text/plain": [
       "{'a', 'b', 'c', 'd', 'z'}"
      ]
     },
     "execution_count": 87,
     "metadata": {},
     "output_type": "execute_result"
    }
   ],
   "source": [
    "set1.add('z')\n",
    "set1"
   ]
  },
  {
   "cell_type": "code",
   "execution_count": 88,
   "metadata": {
    "colab": {
     "base_uri": "https://localhost:8080/"
    },
    "id": "LLbcC00eWqGM",
    "outputId": "527948fe-2fe2-4f00-c51c-82cb831fd133"
   },
   "outputs": [
    {
     "data": {
      "text/plain": [
       "{'a', 'b', 'c', 'd', 'z'}"
      ]
     },
     "execution_count": 88,
     "metadata": {},
     "output_type": "execute_result"
    }
   ],
   "source": [
    "set1.add('a')\n",
    "set1"
   ]
  },
  {
   "cell_type": "markdown",
   "metadata": {
    "id": "AMq4kqQeWtK7"
   },
   "source": [
    "discard(<value>): Remove the value from the set. If the value doesn't exist, nothing will happen."
   ]
  },
  {
   "cell_type": "code",
   "execution_count": 89,
   "metadata": {
    "colab": {
     "base_uri": "https://localhost:8080/"
    },
    "id": "WGD_4yCfWrXN",
    "outputId": "d226dc61-1191-4f95-a429-5300414038dc"
   },
   "outputs": [
    {
     "data": {
      "text/plain": [
       "{'a', 'b', 'c', 'd'}"
      ]
     },
     "execution_count": 89,
     "metadata": {},
     "output_type": "execute_result"
    }
   ],
   "source": [
    "set1.discard('z')\n",
    "set1"
   ]
  },
  {
   "cell_type": "markdown",
   "metadata": {
    "id": "hsIu55wrWxwk"
   },
   "source": [
    "pop(): To return and remove a value from the set. If no value exists in the set, an error will be raised."
   ]
  },
  {
   "cell_type": "code",
   "execution_count": 90,
   "metadata": {
    "colab": {
     "base_uri": "https://localhost:8080/"
    },
    "id": "FmCkt28rWv-K",
    "outputId": "1cb662fa-997a-4a70-81a7-5da66dc5ad44"
   },
   "outputs": [
    {
     "name": "stdout",
     "output_type": "stream",
     "text": [
      "a\n",
      "{'c', 'b', 'd'}\n"
     ]
    }
   ],
   "source": [
    "popped_value = set1.pop()\n",
    "print(popped_value)\n",
    "print(set1)"
   ]
  },
  {
   "cell_type": "markdown",
   "metadata": {
    "id": "3-z2SP4oW1y8"
   },
   "source": [
    "clear(): Remove all the elements in the set."
   ]
  },
  {
   "cell_type": "code",
   "execution_count": 91,
   "metadata": {
    "colab": {
     "base_uri": "https://localhost:8080/"
    },
    "id": "6EfJmlfiW0BE",
    "outputId": "487453b2-281e-48db-9eab-e7e1ca1b6f18"
   },
   "outputs": [
    {
     "data": {
      "text/plain": [
       "set()"
      ]
     },
     "execution_count": 91,
     "metadata": {},
     "output_type": "execute_result"
    }
   ],
   "source": [
    "set1.clear()\n",
    "set1"
   ]
  },
  {
   "cell_type": "markdown",
   "metadata": {
    "id": "9fywiDCzW560"
   },
   "source": [
    "clear(): Remove all the elements in the set."
   ]
  },
  {
   "cell_type": "code",
   "execution_count": 92,
   "metadata": {
    "colab": {
     "base_uri": "https://localhost:8080/"
    },
    "id": "NCKdXtZtW368",
    "outputId": "44bf75f1-c924-4578-f74d-adc6e26aa00c"
   },
   "outputs": [
    {
     "data": {
      "text/plain": [
       "set()"
      ]
     },
     "execution_count": 92,
     "metadata": {},
     "output_type": "execute_result"
    }
   ],
   "source": [
    "set1.clear()\n",
    "set1"
   ]
  },
  {
   "cell_type": "markdown",
   "metadata": {
    "id": "gy1PStifW9zP"
   },
   "source": [
    "##Set Operations"
   ]
  },
  {
   "cell_type": "code",
   "execution_count": 93,
   "metadata": {
    "id": "hI8jRRfyW78S"
   },
   "outputs": [],
   "source": [
    "set1 = {'a', 'b', 'c', 'd'}\n",
    "set2 = {'c', 'd', 'e', 'f'}"
   ]
  },
  {
   "cell_type": "markdown",
   "metadata": {
    "id": "f6k_R0c5XDOH"
   },
   "source": [
    "union(<set1>, <set2>, ...): Return a new set with elements from the set and all others."
   ]
  },
  {
   "cell_type": "code",
   "execution_count": 94,
   "metadata": {
    "colab": {
     "base_uri": "https://localhost:8080/"
    },
    "id": "JlFyGYRCXBkz",
    "outputId": "5c871ca3-0611-447e-cef5-6ee12d6ef604"
   },
   "outputs": [
    {
     "data": {
      "text/plain": [
       "{'a', 'b', 'c', 'd', 'e', 'f'}"
      ]
     },
     "execution_count": 94,
     "metadata": {},
     "output_type": "execute_result"
    }
   ],
   "source": [
    "union_set = set1.union(set2)\n",
    "union_set"
   ]
  },
  {
   "cell_type": "markdown",
   "metadata": {
    "id": "GzM2SYsGXHZ1"
   },
   "source": [
    " operator can be used as a shortcut for union operation on sets."
   ]
  },
  {
   "cell_type": "code",
   "execution_count": 95,
   "metadata": {
    "colab": {
     "base_uri": "https://localhost:8080/"
    },
    "id": "ms-_eK3rXF_V",
    "outputId": "69766945-3643-43ee-91f0-ccda81aaaab7"
   },
   "outputs": [
    {
     "data": {
      "text/plain": [
       "{'a', 'b', 'c', 'd', 'e', 'f'}"
      ]
     },
     "execution_count": 95,
     "metadata": {},
     "output_type": "execute_result"
    }
   ],
   "source": [
    "union_set = set1 | set2\n",
    "union_set"
   ]
  },
  {
   "cell_type": "markdown",
   "metadata": {
    "id": "89QQS_DyXLP3"
   },
   "source": [
    "intersection(<set1>, <set2>, ...): Return a new set with elements common to the set and all others."
   ]
  },
  {
   "cell_type": "code",
   "execution_count": 96,
   "metadata": {
    "colab": {
     "base_uri": "https://localhost:8080/"
    },
    "id": "jgC6rPeRXJzC",
    "outputId": "0b8b649a-5193-4700-b40e-0bf48ac395c3"
   },
   "outputs": [
    {
     "data": {
      "text/plain": [
       "{'c', 'd'}"
      ]
     },
     "execution_count": 96,
     "metadata": {},
     "output_type": "execute_result"
    }
   ],
   "source": [
    "intersection_set = set1.intersection(set2)\n",
    "intersection_set"
   ]
  },
  {
   "cell_type": "markdown",
   "metadata": {
    "id": "cY8nWtQGXOv1"
   },
   "source": [
    "& operator can be used as a shortcut for intersection operation on sets."
   ]
  },
  {
   "cell_type": "code",
   "execution_count": 97,
   "metadata": {
    "colab": {
     "base_uri": "https://localhost:8080/"
    },
    "id": "Yy4ucXdRXNJL",
    "outputId": "e210670a-e5df-415c-94a3-0061dcd78f90"
   },
   "outputs": [
    {
     "data": {
      "text/plain": [
       "{'c', 'd'}"
      ]
     },
     "execution_count": 97,
     "metadata": {},
     "output_type": "execute_result"
    }
   ],
   "source": [
    "intersection_set = set1 & set2\n",
    "intersection_set"
   ]
  },
  {
   "cell_type": "markdown",
   "metadata": {
    "id": "jeJWCYJDXSlG"
   },
   "source": [
    "#difference(<set1>, <set2>, ...): Return a new set with elements in the set that are not in the others."
   ]
  },
  {
   "cell_type": "code",
   "execution_count": 98,
   "metadata": {
    "colab": {
     "base_uri": "https://localhost:8080/"
    },
    "id": "gcy8mihVXRCe",
    "outputId": "d783f666-0741-4ac6-f233-a85e8a7ed563"
   },
   "outputs": [
    {
     "data": {
      "text/plain": [
       "{'a', 'b'}"
      ]
     },
     "execution_count": 98,
     "metadata": {},
     "output_type": "execute_result"
    }
   ],
   "source": [
    "difference_set = set1.difference(set2)\n",
    "difference_set"
   ]
  },
  {
   "cell_type": "markdown",
   "metadata": {
    "id": "peshZ41WXifu"
   },
   "source": [
    "`-` operator can be used as a shortcut for difference operation on sets."
   ]
  },
  {
   "cell_type": "code",
   "execution_count": 99,
   "metadata": {
    "colab": {
     "base_uri": "https://localhost:8080/"
    },
    "id": "G-Gyr0LkXU1N",
    "outputId": "27760365-f38e-48ac-c7c5-48c67c2adf38"
   },
   "outputs": [
    {
     "data": {
      "text/plain": [
       "{'a', 'b'}"
      ]
     },
     "execution_count": 99,
     "metadata": {},
     "output_type": "execute_result"
    }
   ],
   "source": [
    "difference_set = set1 - set2\n",
    "difference_set"
   ]
  },
  {
   "cell_type": "code",
   "execution_count": 100,
   "metadata": {
    "id": "ko6Ok2R7Xk48"
   },
   "outputs": [],
   "source": [
    "set1 = {'a', 'b', 'c', 'd'}\n",
    "set2 = {'c', 'd', 'e', 'f'}\n",
    "set3 = {'a', 'b', 'c'}\n",
    "set4 = {'g', 'h'}"
   ]
  },
  {
   "cell_type": "markdown",
   "metadata": {
    "id": "12AnwQ_QXpNk"
   },
   "source": [
    "issuperset(<other>): Test whether every element in the set is in other."
   ]
  },
  {
   "cell_type": "code",
   "execution_count": 101,
   "metadata": {
    "colab": {
     "base_uri": "https://localhost:8080/"
    },
    "id": "weJ8pnMCXmuc",
    "outputId": "7da8d45c-a17a-4cd9-bd72-dbacb1256709"
   },
   "outputs": [
    {
     "data": {
      "text/plain": [
       "True"
      ]
     },
     "execution_count": 101,
     "metadata": {},
     "output_type": "execute_result"
    }
   ],
   "source": [
    "set1.issuperset(set3)"
   ]
  },
  {
   "cell_type": "code",
   "execution_count": 102,
   "metadata": {
    "colab": {
     "base_uri": "https://localhost:8080/"
    },
    "id": "ithAhIjoXtIR",
    "outputId": "de9dcd1e-1710-4b48-9467-4035e8c28b37"
   },
   "outputs": [
    {
     "data": {
      "text/plain": [
       "False"
      ]
     },
     "execution_count": 102,
     "metadata": {},
     "output_type": "execute_result"
    }
   ],
   "source": [
    "set1.issuperset(set2)"
   ]
  },
  {
   "cell_type": "markdown",
   "metadata": {
    "id": "qJA2IzFBXvNN"
   },
   "source": [
    "issubset(<other>): Test whether every element in other is in the set."
   ]
  },
  {
   "cell_type": "code",
   "execution_count": 103,
   "metadata": {
    "colab": {
     "base_uri": "https://localhost:8080/"
    },
    "id": "Y4D8t6JAXtq0",
    "outputId": "2186d3a4-ff66-4190-f7aa-2ca24cae50ce"
   },
   "outputs": [
    {
     "data": {
      "text/plain": [
       "True"
      ]
     },
     "execution_count": 103,
     "metadata": {},
     "output_type": "execute_result"
    }
   ],
   "source": [
    "set3.issubset(set1)"
   ]
  },
  {
   "cell_type": "code",
   "execution_count": 104,
   "metadata": {
    "colab": {
     "base_uri": "https://localhost:8080/"
    },
    "id": "3oIGhtY3Xxbk",
    "outputId": "37f9dae9-7142-415c-d146-8dcdd5f0f5d1"
   },
   "outputs": [
    {
     "data": {
      "text/plain": [
       "False"
      ]
     },
     "execution_count": 104,
     "metadata": {},
     "output_type": "execute_result"
    }
   ],
   "source": [
    "set1.issubset(set2)"
   ]
  },
  {
   "cell_type": "markdown",
   "metadata": {
    "id": "XL7ywPgqX0R6"
   },
   "source": [
    "isdisjoint(<other>): Return True if the set has no elements in common with other. Sets are disjoint if and only if their intersection is the empty set."
   ]
  },
  {
   "cell_type": "code",
   "execution_count": 105,
   "metadata": {
    "colab": {
     "base_uri": "https://localhost:8080/"
    },
    "id": "5ibZjgp9XzK0",
    "outputId": "7f0e6c71-8782-425c-ae47-9630c8d7d4c6"
   },
   "outputs": [
    {
     "data": {
      "text/plain": [
       "False"
      ]
     },
     "execution_count": 105,
     "metadata": {},
     "output_type": "execute_result"
    }
   ],
   "source": [
    "set1.isdisjoint(set2)"
   ]
  },
  {
   "cell_type": "code",
   "execution_count": 106,
   "metadata": {
    "colab": {
     "base_uri": "https://localhost:8080/"
    },
    "id": "wZA5rtj7X2ir",
    "outputId": "2830168d-5f30-453c-bf6c-35aaabc6c81d"
   },
   "outputs": [
    {
     "data": {
      "text/plain": [
       "True"
      ]
     },
     "execution_count": 106,
     "metadata": {},
     "output_type": "execute_result"
    }
   ],
   "source": [
    "set1.isdisjoint(set4)"
   ]
  },
  {
   "cell_type": "markdown",
   "metadata": {
    "id": "7OP56J2mYBOU"
   },
   "source": [
    "# Ranges\n",
    "\n",
    "The range type represents an immutable sequence of numbers and is commonly used for looping a specific number of times in for loops."
   ]
  },
  {
   "cell_type": "code",
   "execution_count": 107,
   "metadata": {
    "colab": {
     "base_uri": "https://localhost:8080/"
    },
    "id": "4OdGEwFhX4Ak",
    "outputId": "cddd1ef6-1495-46e0-80ab-08cee9149704"
   },
   "outputs": [
    {
     "name": "stdout",
     "output_type": "stream",
     "text": [
      "[0, 1, 2, 3, 4, 5, 6, 7, 8, 9]\n"
     ]
    }
   ],
   "source": [
    "single_digits = range(10)\n",
    "single_digits\n",
    "for i in single_digits:\n",
    "    bb = list(single_digits)\n",
    "print(bb)"
   ]
  },
  {
   "cell_type": "code",
   "execution_count": 108,
   "metadata": {
    "colab": {
     "base_uri": "https://localhost:8080/"
    },
    "id": "7vA4vKk8YFC1",
    "outputId": "b8e4686f-b5f4-426e-eaa2-dd2ca3584c73"
   },
   "outputs": [
    {
     "data": {
      "text/plain": [
       "range"
      ]
     },
     "execution_count": 108,
     "metadata": {},
     "output_type": "execute_result"
    }
   ],
   "source": [
    "type(single_digits)"
   ]
  },
  {
   "cell_type": "markdown",
   "metadata": {
    "id": "ku0RecN1YHKO"
   },
   "source": [
    "Ranges need to be converted into other sequence types to be displayed."
   ]
  },
  {
   "cell_type": "code",
   "execution_count": 109,
   "metadata": {
    "colab": {
     "base_uri": "https://localhost:8080/"
    },
    "id": "vjHmTRj9YFoi",
    "outputId": "91a6252f-8c6c-44a2-e266-a23e67a21c06"
   },
   "outputs": [
    {
     "data": {
      "text/plain": [
       "[0, 1, 2, 3, 4, 5, 6, 7, 8, 9]"
      ]
     },
     "execution_count": 109,
     "metadata": {},
     "output_type": "execute_result"
    }
   ],
   "source": [
    "single_digits_list = list(single_digits)\n",
    "single_digits_list"
   ]
  },
  {
   "cell_type": "markdown",
   "metadata": {
    "id": "Kbfwr-4yYKjd"
   },
   "source": [
    "Ranges can product numbers between an inclusive starting value and an exclusive final value."
   ]
  },
  {
   "cell_type": "code",
   "execution_count": 110,
   "metadata": {
    "colab": {
     "base_uri": "https://localhost:8080/"
    },
    "id": "_kR0E20BYLOa",
    "outputId": "20a4c01e-98ac-499e-8c26-8f0bb0ccb47d"
   },
   "outputs": [
    {
     "data": {
      "text/plain": [
       "(2018, 2019, 2020, 2021, 2022, 2023, 2024, 2025, 2026, 2027, 2028, 2029)"
      ]
     },
     "execution_count": 110,
     "metadata": {},
     "output_type": "execute_result"
    }
   ],
   "source": [
    "expiration_year = tuple(range(2018, 2030))\n",
    "expiration_year"
   ]
  },
  {
   "cell_type": "markdown",
   "metadata": {
    "id": "DvrXgW_UYPNU"
   },
   "source": [
    "A step value can be provided as the third parameter to skip over values.\n"
   ]
  },
  {
   "cell_type": "code",
   "execution_count": 111,
   "metadata": {
    "colab": {
     "base_uri": "https://localhost:8080/"
    },
    "id": "fCuz79eaYQX0",
    "outputId": "ae1d616e-723f-4c0d-8089-5ff5c20f9581"
   },
   "outputs": [
    {
     "data": {
      "text/plain": [
       "[0, 2, 4, 6, 8, 10, 12, 14, 16, 18]"
      ]
     },
     "execution_count": 111,
     "metadata": {},
     "output_type": "execute_result"
    }
   ],
   "source": [
    "odd_numbers = list(range(0, 20, 2))\n",
    "odd_numbers"
   ]
  },
  {
   "cell_type": "markdown",
   "metadata": {
    "id": "taoA6BObYr3i"
   },
   "source": [
    "##Operators"
   ]
  },
  {
   "cell_type": "markdown",
   "metadata": {
    "id": "1cTCXe5xYx1e"
   },
   "source": [
    "# Arithmetic Operators\n",
    "\n",
    "Arithmetic operators are used with numeric values to perform common mathematical operations."
   ]
  },
  {
   "cell_type": "code",
   "execution_count": 112,
   "metadata": {
    "id": "qgmFEjX0YvGt"
   },
   "outputs": [],
   "source": [
    "number1 = 10\n",
    "number2 = 3\n",
    "number3 = 3.1"
   ]
  },
  {
   "cell_type": "markdown",
   "metadata": {
    "id": "npjFuPZGY1hA"
   },
   "source": [
    "Addition (`+`)"
   ]
  },
  {
   "cell_type": "code",
   "execution_count": 113,
   "metadata": {
    "colab": {
     "base_uri": "https://localhost:8080/"
    },
    "id": "0EKFjdZUY2V_",
    "outputId": "886366b4-d6b2-4aef-d193-1f140daa8f86"
   },
   "outputs": [
    {
     "data": {
      "text/plain": [
       "13"
      ]
     },
     "execution_count": 113,
     "metadata": {},
     "output_type": "execute_result"
    }
   ],
   "source": [
    "number4 = number1 + number2\n",
    "number4"
   ]
  },
  {
   "cell_type": "code",
   "execution_count": 114,
   "metadata": {
    "colab": {
     "base_uri": "https://localhost:8080/"
    },
    "id": "S7tmTlmiY409",
    "outputId": "659199b6-93a9-4d0a-ce02-402fbd64b559"
   },
   "outputs": [
    {
     "data": {
      "text/plain": [
       "13.1"
      ]
     },
     "execution_count": 114,
     "metadata": {},
     "output_type": "execute_result"
    }
   ],
   "source": [
    "number4 = number1 + number3\n",
    "number4"
   ]
  },
  {
   "cell_type": "markdown",
   "metadata": {
    "id": "IxhI1gIRY8X4"
   },
   "source": [
    "Subtraction (`-`)"
   ]
  },
  {
   "cell_type": "code",
   "execution_count": 115,
   "metadata": {
    "colab": {
     "base_uri": "https://localhost:8080/"
    },
    "id": "F3VOxJiSY49t",
    "outputId": "f083e799-8fc8-4480-8182-6cde6ad4f89c"
   },
   "outputs": [
    {
     "data": {
      "text/plain": [
       "7"
      ]
     },
     "execution_count": 115,
     "metadata": {},
     "output_type": "execute_result"
    }
   ],
   "source": [
    "number4 = number1 - number2\n",
    "number4"
   ]
  },
  {
   "cell_type": "code",
   "execution_count": 116,
   "metadata": {
    "colab": {
     "base_uri": "https://localhost:8080/"
    },
    "id": "KDtVCxcMY_Xt",
    "outputId": "3250a3ef-1ee2-43d8-9e68-fa406449c13d"
   },
   "outputs": [
    {
     "data": {
      "text/plain": [
       "6.9"
      ]
     },
     "execution_count": 116,
     "metadata": {},
     "output_type": "execute_result"
    }
   ],
   "source": [
    "number4 = number1 - number3\n",
    "number4"
   ]
  },
  {
   "cell_type": "markdown",
   "metadata": {
    "id": "Y0CcDvpnZCTI"
   },
   "source": [
    "Multiplication (`*`)"
   ]
  },
  {
   "cell_type": "code",
   "execution_count": 117,
   "metadata": {
    "colab": {
     "base_uri": "https://localhost:8080/"
    },
    "id": "npIzjfmzY_f4",
    "outputId": "2c8f87bb-99f7-4693-ff42-e199d7207170"
   },
   "outputs": [
    {
     "data": {
      "text/plain": [
       "30"
      ]
     },
     "execution_count": 117,
     "metadata": {},
     "output_type": "execute_result"
    }
   ],
   "source": [
    "number4 = number1 * number2\n",
    "number4"
   ]
  },
  {
   "cell_type": "code",
   "execution_count": 118,
   "metadata": {
    "colab": {
     "base_uri": "https://localhost:8080/"
    },
    "id": "L0Of--CBZGHN",
    "outputId": "2d559660-ae76-4c46-9f82-b0c4ec801c04"
   },
   "outputs": [
    {
     "data": {
      "text/plain": [
       "31.0"
      ]
     },
     "execution_count": 118,
     "metadata": {},
     "output_type": "execute_result"
    }
   ],
   "source": [
    "number4 = number1 * number3\n",
    "number4"
   ]
  },
  {
   "cell_type": "markdown",
   "metadata": {
    "id": "sdoLW45oZIfK"
   },
   "source": [
    "Division (`/`): Result of division is a float number"
   ]
  },
  {
   "cell_type": "code",
   "execution_count": 119,
   "metadata": {
    "colab": {
     "base_uri": "https://localhost:8080/"
    },
    "id": "FoqQS-OHZJe7",
    "outputId": "24b9edde-8518-407e-fa13-c1d05576999b"
   },
   "outputs": [
    {
     "name": "stdout",
     "output_type": "stream",
     "text": [
      "the division result is: 3.3333\n"
     ]
    }
   ],
   "source": [
    "number4 = number1 / number2\n",
    "print('the division result is: {:.5}'.format(number4))"
   ]
  },
  {
   "cell_type": "markdown",
   "metadata": {
    "id": "UVZ8rqe5ZM8i"
   },
   "source": [
    "Floor division (`//`): Result of floor division is an int number\n",
    "\n",
    " also known as integer division or truncating division, is a mathematical operation that calculates the largest integer quotient when one number (the dividend) is divided by another number (the divisor). The result of floor division is the integer value that is closest to the left on the number line."
   ]
  },
  {
   "cell_type": "code",
   "execution_count": 120,
   "metadata": {
    "colab": {
     "base_uri": "https://localhost:8080/"
    },
    "id": "mmrmrKmCZNvV",
    "outputId": "dc8a8f4b-8038-45ea-b20e-0ef9e3a1a3c0"
   },
   "outputs": [
    {
     "data": {
      "text/plain": [
       "3"
      ]
     },
     "execution_count": 120,
     "metadata": {},
     "output_type": "execute_result"
    }
   ],
   "source": [
    "number4 = number1 // number2\n",
    "number4"
   ]
  },
  {
   "cell_type": "markdown",
   "metadata": {
    "id": "AOc0zOypZRAQ"
   },
   "source": [
    "Modulus (`%`)\n",
    "In arithmetic, the term \"modulus\" refers to the remainder obtained when one number (the dividend) is divided by another number (the divisor). The modulus operation is often denoted using the symbol \"%\"."
   ]
  },
  {
   "cell_type": "code",
   "execution_count": 121,
   "metadata": {
    "colab": {
     "base_uri": "https://localhost:8080/"
    },
    "id": "aBxRS4a_ZRwc",
    "outputId": "9857058c-83b9-4aa3-a768-60543290b5cc"
   },
   "outputs": [
    {
     "data": {
      "text/plain": [
       "1"
      ]
     },
     "execution_count": 121,
     "metadata": {},
     "output_type": "execute_result"
    }
   ],
   "source": [
    "number4 = number1 % number2    #10%3=1\n",
    "number4"
   ]
  },
  {
   "cell_type": "code",
   "execution_count": 122,
   "metadata": {
    "colab": {
     "base_uri": "https://localhost:8080/"
    },
    "id": "6zMeeTAKZVSb",
    "outputId": "97f633d3-0ecd-41ef-bcc3-e95f4af8d32b"
   },
   "outputs": [
    {
     "data": {
      "text/plain": [
       "0.6999999999999997"
      ]
     },
     "execution_count": 122,
     "metadata": {},
     "output_type": "execute_result"
    }
   ],
   "source": [
    "number4 = number1 % number3\n",
    "number4"
   ]
  },
  {
   "cell_type": "markdown",
   "metadata": {
    "id": "fXj4n7WjZXPd"
   },
   "source": [
    "Exponentiation (`**`)"
   ]
  },
  {
   "cell_type": "code",
   "execution_count": 123,
   "metadata": {
    "colab": {
     "base_uri": "https://localhost:8080/"
    },
    "id": "ughTuiCjZX4k",
    "outputId": "0c3c9dda-b952-498d-a431-cb611b73a68c"
   },
   "outputs": [
    {
     "data": {
      "text/plain": [
       "1000"
      ]
     },
     "execution_count": 123,
     "metadata": {},
     "output_type": "execute_result"
    }
   ],
   "source": [
    "number4 = number1 ** number2\n",
    "number4"
   ]
  },
  {
   "cell_type": "code",
   "execution_count": 124,
   "metadata": {
    "id": "ER2wiL7EZagR"
   },
   "outputs": [
    {
     "data": {
      "text/plain": [
       "1258.9254117941675"
      ]
     },
     "execution_count": 124,
     "metadata": {},
     "output_type": "execute_result"
    }
   ],
   "source": [
    "number4 = number1 ** number3\n",
    "number4"
   ]
  },
  {
   "cell_type": "markdown",
   "metadata": {
    "id": "JfEo5XW5Ze4F"
   },
   "source": [
    "### Assignment Operators\n",
    "\n",
    "Assignment operators are used to assign values to variables."
   ]
  },
  {
   "cell_type": "markdown",
   "metadata": {
    "id": "m6OuXLqeZjF4"
   },
   "source": [
    "Single assignment:"
   ]
  },
  {
   "cell_type": "code",
   "execution_count": 125,
   "metadata": {
    "id": "P9TiqMtoZhSs"
   },
   "outputs": [],
   "source": [
    "number1 = 8\n",
    "number2 = 2"
   ]
  },
  {
   "cell_type": "code",
   "execution_count": 126,
   "metadata": {
    "id": "87-myVifZlRC"
   },
   "outputs": [],
   "source": [
    "# Multiple assignment:\n",
    "number1, number2 = 2, 8"
   ]
  },
  {
   "cell_type": "code",
   "execution_count": 127,
   "metadata": {
    "colab": {
     "base_uri": "https://localhost:8080/"
    },
    "id": "5IEAD4JvZomc",
    "outputId": "d587eff0-2ca3-444e-854f-6965519b6b71"
   },
   "outputs": [
    {
     "name": "stdout",
     "output_type": "stream",
     "text": [
      "8\n",
      "2\n"
     ]
    }
   ],
   "source": [
    "# You may even switch variable values using multiple assignment:\n",
    "number1, number2 = number2, number1\n",
    "print(number1)\n",
    "print(number2)"
   ]
  },
  {
   "cell_type": "code",
   "execution_count": 128,
   "metadata": {
    "colab": {
     "base_uri": "https://localhost:8080/"
    },
    "id": "n9xyEfcuZrgt",
    "outputId": "15067ec6-10d1-457d-ead3-b667ad5b5826"
   },
   "outputs": [
    {
     "data": {
      "text/plain": [
       "10"
      ]
     },
     "execution_count": 128,
     "metadata": {},
     "output_type": "execute_result"
    }
   ],
   "source": [
    "# Assignment operator combined with arithmetic operators:\n",
    "number1 = 8\n",
    "number2 = 2\n",
    "number2 += number1\n",
    "number2"
   ]
  },
  {
   "cell_type": "code",
   "execution_count": 129,
   "metadata": {
    "colab": {
     "base_uri": "https://localhost:8080/"
    },
    "id": "oNc9tNJeZup-",
    "outputId": "89acb824-7d2b-4c53-a645-7fc7ff812c72"
   },
   "outputs": [
    {
     "data": {
      "text/plain": [
       "-6"
      ]
     },
     "execution_count": 129,
     "metadata": {},
     "output_type": "execute_result"
    }
   ],
   "source": [
    "number1 = 8\n",
    "number2 = 2\n",
    "number2 -= number1\n",
    "number2"
   ]
  },
  {
   "cell_type": "code",
   "execution_count": 130,
   "metadata": {
    "colab": {
     "base_uri": "https://localhost:8080/"
    },
    "id": "FTJsH18qZwFu",
    "outputId": "963128dd-ffc4-4398-e552-01c020cf74c0"
   },
   "outputs": [
    {
     "data": {
      "text/plain": [
       "16"
      ]
     },
     "execution_count": 130,
     "metadata": {},
     "output_type": "execute_result"
    }
   ],
   "source": [
    "number1 = 8\n",
    "number2 = 2\n",
    "number2 *= number1\n",
    "number2"
   ]
  },
  {
   "cell_type": "code",
   "execution_count": 131,
   "metadata": {
    "colab": {
     "base_uri": "https://localhost:8080/"
    },
    "id": "FvMYXZIXZxfM",
    "outputId": "97e024cc-3df8-4603-eeee-8484f0cbfbf1"
   },
   "outputs": [
    {
     "data": {
      "text/plain": [
       "0.25"
      ]
     },
     "execution_count": 131,
     "metadata": {},
     "output_type": "execute_result"
    }
   ],
   "source": [
    "number1 = 8\n",
    "number2 = 2\n",
    "number2 /= number1\n",
    "number2"
   ]
  },
  {
   "cell_type": "code",
   "execution_count": 132,
   "metadata": {
    "colab": {
     "base_uri": "https://localhost:8080/"
    },
    "id": "nJ5qTuO0ZzXd",
    "outputId": "f52836ac-0892-4ff5-f9bb-713cc3866d61"
   },
   "outputs": [
    {
     "data": {
      "text/plain": [
       "0"
      ]
     },
     "execution_count": 132,
     "metadata": {},
     "output_type": "execute_result"
    }
   ],
   "source": [
    "number1 = 8\n",
    "number2 = 2\n",
    "number2 //= number1\n",
    "number2"
   ]
  },
  {
   "cell_type": "code",
   "execution_count": 133,
   "metadata": {
    "colab": {
     "base_uri": "https://localhost:8080/"
    },
    "id": "jO7djABdZ2hI",
    "outputId": "57881834-7160-42e5-c0fa-1cc7a2807201"
   },
   "outputs": [
    {
     "data": {
      "text/plain": [
       "2"
      ]
     },
     "execution_count": 133,
     "metadata": {},
     "output_type": "execute_result"
    }
   ],
   "source": [
    "number1 = 8\n",
    "number2 = 2\n",
    "number2 %= number1\n",
    "number2"
   ]
  },
  {
   "cell_type": "code",
   "execution_count": 134,
   "metadata": {
    "colab": {
     "base_uri": "https://localhost:8080/"
    },
    "id": "AcAmdqpYZ2wH",
    "outputId": "521cf1ce-f7e0-4390-b058-23f0249fdabb"
   },
   "outputs": [
    {
     "data": {
      "text/plain": [
       "256"
      ]
     },
     "execution_count": 134,
     "metadata": {},
     "output_type": "execute_result"
    }
   ],
   "source": [
    "number1 = 8\n",
    "number2 = 2\n",
    "number2 **= number1\n",
    "number2"
   ]
  },
  {
   "cell_type": "markdown",
   "metadata": {
    "id": "9Y1bdZhfZ-Ky"
   },
   "source": [
    "##Comparison Operators\n",
    "\n",
    "Comparison operators are used to compare two values. The result from comparison operators is a bool value.\n"
   ]
  },
  {
   "cell_type": "code",
   "execution_count": 135,
   "metadata": {
    "id": "K7arniPhZ41m"
   },
   "outputs": [],
   "source": [
    "number1 = 42\n",
    "number2 = 42.1"
   ]
  },
  {
   "cell_type": "code",
   "execution_count": 136,
   "metadata": {
    "colab": {
     "base_uri": "https://localhost:8080/"
    },
    "id": "TnNseyKOaGzy",
    "outputId": "29c2c0ad-9995-4dfb-efff-52197a3f6fd2"
   },
   "outputs": [
    {
     "data": {
      "text/plain": [
       "True"
      ]
     },
     "execution_count": 136,
     "metadata": {},
     "output_type": "execute_result"
    }
   ],
   "source": [
    "# Less than (`<`)\n",
    "number1 < number2\n"
   ]
  },
  {
   "cell_type": "code",
   "execution_count": 137,
   "metadata": {
    "colab": {
     "base_uri": "https://localhost:8080/"
    },
    "id": "X3nf43UtaQS2",
    "outputId": "316f6dad-5e1f-4787-dc6c-fa1756868950"
   },
   "outputs": [
    {
     "data": {
      "text/plain": [
       "True"
      ]
     },
     "execution_count": 137,
     "metadata": {},
     "output_type": "execute_result"
    }
   ],
   "source": [
    "# Less than or equal to (`<=`)\n",
    "number1 <= number2"
   ]
  },
  {
   "cell_type": "code",
   "execution_count": 138,
   "metadata": {
    "colab": {
     "base_uri": "https://localhost:8080/"
    },
    "id": "MmIv8goiaQ-t",
    "outputId": "613fd6cb-d8fc-4466-b990-e863d69ce98c"
   },
   "outputs": [
    {
     "data": {
      "text/plain": [
       "False"
      ]
     },
     "execution_count": 138,
     "metadata": {},
     "output_type": "execute_result"
    }
   ],
   "source": [
    "# Greater than (`>`)\n",
    "number1 > number2"
   ]
  },
  {
   "cell_type": "code",
   "execution_count": 139,
   "metadata": {
    "colab": {
     "base_uri": "https://localhost:8080/"
    },
    "id": "0lEPEspKaVc7",
    "outputId": "11378c17-5983-4789-d5cd-860eb23a2e8b"
   },
   "outputs": [
    {
     "data": {
      "text/plain": [
       "False"
      ]
     },
     "execution_count": 139,
     "metadata": {},
     "output_type": "execute_result"
    }
   ],
   "source": [
    "# Greater than or equal to (`>=`)\n",
    "number1 >= number2"
   ]
  },
  {
   "cell_type": "code",
   "execution_count": 140,
   "metadata": {
    "colab": {
     "base_uri": "https://localhost:8080/"
    },
    "id": "d4vztq54aZDV",
    "outputId": "2b7acead-ef8a-41fc-cc94-e1e70f061ed6"
   },
   "outputs": [
    {
     "data": {
      "text/plain": [
       "False"
      ]
     },
     "execution_count": 140,
     "metadata": {},
     "output_type": "execute_result"
    }
   ],
   "source": [
    "# Equal (`==`)\n",
    "number1 == number2"
   ]
  },
  {
   "cell_type": "code",
   "execution_count": 141,
   "metadata": {
    "colab": {
     "base_uri": "https://localhost:8080/"
    },
    "id": "Ur8zPkLSacYs",
    "outputId": "5f9aed26-035f-4e50-b9ee-5511b742b6fe"
   },
   "outputs": [
    {
     "data": {
      "text/plain": [
       "True"
      ]
     },
     "execution_count": 141,
     "metadata": {},
     "output_type": "execute_result"
    }
   ],
   "source": [
    "# In programming, the \"exclamation mark\" or \"!\" symbol is commonly referred to as the \"Logical NOT\" operator or simply the \"NOT\" operator.\n",
    "# Not equal (`!=`)\n",
    "number1 != number2"
   ]
  },
  {
   "cell_type": "markdown",
   "metadata": {
    "id": "iNLWpx5Tajkb"
   },
   "source": [
    "## Logical Operators\n",
    "\n",
    "Logical operators are used to combine groups of comparison operations and conditional statements."
   ]
  },
  {
   "cell_type": "code",
   "execution_count": 142,
   "metadata": {
    "id": "qBW1V9MXamcl"
   },
   "outputs": [],
   "source": [
    "user_age = 20\n",
    "user_role = \"student\""
   ]
  },
  {
   "cell_type": "markdown",
   "metadata": {
    "id": "AsrplwhAaqNS"
   },
   "source": [
    "`and`: Returns True if both operands are True."
   ]
  },
  {
   "cell_type": "code",
   "execution_count": 143,
   "metadata": {
    "colab": {
     "base_uri": "https://localhost:8080/"
    },
    "id": "YSWiY3FBasYe",
    "outputId": "ee0be69b-30a6-4019-a73c-ee74f725446a"
   },
   "outputs": [
    {
     "data": {
      "text/plain": [
       "True"
      ]
     },
     "execution_count": 143,
     "metadata": {},
     "output_type": "execute_result"
    }
   ],
   "source": [
    "True and True"
   ]
  },
  {
   "cell_type": "code",
   "execution_count": 144,
   "metadata": {
    "colab": {
     "base_uri": "https://localhost:8080/"
    },
    "id": "JpqQ9z74avHM",
    "outputId": "2d87aab8-1f3b-4507-a971-e0b6218ad48e"
   },
   "outputs": [
    {
     "data": {
      "text/plain": [
       "False"
      ]
     },
     "execution_count": 144,
     "metadata": {},
     "output_type": "execute_result"
    }
   ],
   "source": [
    "True and False"
   ]
  },
  {
   "cell_type": "code",
   "execution_count": 145,
   "metadata": {
    "colab": {
     "base_uri": "https://localhost:8080/"
    },
    "id": "C4CCMXB0avKq",
    "outputId": "d249d220-23bb-4d9a-d66c-a97c2537a644"
   },
   "outputs": [
    {
     "data": {
      "text/plain": [
       "False"
      ]
     },
     "execution_count": 145,
     "metadata": {},
     "output_type": "execute_result"
    }
   ],
   "source": [
    "False and False"
   ]
  },
  {
   "cell_type": "code",
   "execution_count": 146,
   "metadata": {
    "colab": {
     "base_uri": "https://localhost:8080/"
    },
    "id": "qX7BPpBravOh",
    "outputId": "c489c8d6-ac8d-439e-8b63-762bfcbe71fb"
   },
   "outputs": [
    {
     "data": {
      "text/plain": [
       "False"
      ]
     },
     "execution_count": 146,
     "metadata": {},
     "output_type": "execute_result"
    }
   ],
   "source": [
    "user_age >= 13 and user_age < 20"
   ]
  },
  {
   "cell_type": "markdown",
   "metadata": {
    "id": "hO9BYI9ma26V"
   },
   "source": [
    "or: Returns True if one of the statements is True."
   ]
  },
  {
   "cell_type": "code",
   "execution_count": 147,
   "metadata": {
    "colab": {
     "base_uri": "https://localhost:8080/"
    },
    "id": "C5cuqLs_a1wa",
    "outputId": "ca77802b-3b65-47ca-8cf8-c63d4847ab44"
   },
   "outputs": [
    {
     "data": {
      "text/plain": [
       "True"
      ]
     },
     "execution_count": 147,
     "metadata": {},
     "output_type": "execute_result"
    }
   ],
   "source": [
    "True or True"
   ]
  },
  {
   "cell_type": "code",
   "execution_count": 148,
   "metadata": {
    "colab": {
     "base_uri": "https://localhost:8080/"
    },
    "id": "CD6fa9VCa6s3",
    "outputId": "99a92c8e-a08b-4df5-e239-dcf5054a4c7e"
   },
   "outputs": [
    {
     "data": {
      "text/plain": [
       "True"
      ]
     },
     "execution_count": 148,
     "metadata": {},
     "output_type": "execute_result"
    }
   ],
   "source": [
    "True or False"
   ]
  },
  {
   "cell_type": "code",
   "execution_count": 149,
   "metadata": {
    "colab": {
     "base_uri": "https://localhost:8080/"
    },
    "id": "r_FXeDqwa70J",
    "outputId": "7156e839-a87d-4dbf-b6a3-b8a193d9cb76"
   },
   "outputs": [
    {
     "data": {
      "text/plain": [
       "False"
      ]
     },
     "execution_count": 149,
     "metadata": {},
     "output_type": "execute_result"
    }
   ],
   "source": [
    "False or False"
   ]
  },
  {
   "cell_type": "code",
   "execution_count": 150,
   "metadata": {
    "colab": {
     "base_uri": "https://localhost:8080/"
    },
    "id": "K6IDKWdNa78h",
    "outputId": "1e95e74d-e6cd-4adc-83e0-fcca9a38e7e4"
   },
   "outputs": [
    {
     "data": {
      "text/plain": [
       "True"
      ]
     },
     "execution_count": 150,
     "metadata": {},
     "output_type": "execute_result"
    }
   ],
   "source": [
    "user_role == 'student' or user_role == 'instructor'"
   ]
  },
  {
   "cell_type": "markdown",
   "metadata": {
    "id": "XL7b47hHbDDy"
   },
   "source": [
    "`not`: Reverse the result, returns False if the result is True."
   ]
  },
  {
   "cell_type": "code",
   "execution_count": 151,
   "metadata": {
    "colab": {
     "base_uri": "https://localhost:8080/"
    },
    "id": "BjewWq5AbExe",
    "outputId": "edd9db7f-eccf-4c4d-e2e8-eed07ae9b96b"
   },
   "outputs": [
    {
     "data": {
      "text/plain": [
       "False"
      ]
     },
     "execution_count": 151,
     "metadata": {},
     "output_type": "execute_result"
    }
   ],
   "source": [
    "not True"
   ]
  },
  {
   "cell_type": "code",
   "execution_count": 152,
   "metadata": {
    "colab": {
     "base_uri": "https://localhost:8080/"
    },
    "id": "yFWj4tGhbHYf",
    "outputId": "2e62a02e-1983-478a-c9ee-b4be92e9adf6"
   },
   "outputs": [
    {
     "data": {
      "text/plain": [
       "True"
      ]
     },
     "execution_count": 152,
     "metadata": {},
     "output_type": "execute_result"
    }
   ],
   "source": [
    "not False"
   ]
  },
  {
   "cell_type": "code",
   "execution_count": 153,
   "metadata": {
    "colab": {
     "base_uri": "https://localhost:8080/"
    },
    "id": "3hb1CpQRbHbu",
    "outputId": "6b242179-307c-4b62-96fe-57d959b34230"
   },
   "outputs": [
    {
     "data": {
      "text/plain": [
       "False"
      ]
     },
     "execution_count": 153,
     "metadata": {},
     "output_type": "execute_result"
    }
   ],
   "source": [
    "not user_age < 21"
   ]
  },
  {
   "cell_type": "markdown",
   "metadata": {
    "id": "FXZrxiY_bPAZ"
   },
   "source": [
    "# Membership Operator\n",
    "\n",
    "Membership operator is used to test whether a value is presented in a sequence type."
   ]
  },
  {
   "cell_type": "code",
   "execution_count": 154,
   "metadata": {
    "colab": {
     "base_uri": "https://localhost:8080/"
    },
    "id": "CLg_L4PXbQKm",
    "outputId": "2ca4f98a-2467-49ff-e3cf-a39446efda27"
   },
   "outputs": [
    {
     "data": {
      "text/plain": [
       "['apple', 'banana']"
      ]
     },
     "execution_count": 154,
     "metadata": {},
     "output_type": "execute_result"
    }
   ],
   "source": [
    "shopping_list = [\"apple\", \"banana\"]\n",
    "shopping_list"
   ]
  },
  {
   "cell_type": "code",
   "execution_count": 155,
   "metadata": {
    "colab": {
     "base_uri": "https://localhost:8080/"
    },
    "id": "8qlAiKvfbS6n",
    "outputId": "fc5559e9-92c2-4ed2-de4c-3decef00b096"
   },
   "outputs": [
    {
     "data": {
      "text/plain": [
       "True"
      ]
     },
     "execution_count": 155,
     "metadata": {},
     "output_type": "execute_result"
    }
   ],
   "source": [
    "\"apple\" in shopping_list"
   ]
  },
  {
   "cell_type": "code",
   "execution_count": 156,
   "metadata": {
    "colab": {
     "base_uri": "https://localhost:8080/"
    },
    "id": "1yFGtIf4bVGJ",
    "outputId": "911a778c-c784-43d6-c90e-449bc0d4bfeb"
   },
   "outputs": [
    {
     "data": {
      "text/plain": [
       "False"
      ]
     },
     "execution_count": 156,
     "metadata": {},
     "output_type": "execute_result"
    }
   ],
   "source": [
    "\"pineapple\" in shopping_list"
   ]
  },
  {
   "cell_type": "code",
   "execution_count": 157,
   "metadata": {
    "colab": {
     "base_uri": "https://localhost:8080/"
    },
    "id": "fca0HV_jbYaC",
    "outputId": "a5dff096-0e0b-4ff6-d0ed-5f6f6f8402f2"
   },
   "outputs": [
    {
     "data": {
      "text/plain": [
       "True"
      ]
     },
     "execution_count": 157,
     "metadata": {},
     "output_type": "execute_result"
    }
   ],
   "source": [
    "\"pineapple\" not in shopping_list"
   ]
  },
  {
   "cell_type": "code",
   "execution_count": 158,
   "metadata": {
    "colab": {
     "base_uri": "https://localhost:8080/"
    },
    "id": "P7mlBU3lbazQ",
    "outputId": "dfbc5ec0-fd38-494f-f2d8-b519f873a883"
   },
   "outputs": [
    {
     "name": "stdout",
     "output_type": "stream",
     "text": [
      "Welcome to CAP 5771\n",
      "In this course, we will learn computer programming and fundamentals of data science.\n"
     ]
    }
   ],
   "source": [
    "course_description = '''Welcome to CAP 5771\n",
    "In this course, we will learn computer programming and\\\n",
    " fundamentals of data science.'''\n",
    "print(course_description)"
   ]
  },
  {
   "cell_type": "code",
   "execution_count": 159,
   "metadata": {
    "colab": {
     "base_uri": "https://localhost:8080/"
    },
    "id": "hoHcC7dObbf3",
    "outputId": "6833e7c4-1b82-4415-ed93-4d3ddc0e50a5"
   },
   "outputs": [
    {
     "data": {
      "text/plain": [
       "True"
      ]
     },
     "execution_count": 159,
     "metadata": {},
     "output_type": "execute_result"
    }
   ],
   "source": [
    "\"CAP 5771\" in course_description"
   ]
  },
  {
   "cell_type": "code",
   "execution_count": 160,
   "metadata": {
    "colab": {
     "base_uri": "https://localhost:8080/"
    },
    "id": "ff0_KYAEbh50",
    "outputId": "4b384b4b-ae9c-410d-9213-a0d4504ee0e1"
   },
   "outputs": [
    {
     "data": {
      "text/plain": [
       "False"
      ]
     },
     "execution_count": 160,
     "metadata": {},
     "output_type": "execute_result"
    }
   ],
   "source": [
    "\"CAP 5771\" not in course_description"
   ]
  },
  {
   "cell_type": "code",
   "execution_count": null,
   "metadata": {
    "id": "GrWE2Urnbk_o"
   },
   "outputs": [],
   "source": []
  }
 ],
 "metadata": {
  "colab": {
   "provenance": []
  },
  "kernelspec": {
   "display_name": "Python 3 (ipykernel)",
   "language": "python",
   "name": "python3"
  },
  "language_info": {
   "codemirror_mode": {
    "name": "ipython",
    "version": 3
   },
   "file_extension": ".py",
   "mimetype": "text/x-python",
   "name": "python",
   "nbconvert_exporter": "python",
   "pygments_lexer": "ipython3",
   "version": "3.11.4"
  }
 },
 "nbformat": 4,
 "nbformat_minor": 4
}
