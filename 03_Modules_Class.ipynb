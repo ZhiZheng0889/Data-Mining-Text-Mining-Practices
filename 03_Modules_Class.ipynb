{
 "cells": [
  {
   "cell_type": "markdown",
   "metadata": {
    "id": "UZcM8kt1WGwX"
   },
   "source": [
    "## Python Standard Library\n",
    "\n",
    "Python's standard library is very extensive, offering a wide range of facilities. The library contains built-in modules that provide access to system functionality such as file I/O that would otherwise be inaccessible to Python programmers, as well as modules that provide standardized solutions for many problems that occur in everyday programming. Some of these modules are explicitly designed to encourage and enhance the portability of Python programs by abstracting away platform-specifics into platform-neutral APIs.\n",
    "\n",
    "In addition to the standard library, there is a growing collection of several thousand components (from individual programs and modules to packages and entire application development frameworks), available from the Python Package Index (https://pypi.org/)."
   ]
  },
  {
   "cell_type": "markdown",
   "metadata": {
    "id": "QnNvo-LEWLeZ"
   },
   "source": [
    "## `math` Module\n",
    "\n",
    "`math` module provides several mathematical functions that can be used with int and float values. Some of the more common functions are listed here."
   ]
  },
  {
   "cell_type": "code",
   "execution_count": 3,
   "metadata": {
    "id": "NrrIYjhBUHAI",
    "tags": []
   },
   "outputs": [],
   "source": [
    "import math"
   ]
  },
  {
   "cell_type": "markdown",
   "metadata": {
    "id": "zm_MK7PiWQ_5",
    "tags": []
   },
   "source": [
    "# `math.pi`: The mathematical constant π = 3.141592…, to available precision."
   ]
  },
  {
   "cell_type": "code",
   "execution_count": 4,
   "metadata": {
    "colab": {
     "base_uri": "https://localhost:8080/"
    },
    "id": "2by8tXoGWSWN",
    "outputId": "882cee1f-67f1-4da9-de97-a35378964b37",
    "tags": []
   },
   "outputs": [
    {
     "data": {
      "text/plain": [
       "3.141592653589793"
      ]
     },
     "execution_count": 4,
     "metadata": {},
     "output_type": "execute_result"
    }
   ],
   "source": [
    "math.pi"
   ]
  },
  {
   "cell_type": "markdown",
   "metadata": {
    "id": "iKKbP-yasX-d"
   },
   "source": [
    "# `math.e`: The mathematical constant e = 2.718281…, to available precision."
   ]
  },
  {
   "cell_type": "markdown",
   "metadata": {
    "id": "3eK5z3bAsznm"
   },
   "source": [
    "math.e is a constant in the Python math module that represents the mathematical constant \"e,\" also known as Euler's number. The value of Euler's number is approximately 2.718281828459045. It is a fundamental mathematical constant that is the base of the natural logarithm and has various applications in mathematics, physics, engineering, and other scientific fields."
   ]
  },
  {
   "cell_type": "code",
   "execution_count": 5,
   "metadata": {
    "colab": {
     "base_uri": "https://localhost:8080/"
    },
    "id": "ESZrRmFtWWnI",
    "outputId": "ad8a0db2-f21a-4ef6-e149-c2773c5ed700",
    "tags": []
   },
   "outputs": [
    {
     "data": {
      "text/plain": [
       "2.718281828459045"
      ]
     },
     "execution_count": 5,
     "metadata": {},
     "output_type": "execute_result"
    }
   ],
   "source": [
    "math.e"
   ]
  },
  {
   "cell_type": "markdown",
   "metadata": {
    "id": "OpigyZDfWbiB"
   },
   "source": [
    "`math.factorial(<x>)`: Return `x` factorial. Raises `ValueError` if `x` is not integral or is negative."
   ]
  },
  {
   "cell_type": "code",
   "execution_count": 6,
   "metadata": {
    "colab": {
     "base_uri": "https://localhost:8080/"
    },
    "id": "stj3hK0AWXU3",
    "outputId": "85eb4f85-8ed6-42f3-f9c7-215bbf204eb3",
    "tags": []
   },
   "outputs": [
    {
     "data": {
      "text/plain": [
       "3628800"
      ]
     },
     "execution_count": 6,
     "metadata": {},
     "output_type": "execute_result"
    }
   ],
   "source": [
    "math.factorial(10)"
   ]
  },
  {
   "cell_type": "code",
   "execution_count": 7,
   "metadata": {
    "colab": {
     "base_uri": "https://localhost:8080/"
    },
    "id": "fQtQr_aYWgoB",
    "outputId": "ef350ca7-e6c2-4231-ccd2-08854f5c3ca6",
    "tags": []
   },
   "outputs": [
    {
     "data": {
      "text/plain": [
       "1.0"
      ]
     },
     "execution_count": 7,
     "metadata": {},
     "output_type": "execute_result"
    }
   ],
   "source": [
    "# `math.sin(<x>)`: Return the sine of `x` radians.\n",
    "math.sin(math.pi / 2)"
   ]
  },
  {
   "cell_type": "markdown",
   "metadata": {
    "id": "jj7MCZY6WkyX"
   },
   "source": [
    "`math.cos(<x>)`: Return the cosine of `x` radians."
   ]
  },
  {
   "cell_type": "code",
   "execution_count": 8,
   "metadata": {
    "colab": {
     "base_uri": "https://localhost:8080/"
    },
    "id": "yarXiyjFWlTP",
    "outputId": "1df599ee-ebec-4a9f-bc9c-87602e66e171",
    "tags": []
   },
   "outputs": [
    {
     "data": {
      "text/plain": [
       "-1.0"
      ]
     },
     "execution_count": 8,
     "metadata": {},
     "output_type": "execute_result"
    }
   ],
   "source": [
    "math.cos(-math.pi)"
   ]
  },
  {
   "cell_type": "markdown",
   "metadata": {
    "id": "3R-WkpFzWn-Q"
   },
   "source": [
    "`math.log(<x>, <base>)`: With one argument, return the natural logarithm of `x` (to base `e`). With two arguments, return the logarithm of `x` to the given base, calculated as `log(x)/log(base)`."
   ]
  },
  {
   "cell_type": "code",
   "execution_count": 9,
   "metadata": {
    "colab": {
     "base_uri": "https://localhost:8080/"
    },
    "id": "HKiUIS58Woro",
    "outputId": "614d6a52-ca4e-4c25-91c6-9f6a4bd8e6d0",
    "tags": []
   },
   "outputs": [
    {
     "data": {
      "text/plain": [
       "6.907755278982137"
      ]
     },
     "execution_count": 9,
     "metadata": {},
     "output_type": "execute_result"
    }
   ],
   "source": [
    "math.log(1000)"
   ]
  },
  {
   "cell_type": "code",
   "execution_count": 10,
   "metadata": {
    "colab": {
     "base_uri": "https://localhost:8080/"
    },
    "id": "prJtqHEKWr9o",
    "outputId": "fb1c770f-0ef8-4f4c-8731-3138e9f5079b",
    "tags": []
   },
   "outputs": [
    {
     "data": {
      "text/plain": [
       "2.9999999999999996"
      ]
     },
     "execution_count": 10,
     "metadata": {},
     "output_type": "execute_result"
    }
   ],
   "source": [
    "math.log(1000, 10)"
   ]
  },
  {
   "cell_type": "markdown",
   "metadata": {
    "id": "p1Yu7MShWuOp"
   },
   "source": [
    "`math.log10(<x>)`: Return the base-10 logarithm of `x`. This is usually more accurate than `log(x, 10)`."
   ]
  },
  {
   "cell_type": "code",
   "execution_count": 11,
   "metadata": {
    "colab": {
     "base_uri": "https://localhost:8080/"
    },
    "id": "OXjLbtU7WsGf",
    "outputId": "b328033d-909a-470d-fb89-73d6f219b2da",
    "tags": []
   },
   "outputs": [
    {
     "data": {
      "text/plain": [
       "3.0"
      ]
     },
     "execution_count": 11,
     "metadata": {},
     "output_type": "execute_result"
    }
   ],
   "source": [
    "math.log10(1000)"
   ]
  },
  {
   "cell_type": "markdown",
   "metadata": {
    "id": "nH4-pJhvWy5h"
   },
   "source": [
    "`math.gcd(<a>, <b>)`: Return the greatest common divisor of the integers `a` and `b`. If either `a` or `b` is nonzero, then the value of `gcd(a, b)` is the largest positive integer that divides both `a` and `b`. `gcd(0, 0)` returns 0."
   ]
  },
  {
   "cell_type": "code",
   "execution_count": 12,
   "metadata": {
    "colab": {
     "base_uri": "https://localhost:8080/"
    },
    "id": "3GhY04_2WsLH",
    "outputId": "b162930f-baa5-4c3b-dd0a-840584f019c9",
    "tags": []
   },
   "outputs": [
    {
     "data": {
      "text/plain": [
       "12"
      ]
     },
     "execution_count": 12,
     "metadata": {},
     "output_type": "execute_result"
    }
   ],
   "source": [
    "math.gcd(24, 36)"
   ]
  },
  {
   "cell_type": "markdown",
   "metadata": {
    "id": "1PxrHQz7W2gp"
   },
   "source": [
    "`math.ceil(<x>)`: Return the ceiling of `x`, the smallest integer greater than or equal to `x`."
   ]
  },
  {
   "cell_type": "code",
   "execution_count": 13,
   "metadata": {
    "colab": {
     "base_uri": "https://localhost:8080/"
    },
    "id": "RfiJSjlEW3JB",
    "outputId": "43c069b6-7ebd-4075-a0ca-e8a5b68d1145",
    "tags": []
   },
   "outputs": [
    {
     "data": {
      "text/plain": [
       "2"
      ]
     },
     "execution_count": 13,
     "metadata": {},
     "output_type": "execute_result"
    }
   ],
   "source": [
    "math.ceil(1.01)"
   ]
  },
  {
   "cell_type": "markdown",
   "metadata": {
    "id": "biT4sIgLW6HI"
   },
   "source": [
    "`math.floor(<x>)`: Return the floor of `x`, the largest integer less than or equal to `x`."
   ]
  },
  {
   "cell_type": "code",
   "execution_count": 14,
   "metadata": {
    "colab": {
     "base_uri": "https://localhost:8080/"
    },
    "id": "zR2JBfCjW60P",
    "outputId": "b90fcd29-fab7-49d8-c6d5-0eaf9e04ba83",
    "tags": []
   },
   "outputs": [
    {
     "data": {
      "text/plain": [
       "1"
      ]
     },
     "execution_count": 14,
     "metadata": {},
     "output_type": "execute_result"
    }
   ],
   "source": [
    "math.floor(1.99)"
   ]
  },
  {
   "cell_type": "markdown",
   "metadata": {
    "id": "yoE6h7BWW-Vp"
   },
   "source": [
    "`math.sqrt(<x>)`: Return the square root of `x`."
   ]
  },
  {
   "cell_type": "code",
   "execution_count": 15,
   "metadata": {
    "colab": {
     "base_uri": "https://localhost:8080/"
    },
    "id": "zZuhXTg1W_CH",
    "outputId": "b0bfbb76-325d-484d-ea4a-0a1f82613b27",
    "tags": []
   },
   "outputs": [
    {
     "data": {
      "text/plain": [
       "7.0"
      ]
     },
     "execution_count": 15,
     "metadata": {},
     "output_type": "execute_result"
    }
   ],
   "source": [
    "math.sqrt(49)"
   ]
  },
  {
   "cell_type": "markdown",
   "metadata": {
    "id": "Wrh0DcJkXEKr"
   },
   "source": [
    "# `statistics` Module\n",
    "\n",
    "This module provides functions for calculating mathematical statistics of numeric (Real-valued) data."
   ]
  },
  {
   "cell_type": "code",
   "execution_count": 16,
   "metadata": {
    "id": "dDd592sEXF8J",
    "tags": []
   },
   "outputs": [],
   "source": [
    "import statistics"
   ]
  },
  {
   "cell_type": "code",
   "execution_count": 17,
   "metadata": {
    "colab": {
     "base_uri": "https://localhost:8080/"
    },
    "id": "xpLk-u6HXIrZ",
    "outputId": "4e03b2c6-50a5-49d3-8a06-11a73584352c",
    "tags": []
   },
   "outputs": [
    {
     "data": {
      "text/plain": [
       "[12.4, 3.7, 7.8, 23.6, 3, 8.9, 34.6, 1.9, 34.7, 19.3, 3]"
      ]
     },
     "execution_count": 17,
     "metadata": {},
     "output_type": "execute_result"
    }
   ],
   "source": [
    "data = [12.4, 3.7, 7.8, 23.6, 3, 8.9, 34.6, 1.9, 34.7, 19.3, 3]\n",
    "data"
   ]
  },
  {
   "cell_type": "markdown",
   "metadata": {
    "id": "_pXr6iiDXMIZ"
   },
   "source": [
    "`statistics.mean(<data>)`: Return the sample arithmetic mean (average) of data which can be a sequence or iterator."
   ]
  },
  {
   "cell_type": "code",
   "execution_count": 18,
   "metadata": {
    "colab": {
     "base_uri": "https://localhost:8080/"
    },
    "id": "qNdztUIPXJOJ",
    "outputId": "91146d77-0dc1-4763-81ea-10a70185c547",
    "tags": []
   },
   "outputs": [
    {
     "data": {
      "text/plain": [
       "13.9"
      ]
     },
     "execution_count": 18,
     "metadata": {},
     "output_type": "execute_result"
    }
   ],
   "source": [
    "statistics.mean(data)"
   ]
  },
  {
   "cell_type": "markdown",
   "metadata": {
    "id": "6EMljwfpXQsI"
   },
   "source": [
    "`statistics.median(<data>)`: Return the median (middle value) of numeric data, using the common \"mean of middle two\" method."
   ]
  },
  {
   "cell_type": "code",
   "execution_count": 19,
   "metadata": {
    "colab": {
     "base_uri": "https://localhost:8080/"
    },
    "id": "qhxtQyIYXOrR",
    "outputId": "9eb0375b-f2e0-4d12-dc0d-ef1ea21aa8e0",
    "tags": []
   },
   "outputs": [
    {
     "data": {
      "text/plain": [
       "8.9"
      ]
     },
     "execution_count": 19,
     "metadata": {},
     "output_type": "execute_result"
    }
   ],
   "source": [
    "statistics.median(data)"
   ]
  },
  {
   "cell_type": "markdown",
   "metadata": {
    "id": "H2xnpmMdXVCr"
   },
   "source": [
    "`statistics.mode(<data>)`: Return the most common data point from discrete or nominal data. The mode (when it exists) is the most typical value, and is a robust measure of central location. If data is empty, or if there is not exactly one most common value, StatisticsError is raised."
   ]
  },
  {
   "cell_type": "code",
   "execution_count": 20,
   "metadata": {
    "colab": {
     "base_uri": "https://localhost:8080/"
    },
    "id": "8rFdp11rXVrR",
    "outputId": "61ff7bf9-f721-4128-fc4b-938b8f73401d",
    "tags": []
   },
   "outputs": [
    {
     "data": {
      "text/plain": [
       "3"
      ]
     },
     "execution_count": 20,
     "metadata": {},
     "output_type": "execute_result"
    }
   ],
   "source": [
    "statistics.mode(data)"
   ]
  },
  {
   "cell_type": "markdown",
   "metadata": {
    "id": "q5vgdSYuXYnR"
   },
   "source": [
    "`statistics.variance(<data>)`: Return the sample variance of data, an iterable of at least two real-valued numbers. Variance, or second moment about the mean, is a measure of the variability (spread or dispersion) of data. A large variance indicates that the data is spread out; a small variance indicates it is clustered closely around the mean."
   ]
  },
  {
   "cell_type": "code",
   "execution_count": 21,
   "metadata": {
    "colab": {
     "base_uri": "https://localhost:8080/"
    },
    "id": "GSqWQVZzXZY4",
    "outputId": "25709ff7-a561-4d11-a98c-81472d637541",
    "tags": []
   },
   "outputs": [
    {
     "data": {
      "text/plain": [
       "153.45000000000002"
      ]
     },
     "execution_count": 21,
     "metadata": {},
     "output_type": "execute_result"
    }
   ],
   "source": [
    "statistics.variance(data)"
   ]
  },
  {
   "cell_type": "markdown",
   "metadata": {
    "id": "RvYcRtMsXchh"
   },
   "source": [
    "`statistics.stdev(<data>)`: Return the sample standard deviation (the square root of the sample variance)."
   ]
  },
  {
   "cell_type": "code",
   "execution_count": 22,
   "metadata": {
    "colab": {
     "base_uri": "https://localhost:8080/"
    },
    "id": "kE8_Vb9AXdkA",
    "outputId": "c63bed3a-270f-4de1-86be-7d6f4df403b5",
    "tags": []
   },
   "outputs": [
    {
     "data": {
      "text/plain": [
       "12.387493693237548"
      ]
     },
     "execution_count": 22,
     "metadata": {},
     "output_type": "execute_result"
    }
   ],
   "source": [
    "statistics.stdev(data)"
   ]
  },
  {
   "cell_type": "markdown",
   "metadata": {
    "id": "SPkHW8U0XlEq"
   },
   "source": [
    "## 'random' Module\n",
    "\n",
    "This module implements pseudo-random number generators for various distributions."
   ]
  },
  {
   "cell_type": "code",
   "execution_count": 23,
   "metadata": {
    "id": "wcxbHxEFXfoS",
    "tags": []
   },
   "outputs": [],
   "source": [
    "import random"
   ]
  },
  {
   "cell_type": "markdown",
   "metadata": {
    "id": "KbJ4Yws5XpVZ"
   },
   "source": [
    "`random.random()`: Return the next random floating point number in the range [0.0, 1.0)."
   ]
  },
  {
   "cell_type": "code",
   "execution_count": 24,
   "metadata": {
    "colab": {
     "base_uri": "https://localhost:8080/"
    },
    "id": "063qnoKWXp4T",
    "outputId": "8d302bb6-0212-4125-facb-1393c4e706ec",
    "tags": []
   },
   "outputs": [
    {
     "data": {
      "text/plain": [
       "0.7934054849788156"
      ]
     },
     "execution_count": 24,
     "metadata": {},
     "output_type": "execute_result"
    }
   ],
   "source": [
    "random.random()"
   ]
  },
  {
   "cell_type": "code",
   "execution_count": 25,
   "metadata": {
    "colab": {
     "base_uri": "https://localhost:8080/"
    },
    "id": "n3D3CXmTXsgU",
    "outputId": "c901ebe9-62bd-451c-9802-f400e00e2459",
    "tags": []
   },
   "outputs": [
    {
     "data": {
      "text/plain": [
       "0.9491822130421281"
      ]
     },
     "execution_count": 25,
     "metadata": {},
     "output_type": "execute_result"
    }
   ],
   "source": [
    "random.random()"
   ]
  },
  {
   "cell_type": "markdown",
   "metadata": {
    "id": "lXnZlBZLXw9D"
   },
   "source": [
    "`random.randrange(<start>, <stop>, <step>)`: Return a randomly selected element from `range(start, stop, step)`."
   ]
  },
  {
   "cell_type": "code",
   "execution_count": 26,
   "metadata": {
    "colab": {
     "base_uri": "https://localhost:8080/"
    },
    "id": "Wi5OGbyEXunL",
    "outputId": "83b83a2e-0066-48ed-f616-60672d2cf4ef",
    "tags": []
   },
   "outputs": [
    {
     "data": {
      "text/plain": [
       "10"
      ]
     },
     "execution_count": 26,
     "metadata": {},
     "output_type": "execute_result"
    }
   ],
   "source": [
    "random.randrange(0, 100, 5)"
   ]
  },
  {
   "cell_type": "markdown",
   "metadata": {
    "id": "uOQCtxLZX1Cr"
   },
   "source": [
    "`random.randint(<a>, <b>)`: Return a random integer N such that a <= N <= b. Alias for randrange(a, b+1)."
   ]
  },
  {
   "cell_type": "code",
   "execution_count": 27,
   "metadata": {
    "colab": {
     "base_uri": "https://localhost:8080/"
    },
    "id": "y1cqOVVDX1jb",
    "outputId": "fde52e22-5519-427e-e0c3-cdbcdde4f45e",
    "tags": []
   },
   "outputs": [
    {
     "data": {
      "text/plain": [
       "1"
      ]
     },
     "execution_count": 27,
     "metadata": {},
     "output_type": "execute_result"
    }
   ],
   "source": [
    "random.randint(0, 20)"
   ]
  },
  {
   "cell_type": "code",
   "execution_count": 28,
   "metadata": {
    "colab": {
     "base_uri": "https://localhost:8080/"
    },
    "id": "wZMP_kRrX4dT",
    "outputId": "c7db08ec-0294-45c6-faf9-c70dc5a3a9ac",
    "tags": []
   },
   "outputs": [
    {
     "data": {
      "text/plain": [
       "['John', 'Jane', 'Jill', 'Jack', 'Janet', 'James', 'Justin']"
      ]
     },
     "execution_count": 28,
     "metadata": {},
     "output_type": "execute_result"
    }
   ],
   "source": [
    "names_list = ['John', 'Jane', 'Jill', 'Jack', 'Janet', 'James', 'Justin']\n",
    "names_list"
   ]
  },
  {
   "cell_type": "markdown",
   "metadata": {
    "id": "01FyHmj5X63D"
   },
   "source": [
    "`random.choice(<sequence>)`: Return a random element from the non-empty sequence sequence. If sequence is empty, raises `IndexError`."
   ]
  },
  {
   "cell_type": "code",
   "execution_count": 29,
   "metadata": {
    "colab": {
     "base_uri": "https://localhost:8080/"
    },
    "id": "Sj9b9bdvX7aK",
    "outputId": "378028a6-7e65-4c71-b615-42e6c6f9eff9",
    "tags": []
   },
   "outputs": [
    {
     "data": {
      "text/plain": [
       "str"
      ]
     },
     "execution_count": 29,
     "metadata": {},
     "output_type": "execute_result"
    }
   ],
   "source": [
    "beh = random.choice(names_list)\n",
    "type(beh)"
   ]
  },
  {
   "cell_type": "code",
   "execution_count": 30,
   "metadata": {
    "colab": {
     "base_uri": "https://localhost:8080/",
     "height": 35
    },
    "id": "Sc9F94oeX-IS",
    "outputId": "b7850966-a18d-4c01-cb2f-bd32f1d16c84",
    "tags": []
   },
   "outputs": [
    {
     "data": {
      "text/plain": [
       "'John'"
      ]
     },
     "execution_count": 30,
     "metadata": {},
     "output_type": "execute_result"
    }
   ],
   "source": [
    "random.choice(names_list)"
   ]
  },
  {
   "cell_type": "markdown",
   "metadata": {
    "id": "mq-SAuHZYASk"
   },
   "source": [
    "`random.choices(<sequence>, k=<n>)`: Return a `n` sized list of elements chosen from the population with replacement. If the population is empty, raises `IndexError`."
   ]
  },
  {
   "cell_type": "code",
   "execution_count": 31,
   "metadata": {
    "colab": {
     "base_uri": "https://localhost:8080/"
    },
    "id": "pbxknQ_ZYBMx",
    "outputId": "c6e12f36-19d6-4ebf-8c33-3b2301339a9b",
    "tags": []
   },
   "outputs": [
    {
     "data": {
      "text/plain": [
       "['James', 'John', 'Jane']"
      ]
     },
     "execution_count": 31,
     "metadata": {},
     "output_type": "execute_result"
    }
   ],
   "source": [
    "random.choices(names_list, k=3)"
   ]
  },
  {
   "cell_type": "markdown",
   "metadata": {
    "id": "DLFZd3UUYEcC"
   },
   "source": [
    "`random.shuffle(<sequence>)`: Shuffle the sequence `x` in place."
   ]
  },
  {
   "cell_type": "code",
   "execution_count": 32,
   "metadata": {
    "colab": {
     "base_uri": "https://localhost:8080/"
    },
    "id": "PnG_fgKrYFAC",
    "outputId": "fa0b6e94-c1fa-47fa-a4ac-6f8faa959a32",
    "tags": []
   },
   "outputs": [
    {
     "data": {
      "text/plain": [
       "['Justin', 'Jill', 'Janet', 'Jack', 'James', 'Jane', 'John']"
      ]
     },
     "execution_count": 32,
     "metadata": {},
     "output_type": "execute_result"
    }
   ],
   "source": [
    "random.shuffle(names_list)\n",
    "names_list"
   ]
  },
  {
   "cell_type": "code",
   "execution_count": 33,
   "metadata": {
    "colab": {
     "base_uri": "https://localhost:8080/"
    },
    "id": "8qkfIJ8FYH0C",
    "outputId": "673bebde-fbd7-49a1-ded4-834ffbbf4154",
    "tags": []
   },
   "outputs": [
    {
     "data": {
      "text/plain": [
       "[0, 1, 2, 3, 4, 5, 6, 7, 8, 9, 10, 11, 12, 13, 14, 15, 16, 17, 18, 19]"
      ]
     },
     "execution_count": 33,
     "metadata": {},
     "output_type": "execute_result"
    }
   ],
   "source": [
    "numbers_list = list(range(0, 20))\n",
    "numbers_list"
   ]
  },
  {
   "cell_type": "code",
   "execution_count": 34,
   "metadata": {
    "colab": {
     "base_uri": "https://localhost:8080/"
    },
    "id": "Kz1LAOUUYH23",
    "outputId": "66277ac4-1cbe-43ea-f5ba-87709ffa1b70",
    "tags": []
   },
   "outputs": [
    {
     "data": {
      "text/plain": [
       "[0, 14, 13, 10, 6, 19, 18, 11, 5, 16, 17, 8, 3, 9, 7, 4, 15, 2, 12, 1]"
      ]
     },
     "execution_count": 34,
     "metadata": {},
     "output_type": "execute_result"
    }
   ],
   "source": [
    "random.shuffle(numbers_list)\n",
    "numbers_list"
   ]
  },
  {
   "cell_type": "markdown",
   "metadata": {
    "id": "aRQEZkFNYNSc"
   },
   "source": [
    "# `string` Module\n",
    "\n",
    "`string` module can be used for working with strings."
   ]
  },
  {
   "cell_type": "code",
   "execution_count": 35,
   "metadata": {
    "id": "-wrbqkZFYPdD",
    "tags": []
   },
   "outputs": [],
   "source": [
    "import string"
   ]
  },
  {
   "cell_type": "markdown",
   "metadata": {
    "id": "HTV8--QjYSHD"
   },
   "source": [
    "`string.ascii_letters`: The concatenation of lowercase and uppercase letters."
   ]
  },
  {
   "cell_type": "code",
   "execution_count": 36,
   "metadata": {
    "colab": {
     "base_uri": "https://localhost:8080/",
     "height": 35
    },
    "id": "yrSrQZcvYSvx",
    "outputId": "db92929e-5209-4a14-e833-1906debf2bb0",
    "tags": []
   },
   "outputs": [
    {
     "data": {
      "text/plain": [
       "'abcdefghijklmnopqrstuvwxyzABCDEFGHIJKLMNOPQRSTUVWXYZ'"
      ]
     },
     "execution_count": 36,
     "metadata": {},
     "output_type": "execute_result"
    }
   ],
   "source": [
    "string.ascii_letters"
   ]
  },
  {
   "cell_type": "markdown",
   "metadata": {
    "id": "V5XL3yGGYW1a"
   },
   "source": [
    "`string.ascii_lowercase`: The lowercase letters."
   ]
  },
  {
   "cell_type": "code",
   "execution_count": 37,
   "metadata": {
    "colab": {
     "base_uri": "https://localhost:8080/",
     "height": 35
    },
    "id": "ORD-Gr9gYXhD",
    "outputId": "6944eadc-b6f4-49b2-d301-98124afe3380",
    "tags": []
   },
   "outputs": [
    {
     "data": {
      "text/plain": [
       "'abcdefghijklmnopqrstuvwxyz'"
      ]
     },
     "execution_count": 37,
     "metadata": {},
     "output_type": "execute_result"
    }
   ],
   "source": [
    "string.ascii_lowercase"
   ]
  },
  {
   "cell_type": "markdown",
   "metadata": {
    "id": "PRZOCzhsYbSS"
   },
   "source": [
    "`string.ascii_uppercase`: The uppercase letters."
   ]
  },
  {
   "cell_type": "code",
   "execution_count": 38,
   "metadata": {
    "colab": {
     "base_uri": "https://localhost:8080/",
     "height": 35
    },
    "id": "fIY6vssCYb0q",
    "outputId": "16ef05aa-f719-48ef-ce34-92a25e6c06a4",
    "tags": []
   },
   "outputs": [
    {
     "data": {
      "text/plain": [
       "'ABCDEFGHIJKLMNOPQRSTUVWXYZ'"
      ]
     },
     "execution_count": 38,
     "metadata": {},
     "output_type": "execute_result"
    }
   ],
   "source": [
    "string.ascii_uppercase"
   ]
  },
  {
   "cell_type": "markdown",
   "metadata": {
    "id": "nw0GGNWQYeyj"
   },
   "source": [
    "`string.digits`: A string of all 10 digits."
   ]
  },
  {
   "cell_type": "code",
   "execution_count": 39,
   "metadata": {
    "colab": {
     "base_uri": "https://localhost:8080/",
     "height": 35
    },
    "id": "tmtcqxs3Yfc6",
    "outputId": "b833fb66-108a-4e37-e9ab-f2a5ce1b3c26",
    "tags": []
   },
   "outputs": [
    {
     "data": {
      "text/plain": [
       "'0123456789'"
      ]
     },
     "execution_count": 39,
     "metadata": {},
     "output_type": "execute_result"
    }
   ],
   "source": [
    "string.digits"
   ]
  },
  {
   "cell_type": "markdown",
   "metadata": {
    "id": "2cMiPSssYiba"
   },
   "source": [
    "`string.whitespace`: A string containing all ASCII characters that are considered whitespace."
   ]
  },
  {
   "cell_type": "code",
   "execution_count": 40,
   "metadata": {
    "colab": {
     "base_uri": "https://localhost:8080/",
     "height": 35
    },
    "id": "d1sN_6aAYjIS",
    "outputId": "580f39df-2487-4cd4-b3f3-072b6850d0e7",
    "tags": []
   },
   "outputs": [
    {
     "data": {
      "text/plain": [
       "' \\t\\n\\r\\x0b\\x0c'"
      ]
     },
     "execution_count": 40,
     "metadata": {},
     "output_type": "execute_result"
    }
   ],
   "source": [
    "string.whitespace"
   ]
  },
  {
   "cell_type": "markdown",
   "metadata": {
    "id": "TWDv0NhpYmNq"
   },
   "source": [
    "`string.punctuation`: String of ASCII characters which are considered punctuation characters."
   ]
  },
  {
   "cell_type": "code",
   "execution_count": 41,
   "metadata": {
    "colab": {
     "base_uri": "https://localhost:8080/",
     "height": 35
    },
    "id": "87csyMs3YmvR",
    "outputId": "8126aac1-56a9-4999-ae73-cad87f4907bc",
    "tags": []
   },
   "outputs": [
    {
     "data": {
      "text/plain": [
       "'!\"#$%&\\'()*+,-./:;<=>?@[\\\\]^_`{|}~'"
      ]
     },
     "execution_count": 41,
     "metadata": {},
     "output_type": "execute_result"
    }
   ],
   "source": [
    "string.punctuation"
   ]
  },
  {
   "cell_type": "markdown",
   "metadata": {
    "id": "kIZ4pwthZV9b"
   },
   "source": [
    "# Object-Oriented Programming\n",
    "\n",
    "Python is an object oriented programming language. Almost everything in Python is an object, with its properties and methods. A Class is like an object constructor, or a \"blueprint\" for creating objects.\n",
    "\n",
    "Class definitions, like function definitions (def statements) must be executed before they have any effect. (You could conceivably place a class definition in a branch of an if statement, or inside a function.)"
   ]
  },
  {
   "cell_type": "code",
   "execution_count": 42,
   "metadata": {
    "id": "B1A_ymXZZX9E",
    "tags": []
   },
   "outputs": [],
   "source": [
    "class Employee:\n",
    "    name = 'John Doe'\n",
    "    id = 123"
   ]
  },
  {
   "cell_type": "markdown",
   "metadata": {
    "id": "uZxd_hpwZbqy"
   },
   "source": [
    "After defining the class attributes to a class, the class object can be created by assigning the object to a variable. The created object would have instance attributes associated with it.\n",
    "\n",
    "Class instantiation uses function notation. Just pretend that the class object is a parameterless function that returns a new instance of the class. For example the following code will creates a new instance of the class and assigns this object to the local variable."
   ]
  },
  {
   "cell_type": "code",
   "execution_count": 43,
   "metadata": {
    "id": "zPsNUZjVZcTC",
    "tags": []
   },
   "outputs": [],
   "source": [
    "employee1 = Employee()\n",
    "employee2 = Employee()"
   ]
  },
  {
   "cell_type": "markdown",
   "metadata": {
    "id": "CY7xZPS3Zfpa"
   },
   "source": [
    "ATTRIBUTE REFERENCES use the standard syntax used for all attribute references in Python: obj.name. Valid attribute names are all the names that were in the class's namespace when the class object was created. For class Employee the following reference is a valid attribute reference:"
   ]
  },
  {
   "cell_type": "code",
   "execution_count": 44,
   "metadata": {
    "colab": {
     "base_uri": "https://localhost:8080/",
     "height": 35
    },
    "id": "voZ9k_UjZgkC",
    "outputId": "8d28694c-ea20-4a9d-afcf-fe2c6c7adf77",
    "tags": []
   },
   "outputs": [
    {
     "data": {
      "text/plain": [
       "'John Doe'"
      ]
     },
     "execution_count": 44,
     "metadata": {},
     "output_type": "execute_result"
    }
   ],
   "source": [
    "employee1.name"
   ]
  },
  {
   "cell_type": "code",
   "execution_count": 45,
   "metadata": {
    "colab": {
     "base_uri": "https://localhost:8080/",
     "height": 35
    },
    "id": "GCH-hbqzZjVi",
    "outputId": "24c07e40-4fda-4f8b-8aac-5a87e9bf0e8b",
    "tags": []
   },
   "outputs": [
    {
     "data": {
      "text/plain": [
       "'John Doe'"
      ]
     },
     "execution_count": 45,
     "metadata": {},
     "output_type": "execute_result"
    }
   ],
   "source": [
    "employee2.name"
   ]
  },
  {
   "cell_type": "code",
   "execution_count": 46,
   "metadata": {
    "id": "LUa55RNHZkd6",
    "tags": []
   },
   "outputs": [],
   "source": [
    "employee2.name = 'Jane Doe'\n",
    "employee2.id = 456"
   ]
  },
  {
   "cell_type": "code",
   "execution_count": 47,
   "metadata": {
    "colab": {
     "base_uri": "https://localhost:8080/"
    },
    "id": "aphr_3_UZnGv",
    "outputId": "2c2d672a-3e13-4319-efab-af0f9a74ffb4",
    "tags": []
   },
   "outputs": [
    {
     "name": "stdout",
     "output_type": "stream",
     "text": [
      "Employee John Doe has ID 123\n",
      "Employee Jane Doe has ID 456\n"
     ]
    }
   ],
   "source": [
    "print('Employee {} has ID {}'.format(employee1.name, employee1.id))\n",
    "print('Employee {} has ID {}'.format(employee2.name, employee2.id))"
   ]
  },
  {
   "cell_type": "markdown",
   "metadata": {
    "id": "0M_D6mZYZqa0"
   },
   "source": [
    "## Class Constructor\n",
    "\n",
    "The instantiation operation (\"calling\" a class object) creates an empty object. Many classes like to create objects with instances customized to a specific initial state. Therefore a class may define a special method named `__init__()`, like this:\n",
    "\n",
    "The self parameter is a reference to the class itself, and is used to access variables that belongs to the class. It does not have to be named self, you can call it whatever you like, but it has to be the first parameter of any function in the class."
   ]
  },
  {
   "cell_type": "code",
   "execution_count": 48,
   "metadata": {
    "id": "bEsFTR6mZtEb",
    "tags": []
   },
   "outputs": [],
   "source": [
    "class Employee:\n",
    "    def __init__(self, name, id, birthdate):\n",
    "        self.name = name\n",
    "        self.id = id\n",
    "        self.birthdate = birthdate"
   ]
  },
  {
   "cell_type": "code",
   "execution_count": 49,
   "metadata": {
    "colab": {
     "base_uri": "https://localhost:8080/"
    },
    "id": "dYAlqO8GZv2b",
    "outputId": "cfb724e0-f0ef-43e2-e54e-b6f47ec77930",
    "tags": []
   },
   "outputs": [
    {
     "name": "stdout",
     "output_type": "stream",
     "text": [
      "Employee John Doe with ID 123 born on 1970-01-01\n"
     ]
    }
   ],
   "source": [
    "employee1 = Employee('John Doe', 123, '1970-01-01')\n",
    "\n",
    "print('Employee {} with ID {} born on {}'.format(\n",
    "    employee1.name, employee1.id, employee1.birthdate))"
   ]
  },
  {
   "cell_type": "code",
   "execution_count": 50,
   "metadata": {
    "colab": {
     "base_uri": "https://localhost:8080/"
    },
    "id": "KejJ4peKZxpq",
    "outputId": "0f1ef4b8-42ab-4c91-b81c-6ee7986511a5",
    "tags": []
   },
   "outputs": [
    {
     "name": "stdout",
     "output_type": "stream",
     "text": [
      "Employee Jane Doe with ID 234 born on 1971-01-01\n"
     ]
    }
   ],
   "source": [
    "employee2 = Employee('Jane Doe', 234, '1971-01-01')\n",
    "\n",
    "print('Employee {} with ID {} born on {}'.format(\n",
    "    employee2.name, employee2.id, employee2.birthdate))"
   ]
  },
  {
   "cell_type": "markdown",
   "metadata": {
    "id": "zvdGDS8wZz7k"
   },
   "source": [
    "Now what can we do with instance objects? The only operations understood by instance objects are attribute references. There are two kinds of valid attribute names:\n",
    "- data attributes\n",
    "- methods.\n",
    "\n",
    "DATA ATTRIBUTES need not be declared; like local variables, they spring into existence when they are first assigned to. For example, if 'employee3' is the instance of Employee created below, the following piece of code will print the value '50000', without leaving a trace."
   ]
  },
  {
   "cell_type": "code",
   "execution_count": 51,
   "metadata": {
    "colab": {
     "base_uri": "https://localhost:8080/"
    },
    "id": "gC_8eaFFZ0dr",
    "outputId": "144e23eb-0025-4d43-a100-addc90bd081e",
    "tags": []
   },
   "outputs": [
    {
     "name": "stdout",
     "output_type": "stream",
     "text": [
      "Employee Jill Doe (ID 345) is paid $50,000\n"
     ]
    }
   ],
   "source": [
    "employee3 = Employee('Jill Doe', 345, '1972-01-01')\n",
    "employee3.pay = 50000\n",
    "\n",
    "print('Employee {} (ID {}) is paid ${:,}'.format(\n",
    "    employee3.name, employee3.id, employee3.pay))"
   ]
  },
  {
   "cell_type": "markdown",
   "metadata": {
    "id": "XoSz-tDTZ5ob"
   },
   "source": [
    "# Class Methods\n",
    "\n",
    "Classes can have two types of attribute references: data or methods. The other kind of instance attribute reference is a method. A method is a function that # \"belongs to\" an object.\n",
    "\n",
    "Class methods are called by [instance_name].[method_name] ([parameters]) as opposed to class data which lacks the ()."
   ]
  },
  {
   "cell_type": "code",
   "execution_count": 52,
   "metadata": {
    "id": "0fQq1g3VZ7Sr",
    "tags": []
   },
   "outputs": [],
   "source": [
    "class Employee:\n",
    "    def __init__(self, name, id, birthdate):\n",
    "        self.name = name\n",
    "        self.id = id\n",
    "        self.birthdate = birthdate\n",
    "\n",
    "    # introduce is a method of the class Employee\n",
    "    def introduce(self):\n",
    "        print('Employee {} with ID {} born on {}'.format(\n",
    "            self.name, self.id, self.birthdate))"
   ]
  },
  {
   "cell_type": "code",
   "execution_count": 53,
   "metadata": {
    "id": "_b0Uia_jZ7or",
    "tags": []
   },
   "outputs": [],
   "source": [
    "employee1 = Employee('John Doe', 123, '1970-01-01')\n",
    "employee2 = Employee('Jane Doe', 234, '1971-01-01')"
   ]
  },
  {
   "cell_type": "code",
   "execution_count": 54,
   "metadata": {
    "colab": {
     "base_uri": "https://localhost:8080/"
    },
    "id": "Zl6o2LBAZ_1a",
    "outputId": "49835dd9-56c3-4a3a-b534-1799d7a81a45",
    "tags": []
   },
   "outputs": [
    {
     "name": "stdout",
     "output_type": "stream",
     "text": [
      "Employee John Doe with ID 123 born on 1970-01-01\n"
     ]
    }
   ],
   "source": [
    "employee1.introduce()"
   ]
  },
  {
   "cell_type": "code",
   "execution_count": 55,
   "metadata": {
    "colab": {
     "base_uri": "https://localhost:8080/"
    },
    "id": "FHOloIUiaCRT",
    "outputId": "330a97aa-6a89-4566-927d-7beedee8146a",
    "tags": []
   },
   "outputs": [
    {
     "name": "stdout",
     "output_type": "stream",
     "text": [
      "Employee Jane Doe with ID 234 born on 1971-01-01\n"
     ]
    }
   ],
   "source": [
    "employee2.introduce()"
   ]
  },
  {
   "cell_type": "markdown",
   "metadata": {
    "id": "nRZsPXRnaCbK"
   },
   "source": [
    "What exactly happens when a method is called? You may have noticed that employee1.introduce() was called without an argument above, even though the function definition for introduce() specified an argument (self). What happened to the argument? Surely Python raises an exception when a function that requires an argument is called without any — even if the argument isn't actually used.\n",
    "\n",
    "Actually, you may have guessed the answer: the special thing about methods is that the instance object is passed as the first argument of the function. In our example, the call employee1.introduce() is exactly equivalent to Employee.introduce(employee1). In general, calling a method with a list of n arguments is equivalent to calling the corresponding function with an argument list that is created by inserting the method's instance object before the first argument."
   ]
  },
  {
   "cell_type": "markdown",
   "metadata": {
    "id": "uhs9Ql4laJ2r"
   },
   "source": [
    "## Class Variables\n",
    "\n",
    "Generally speaking, instance variables are for data unique to each instance and class variables are for attributes and methods shared by all instances of the class."
   ]
  },
  {
   "cell_type": "code",
   "execution_count": 56,
   "metadata": {
    "id": "Zyzq_-17aFiC",
    "tags": []
   },
   "outputs": [],
   "source": [
    "class Account:\n",
    "    interest_rate = 0.01\n",
    "    # deals = []\n",
    "\n",
    "    def __init__(self, owner, number):\n",
    "        self.owner = owner\n",
    "        self.number = number\n",
    "        self.balance = 0\n",
    "        self.deals = []\n",
    "\n",
    "    def deposit(self, value):\n",
    "        try:\n",
    "            value = float(value)\n",
    "\n",
    "            if value < 0:\n",
    "                raise ValueError()\n",
    "\n",
    "            self.balance += value\n",
    "            print('Deposited ${:.2f} to account #{}'.format(value, self.number))\n",
    "        except:\n",
    "            print('Please enter a non-negative number')\n",
    "\n",
    "        return self.balance\n",
    "\n",
    "    def withdraw(self, value):\n",
    "        try:\n",
    "            value = float(value)\n",
    "\n",
    "            if value < 0 or value > self.balance:\n",
    "                raise ValueError()\n",
    "\n",
    "            self.balance -= value\n",
    "            print('Withdrew ${:.2f} from account #{}'.format(value, self.number))\n",
    "        except:\n",
    "            print('Invalid withdraw amount')\n",
    "\n",
    "        return self.balance\n",
    "\n",
    "    def add_deal(self, deal):\n",
    "        self.deals.append(deal)"
   ]
  },
  {
   "cell_type": "code",
   "execution_count": 57,
   "metadata": {
    "colab": {
     "base_uri": "https://localhost:8080/"
    },
    "id": "3jfWF8HnaOoi",
    "outputId": "ec5cdc99-70c3-44a3-9e5f-9e2742d5c5f6",
    "tags": []
   },
   "outputs": [
    {
     "data": {
      "text/plain": [
       "0"
      ]
     },
     "execution_count": 57,
     "metadata": {},
     "output_type": "execute_result"
    }
   ],
   "source": [
    "account1 = Account('John Doe', 123)\n",
    "account1.balance"
   ]
  },
  {
   "cell_type": "code",
   "execution_count": 58,
   "metadata": {
    "colab": {
     "base_uri": "https://localhost:8080/"
    },
    "id": "ewr6ZT8FaPxT",
    "outputId": "01545e31-9136-4cc9-d372-21875ced0603",
    "tags": []
   },
   "outputs": [
    {
     "name": "stdout",
     "output_type": "stream",
     "text": [
      "Deposited $100.00 to account #123\n"
     ]
    },
    {
     "data": {
      "text/plain": [
       "100.0"
      ]
     },
     "execution_count": 58,
     "metadata": {},
     "output_type": "execute_result"
    }
   ],
   "source": [
    "account1.deposit(100)"
   ]
  },
  {
   "cell_type": "code",
   "execution_count": 59,
   "metadata": {
    "colab": {
     "base_uri": "https://localhost:8080/"
    },
    "id": "3L2SATodaSEs",
    "outputId": "5622d79a-967e-4d3a-d14d-16f38f061aea",
    "tags": []
   },
   "outputs": [
    {
     "name": "stdout",
     "output_type": "stream",
     "text": [
      "Deposited $50.00 to account #123\n"
     ]
    },
    {
     "data": {
      "text/plain": [
       "150.0"
      ]
     },
     "execution_count": 59,
     "metadata": {},
     "output_type": "execute_result"
    }
   ],
   "source": [
    "account1.deposit(50)"
   ]
  },
  {
   "cell_type": "code",
   "execution_count": 60,
   "metadata": {
    "colab": {
     "base_uri": "https://localhost:8080/"
    },
    "id": "1qGiEGkDaUPD",
    "outputId": "5e752698-0290-4f11-ff51-2f06afec727f",
    "tags": []
   },
   "outputs": [
    {
     "name": "stdout",
     "output_type": "stream",
     "text": [
      "Withdrew $75.50 from account #123\n"
     ]
    },
    {
     "data": {
      "text/plain": [
       "74.5"
      ]
     },
     "execution_count": 60,
     "metadata": {},
     "output_type": "execute_result"
    }
   ],
   "source": [
    "account1.withdraw(75.50)"
   ]
  },
  {
   "cell_type": "code",
   "execution_count": 61,
   "metadata": {
    "colab": {
     "base_uri": "https://localhost:8080/"
    },
    "id": "aUjXhytIaYpj",
    "outputId": "892c12d5-5059-47a4-abae-a1ff43ed0865",
    "tags": []
   },
   "outputs": [
    {
     "name": "stdout",
     "output_type": "stream",
     "text": [
      "Invalid withdraw amount\n"
     ]
    },
    {
     "data": {
      "text/plain": [
       "74.5"
      ]
     },
     "execution_count": 61,
     "metadata": {},
     "output_type": "execute_result"
    }
   ],
   "source": [
    "account1.withdraw(100)"
   ]
  },
  {
   "cell_type": "code",
   "execution_count": 62,
   "metadata": {
    "id": "f1wcEyQzaakg",
    "tags": []
   },
   "outputs": [],
   "source": [
    "account2 = Account('Jane Doe', 345)"
   ]
  },
  {
   "cell_type": "code",
   "execution_count": 63,
   "metadata": {
    "colab": {
     "base_uri": "https://localhost:8080/"
    },
    "id": "kRiDWNWfacKr",
    "outputId": "f6bb59b8-816d-4b30-e9ba-d4b61267ec54",
    "tags": []
   },
   "outputs": [
    {
     "name": "stdout",
     "output_type": "stream",
     "text": [
      "Deposited $1000.00 to account #345\n"
     ]
    },
    {
     "data": {
      "text/plain": [
       "1000.0"
      ]
     },
     "execution_count": 63,
     "metadata": {},
     "output_type": "execute_result"
    }
   ],
   "source": [
    "account2.deposit(1000)"
   ]
  },
  {
   "cell_type": "code",
   "execution_count": 64,
   "metadata": {
    "colab": {
     "base_uri": "https://localhost:8080/"
    },
    "id": "vb-ET4M9afBM",
    "outputId": "fba6bbfd-585e-4794-a0f9-f7d6270e5a45",
    "tags": []
   },
   "outputs": [
    {
     "name": "stdout",
     "output_type": "stream",
     "text": [
      "Withdrew $350.00 from account #345\n"
     ]
    },
    {
     "data": {
      "text/plain": [
       "650.0"
      ]
     },
     "execution_count": 64,
     "metadata": {},
     "output_type": "execute_result"
    }
   ],
   "source": [
    "account2.withdraw(350)"
   ]
  },
  {
   "cell_type": "code",
   "execution_count": 65,
   "metadata": {
    "colab": {
     "base_uri": "https://localhost:8080/"
    },
    "id": "pCGu14htag0c",
    "outputId": "d328061b-12e7-4106-f9c3-d4a154f37b60",
    "tags": []
   },
   "outputs": [
    {
     "name": "stdout",
     "output_type": "stream",
     "text": [
      "Deposited $500.00 to account #345\n"
     ]
    },
    {
     "data": {
      "text/plain": [
       "1150.0"
      ]
     },
     "execution_count": 65,
     "metadata": {},
     "output_type": "execute_result"
    }
   ],
   "source": [
    "account2.deposit(500)"
   ]
  },
  {
   "cell_type": "code",
   "execution_count": 66,
   "metadata": {
    "id": "bd_OMRiHaieP",
    "tags": []
   },
   "outputs": [],
   "source": [
    "account1.interest_rate = 0.02"
   ]
  },
  {
   "cell_type": "code",
   "execution_count": 67,
   "metadata": {
    "colab": {
     "base_uri": "https://localhost:8080/"
    },
    "id": "XEkrwtTHakHz",
    "outputId": "b7aaa5ac-e705-4004-9b01-f4f2a18e51b8",
    "tags": []
   },
   "outputs": [
    {
     "data": {
      "text/plain": [
       "0.02"
      ]
     },
     "execution_count": 67,
     "metadata": {},
     "output_type": "execute_result"
    }
   ],
   "source": [
    "account1.interest_rate"
   ]
  },
  {
   "cell_type": "code",
   "execution_count": 68,
   "metadata": {
    "colab": {
     "base_uri": "https://localhost:8080/"
    },
    "id": "ynGteCOuamBc",
    "outputId": "50002599-9149-494d-f0e2-5e17a66d0477",
    "tags": []
   },
   "outputs": [
    {
     "data": {
      "text/plain": [
       "0.01"
      ]
     },
     "execution_count": 68,
     "metadata": {},
     "output_type": "execute_result"
    }
   ],
   "source": [
    "account2.interest_rate"
   ]
  },
  {
   "cell_type": "markdown",
   "metadata": {
    "id": "Dg7ml-M5apIE"
   },
   "source": [
    "Shared data can have possibly surprising effects with involving mutable objects such as lists and dictionaries. For example, the tricks list in the following code should not be used as a class variable because just a single list would be shared by all Dog instances."
   ]
  },
  {
   "cell_type": "code",
   "execution_count": 69,
   "metadata": {
    "colab": {
     "base_uri": "https://localhost:8080/"
    },
    "id": "ByC08tuLapvj",
    "outputId": "1be12383-eb62-4551-bde7-b50721629b16",
    "tags": []
   },
   "outputs": [
    {
     "data": {
      "text/plain": [
       "[]"
      ]
     },
     "execution_count": 69,
     "metadata": {},
     "output_type": "execute_result"
    }
   ],
   "source": [
    "account1.deals"
   ]
  },
  {
   "cell_type": "code",
   "execution_count": 70,
   "metadata": {
    "colab": {
     "base_uri": "https://localhost:8080/"
    },
    "id": "sI6qQIYsas4V",
    "outputId": "af70970a-ce23-41c7-b61a-6c4992fb537d",
    "tags": []
   },
   "outputs": [
    {
     "data": {
      "text/plain": [
       "[]"
      ]
     },
     "execution_count": 70,
     "metadata": {},
     "output_type": "execute_result"
    }
   ],
   "source": [
    "account2.deals"
   ]
  },
  {
   "cell_type": "code",
   "execution_count": 71,
   "metadata": {
    "id": "bFTyYeHSautU",
    "tags": []
   },
   "outputs": [],
   "source": [
    "account1.add_deal('Gas Stations')"
   ]
  },
  {
   "cell_type": "code",
   "execution_count": 72,
   "metadata": {
    "id": "PwZQVhP0awTj",
    "tags": []
   },
   "outputs": [],
   "source": [
    "account2.add_deal('Department Stores')"
   ]
  },
  {
   "cell_type": "code",
   "execution_count": 73,
   "metadata": {
    "colab": {
     "base_uri": "https://localhost:8080/"
    },
    "id": "d4mOxuB-azgF",
    "outputId": "6bbeba4f-acca-4186-8331-d149c33558f7",
    "tags": []
   },
   "outputs": [
    {
     "data": {
      "text/plain": [
       "['Gas Stations']"
      ]
     },
     "execution_count": 73,
     "metadata": {},
     "output_type": "execute_result"
    }
   ],
   "source": [
    "account1.deals"
   ]
  },
  {
   "cell_type": "code",
   "execution_count": 74,
   "metadata": {
    "colab": {
     "base_uri": "https://localhost:8080/"
    },
    "id": "_xPMaXZcaziw",
    "outputId": "54d51669-68d0-49c1-cfee-cc562eff6b69",
    "tags": []
   },
   "outputs": [
    {
     "data": {
      "text/plain": [
       "['Department Stores']"
      ]
     },
     "execution_count": 74,
     "metadata": {},
     "output_type": "execute_result"
    }
   ],
   "source": [
    "account2.deals"
   ]
  },
  {
   "cell_type": "markdown",
   "metadata": {
    "id": "S3T0K0EFa4rL"
   },
   "source": [
    "## Inheritance\n",
    "\n",
    "Inheritance is one of the principles of object-oriented programming. Since classes may share a lot of the same code, inheritance allows a derived class to reuse the same code and modify accordingly.\n",
    "\n",
    "The Base Class (in our case `Account`) must be defined in a scope containing the derived class definition. In place of a base class name, other arbitrary expressions are also allowed. Derived classes may override methods of their base classes. Because methods have no special privileges when calling other methods of the same object, a method of a base class that calls another method defined in the same base class may end up calling a method of a derived class that overrides it.\n",
    "\n",
    "An overriding method in a derived class may in fact want to extend rather than simply replace the base class method of the same name. There is a simple way to call the base class method directly: just call `BaseClassName.methodname(self, arguments)`. This is occasionally useful to clients as well. (Note that this only works if the base class is accessible as `BaseClassName` in the global scope.)"
   ]
  },
  {
   "cell_type": "code",
   "execution_count": 75,
   "metadata": {
    "id": "pCzm1yFta1Vb",
    "tags": []
   },
   "outputs": [],
   "source": [
    "class Account:\n",
    "    def __init__(self, owner, number):\n",
    "        self.owner = owner\n",
    "        self.number = number\n",
    "        self.balance = 0\n",
    "        self.deals = []\n",
    "\n",
    "    def deposit(self, value):\n",
    "        try:\n",
    "            value = float(value)\n",
    "\n",
    "            if value < 0:\n",
    "                raise ValueError()\n",
    "\n",
    "            self.balance += value\n",
    "            print('Deposited ${:.2f} to account #{}'.format(\n",
    "                value, self.number))\n",
    "        except:\n",
    "            print('Please enter a non-negative number')\n",
    "\n",
    "    def withdraw(self, value):\n",
    "        try:\n",
    "            value = float(value)\n",
    "\n",
    "            if value < 0 or value > self.balance:\n",
    "                raise ValueError()\n",
    "\n",
    "            self.balance -= value\n",
    "            print('Withdrew ${:.2f} from account #{}'.format(\n",
    "                value, self.number))\n",
    "        except:\n",
    "            print('Invalid withdraw amount')\n",
    "\n",
    "    def show_balance(self):\n",
    "        print('Account #{} has balance ${:.2f}'.format(self.number, self.balance))"
   ]
  },
  {
   "cell_type": "markdown",
   "metadata": {
    "id": "M2aoIKV9a-kT"
   },
   "source": [
    "The syntax for a derived class definition looks like this."
   ]
  },
  {
   "cell_type": "code",
   "execution_count": 76,
   "metadata": {
    "id": "1LJjj8bva_Sq",
    "tags": []
   },
   "outputs": [],
   "source": [
    "class SavingAccount(Account):\n",
    "    # We add a class variable shared by all the instances of SavingAccount\n",
    "    interest_rate = 0.01\n",
    "\n",
    "    # We add a new method on top of all the methods available in Account\n",
    "    def pay_interest(self):\n",
    "        self.balance += self.balance * self.interest_rate"
   ]
  },
  {
   "cell_type": "code",
   "execution_count": 77,
   "metadata": {
    "id": "9y54OinLbCLB",
    "tags": []
   },
   "outputs": [],
   "source": [
    "account1 = SavingAccount('John Doe', 123)"
   ]
  },
  {
   "cell_type": "code",
   "execution_count": 78,
   "metadata": {
    "colab": {
     "base_uri": "https://localhost:8080/"
    },
    "id": "frTrzjmcbExl",
    "outputId": "e2bcc795-3323-47c5-93ac-450f1aa92299",
    "tags": []
   },
   "outputs": [
    {
     "name": "stdout",
     "output_type": "stream",
     "text": [
      "Deposited $100.00 to account #123\n",
      "Account #123 has balance $100.00\n"
     ]
    }
   ],
   "source": [
    "account1.deposit(100)\n",
    "account1.show_balance()"
   ]
  },
  {
   "cell_type": "code",
   "execution_count": 79,
   "metadata": {
    "colab": {
     "base_uri": "https://localhost:8080/"
    },
    "id": "bKDVzk99bIYh",
    "outputId": "e485f180-153d-416e-dcac-9807f1cf2500",
    "tags": []
   },
   "outputs": [
    {
     "name": "stdout",
     "output_type": "stream",
     "text": [
      "Account #123 has balance $101.00\n"
     ]
    }
   ],
   "source": [
    "account1.pay_interest()\n",
    "account1.show_balance()"
   ]
  },
  {
   "cell_type": "code",
   "execution_count": 80,
   "metadata": {
    "colab": {
     "base_uri": "https://localhost:8080/"
    },
    "id": "vQROyf0-bKZ2",
    "outputId": "b20c661e-a2f6-4d7f-b111-7ec4d83246d2",
    "tags": []
   },
   "outputs": [
    {
     "name": "stdout",
     "output_type": "stream",
     "text": [
      "Account #123 has balance $102.01\n"
     ]
    }
   ],
   "source": [
    "account1.pay_interest()\n",
    "account1.show_balance()"
   ]
  },
  {
   "cell_type": "code",
   "execution_count": 81,
   "metadata": {
    "id": "CDgQPHbjbMV7",
    "tags": []
   },
   "outputs": [],
   "source": [
    "import random\n",
    "\n",
    "class CheckingAccount(Account):\n",
    "    def issue_debit_card(self):\n",
    "        card_number = ''\n",
    "\n",
    "        for i in range(16):\n",
    "            card_number += str(random.randint(0, 9))\n",
    "            if i % 4 == 3 and i < 15:\n",
    "                card_number += ' '\n",
    "\n",
    "        self.card_number = card_number"
   ]
  },
  {
   "cell_type": "code",
   "execution_count": 82,
   "metadata": {
    "id": "aCqUh1dUbN9M",
    "tags": []
   },
   "outputs": [],
   "source": [
    "account2 = CheckingAccount('Jane Doe', 456)\n",
    "account2.issue_debit_card()"
   ]
  },
  {
   "cell_type": "code",
   "execution_count": 83,
   "metadata": {
    "colab": {
     "base_uri": "https://localhost:8080/",
     "height": 35
    },
    "id": "ZS4ACE4vbQGO",
    "outputId": "ab146c32-7242-4540-9bad-a1997988742f",
    "tags": []
   },
   "outputs": [
    {
     "data": {
      "text/plain": [
       "'8811 2938 1362 3382'"
      ]
     },
     "execution_count": 83,
     "metadata": {},
     "output_type": "execute_result"
    }
   ],
   "source": [
    "account2.card_number"
   ]
  },
  {
   "cell_type": "code",
   "execution_count": null,
   "metadata": {},
   "outputs": [],
   "source": []
  }
 ],
 "metadata": {
  "colab": {
   "provenance": []
  },
  "kernelspec": {
   "display_name": "Python 3 (ipykernel)",
   "language": "python",
   "name": "python3"
  },
  "language_info": {
   "codemirror_mode": {
    "name": "ipython",
    "version": 3
   },
   "file_extension": ".py",
   "mimetype": "text/x-python",
   "name": "python",
   "nbconvert_exporter": "python",
   "pygments_lexer": "ipython3",
   "version": "3.11.4"
  }
 },
 "nbformat": 4,
 "nbformat_minor": 4
}
