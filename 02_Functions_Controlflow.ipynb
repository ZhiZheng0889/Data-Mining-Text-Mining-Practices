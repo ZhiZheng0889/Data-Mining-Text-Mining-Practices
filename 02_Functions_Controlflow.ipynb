{
  "nbformat": 4,
  "nbformat_minor": 0,
  "metadata": {
    "colab": {
      "provenance": []
    },
    "kernelspec": {
      "name": "python3",
      "display_name": "Python 3"
    },
    "language_info": {
      "name": "python"
    }
  },
  "cells": [
    {
      "cell_type": "markdown",
      "source": [
        "##Control Flow"
      ],
      "metadata": {
        "id": "XL3dFV0_Nw-K"
      }
    },
    {
      "cell_type": "markdown",
      "source": [
        "# Conditionals\n",
        "\n",
        "- 'if' statement can be uesd in Python to test for different conditions.\n",
        "- 'elif' statement is used to add extra conditions for testing.\n",
        "- 'else' statement is executed if no previous condition is satisfied.\n",
        "\n",
        "There can be zero or more elif parts, and at most one else part. The keyword 'elif' is short for 'else if', and is useful to avoid excessive indentation."
      ],
      "metadata": {
        "id": "oVGqK7nHN9or"
      }
    },
    {
      "cell_type": "code",
      "execution_count": null,
      "metadata": {
        "colab": {
          "base_uri": "https://localhost:8080/"
        },
        "id": "xGiigMBmNpWs",
        "outputId": "a7eccea2-e4ac-4562-c28d-5204b7efd09a"
      },
      "outputs": [
        {
          "output_type": "stream",
          "name": "stdout",
          "text": [
            "You are 20 years old.\n",
            "Enjoy your orange juice!\n"
          ]
        }
      ],
      "source": [
        "user_age = 20\n",
        "\n",
        "print('You are', user_age, 'years old.')\n",
        "if user_age < 21:\n",
        "    print('Enjoy your orange juice!')\n",
        "else:\n",
        "    print(\"Enjoy your beer!\")"
      ]
    },
    {
      "cell_type": "markdown",
      "source": [
        "If there are multiple conditions, 'elif' should be used.\n"
      ],
      "metadata": {
        "id": "8nkPR4ZqODQO"
      }
    },
    {
      "cell_type": "code",
      "source": [
        "student_final_grade = 85\n",
        "student_letter_grade = 'N/A'\n",
        "\n",
        "if student_final_grade >= 90:\n",
        "    student_letter_grade = 'A'\n",
        "elif student_final_grade >= 80:\n",
        "    student_letter_grade = 'B'\n",
        "elif student_final_grade >= 70:\n",
        "    student_letter_grade = 'C'\n",
        "elif student_final_grade >= 60:\n",
        "    student_letter_grade = 'D'\n",
        "else:\n",
        "    student_letter_grade = 'F'\n",
        "\n",
        "print(\"Your final grade is\", student_final_grade, \"and your letter grade is\", student_letter_grade)"
      ],
      "metadata": {
        "colab": {
          "base_uri": "https://localhost:8080/"
        },
        "id": "eQQ3TAR9OD6M",
        "outputId": "81386420-39c5-4f85-bc83-cca08cf5ce4c"
      },
      "execution_count": null,
      "outputs": [
        {
          "output_type": "stream",
          "name": "stdout",
          "text": [
            "Your final grade is 85 and your letter grade is B\n"
          ]
        }
      ]
    },
    {
      "cell_type": "code",
      "source": [
        "# Multiple conditions could be combined using the logical operators.\n",
        "user_age = 24\n",
        "user_balance = 15.50\n",
        "\n",
        "if user_age >= 21 and user_balance >= 10:\n",
        "    print(\"Enjoy your martini! :)\")\n",
        "elif user_balance >= 5:\n",
        "    print(\"Enjoy your orange juice! :|\")\n",
        "else:\n",
        "    print(\"Enjoy a cup of water! :(\")"
      ],
      "metadata": {
        "colab": {
          "base_uri": "https://localhost:8080/"
        },
        "id": "agQmiu4xOJo7",
        "outputId": "612d57b1-ae96-44e1-f5fc-634f2d42b3d5"
      },
      "execution_count": null,
      "outputs": [
        {
          "output_type": "stream",
          "name": "stdout",
          "text": [
            "Enjoy your martini! :)\n"
          ]
        }
      ]
    },
    {
      "cell_type": "code",
      "source": [
        "user_role = \"student\"\n",
        "\n",
        "if user_role == \"instructor\" or user_role == \"student\" or user_role == \"ta\":\n",
        "    print(\"You can access the course page\")\n",
        "else:\n",
        "    print(\"Access denied!\")"
      ],
      "metadata": {
        "colab": {
          "base_uri": "https://localhost:8080/"
        },
        "id": "oNPqmr28ON2L",
        "outputId": "ff9623c3-767d-4463-8450-1af70521c06b"
      },
      "execution_count": null,
      "outputs": [
        {
          "output_type": "stream",
          "name": "stdout",
          "text": [
            "You can access the course page\n"
          ]
        }
      ]
    },
    {
      "cell_type": "code",
      "source": [
        "# Python supports nested 'if' statements.\n",
        "user_age = 17\n",
        "user_balance = 5.50\n",
        "user_drink = \"water\"\n",
        "\n",
        "if user_age >= 21:\n",
        "    if user_balance >= 10:\n",
        "        user_drink = \"martini\"\n",
        "    elif user_balance >= 5:\n",
        "        user_drink = \"beer\"\n",
        "else:\n",
        "    if user_balance >= 5:\n",
        "        user_drink = \"orange juice\"\n",
        "\n",
        "print(\"Enjoy your\", user_drink)"
      ],
      "metadata": {
        "colab": {
          "base_uri": "https://localhost:8080/"
        },
        "id": "K9SAyHgcOSb8",
        "outputId": "8cf24a3d-1182-4e24-8a06-f04cd8f4c499"
      },
      "execution_count": null,
      "outputs": [
        {
          "output_type": "stream",
          "name": "stdout",
          "text": [
            "Enjoy your orange juice\n"
          ]
        }
      ]
    },
    {
      "cell_type": "markdown",
      "source": [
        "# Loops\n",
        "\n",
        "Pyhton supports several looping mechanisms in order to execute a group of statements for a specific number of iterations."
      ],
      "metadata": {
        "id": "TtVuyoRKOZ-N"
      }
    },
    {
      "cell_type": "markdown",
      "source": [
        "## For Loops\n",
        "\n",
        "Python's `for` statement iterates over the items of any sequence (a list or a string), in the order that they appear in the sequence."
      ],
      "metadata": {
        "id": "xo7l6uG-OdHL"
      }
    },
    {
      "cell_type": "code",
      "source": [
        "user_list = [\"John\", \"Jane\", \"Jack\", \"Jill\", \"James\", \"Jesse\"]\n",
        "\n",
        "for user_name in user_list:\n",
        "    print(\"[ Welcome\", user_name, \"]\")"
      ],
      "metadata": {
        "colab": {
          "base_uri": "https://localhost:8080/"
        },
        "id": "q7_IqoB5OVEk",
        "outputId": "3a070601-c07b-4604-e479-389bdb98008a"
      },
      "execution_count": null,
      "outputs": [
        {
          "output_type": "stream",
          "name": "stdout",
          "text": [
            "[ Welcome John ]\n",
            "[ Welcome Jane ]\n",
            "[ Welcome Jack ]\n",
            "[ Welcome Jill ]\n",
            "[ Welcome James ]\n",
            "[ Welcome Jesse ]\n"
          ]
        }
      ]
    },
    {
      "cell_type": "code",
      "source": [
        "for user_name in user_list[0:2]:\n",
        "    print(\"Bye\", user_name)"
      ],
      "metadata": {
        "colab": {
          "base_uri": "https://localhost:8080/"
        },
        "id": "U2nEshNxOfpd",
        "outputId": "88492aee-559a-4890-9b77-2797dd3bd3b1"
      },
      "execution_count": null,
      "outputs": [
        {
          "output_type": "stream",
          "name": "stdout",
          "text": [
            "Bye John\n",
            "Bye Jane\n"
          ]
        }
      ]
    },
    {
      "cell_type": "code",
      "source": [
        "# First 10 even numbers:\n",
        "numbers = range(0, 20, 2)\n",
        "for number in numbers:\n",
        "    bb = list(numbers)\n",
        "print(bb)"
      ],
      "metadata": {
        "colab": {
          "base_uri": "https://localhost:8080/"
        },
        "id": "Hbyj-R4wOhbM",
        "outputId": "3c8b7ded-4650-4d16-9a2a-a0e4abc399ee"
      },
      "execution_count": null,
      "outputs": [
        {
          "output_type": "stream",
          "name": "stdout",
          "text": [
            "[0, 2, 4, 6, 8, 10, 12, 14, 16, 18]\n"
          ]
        }
      ]
    },
    {
      "cell_type": "code",
      "source": [
        "# User names and their IDs:\n",
        "for user_id in range(len(user_list)):\n",
        "    print(user_id + 1, user_list[user_id])"
      ],
      "metadata": {
        "colab": {
          "base_uri": "https://localhost:8080/"
        },
        "id": "T5MZdZVlOl1s",
        "outputId": "20e1ab88-bdf3-433c-e237-75f3ae3891ae"
      },
      "execution_count": null,
      "outputs": [
        {
          "output_type": "stream",
          "name": "stdout",
          "text": [
            "1 John\n",
            "2 Jane\n",
            "3 Jack\n",
            "4 Jill\n",
            "5 James\n",
            "6 Jesse\n"
          ]
        }
      ]
    },
    {
      "cell_type": "markdown",
      "source": [
        "##Generate user names separated by a comma using a for loop.\n"
      ],
      "metadata": {
        "id": "km2PAIaLOsVd"
      }
    },
    {
      "cell_type": "code",
      "source": [
        "\n",
        "# Method 1:\n",
        "comma_separated_names = \"\"\n",
        "\n",
        "for user_id in range(len(user_list)):\n",
        "    user_name = user_list[user_id]\n",
        "\n",
        "    comma_separated_names += user_name\n",
        "\n",
        "    if user_id != len(user_list) - 1:\n",
        "        comma_separated_names += \",\"\n",
        "\n",
        "comma_separated_names"
      ],
      "metadata": {
        "colab": {
          "base_uri": "https://localhost:8080/",
          "height": 35
        },
        "id": "lLGQDwtGOpck",
        "outputId": "0ed653b3-9f09-4be7-8195-b87a322a088c"
      },
      "execution_count": null,
      "outputs": [
        {
          "output_type": "execute_result",
          "data": {
            "text/plain": [
              "'John,Jane,Jack,Jill,James,Jesse'"
            ],
            "application/vnd.google.colaboratory.intrinsic+json": {
              "type": "string"
            }
          },
          "metadata": {},
          "execution_count": 10
        }
      ]
    },
    {
      "cell_type": "code",
      "source": [
        "# Method 2:\n",
        "comma_separated_names = \"\"\n",
        "\n",
        "for user_name in user_list:\n",
        "    comma_separated_names += user_name + \",\"\n",
        "comma_separated_names = comma_separated_names[0:-1]\n",
        "\n",
        "\n",
        "comma_separated_names"
      ],
      "metadata": {
        "colab": {
          "base_uri": "https://localhost:8080/",
          "height": 35
        },
        "id": "h9ZGab1fOx7c",
        "outputId": "7feff679-8c66-4540-ce58-522bf25db613"
      },
      "execution_count": null,
      "outputs": [
        {
          "output_type": "execute_result",
          "data": {
            "text/plain": [
              "'John,Jane,Jack,Jill,James,Jesse'"
            ],
            "application/vnd.google.colaboratory.intrinsic+json": {
              "type": "string"
            }
          },
          "metadata": {},
          "execution_count": 11
        }
      ]
    },
    {
      "cell_type": "code",
      "source": [
        "# Method 3\n",
        "comma_separated_names = user_list[0]\n",
        "\n",
        "for user_name in user_list[1:]:\n",
        "     comma_separated_names += \",\" + user_name\n",
        "\n",
        "comma_separated_names"
      ],
      "metadata": {
        "colab": {
          "base_uri": "https://localhost:8080/",
          "height": 35
        },
        "id": "2Ml3x_NoO2LD",
        "outputId": "1b3f845a-7b75-4165-b513-7190f784f8bc"
      },
      "execution_count": null,
      "outputs": [
        {
          "output_type": "execute_result",
          "data": {
            "text/plain": [
              "'John,Jane,Jack,Jill,James,Jesse'"
            ],
            "application/vnd.google.colaboratory.intrinsic+json": {
              "type": "string"
            }
          },
          "metadata": {},
          "execution_count": 12
        }
      ]
    },
    {
      "cell_type": "markdown",
      "source": [
        "## While Loops\n",
        "\n",
        "The `while` loop executes as long as the condition remains true. The condition may also be a string or list value, in fact any sequence; anything with a non-zero length is true, empty sequences are false."
      ],
      "metadata": {
        "id": "DS30L6XBO7ak"
      }
    },
    {
      "cell_type": "code",
      "source": [
        "# Calculate sum of all the positive integer less than or equal to 100:\n",
        "final_value = 100\n",
        "\n",
        "sum = 0\n",
        "\n",
        "while final_value > 0:\n",
        "    sum += final_value\n",
        "    final_value -= 1\n",
        "\n",
        "print(sum)"
      ],
      "metadata": {
        "colab": {
          "base_uri": "https://localhost:8080/"
        },
        "id": "NHeBUzxXO5eE",
        "outputId": "a187d421-67ab-4663-f1b6-dba2e3a8d6c2"
      },
      "execution_count": null,
      "outputs": [
        {
          "output_type": "stream",
          "name": "stdout",
          "text": [
            "5050\n"
          ]
        }
      ]
    },
    {
      "cell_type": "code",
      "source": [
        "# Calculate the factorial of 10:\n",
        "final_value = 10\n",
        "\n",
        "factorial = 1\n",
        "\n",
        "while final_value > 1:\n",
        "    factorial *= final_value\n",
        "    final_value -= 1\n",
        "\n",
        "factorial"
      ],
      "metadata": {
        "colab": {
          "base_uri": "https://localhost:8080/"
        },
        "id": "qQplgFbgO_ZT",
        "outputId": "c5a0ae88-bd84-47c4-e8b0-6668264c9759"
      },
      "execution_count": null,
      "outputs": [
        {
          "output_type": "execute_result",
          "data": {
            "text/plain": [
              "3628800"
            ]
          },
          "metadata": {},
          "execution_count": 14
        }
      ]
    },
    {
      "cell_type": "markdown",
      "source": [
        "## break\n",
        "\n",
        "The `break` statement breaks out of the innermost enclosing `for` or `while` loop."
      ],
      "metadata": {
        "id": "yYR4J3dNPElL"
      }
    },
    {
      "cell_type": "code",
      "source": [
        "user_list = [\"Jane\", \"John\", \"Jill\", \"Jack\", \"James\"]\n",
        "\n",
        "for user_name in user_list:\n",
        "    print(user_name)\n",
        "    if user_name == \"Jill\":\n",
        "        break\n",
        "\n",
        "print(\"This message is displayed after the loop\")"
      ],
      "metadata": {
        "colab": {
          "base_uri": "https://localhost:8080/"
        },
        "id": "edPigR0JPC4U",
        "outputId": "e234ceaa-19b8-48c1-fe8d-96d9eec3be98"
      },
      "execution_count": null,
      "outputs": [
        {
          "output_type": "stream",
          "name": "stdout",
          "text": [
            "Jane\n",
            "John\n",
            "Jill\n",
            "This message is displayed after the loop\n"
          ]
        }
      ]
    },
    {
      "cell_type": "markdown",
      "source": [
        "In this code, we initialize variables and use a while loop to accumulate the sum of values while ensuring that the loop breaks when the 'temporary_value' becomes 42. Finally, the sum of values is printed."
      ],
      "metadata": {
        "id": "Tey2U2D56C9y"
      }
    },
    {
      "cell_type": "code",
      "source": [
        "final_value = 100\n",
        "temporary_value = 0\n",
        "sum_values = 0\n",
        "\n",
        "# Loop while temporary_value is less than final_value\n",
        "while temporary_value < final_value:\n",
        "    # Check if temporary_value is 42 and break the loop\n",
        "    if temporary_value == 42:\n",
        "        break\n",
        "\n",
        "    # Add temporary_value to sum_values and increment temporary_value\n",
        "    sum_values += temporary_value\n",
        "    temporary_value += 1\n",
        "\n",
        "# Print the sum of the values\n",
        "print(\"\\nSum of the values is\", sum_values)"
      ],
      "metadata": {
        "colab": {
          "base_uri": "https://localhost:8080/"
        },
        "id": "Ou_qhc_JPJfl",
        "outputId": "21873b24-ec58-4e18-df29-a978d0f49dee"
      },
      "execution_count": null,
      "outputs": [
        {
          "output_type": "stream",
          "name": "stdout",
          "text": [
            "\n",
            "Sum of the values is 861\n"
          ]
        }
      ]
    },
    {
      "cell_type": "markdown",
      "source": [
        "In this code, we have a list of user names and we use a for loop to iterate through the list to search for a specific value. The loop stops as soon as the value is found using the break statement. Finally, the code checks if the value was found and prints a corresponding message."
      ],
      "metadata": {
        "id": "qg8Hkh_l6W0s"
      }
    },
    {
      "cell_type": "code",
      "source": [
        "# List of user names\n",
        "user_list = [\"Jane\", \"John\", \"Jill\", \"Jack\", \"James\"]\n",
        "\n",
        "# Value to search for\n",
        "search_value = \"Jill\"\n",
        "\n",
        "# Initialize result to indicate not found\n",
        "result = -1\n",
        "\n",
        "# Iterate through the user_list to search for the value\n",
        "for item_index in range(len(user_list)):\n",
        "    user_name = user_list[item_index]\n",
        "    if user_name == search_value:\n",
        "        result = item_index\n",
        "        # Exit the loop when the value is found\n",
        "        break\n",
        "\n",
        "# Check if the value was found and print the appropriate message\n",
        "if result > -1:\n",
        "    print(search_value, \"is found at index\", result)\n",
        "else:\n",
        "    print(search_value, \"is not found\")\n"
      ],
      "metadata": {
        "colab": {
          "base_uri": "https://localhost:8080/"
        },
        "id": "1BIivR07PL6U",
        "outputId": "4ccf37dc-6eee-4a72-a265-6ba587905bd4"
      },
      "execution_count": null,
      "outputs": [
        {
          "output_type": "stream",
          "name": "stdout",
          "text": [
            "Jill is found at index 2\n"
          ]
        }
      ]
    },
    {
      "cell_type": "markdown",
      "source": [
        "## continue\n",
        "\n",
        "The `continue` statement continues with the next iteration of the loop."
      ],
      "metadata": {
        "id": "q4pN4EMYPN2c"
      }
    },
    {
      "cell_type": "code",
      "source": [
        "numbers_list = list(range(100, 140))\n",
        "\n",
        "for value in numbers_list:\n",
        "    if value % 3 == 0:\n",
        "        continue\n",
        "    print(value)"
      ],
      "metadata": {
        "colab": {
          "base_uri": "https://localhost:8080/"
        },
        "id": "Gvi-S_k2PQjc",
        "outputId": "e6411dd8-1593-4cb3-883c-be71a41d5bd0"
      },
      "execution_count": null,
      "outputs": [
        {
          "output_type": "stream",
          "name": "stdout",
          "text": [
            "100\n",
            "101\n",
            "103\n",
            "104\n",
            "106\n",
            "107\n",
            "109\n",
            "110\n",
            "112\n",
            "113\n",
            "115\n",
            "116\n",
            "118\n",
            "119\n",
            "121\n",
            "122\n",
            "124\n",
            "125\n",
            "127\n",
            "128\n",
            "130\n",
            "131\n",
            "133\n",
            "134\n",
            "136\n",
            "137\n",
            "139\n"
          ]
        }
      ]
    },
    {
      "cell_type": "markdown",
      "source": [
        "## Functions\n",
        "\n",
        "Functions are \"self contained\" blocks of code that accomplish a specific task. Functions usually \"take in\" data, process it, and \"return\" a result. Once a function is written, it can be used over and over and over again. Functions can be \"called\" from the inside of other functions.\n",
        "\n",
        "The keyword `def` introduces a function definition. It must be followed by the function name and the  parenthesized list of formal parameters. The statements that form the body of the function start at  the next line, and must be indented."
      ],
      "metadata": {
        "id": "yJGrC3PEPbmG"
      }
    },
    {
      "cell_type": "code",
      "source": [
        "def greet():\n",
        "    print(\"Hello user!\")\n",
        "    print(\"Welcome to CAP 5771\")\n",
        "\n",
        "greet()"
      ],
      "metadata": {
        "colab": {
          "base_uri": "https://localhost:8080/"
        },
        "id": "iJ6Q2ztsPS38",
        "outputId": "364768c8-0471-4f31-970d-2d2369b4e2c4"
      },
      "execution_count": null,
      "outputs": [
        {
          "output_type": "stream",
          "name": "stdout",
          "text": [
            "Hello user!\n",
            "Welcome to CAP 5771\n"
          ]
        }
      ]
    },
    {
      "cell_type": "markdown",
      "source": [
        "Functions can accept as many arguments, which are going to be accessible inside the function definition. Argument variables can be called any legal variable name and they are accessible using that defined name inside the function definition block."
      ],
      "metadata": {
        "id": "yZugeo6mPjre"
      }
    },
    {
      "cell_type": "code",
      "source": [
        "def greet_user(user_name):\n",
        "    print(\"Hello\", user_name)\n",
        "    print(\"Welcome to CAP 5771\")\n",
        "\n",
        "user_list = [\"Jane\", \"John\", \"Jill\", \"Jack\", \"James\"]\n",
        "\n",
        "for user_name in user_list:\n",
        "    greet_user(user_name)"
      ],
      "metadata": {
        "colab": {
          "base_uri": "https://localhost:8080/"
        },
        "id": "hs5ps9aiPhVc",
        "outputId": "5d4be681-7984-468d-f3b3-6ddcd5a75a2d"
      },
      "execution_count": null,
      "outputs": [
        {
          "output_type": "stream",
          "name": "stdout",
          "text": [
            "Hello Jane\n",
            "Welcome to CAP 5771\n",
            "Hello John\n",
            "Welcome to CAP 5771\n",
            "Hello Jill\n",
            "Welcome to CAP 5771\n",
            "Hello Jack\n",
            "Welcome to CAP 5771\n",
            "Hello James\n",
            "Welcome to CAP 5771\n"
          ]
        }
      ]
    },
    {
      "cell_type": "code",
      "source": [
        "def greet_user_to_class(user_name, department_code, class_code):\n",
        "    print(\"Hello\", user_name)\n",
        "    print(\"Welcome to\", department_code, class_code)\n",
        "\n",
        "user_list = [\"Jane\", \"John\", \"Jill\", \"Jack\", \"James\"]\n",
        "\n",
        "for user_name in user_list:\n",
        "    greet_user_to_class(user_name, \"CAP\", \"5771\")"
      ],
      "metadata": {
        "colab": {
          "base_uri": "https://localhost:8080/"
        },
        "id": "FuQcemFePn1E",
        "outputId": "ff84212a-54d0-468c-84db-bfecfffb8afc"
      },
      "execution_count": null,
      "outputs": [
        {
          "output_type": "stream",
          "name": "stdout",
          "text": [
            "Hello Jane\n",
            "Welcome to CAP 5771\n",
            "Hello John\n",
            "Welcome to CAP 5771\n",
            "Hello Jill\n",
            "Welcome to CAP 5771\n",
            "Hello Jack\n",
            "Welcome to CAP 5771\n",
            "Hello James\n",
            "Welcome to CAP 5771\n"
          ]
        }
      ]
    },
    {
      "cell_type": "markdown",
      "source": [
        "To return a value from a function once the function is done processing, the `return` keyword can be used. Any value in front of the `return` keyword will be returned from the function, where the function is called. No statement will be executed in the function after the `return` statement."
      ],
      "metadata": {
        "id": "lKeU4rbCPx3k"
      }
    },
    {
      "cell_type": "code",
      "source": [
        "def add_numbers(number1, number2):\n",
        "    sum_numbers = number1 + number2\n",
        "    return sum_numbers\n",
        "\n",
        "value = add_numbers(12, 21)\n",
        "\n",
        "value"
      ],
      "metadata": {
        "colab": {
          "base_uri": "https://localhost:8080/"
        },
        "id": "lyNW6MugPuN6",
        "outputId": "977ee80e-5d20-4c73-d5fe-c1c2f3814976"
      },
      "execution_count": null,
      "outputs": [
        {
          "output_type": "execute_result",
          "data": {
            "text/plain": [
              "33"
            ]
          },
          "metadata": {},
          "execution_count": 22
        }
      ]
    },
    {
      "cell_type": "markdown",
      "source": [
        "This code defines a function fibonacci_numbers_upto that generates and prints Fibonacci numbers up to a given max_value. It uses a while loop to generate and print the numbers while keeping track of the last two values using n_1_value and n_2_value. The function is then called with an argument of 999 to print Fibonacci numbers up to that value."
      ],
      "metadata": {
        "id": "XHF9pTJF6t93"
      }
    },
    {
      "cell_type": "code",
      "source": [
        "# Define a function to print Fibonacci numbers up to a given maximum value\n",
        "def fibonacci_numbers_upto(max_value):\n",
        "    n_1_value = 1\n",
        "    n_2_value = 1\n",
        "\n",
        "    # Print the first two Fibonacci numbers\n",
        "    print(n_1_value)\n",
        "    print(n_2_value)\n",
        "\n",
        "    # Generate and print Fibonacci numbers up to max_value\n",
        "    while n_1_value + n_2_value < max_value:\n",
        "        print(n_1_value + n_2_value)\n",
        "        n_1_value, n_2_value = n_1_value + n_2_value, n_1_value\n",
        "\n",
        "# Call the function to print Fibonacci numbers up to 999\n",
        "fibonacci_numbers_upto(999)\n"
      ],
      "metadata": {
        "colab": {
          "base_uri": "https://localhost:8080/"
        },
        "id": "MR_b5GcJP1VT",
        "outputId": "149183dd-e9f6-4fba-a699-f0b663ccc0c7"
      },
      "execution_count": null,
      "outputs": [
        {
          "output_type": "stream",
          "name": "stdout",
          "text": [
            "1\n",
            "1\n",
            "2\n",
            "3\n",
            "5\n",
            "8\n",
            "13\n",
            "21\n",
            "34\n",
            "55\n",
            "89\n",
            "144\n",
            "233\n",
            "377\n",
            "610\n",
            "987\n"
          ]
        }
      ]
    },
    {
      "cell_type": "markdown",
      "source": [
        "## Scopes\n",
        "\n",
        "The scope of a variable refers to the places that you can see or access a variable."
      ],
      "metadata": {
        "id": "A0AJbM2iP6o8"
      }
    },
    {
      "cell_type": "code",
      "source": [
        "# If the accessed variable does not exists in the function scope, it tries to find a variable with the same name in the global (outher) scope.\n",
        "user_name = \"Jane\"\n",
        "\n",
        "def access_global_var():\n",
        "    print(\"Hello\", user_name)\n",
        "\n",
        "print(\"'user_name' before calling access_global_var:\", user_name)\n",
        "access_global_var()\n",
        "print(\"'user_name' after calling access_global_var:\", user_name)"
      ],
      "metadata": {
        "colab": {
          "base_uri": "https://localhost:8080/"
        },
        "id": "85W4IE5SP17z",
        "outputId": "db944700-7ffd-4376-9951-0bdb205a1746"
      },
      "execution_count": null,
      "outputs": [
        {
          "output_type": "stream",
          "name": "stdout",
          "text": [
            "'user_name' before calling access_global_var: Jane\n",
            "Hello Jane\n",
            "'user_name' after calling access_global_var: Jane\n"
          ]
        }
      ]
    },
    {
      "cell_type": "code",
      "source": [
        "# If a variable is defined in the function scope, the outer and global variables with the same name will be ignored.\n",
        "def define_local_var():\n",
        "    user_name = \"John\"\n",
        "    print(\"Hello\", user_name)\n",
        "\n",
        "print(\"\\n'user_name' before calling define_local_var:\", user_name)\n",
        "define_local_var()\n",
        "print(\"'user_name' after calling define_local_var:\", user_name)"
      ],
      "metadata": {
        "colab": {
          "base_uri": "https://localhost:8080/"
        },
        "id": "AHswmtJaQDFd",
        "outputId": "9b789a1d-1bbc-4b5e-9e59-b7c77d2e7919"
      },
      "execution_count": null,
      "outputs": [
        {
          "output_type": "stream",
          "name": "stdout",
          "text": [
            "\n",
            "'user_name' before calling define_local_var: Jane\n",
            "Hello John\n",
            "'user_name' after calling define_local_var: Jane\n"
          ]
        }
      ]
    },
    {
      "cell_type": "markdown",
      "source": [
        "If we want to access a variable defined a the global scope, first that variable should be called with keyword 'global'. Then, the global value can be read and modified.\n"
      ],
      "metadata": {
        "id": "ZWcjWMLSQUak"
      }
    },
    {
      "cell_type": "code",
      "source": [
        "def change_global_var():\n",
        "    global user_name\n",
        "    user_name = \"John\"\n",
        "    print(\"Hello\", user_name)\n",
        "\n",
        "print(\"\\n'user_name' before calling change_global_var:\", user_name)\n",
        "change_global_var()\n",
        "print(\"'user_name' after calling change_global_var:\", user_name)"
      ],
      "metadata": {
        "colab": {
          "base_uri": "https://localhost:8080/"
        },
        "id": "FHY3fGJUQGn7",
        "outputId": "929193ea-90a9-49a7-f93f-81c39ebf6034"
      },
      "execution_count": null,
      "outputs": [
        {
          "output_type": "stream",
          "name": "stdout",
          "text": [
            "\n",
            "'user_name' before calling change_global_var: Jane\n",
            "Hello John\n",
            "'user_name' after calling change_global_var: John\n"
          ]
        }
      ]
    },
    {
      "cell_type": "markdown",
      "source": [
        "If a function is defined inside another scope (e.g., function), to access a variable in the outer (non-local) scope, that variable has to be called with the 'nonlocal' keyword first. Then, the value of that variable in the outer scope can be read and modified.\n"
      ],
      "metadata": {
        "id": "LM7UZZuuQPkD"
      }
    },
    {
      "cell_type": "code",
      "source": [
        "def change_nonlocal_var():\n",
        "    user_name = \"Jack\"\n",
        "\n",
        "    def access_nonlocal_var():\n",
        "        global user_name\n",
        "        # nonlocal user_name\n",
        "        user_name = \"Janet\"\n",
        "        print(\"Bye\", user_name)\n",
        "\n",
        "    print(\"'user_name' before calling access_nonlocal_var:\", user_name)\n",
        "    access_nonlocal_var()\n",
        "    print(\"'user_name' after calling access_nonlocal_var:\", user_name)\n",
        "\n",
        "print(\"\\n'user_name' before calling change_nonlocal_var:\", user_name)\n",
        "change_nonlocal_var()\n",
        "print(\"'user_name' after calling change_nonlocal_var:\", user_name)"
      ],
      "metadata": {
        "id": "c6wKAiHKQQbM"
      },
      "execution_count": null,
      "outputs": []
    },
    {
      "cell_type": "markdown",
      "source": [
        "### Arguments\n",
        "\n",
        "Functions accept input values (arguments) in several different forms."
      ],
      "metadata": {
        "id": "e64uCkDNQa0_"
      }
    },
    {
      "cell_type": "markdown",
      "source": [
        "## Positional Arguments\n",
        "\n",
        "The most basic form of arguments is positional arguments. They are passed to the function in the same order they are defined and they all have to be present."
      ],
      "metadata": {
        "id": "dQN5o0gYQfql"
      }
    },
    {
      "cell_type": "code",
      "source": [
        "def greet_user(name):\n",
        "    print('Hello {}'.format(name))\n",
        "\n",
        "greet_user('John')"
      ],
      "metadata": {
        "colab": {
          "base_uri": "https://localhost:8080/"
        },
        "id": "hEMYUHBJQdsN",
        "outputId": "1200b502-c0ba-40b6-967b-6281f320aced"
      },
      "execution_count": null,
      "outputs": [
        {
          "output_type": "stream",
          "name": "stdout",
          "text": [
            "Hello John\n"
          ]
        }
      ]
    },
    {
      "cell_type": "markdown",
      "source": [
        "## Default Arguments\n",
        "\n",
        "The most useful form for a function is to specify a default value for one or  more arguments. This creates a function that can be called with fewer arguments than it is defined to allow."
      ],
      "metadata": {
        "id": "BzIPeHkqQkjM"
      }
    },
    {
      "cell_type": "code",
      "source": [
        "def greet_user(user_name, greeting_type = \"Hello\"):\n",
        "    print(greeting_type + \" \" + user_name + \"!\")\n",
        "\n",
        "greet_user(\"John\")\n",
        "\n",
        "greet_user(\"Jane\", \"Bye\")"
      ],
      "metadata": {
        "colab": {
          "base_uri": "https://localhost:8080/"
        },
        "id": "tgY3FzZJQlGT",
        "outputId": "6b46cb24-357b-474a-ce7f-2b714dedeaba"
      },
      "execution_count": null,
      "outputs": [
        {
          "output_type": "stream",
          "name": "stdout",
          "text": [
            "Hello John!\n",
            "Bye Jane!\n"
          ]
        }
      ]
    },
    {
      "cell_type": "code",
      "source": [
        "def power_of(number, power = 2):\n",
        "    return number ** power\n",
        "\n",
        "print(\"4 ^ 2:\", power_of(4))\n",
        "print(\"4 ^ 5:\", power_of(4, 5))"
      ],
      "metadata": {
        "colab": {
          "base_uri": "https://localhost:8080/"
        },
        "id": "SD7Llv7vQn7m",
        "outputId": "7520f937-cb74-4a1d-d9e5-4a921531437b"
      },
      "execution_count": null,
      "outputs": [
        {
          "output_type": "stream",
          "name": "stdout",
          "text": [
            "4 ^ 2: 16\n",
            "4 ^ 5: 1024\n"
          ]
        }
      ]
    },
    {
      "cell_type": "markdown",
      "source": [
        "## Keyword Arguments\n",
        "\n",
        "Functions can be called using keyword arguments of the form kwarg=value."
      ],
      "metadata": {
        "id": "HqjfeLUKQqkE"
      }
    },
    {
      "cell_type": "code",
      "source": [
        "def greet_user(user_name, greeting_type = \"Hello\", ending = \"!\"):\n",
        "    return greeting_type + \" \" + user_name + ending"
      ],
      "metadata": {
        "id": "O3Z2pNKPQrWc"
      },
      "execution_count": null,
      "outputs": []
    },
    {
      "cell_type": "markdown",
      "source": [
        "We can either call functions using positional arguemts in the same order as definition of arguments."
      ],
      "metadata": {
        "id": "B330pTrMQwfW"
      }
    },
    {
      "cell_type": "code",
      "source": [
        "message = greet_user(\"Jake\", \"How are you\", \"?\")\n",
        "message"
      ],
      "metadata": {
        "colab": {
          "base_uri": "https://localhost:8080/",
          "height": 35
        },
        "id": "1kZZ1yEnQxmD",
        "outputId": "1e165d28-bddb-45f8-e5fb-929f39108085"
      },
      "execution_count": null,
      "outputs": [
        {
          "output_type": "execute_result",
          "data": {
            "text/plain": [
              "'How are you Jake?'"
            ],
            "application/vnd.google.colaboratory.intrinsic+json": {
              "type": "string"
            }
          },
          "metadata": {},
          "execution_count": 31
        }
      ]
    },
    {
      "cell_type": "code",
      "source": [
        "message = greet_user(\"Janet\", \"Howdy\")\n",
        "message"
      ],
      "metadata": {
        "colab": {
          "base_uri": "https://localhost:8080/",
          "height": 35
        },
        "id": "z9kSMi9RQ0B9",
        "outputId": "67c540c2-2203-4c56-dc6c-efdbfb1318be"
      },
      "execution_count": null,
      "outputs": [
        {
          "output_type": "execute_result",
          "data": {
            "text/plain": [
              "'Howdy Janet!'"
            ],
            "application/vnd.google.colaboratory.intrinsic+json": {
              "type": "string"
            }
          },
          "metadata": {},
          "execution_count": 32
        }
      ]
    },
    {
      "cell_type": "markdown",
      "source": [
        "Or we can call functions using keyword arguments in any order using the arguments name followed by = and a value."
      ],
      "metadata": {
        "id": "7D4zTpVUQ2pN"
      }
    },
    {
      "cell_type": "code",
      "source": [
        "message = greet_user(user_name = \"Jane\")\n",
        "message"
      ],
      "metadata": {
        "colab": {
          "base_uri": "https://localhost:8080/",
          "height": 35
        },
        "id": "bt8KNOpsQ3SK",
        "outputId": "52cb8557-a828-4381-81de-912b678d3980"
      },
      "execution_count": null,
      "outputs": [
        {
          "output_type": "execute_result",
          "data": {
            "text/plain": [
              "'Hello Jane!'"
            ],
            "application/vnd.google.colaboratory.intrinsic+json": {
              "type": "string"
            }
          },
          "metadata": {},
          "execution_count": 33
        }
      ]
    },
    {
      "cell_type": "code",
      "source": [
        "message = greet_user(greeting_type = \"What's up\", user_name = \"John\", ending = \"?\")\n",
        "message"
      ],
      "metadata": {
        "colab": {
          "base_uri": "https://localhost:8080/",
          "height": 35
        },
        "id": "NqqmoFHLQ5_k",
        "outputId": "2810dbed-ef94-43a3-952a-c08cd0fbd0ca"
      },
      "execution_count": null,
      "outputs": [
        {
          "output_type": "execute_result",
          "data": {
            "text/plain": [
              "\"What's up John?\""
            ],
            "application/vnd.google.colaboratory.intrinsic+json": {
              "type": "string"
            }
          },
          "metadata": {},
          "execution_count": 34
        }
      ]
    },
    {
      "cell_type": "markdown",
      "source": [
        "Function can still be called with any number of positional arguments followed by keyword arguments. But once a keyword argument is used, no positional argument can follow."
      ],
      "metadata": {
        "id": "s9ajHp5LQ8e-"
      }
    },
    {
      "cell_type": "code",
      "source": [
        "message = greet_user(\"Jill\", ending = \".\")\n",
        "message"
      ],
      "metadata": {
        "colab": {
          "base_uri": "https://localhost:8080/",
          "height": 35
        },
        "id": "RTGH6gGWQ9C8",
        "outputId": "cd0bc8e6-9b1a-4803-b0ee-2786b3026553"
      },
      "execution_count": null,
      "outputs": [
        {
          "output_type": "execute_result",
          "data": {
            "text/plain": [
              "'Hello Jill.'"
            ],
            "application/vnd.google.colaboratory.intrinsic+json": {
              "type": "string"
            }
          },
          "metadata": {},
          "execution_count": 35
        }
      ]
    },
    {
      "cell_type": "markdown",
      "source": [
        "The following will not work, since a keyword argument is followed by a positional argument."
      ],
      "metadata": {
        "id": "CvS5YcUFRA_d"
      }
    },
    {
      "cell_type": "code",
      "source": [
        "# greet_user(ending=\"?!\", \"Justin\")"
      ],
      "metadata": {
        "id": "VoNzFpM2RBmq"
      },
      "execution_count": null,
      "outputs": []
    },
    {
      "cell_type": "markdown",
      "source": [
        "## Arbitrary Arguments\n",
        "\n",
        "Function can be called with an arbitrary number of arguments. These arguments will be wrapped up in  a tuple. Before the variable number of arguments, zero or more normal arguments may occur."
      ],
      "metadata": {
        "id": "MUyORAh7RHcN"
      }
    },
    {
      "cell_type": "markdown",
      "source": [
        "In this code, the function name_printer is defined to accept a variable number of arguments using the *names syntax. Inside the function, it prints the type of the argument (which will be a tuple) and then prints the names that were passed as arguments. The function is called with multiple names, and the output will show the type of the argument and the list of names."
      ],
      "metadata": {
        "id": "OnZpdMpXLHDb"
      }
    },
    {
      "cell_type": "code",
      "source": [
        "# Define a function to print variable number of names\n",
        "def name_printer(*names):\n",
        "    print(type(names))  # Print the type of the argument (a tuple)\n",
        "    print(names)  # Print the names passed as arguments\n",
        "\n",
        "# Call the function with multiple names\n",
        "name_printer(\"John\", \"Jane\", \"Janet\", \"Jack\")"
      ],
      "metadata": {
        "colab": {
          "base_uri": "https://localhost:8080/"
        },
        "id": "IJQzSrYXRFV7",
        "outputId": "eb65a24e-48d7-4d52-e0a3-861dcd9a5099"
      },
      "execution_count": null,
      "outputs": [
        {
          "output_type": "stream",
          "name": "stdout",
          "text": [
            "<class 'tuple'>\n",
            "('John', 'Jane', ' Janet', 'Jack')\n"
          ]
        }
      ]
    },
    {
      "cell_type": "markdown",
      "source": [
        "Calculate summation of arbitrary number of numbers:"
      ],
      "metadata": {
        "id": "aD_Q0QDjRLeU"
      }
    },
    {
      "cell_type": "markdown",
      "source": [
        "In this code, the function sum is defined to accept a variable number of arguments using the *numbers syntax. Inside the function, it calculates the sum of all the numbers passed as arguments. The function is then called with a variety of numbers, and the result is printed using the print statement."
      ],
      "metadata": {
        "id": "T6oUt7UOMW5T"
      }
    },
    {
      "cell_type": "code",
      "source": [
        "# Define a function to calculate the sum of a variable number of numbers\n",
        "def sum(*numbers):\n",
        "    final_value = 0\n",
        "\n",
        "    for number in numbers:\n",
        "        final_value += number\n",
        "\n",
        "    return final_value\n",
        "\n",
        "# Call the sum() function with a variety of numbers\n",
        "print(\"\\nsum():\", sum(1, 2, 3, 4, 5, 6.4))\n"
      ],
      "metadata": {
        "colab": {
          "base_uri": "https://localhost:8080/"
        },
        "id": "E84i3FF_RMAF",
        "outputId": "2670232b-3ad8-46f6-b215-c76dea893461"
      },
      "execution_count": null,
      "outputs": [
        {
          "output_type": "stream",
          "name": "stdout",
          "text": [
            "\n",
            "sum(): 21.4\n"
          ]
        }
      ]
    },
    {
      "cell_type": "markdown",
      "source": [
        "Find the maximum value in given numbers:"
      ],
      "metadata": {
        "id": "WwhT-WZHRPDr"
      }
    },
    {
      "cell_type": "code",
      "source": [
        "# Define a function to find the maximum value among a variable number of numbers\n",
        "def max(*numbers):\n",
        "    max_value = numbers[0]\n",
        "\n",
        "    # Iterate through the numbers and update max_value if a larger number is found\n",
        "    for number in numbers:\n",
        "        if number > max_value:\n",
        "            max_value = number\n",
        "\n",
        "    return max_value\n",
        "\n",
        "# Call the max() function with a set of numbers and print the result\n",
        "print(\"\\nmax():\", max(-9, 4, -8, -3))\n"
      ],
      "metadata": {
        "colab": {
          "base_uri": "https://localhost:8080/"
        },
        "id": "tPm3c3YgRRTG",
        "outputId": "ce5b44ed-f1df-47bf-e3ad-10a27e19787d"
      },
      "execution_count": null,
      "outputs": [
        {
          "output_type": "stream",
          "name": "stdout",
          "text": [
            "\n",
            "max(): 4\n"
          ]
        }
      ]
    },
    {
      "cell_type": "markdown",
      "source": [
        "## Recursion\n",
        "\n",
        "Recursion refers to calling a function from itself.\n",
        "\n",
        "Recursion in computer science is a method of solving a problem where the solution depends on solutions to smaller instances of the same problem (as opposed to iteration). The approach can be applied to many types of problems, and recursion is one of the central ideas of computer science."
      ],
      "metadata": {
        "id": "sGmKqFeeRW34"
      }
    },
    {
      "cell_type": "markdown",
      "source": [
        "Calculation of factorial using recursion:"
      ],
      "metadata": {
        "id": "2TLQL4gmRcVO"
      }
    },
    {
      "cell_type": "markdown",
      "source": [
        "In this code, the function factorial is defined using a recursive approach to calculate the factorial of a given number. The base case is when the number is 1, in which case the factorial is 1. For larger numbers, the function recursively multiplies the current number with the factorial of (number - 1). The result of calculating the factorial of 5 is stored in the variable result, and it is printed using the final result statement."
      ],
      "metadata": {
        "id": "Rp_NhCD9MtzJ"
      }
    },
    {
      "cell_type": "code",
      "source": [
        "# Define a recursive function to calculate the factorial of a number\n",
        "def factorial(number):\n",
        "    # Base case: factorial of 1 is 1\n",
        "    if number == 1:\n",
        "        return 1\n",
        "    # Recursive case: multiply the current number with factorial of (number - 1)\n",
        "    return number * factorial(number - 1)\n",
        "\n",
        "# Calculate the factorial of 5 and store the result in the variable \"result\"\n",
        "result = factorial(5)\n",
        "\n",
        "# Print the result\n",
        "result"
      ],
      "metadata": {
        "colab": {
          "base_uri": "https://localhost:8080/"
        },
        "id": "v0Y71IyQRbNn",
        "outputId": "68f8ef7b-56bc-48a9-ef14-ad370caf4d2b"
      },
      "execution_count": null,
      "outputs": [
        {
          "output_type": "execute_result",
          "data": {
            "text/plain": [
              "120"
            ]
          },
          "metadata": {},
          "execution_count": 41
        }
      ]
    },
    {
      "cell_type": "markdown",
      "source": [
        "Calculation of Fibonacci numbers using recursion:"
      ],
      "metadata": {
        "id": "Gk4z-IWeRgd9"
      }
    },
    {
      "cell_type": "code",
      "source": [
        "def fibonacci(nth):\n",
        "    if nth == 1 or nth == 2:\n",
        "        return 1\n",
        "    return fibonacci(nth - 1) + fibonacci(nth - 2)\n",
        "\n",
        "fibonacci(7)"
      ],
      "metadata": {
        "colab": {
          "base_uri": "https://localhost:8080/"
        },
        "id": "1SOkkis9RZUV",
        "outputId": "ba7a473d-058d-4c78-ff21-c46fe4e33516"
      },
      "execution_count": null,
      "outputs": [
        {
          "output_type": "execute_result",
          "data": {
            "text/plain": [
              "13"
            ]
          },
          "metadata": {},
          "execution_count": 42
        }
      ]
    },
    {
      "cell_type": "markdown",
      "source": [
        "## Built-in Functions\n",
        "\n",
        "The Python interpreter has a number of functions and types built into it that are always available."
      ],
      "metadata": {
        "id": "I_LZZ3NfRl7F"
      }
    },
    {
      "cell_type": "markdown",
      "source": [
        "## IO Functions\n",
        "\n",
        "`print(<value1>, <value2>, ...)`: Print objects to the text stream file, separated by `sep` and followed by `end`. `sep`, `end`, `file` and `flush`, if present, must be given as keyword arguments."
      ],
      "metadata": {
        "id": "JZVK8biLRpWz"
      }
    },
    {
      "cell_type": "code",
      "source": [
        "print('Hello, World!')\n",
        "print('Hello', 'World', sep='', end='\\n\\n\\n')\n",
        "print('Another line!')"
      ],
      "metadata": {
        "colab": {
          "base_uri": "https://localhost:8080/"
        },
        "id": "ZEqrQTeMRnL7",
        "outputId": "4f19e0d5-828b-4fe9-9ad7-d4c78c239f94"
      },
      "execution_count": null,
      "outputs": [
        {
          "output_type": "stream",
          "name": "stdout",
          "text": [
            "Hello, World!\n",
            "HelloWorld\n",
            "\n",
            "\n",
            "Another line!\n"
          ]
        }
      ]
    },
    {
      "cell_type": "markdown",
      "source": [
        "`input(<prompt>)`: If the prompt argument is present, it is written to standard output without a trailing newline. The function then reads a line from input, converts it to a string (stripping a trailing newline), and returns that."
      ],
      "metadata": {
        "id": "JwDARhJlRv-U"
      }
    },
    {
      "cell_type": "code",
      "source": [
        "name = input('\\nPlease enter your name: ')\n",
        "print('Hello {}'.format(name))"
      ],
      "metadata": {
        "colab": {
          "base_uri": "https://localhost:8080/"
        },
        "id": "6ipRwjX7Rwjd",
        "outputId": "64be5426-8ea3-4294-f1cc-eb20868a9bfa"
      },
      "execution_count": null,
      "outputs": [
        {
          "output_type": "stream",
          "name": "stdout",
          "text": [
            "\n",
            "Please enter your name: Parisa\n",
            "Hello Parisa\n"
          ]
        }
      ]
    },
    {
      "cell_type": "markdown",
      "source": [
        "## Mathematical Functions"
      ],
      "metadata": {
        "id": "yED7wZSmR3B-"
      }
    },
    {
      "cell_type": "markdown",
      "source": [
        "`abs(<number>)`: Return the absolute value of a number."
      ],
      "metadata": {
        "id": "T0tNg-LaR1fc"
      }
    },
    {
      "cell_type": "code",
      "source": [
        "abs(-3.1)"
      ],
      "metadata": {
        "colab": {
          "base_uri": "https://localhost:8080/"
        },
        "id": "w9-uv7tkR018",
        "outputId": "5acecc3b-8e4e-4803-c49c-70edc347d416"
      },
      "execution_count": null,
      "outputs": [
        {
          "output_type": "execute_result",
          "data": {
            "text/plain": [
              "3.1"
            ]
          },
          "metadata": {},
          "execution_count": 2
        }
      ]
    },
    {
      "cell_type": "markdown",
      "source": [
        "`divmod(<a>, <b>)`: Take two (non complex) numbers as arguments and return a pair of numbers consisting of their quotient and remainder when using integer division."
      ],
      "metadata": {
        "id": "zfvBeKKxR8Wh"
      }
    },
    {
      "cell_type": "code",
      "source": [
        "divmod(17, 5)"
      ],
      "metadata": {
        "colab": {
          "base_uri": "https://localhost:8080/"
        },
        "id": "3k-h60sKR6u0",
        "outputId": "d81e1e20-bf0a-4305-87f0-c87c3471f602"
      },
      "execution_count": null,
      "outputs": [
        {
          "output_type": "execute_result",
          "data": {
            "text/plain": [
              "(3, 2)"
            ]
          },
          "metadata": {},
          "execution_count": 3
        }
      ]
    },
    {
      "cell_type": "markdown",
      "source": [
        "`max(<number1>, <number2>, ...)`: Return the largest item in an iterable or the largest of two or more arguments."
      ],
      "metadata": {
        "id": "sSZAIXpVR_7O"
      }
    },
    {
      "cell_type": "code",
      "source": [
        "values = [12.4, 13.6, 11.5, 14.7, 9.6]\n",
        "max(values)"
      ],
      "metadata": {
        "colab": {
          "base_uri": "https://localhost:8080/"
        },
        "id": "mr4tq89CSAds",
        "outputId": "c1dfd195-ff25-43d6-a70d-7b5761c3f386"
      },
      "execution_count": null,
      "outputs": [
        {
          "output_type": "execute_result",
          "data": {
            "text/plain": [
              "14.7"
            ]
          },
          "metadata": {},
          "execution_count": 4
        }
      ]
    },
    {
      "cell_type": "markdown",
      "source": [
        "`min(<number1>, <number2>, ...)`: Return the smallest item in an iterable or the smallest of two or more arguments."
      ],
      "metadata": {
        "id": "AwACtO-bSDz-"
      }
    },
    {
      "cell_type": "code",
      "source": [
        "min(values)"
      ],
      "metadata": {
        "colab": {
          "base_uri": "https://localhost:8080/"
        },
        "id": "quu8EDNgSEXs",
        "outputId": "5f94b139-1141-4517-c594-6d0ed71fff5e"
      },
      "execution_count": null,
      "outputs": [
        {
          "output_type": "execute_result",
          "data": {
            "text/plain": [
              "9.6"
            ]
          },
          "metadata": {},
          "execution_count": 5
        }
      ]
    },
    {
      "cell_type": "markdown",
      "source": [
        "`round(<number>, <digits>)`: Return number rounded to ndigits precision after the decimal point. If ndigits is omitted or is None, it returns the nearest integer to its input."
      ],
      "metadata": {
        "id": "mXUzciI_SIBr"
      }
    },
    {
      "cell_type": "code",
      "source": [
        "round(12.5)"
      ],
      "metadata": {
        "colab": {
          "base_uri": "https://localhost:8080/"
        },
        "id": "CVLdf32zSL5G",
        "outputId": "82b1aadf-4265-4e84-9bf3-58225b2120e6"
      },
      "execution_count": null,
      "outputs": [
        {
          "output_type": "execute_result",
          "data": {
            "text/plain": [
              "12"
            ]
          },
          "metadata": {},
          "execution_count": 6
        }
      ]
    },
    {
      "cell_type": "code",
      "source": [
        "round(3.14152, 2)"
      ],
      "metadata": {
        "colab": {
          "base_uri": "https://localhost:8080/"
        },
        "id": "-rNlPHJCSM9T",
        "outputId": "04d75e19-c58d-4150-9157-ae285e4cda0a"
      },
      "execution_count": null,
      "outputs": [
        {
          "output_type": "execute_result",
          "data": {
            "text/plain": [
              "3.14"
            ]
          },
          "metadata": {},
          "execution_count": 7
        }
      ]
    },
    {
      "cell_type": "markdown",
      "source": [
        "`sum(<number1>, <number2>, ...)`: Sums start and the items of an iterable from left to right and returns the total."
      ],
      "metadata": {
        "id": "ttWZVd9VSQJm"
      }
    },
    {
      "cell_type": "code",
      "source": [
        "sum(values)"
      ],
      "metadata": {
        "colab": {
          "base_uri": "https://localhost:8080/"
        },
        "id": "jCE_VaJLSQrt",
        "outputId": "c4c38b55-17a1-4963-d8b3-c78bb63d5bec"
      },
      "execution_count": null,
      "outputs": [
        {
          "output_type": "execute_result",
          "data": {
            "text/plain": [
              "61.800000000000004"
            ]
          },
          "metadata": {},
          "execution_count": 8
        }
      ]
    },
    {
      "cell_type": "code",
      "source": [
        "round(sum(values), 2)"
      ],
      "metadata": {
        "colab": {
          "base_uri": "https://localhost:8080/"
        },
        "id": "GWACTWPMSd_c",
        "outputId": "d88991ff-031f-4766-eb68-22b7ce56214e"
      },
      "execution_count": null,
      "outputs": [
        {
          "output_type": "execute_result",
          "data": {
            "text/plain": [
              "61.8"
            ]
          },
          "metadata": {},
          "execution_count": 9
        }
      ]
    },
    {
      "cell_type": "markdown",
      "source": [
        "## Type Constructor Functions\n",
        "\n",
        "`bool(<value>)`: Return a Boolean value, i.e. one of `True` or `False`."
      ],
      "metadata": {
        "id": "Sgqit6Z1Shhn"
      }
    },
    {
      "cell_type": "code",
      "source": [
        "bool(0.6)"
      ],
      "metadata": {
        "colab": {
          "base_uri": "https://localhost:8080/"
        },
        "id": "3sZEIpmgSeqt",
        "outputId": "cc6e1106-ff6f-4e45-f024-8dc4f1a63b22"
      },
      "execution_count": null,
      "outputs": [
        {
          "output_type": "execute_result",
          "data": {
            "text/plain": [
              "True"
            ]
          },
          "metadata": {},
          "execution_count": 53
        }
      ]
    },
    {
      "cell_type": "code",
      "source": [
        "bool(0)"
      ],
      "metadata": {
        "colab": {
          "base_uri": "https://localhost:8080/"
        },
        "id": "sS36-jUpSoPN",
        "outputId": "9e578cd2-b681-42ba-82b4-39f833edaf4e"
      },
      "execution_count": null,
      "outputs": [
        {
          "output_type": "execute_result",
          "data": {
            "text/plain": [
              "False"
            ]
          },
          "metadata": {},
          "execution_count": 54
        }
      ]
    },
    {
      "cell_type": "code",
      "source": [
        "bool('')"
      ],
      "metadata": {
        "colab": {
          "base_uri": "https://localhost:8080/"
        },
        "id": "ZB8fqrqeSqR9",
        "outputId": "9874337b-e002-4486-839f-a6d350a9f027"
      },
      "execution_count": null,
      "outputs": [
        {
          "output_type": "execute_result",
          "data": {
            "text/plain": [
              "False"
            ]
          },
          "metadata": {},
          "execution_count": 55
        }
      ]
    },
    {
      "cell_type": "code",
      "source": [
        "bool(None)"
      ],
      "metadata": {
        "colab": {
          "base_uri": "https://localhost:8080/"
        },
        "id": "Vw5VV9AoSq92",
        "outputId": "8926fab9-23df-43f9-ca42-f956eb3e4c04"
      },
      "execution_count": null,
      "outputs": [
        {
          "output_type": "execute_result",
          "data": {
            "text/plain": [
              "False"
            ]
          },
          "metadata": {},
          "execution_count": 56
        }
      ]
    },
    {
      "cell_type": "markdown",
      "source": [
        "`complex(<real>, <imaginary>)`: Return a complex number with the value real + imag*1j or convert a string or number to a complex number."
      ],
      "metadata": {
        "id": "re2unGsjSumc"
      }
    },
    {
      "cell_type": "code",
      "source": [
        "complex(5, 12)"
      ],
      "metadata": {
        "colab": {
          "base_uri": "https://localhost:8080/"
        },
        "id": "F2jP2v7PSvMd",
        "outputId": "a865795a-e1b2-4502-9267-ed55c696a0d3"
      },
      "execution_count": null,
      "outputs": [
        {
          "output_type": "execute_result",
          "data": {
            "text/plain": [
              "(5+12j)"
            ]
          },
          "metadata": {},
          "execution_count": 57
        }
      ]
    },
    {
      "cell_type": "markdown",
      "source": [
        "`dict(<values>)`: Create a new dictionary."
      ],
      "metadata": {
        "id": "1OeYSo2TSyPt"
      }
    },
    {
      "cell_type": "code",
      "source": [
        "dict(firstname = 'John', lastname = 'Smith')"
      ],
      "metadata": {
        "colab": {
          "base_uri": "https://localhost:8080/"
        },
        "id": "1gdLuU9FSzFm",
        "outputId": "b6ea4cd5-ee4a-48b7-d0d7-e0f6dd5ee7b9"
      },
      "execution_count": null,
      "outputs": [
        {
          "output_type": "execute_result",
          "data": {
            "text/plain": [
              "{'firstname': 'John', 'lastname': 'Smith'}"
            ]
          },
          "metadata": {},
          "execution_count": 58
        }
      ]
    },
    {
      "cell_type": "markdown",
      "source": [
        "`float(<value>)`: Return a floating point number constructed from a number or string."
      ],
      "metadata": {
        "id": "KNBNDlpMS3Fd"
      }
    },
    {
      "cell_type": "code",
      "source": [
        "x = '-3.56'\n",
        "float(x)"
      ],
      "metadata": {
        "colab": {
          "base_uri": "https://localhost:8080/"
        },
        "id": "J4EvTYQ1S3mK",
        "outputId": "f125dfbd-9529-4c79-c48c-ed9f1fc74c7b"
      },
      "execution_count": null,
      "outputs": [
        {
          "output_type": "execute_result",
          "data": {
            "text/plain": [
              "-3.56"
            ]
          },
          "metadata": {},
          "execution_count": 59
        }
      ]
    },
    {
      "cell_type": "markdown",
      "source": [
        "`int(<value>)`: Return an integer object constructed from a number or string, or return 0 if no arguments are given."
      ],
      "metadata": {
        "id": "8Wb5trIiS6po"
      }
    },
    {
      "cell_type": "code",
      "source": [
        "x = '-45'\n",
        "int(x)"
      ],
      "metadata": {
        "colab": {
          "base_uri": "https://localhost:8080/"
        },
        "id": "nxnFmZ0AS8PQ",
        "outputId": "bce28fe2-74a1-4ddc-e3fa-95b883dfdb65"
      },
      "execution_count": null,
      "outputs": [
        {
          "output_type": "execute_result",
          "data": {
            "text/plain": [
              "-45"
            ]
          },
          "metadata": {},
          "execution_count": 60
        }
      ]
    },
    {
      "cell_type": "markdown",
      "source": [
        "`list(<sequence>)`: Return a list type for the provided sequence."
      ],
      "metadata": {
        "id": "EEhTP6TtS_56"
      }
    },
    {
      "cell_type": "code",
      "source": [
        "range_values = range(0, 20, 2)\n",
        "list(range_values)"
      ],
      "metadata": {
        "colab": {
          "base_uri": "https://localhost:8080/"
        },
        "id": "w6opHiNiTAqt",
        "outputId": "17672c5b-2117-4f92-8547-ec86eb4d122b"
      },
      "execution_count": null,
      "outputs": [
        {
          "output_type": "execute_result",
          "data": {
            "text/plain": [
              "[0, 2, 4, 6, 8, 10, 12, 14, 16, 18]"
            ]
          },
          "metadata": {},
          "execution_count": 61
        }
      ]
    },
    {
      "cell_type": "markdown",
      "source": [
        "`range(<start>, <stop>, <step>)`: Returns the range including `start`, upto but not including `stop`. If the `step` argument is omitted, it defaults to 1."
      ],
      "metadata": {
        "id": "96DfEwhzTEHo"
      }
    },
    {
      "cell_type": "code",
      "source": [
        "range_values = range(1, 21, 4)\n",
        "list(range_values)"
      ],
      "metadata": {
        "colab": {
          "base_uri": "https://localhost:8080/"
        },
        "id": "kSAiM6zLTEpB",
        "outputId": "a5b098e6-4c06-4e08-860d-b90005830c5f"
      },
      "execution_count": null,
      "outputs": [
        {
          "output_type": "execute_result",
          "data": {
            "text/plain": [
              "[1, 5, 9, 13, 17]"
            ]
          },
          "metadata": {},
          "execution_count": 62
        }
      ]
    },
    {
      "cell_type": "markdown",
      "source": [
        "`set(<sequence>)`: Return a new set object, optionally with elements taken from a given sequence."
      ],
      "metadata": {
        "id": "UoQd9-pATHxK"
      }
    },
    {
      "cell_type": "code",
      "source": [
        "values = [1, 2, 3, 1, 2, 4, 5, 3, 2, 1]\n",
        "\n",
        "set(values)"
      ],
      "metadata": {
        "colab": {
          "base_uri": "https://localhost:8080/"
        },
        "id": "dJqkT8HVTGRn",
        "outputId": "9371a59c-bd89-4eb3-e261-7d300ac317dd"
      },
      "execution_count": null,
      "outputs": [
        {
          "output_type": "execute_result",
          "data": {
            "text/plain": [
              "{1, 2, 3, 4, 5}"
            ]
          },
          "metadata": {},
          "execution_count": 63
        }
      ]
    },
    {
      "cell_type": "markdown",
      "source": [
        "`str(<value>)`: Return a string version of the value."
      ],
      "metadata": {
        "id": "Q5XmN6zxTLr9"
      }
    },
    {
      "cell_type": "code",
      "source": [
        "str(12.3)"
      ],
      "metadata": {
        "colab": {
          "base_uri": "https://localhost:8080/",
          "height": 35
        },
        "id": "JOLlLwn_TMUV",
        "outputId": "dc78837d-7277-4ab3-d297-38dd123fb89b"
      },
      "execution_count": null,
      "outputs": [
        {
          "output_type": "execute_result",
          "data": {
            "text/plain": [
              "'12.3'"
            ],
            "application/vnd.google.colaboratory.intrinsic+json": {
              "type": "string"
            }
          },
          "metadata": {},
          "execution_count": 64
        }
      ]
    },
    {
      "cell_type": "markdown",
      "source": [
        "`tuple(<sequence>)`: Return a tuple type for the provided sequence."
      ],
      "metadata": {
        "id": "6Suo4x_NTPOW"
      }
    },
    {
      "cell_type": "code",
      "source": [
        "tuple(range_values)"
      ],
      "metadata": {
        "colab": {
          "base_uri": "https://localhost:8080/"
        },
        "id": "WF018928TPv9",
        "outputId": "d3541a90-3af3-4228-f8e0-02fa3d5becec"
      },
      "execution_count": null,
      "outputs": [
        {
          "output_type": "execute_result",
          "data": {
            "text/plain": [
              "(1, 5, 9, 13, 17)"
            ]
          },
          "metadata": {},
          "execution_count": 65
        }
      ]
    },
    {
      "cell_type": "markdown",
      "source": [
        "## Sequence Functions\n",
        "\n",
        "`all(<sequence>)`: Return True if all elements of the iterable are true (or if the iterable is empty)."
      ],
      "metadata": {
        "id": "clhQgDJmTS5g"
      }
    },
    {
      "cell_type": "code",
      "source": [
        "grades_list = [92, 91, 78, 69, 100, 88]\n",
        "\n",
        "passing_status = [grade >= 70 for grade in grades_list]\n",
        "\n",
        "all(passing_status)"
      ],
      "metadata": {
        "colab": {
          "base_uri": "https://localhost:8080/"
        },
        "id": "rl99ROQATVRl",
        "outputId": "6a035c10-cfc3-4da7-93ef-c7d5db2a6f52"
      },
      "execution_count": null,
      "outputs": [
        {
          "output_type": "execute_result",
          "data": {
            "text/plain": [
              "False"
            ]
          },
          "metadata": {},
          "execution_count": 66
        }
      ]
    },
    {
      "cell_type": "markdown",
      "source": [
        "`any(<sequence>)`: Return True if any element of the iterable is true. If the iterable is empty, return False."
      ],
      "metadata": {
        "id": "vxDYiRdWTYDp"
      }
    },
    {
      "cell_type": "code",
      "source": [
        "failing_status = [grade < 70 for grade in grades_list]\n",
        "\n",
        "any(failing_status)"
      ],
      "metadata": {
        "colab": {
          "base_uri": "https://localhost:8080/"
        },
        "id": "_c1amZxNTYoA",
        "outputId": "03de7644-4a83-4493-9d8e-632cf58563a3"
      },
      "execution_count": null,
      "outputs": [
        {
          "output_type": "execute_result",
          "data": {
            "text/plain": [
              "True"
            ]
          },
          "metadata": {},
          "execution_count": 67
        }
      ]
    },
    {
      "cell_type": "markdown",
      "source": [
        "`enumerate(<sequence>)`: Return an enumerate object, which is a tuple with the index as the first element and the value as the second."
      ],
      "metadata": {
        "id": "ZZdKNFiETdiG"
      }
    },
    {
      "cell_type": "code",
      "source": [
        "names_list = ['Janet', 'John', 'Jack', 'Jane', 'Jill']\n",
        "\n",
        "for index, name in enumerate(names_list):\n",
        "    print('{}: {}'.format(index + 1, name))"
      ],
      "metadata": {
        "colab": {
          "base_uri": "https://localhost:8080/"
        },
        "id": "5BGTlldyTePx",
        "outputId": "c03d76f2-06f1-477b-b9f0-0f1f1ed2e198"
      },
      "execution_count": null,
      "outputs": [
        {
          "output_type": "stream",
          "name": "stdout",
          "text": [
            "1: Janet\n",
            "2: John\n",
            "3: Jack\n",
            "4: Jane\n",
            "5: Jill\n"
          ]
        }
      ]
    },
    {
      "cell_type": "markdown",
      "source": [
        "`len(<sequence>)`: Return the length (the number of items) of an object."
      ],
      "metadata": {
        "id": "UtzQnX00ThxL"
      }
    },
    {
      "cell_type": "code",
      "source": [
        "len(names_list)"
      ],
      "metadata": {
        "colab": {
          "base_uri": "https://localhost:8080/"
        },
        "id": "sHgvfv-uTifS",
        "outputId": "82b8e37a-813b-4a17-d9ef-e99652ff5b2c"
      },
      "execution_count": null,
      "outputs": [
        {
          "output_type": "execute_result",
          "data": {
            "text/plain": [
              "5"
            ]
          },
          "metadata": {},
          "execution_count": 69
        }
      ]
    },
    {
      "cell_type": "markdown",
      "source": [
        "`zip(<sequence1>, <sequence2>, ...)`: Make an iterator that aggregates elements from each of the sequences. The iterator stops when the shortest input iterable is exhausted."
      ],
      "metadata": {
        "id": "-IBehcm4Tmn3"
      }
    },
    {
      "cell_type": "code",
      "source": [
        "# List of heights in meters\n",
        "heights_m = [1.64, 1.73, 1.69, 1.60, 1.80, 1.83, 1.90, 1.86, 1.59, 1.71]\n",
        "\n",
        "# List of weights in kilograms\n",
        "weights_kg = [46, 76, 56, 62, 78, 90, 102, 78, 73]\n",
        "\n",
        "# Empty list to store calculated BMIs\n",
        "bmis = []\n",
        "\n",
        "# Calculate BMI for each pair of weight and height\n",
        "for weight, height in zip(weights_kg, heights_m):\n",
        "    bmi = weight / height ** 2\n",
        "    # Round the BMI to 2 decimal places and add it to the list of BMIs\n",
        "    bmis.append(round(bmi, 2))\n",
        "\n",
        "# The list of calculated BMIs\n",
        "bmis\n"
      ],
      "metadata": {
        "colab": {
          "base_uri": "https://localhost:8080/"
        },
        "id": "RFDx0LKsTna1",
        "outputId": "1fdb43be-bacc-4d37-98b7-240647ba404a"
      },
      "execution_count": null,
      "outputs": [
        {
          "output_type": "execute_result",
          "data": {
            "text/plain": [
              "[17.1, 25.39, 19.61, 24.22, 24.07, 26.87, 28.25, 22.55, 28.88]"
            ]
          },
          "metadata": {},
          "execution_count": 70
        }
      ]
    }
  ]
}