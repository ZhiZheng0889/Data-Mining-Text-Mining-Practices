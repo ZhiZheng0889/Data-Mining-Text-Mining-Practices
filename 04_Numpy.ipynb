{
  "cells": [
    {
      "cell_type": "markdown",
      "metadata": {
        "id": "s4bL4QGYbVXr"
      },
      "source": [
        "# NumPy\n",
        "\n",
        "NumPy is the fundamental package for scientific computing in Python. It is a Python library that provides a multidimensional array object, various derived objects (such as masked arrays and matrices), and an assortment of routines for fast operations on arrays, including mathematical, logical, shape manipulation, sorting, selecting, I/O, discrete Fourier transforms, basic linear algebra, basic statistical operations, random simulation and much more.\n",
        "\n",
        "At the core of the NumPy package, is the `ndarray` object. This encapsulates n-dimensional arrays of **homogeneous** data types, with many operations being performed in compiled code for performance. There are several important differences between NumPy arrays and the standard Python sequences:\n",
        "\n",
        "- NumPy arrays have a fixed size at creation, unlike Python lists (which can grow dynamically). Changing the size of an ndarray will create a new array and delete the original.\n",
        "- The elements in a NumPy array are all required to be of the same data type, and thus will be the same size in memory. The exception: one can have arrays of (Python, including NumPy) objects, thereby allowing for arrays of different sized elements.\n",
        "- NumPy arrays facilitate advanced mathematical and other types of operations on large numbers of data. Typically, such operations are executed more efficiently and with less code than is possible using Python’s built-in sequences.\n",
        "- A growing plethora of scientific and mathematical Python-based packages are using NumPy arrays; though these typically support Python-sequence input, they convert such input to NumPy arrays prior to processing, and they often output NumPy arrays. In other words, in order to efficiently use much (perhaps even most) of today’s scientific/mathematical Python-based software, just knowing how to use Python’s built-in sequence types is insufficient - one also needs to know how to use NumPy arrays.\n",
        "\n",
        "The points about sequence size and speed are particularly important in scientific computing. As a simple example, consider the case of multiplying each element in a 1-D sequence with the corresponding element in another sequence of the same length. If the data are stored in two Python lists, `a` and `b`, we could iterate over each element:\n",
        "\n",
        "```python\n",
        "c = []\n",
        "for i in range(len(a)):\n",
        "    c.append(a[i]*b[i])\n",
        "```\n",
        "\n",
        "This produces the correct answer, but if a and b each contain millions of numbers, we will pay the price for the inefficiencies of looping in Python. Furthermore, the coding work required increases with the dimensionality of our data. In the case of a 2-D array, we have to perform nested iterations.\n",
        "\n",
        "NumPy gives us the best of both worlds: element-by-element operations are the “default mode” when an ndarray is involved, but the element-by-element operation is speedily executed by pre-compiled C code. In NumPy:\n",
        "\n",
        "```python\n",
        "c = a * b\n",
        "```\n",
        "\n",
        "This example illustrates two of NumPy's features which are the basis of much of its power: vectorization and broadcasting.\n",
        "\n",
        "Vectorization describes the absence of any explicit looping, indexing, etc., in the code - these things are taking place, of course, just \"behind the scenes\" in optimized, pre-compiled C code. Vectorized code has many advantages, among which are:\n",
        "\n",
        "- vectorized code is more concise and easier to read\n",
        "- fewer lines of code generally means fewer bugs\n",
        "- the code more closely resembles standard mathematical notation (making it easier, typically, to correctly code mathematical constructs)\n",
        "- vectorization results in more \"Pythonic\" code. Without vectorization, our code would be littered with inefficient and difficult to read for loops.\n",
        "\n",
        "Broadcasting is the term used to describe the implicit element-by-element behavior of operations; generally speaking, in NumPy all operations, not just arithmetic operations, but logical, bit-wise, functional, etc., behave in this implicit element-by-element fashion, i.e., they broadcast. Moreover, in the example above, a and b could be multidimensional arrays of the same shape, or a scalar and an array, or even two arrays of with different shapes, provided that the smaller array is \"expandable\" to the shape of the larger in such a way that the resulting broadcast is unambiguous."
      ]
    },
    {
      "cell_type": "markdown",
      "metadata": {
        "id": "MAn-RrcLbVXw"
      },
      "source": [
        "## Installing NumPy\n",
        "\n",
        "NumPy is included in most Python distributions. If not installed, you can checkout various installation approaches here: https://scipy.org/install.html"
      ]
    },
    {
      "cell_type": "code",
      "execution_count": null,
      "metadata": {
        "id": "e6xqRgTcbVXx"
      },
      "outputs": [],
      "source": [
        "import numpy as np"
      ]
    },
    {
      "cell_type": "markdown",
      "metadata": {
        "id": "wh4sOgKTbVXy"
      },
      "source": [
        "## NumPy Array\n",
        "\n",
        "NumPy provides an N-dimensional array type, the `ndarray`, which describes a collection of \"items\" of the **same type**. The items can be indexed using for example N integers.\n",
        "\n",
        "All `ndarrays` are **homogenous**: every item takes up the same size block of memory, and all blocks are interpreted in exactly the same way. How each item in the array is to be interpreted is specified by a separate data-type object, one of which is associated with every array. In addition to basic types (integers, floats, etc.), the data type objects can also represent data structures.\n",
        "\n",
        "An item extracted from an array, e.g., by indexing, is represented by a Python object whose type is one of the array scalar types built in NumPy. The array scalars allow easy manipulation of also more complicated arrangements of data.\n",
        "\n",
        "![NumPy array structure](https://docs.scipy.org/doc/numpy/_images/threefundamental.png)"
      ]
    },
    {
      "cell_type": "markdown",
      "metadata": {
        "id": "kQmAOth6bVXy"
      },
      "source": [
        "## Array Creation Routines\n",
        "\n",
        "### From existing data\n",
        "\n",
        "`numpy.array(object, dtype=None)`: Create an array. `object` can be any array-like or sequence of data (e.g., list). `dtype` is the desired data-type for the array. If not given, then the type will be determined as the minimum type required to hold the objects in the sequence."
      ]
    },
    {
      "cell_type": "code",
      "execution_count": null,
      "metadata": {
        "id": "KFQM6q72bVXz"
      },
      "outputs": [],
      "source": [
        "# calculate BMIs for the following 20 people, heights (in) and weights (lb) are given\n",
        "# 1 in is 0.0254 m and 1 lb is 0.453592 kg\n",
        "heights_in = [74,74,72,72,73,69,69,71,76,71,73,73,74,74,69,70,73,75,78,79]\n",
        "weights_lb = [180,215,210,210,188,176,209,200,231,180,188,180,185,160,180,185,189,185,219,230]\n",
        "\n",
        "arr_heights_m = np.array(heights_in) * 0.0254\n",
        "arr_weights_kg = np.array(weights_lb) * 0.453592\n",
        "\n"
      ]
    },
    {
      "cell_type": "markdown",
      "metadata": {
        "id": "aEveJ3SBbVXz"
      },
      "source": [
        "### Ones and Zeros\n",
        "\n",
        "`numpy.zeros(<shape>, dtype=<type>)`: Return a new array of given shape and type, filled with zeros."
      ]
    },
    {
      "cell_type": "code",
      "execution_count": null,
      "metadata": {
        "id": "miRo3kERbVX0",
        "outputId": "74fe6ee8-ac70-4ea6-ac76-d0d97b071997"
      },
      "outputs": [
        {
          "data": {
            "text/plain": [
              "array([[0., 0.],\n",
              "       [0., 0.],\n",
              "       [0., 0.]])"
            ]
          },
          "execution_count": 3,
          "metadata": {},
          "output_type": "execute_result"
        }
      ],
      "source": [
        "np.zeros((3, 2))"
      ]
    },
    {
      "cell_type": "markdown",
      "metadata": {
        "id": "7wPgKpAibVX1"
      },
      "source": [
        "`numpy.ones(<shape>, dtype=<type>)`: Return a new array of given shape and type, filled with ones."
      ]
    },
    {
      "cell_type": "code",
      "execution_count": null,
      "metadata": {
        "id": "qD3loXZxbVX2",
        "outputId": "b322af21-710c-4a0e-99b4-6a6a0e6b4db2"
      },
      "outputs": [
        {
          "data": {
            "text/plain": [
              "array([[1., 1., 1.],\n",
              "       [1., 1., 1.]])"
            ]
          },
          "execution_count": 4,
          "metadata": {},
          "output_type": "execute_result"
        }
      ],
      "source": [
        "np.ones((2, 3))"
      ]
    },
    {
      "cell_type": "markdown",
      "metadata": {
        "id": "f3LDnGLabVX2"
      },
      "source": [
        "`numpy.full(<shape>, <fill_value>, dtype=<type>)`: Return a new array of given shape and type, filled with `fill_value`."
      ]
    },
    {
      "cell_type": "code",
      "execution_count": null,
      "metadata": {
        "id": "yGx0z6IsbVX2",
        "outputId": "cb76607f-f23b-4e29-fbfb-3cfbb1a1107a"
      },
      "outputs": [
        {
          "data": {
            "text/plain": [
              "array([[7, 7, 7, 7],\n",
              "       [7, 7, 7, 7],\n",
              "       [7, 7, 7, 7]])"
            ]
          },
          "execution_count": 5,
          "metadata": {},
          "output_type": "execute_result"
        }
      ],
      "source": [
        "np.full((3, 4), 7)"
      ]
    },
    {
      "cell_type": "markdown",
      "metadata": {
        "id": "8hScwwtEbVX3"
      },
      "source": [
        "`numpy.eye(<N>, <M>, k=<0>, dtype=<type>)`: Return a 2-D array with ones on the diagonal and zeros elsewhere. `M` is number of columns in the output. If `None`, defaults to `N`. `k` is index of the diagonal: 0 (the default) refers to the main diagonal, a positive value refers to an upper diagonal, and a negative value to a lower diagonal."
      ]
    },
    {
      "cell_type": "code",
      "execution_count": null,
      "metadata": {
        "id": "xbXv8eM8bVX3",
        "outputId": "9636a515-0e30-4ebb-c47f-cbfc38fe2c7f"
      },
      "outputs": [
        {
          "data": {
            "text/plain": [
              "array([[1., 0., 0., 0.],\n",
              "       [0., 1., 0., 0.],\n",
              "       [0., 0., 1., 0.],\n",
              "       [0., 0., 0., 1.],\n",
              "       [0., 0., 0., 0.]])"
            ]
          },
          "execution_count": 6,
          "metadata": {},
          "output_type": "execute_result"
        }
      ],
      "source": [
        "np.eye(5, 4)"
      ]
    },
    {
      "cell_type": "markdown",
      "metadata": {
        "id": "BBYLiUTWbVX3"
      },
      "source": [
        "`numpy.identity(<n>, dtype=<type>)`: Return the identity array."
      ]
    },
    {
      "cell_type": "code",
      "execution_count": null,
      "metadata": {
        "id": "9lXQxwB1bVX3",
        "outputId": "df3f1b35-3d2e-41f1-df75-5ccbc60c8c54"
      },
      "outputs": [
        {
          "data": {
            "text/plain": [
              "array([[1., 0., 0., 0.],\n",
              "       [0., 1., 0., 0.],\n",
              "       [0., 0., 1., 0.],\n",
              "       [0., 0., 0., 1.]])"
            ]
          },
          "execution_count": 7,
          "metadata": {},
          "output_type": "execute_result"
        }
      ],
      "source": [
        "np.identity(4)"
      ]
    },
    {
      "cell_type": "markdown",
      "metadata": {
        "id": "3dvT9mDHbVX3"
      },
      "source": [
        "### Numerical ranges\n",
        "\n",
        "`numpy.arange(<start>, <stop>, <step>, dtype=<type>)`: Return evenly spaced values within a given interval."
      ]
    },
    {
      "cell_type": "code",
      "execution_count": null,
      "metadata": {
        "id": "ZhLv65M7bVX4",
        "outputId": "8971ab3c-d93d-4c5a-c1c0-bccbf5801778"
      },
      "outputs": [
        {
          "data": {
            "text/plain": [
              "array([10, 12, 14, 16, 18, 20, 22, 24, 26, 28])"
            ]
          },
          "execution_count": 8,
          "metadata": {},
          "output_type": "execute_result"
        }
      ],
      "source": [
        "np.arange(10, 30, 2)"
      ]
    },
    {
      "cell_type": "markdown",
      "metadata": {
        "id": "vv-AhNv5bVX4"
      },
      "source": [
        "`numpy.linspace(<start>, <stop>, num=<50>, endpoint=<True>, dtype=<type>)`: Returns num evenly spaced samples, calculated over the interval [start, stop]."
      ]
    },
    {
      "cell_type": "code",
      "execution_count": null,
      "metadata": {
        "id": "xxVVBq9IbVX4",
        "outputId": "3509a424-a31f-49d0-ae1d-eae9d713f41a"
      },
      "outputs": [
        {
          "data": {
            "text/plain": [
              "array([10., 11., 12., 13., 14., 15., 16., 17., 18., 19., 20.])"
            ]
          },
          "execution_count": 80,
          "metadata": {},
          "output_type": "execute_result"
        }
      ],
      "source": [
        "np.linspace(10, 20, num=11)"
      ]
    },
    {
      "cell_type": "markdown",
      "metadata": {
        "id": "MqdGuOOKbVX4"
      },
      "source": [
        "`numpy.logspace(<start>, <stop>, num=<50>, endpoint=<True>, base=<10.0>, dtype=<type>)`: Return numbers spaced evenly on a log scale."
      ]
    },
    {
      "cell_type": "code",
      "execution_count": null,
      "metadata": {
        "id": "hnCm459GbVX4",
        "outputId": "290f8718-a50f-4487-e368-b04d4af65b5d"
      },
      "outputs": [
        {
          "data": {
            "text/plain": [
              "array([   10.,   100.,  1000., 10000.])"
            ]
          },
          "execution_count": 10,
          "metadata": {},
          "output_type": "execute_result"
        }
      ],
      "source": [
        "np.logspace(1, 4, num=4)"
      ]
    },
    {
      "cell_type": "markdown",
      "metadata": {
        "id": "1kywsmywbVX5"
      },
      "source": [
        "`numpy.geomspace(<start>, <stop>, num=<50>, endpoint=<True>, dtype=<type>)`: Return numbers spaced evenly on a log scale (a geometric progression)."
      ]
    },
    {
      "cell_type": "code",
      "execution_count": null,
      "metadata": {
        "id": "_VoX7meabVX5",
        "outputId": "d8fdf769-e1d5-4c4d-ad86-fcbf18410955"
      },
      "outputs": [
        {
          "data": {
            "text/plain": [
              "array([   1.,   10.,  100., 1000.])"
            ]
          },
          "execution_count": 11,
          "metadata": {},
          "output_type": "execute_result"
        }
      ],
      "source": [
        "np.geomspace(1,1000, num=4)"
      ]
    },
    {
      "cell_type": "markdown",
      "metadata": {
        "id": "dBfi1i_lbVX5"
      },
      "source": [
        "## Array Attributes\n",
        "\n",
        "Array attributes reflect information that is intrinsic to the array itself. Generally, accessing an array through its attributes allows you to get and sometimes set intrinsic properties of the array without creating a new array. The exposed attributes are the core parts of an array and only some of them can be reset meaningfully without creating a new array."
      ]
    },
    {
      "cell_type": "markdown",
      "metadata": {
        "id": "JCeF0HOwbVX5"
      },
      "source": [
        "### Array Layout\n",
        "\n",
        "`ndarray.shape`: Tuple of array dimensions."
      ]
    },
    {
      "cell_type": "code",
      "execution_count": null,
      "metadata": {
        "id": "bDPMMS4tbVX5",
        "outputId": "c8ab29fb-7a56-4f46-d403-07b8e795c7c0"
      },
      "outputs": [
        {
          "data": {
            "text/plain": [
              "array([[1., 0., 0., 0.],\n",
              "       [0., 1., 0., 0.],\n",
              "       [0., 0., 1., 0.],\n",
              "       [0., 0., 0., 1.],\n",
              "       [0., 0., 0., 0.],\n",
              "       [0., 0., 0., 0.]])"
            ]
          },
          "execution_count": 12,
          "metadata": {},
          "output_type": "execute_result"
        }
      ],
      "source": [
        "diagonal = np.eye(6, 4)\n",
        "diagonal"
      ]
    },
    {
      "cell_type": "code",
      "execution_count": null,
      "metadata": {
        "id": "-Tj3wisWbVX5",
        "outputId": "d538ebfe-4307-463d-df42-f1805aebf24d"
      },
      "outputs": [
        {
          "data": {
            "text/plain": [
              "(6, 4)"
            ]
          },
          "execution_count": 13,
          "metadata": {},
          "output_type": "execute_result"
        }
      ],
      "source": [
        "diagonal.shape"
      ]
    },
    {
      "cell_type": "code",
      "execution_count": null,
      "metadata": {
        "id": "srjvUbG_bVX6",
        "outputId": "abaca1d9-ecff-48c8-a71c-db61148f686d"
      },
      "outputs": [
        {
          "data": {
            "text/plain": [
              "array([[1., 0., 0., 0., 0., 1.],\n",
              "       [0., 0., 0., 0., 1., 0.],\n",
              "       [0., 0., 0., 1., 0., 0.],\n",
              "       [0., 0., 0., 0., 0., 0.]])"
            ]
          },
          "execution_count": 14,
          "metadata": {},
          "output_type": "execute_result"
        }
      ],
      "source": [
        "diagonal.shape = (4, 6)\n",
        "diagonal"
      ]
    },
    {
      "cell_type": "markdown",
      "metadata": {
        "id": "RHn1POj2bVX6"
      },
      "source": [
        "`ndarray.ndim`: Number of array dimensions."
      ]
    },
    {
      "cell_type": "code",
      "execution_count": null,
      "metadata": {
        "id": "lVHlp5YKbVX6",
        "outputId": "b37be8bd-89a9-43b0-9a0d-6b386cf8097e"
      },
      "outputs": [
        {
          "data": {
            "text/plain": [
              "2"
            ]
          },
          "execution_count": 15,
          "metadata": {},
          "output_type": "execute_result"
        }
      ],
      "source": [
        "diagonal.ndim"
      ]
    },
    {
      "cell_type": "code",
      "execution_count": null,
      "metadata": {
        "id": "rxtkn8VTbVX6",
        "outputId": "f9c9af06-961e-4b8f-f69f-e0d121bdb9fb"
      },
      "outputs": [
        {
          "data": {
            "text/plain": [
              "array([[[1., 0., 0., 0.],\n",
              "        [0., 1., 0., 0.],\n",
              "        [0., 0., 1., 0.]],\n",
              "\n",
              "       [[0., 0., 0., 1.],\n",
              "        [0., 0., 0., 0.],\n",
              "        [0., 0., 0., 0.]]])"
            ]
          },
          "execution_count": 16,
          "metadata": {},
          "output_type": "execute_result"
        }
      ],
      "source": [
        "diagonal.shape = (2, 3, 4)\n",
        "diagonal"
      ]
    },
    {
      "cell_type": "code",
      "execution_count": null,
      "metadata": {
        "id": "v7J6hSaebVX6",
        "outputId": "5c158408-a594-45ba-d2da-eca0297e3738"
      },
      "outputs": [
        {
          "data": {
            "text/plain": [
              "3"
            ]
          },
          "execution_count": 17,
          "metadata": {},
          "output_type": "execute_result"
        }
      ],
      "source": [
        "diagonal.ndim"
      ]
    },
    {
      "cell_type": "markdown",
      "metadata": {
        "id": "ybSDLgZBbVX6"
      },
      "source": [
        "`ndarray.size`: Number of elements in the array."
      ]
    },
    {
      "cell_type": "code",
      "execution_count": null,
      "metadata": {
        "id": "db0XYhrGbVX7",
        "outputId": "204d8cd4-53aa-4ad6-ff3c-70379edd0fc4"
      },
      "outputs": [
        {
          "data": {
            "text/plain": [
              "24"
            ]
          },
          "execution_count": 18,
          "metadata": {},
          "output_type": "execute_result"
        }
      ],
      "source": [
        "diagonal.size"
      ]
    },
    {
      "cell_type": "markdown",
      "metadata": {
        "id": "GrpZITGpbVX7"
      },
      "source": [
        "`ndarray.nbytes`: Total bytes consumed by the elements of the array."
      ]
    },
    {
      "cell_type": "code",
      "execution_count": null,
      "metadata": {
        "id": "HN6LYFjdbVX7",
        "outputId": "98a0f453-5f45-4959-8c6f-8ef21118a54c"
      },
      "outputs": [
        {
          "data": {
            "text/plain": [
              "80000"
            ]
          },
          "execution_count": 19,
          "metadata": {},
          "output_type": "execute_result"
        }
      ],
      "source": [
        "diagonal = np.linspace(100000, 999999, num=10000)\n",
        "diagonal.nbytes"
      ]
    },
    {
      "cell_type": "markdown",
      "metadata": {
        "id": "TTKacRWObVX7"
      },
      "source": [
        "### Date type\n",
        "\n",
        "`ndarray.dtype`: Data-type of the array’s elements."
      ]
    },
    {
      "cell_type": "code",
      "execution_count": null,
      "metadata": {
        "id": "qcADlbE_bVX7",
        "outputId": "1d18e956-41d8-4668-abc5-e3325fca6b9b"
      },
      "outputs": [
        {
          "data": {
            "text/plain": [
              "dtype('float64')"
            ]
          },
          "execution_count": 20,
          "metadata": {},
          "output_type": "execute_result"
        }
      ],
      "source": [
        "diagonal.dtype"
      ]
    },
    {
      "cell_type": "markdown",
      "metadata": {
        "id": "s_xtk6H4bVX8"
      },
      "source": [
        "#### NumPy Built-in Scalar Types\n",
        "\n",
        "The built-in scalar types are shown here: https://docs.scipy.org/doc/numpy/reference/arrays.scalars.html#arrays-scalars-built-in\n",
        "\n",
        "The most common ones are: `int8`, `int16`, `int32`, `int64`, `uint8`, `uint8`, `uint16`, `uint32`, `uint64`, `float16`, `float32`, `float64`, `float96`, `float128`, `complex64`, `complex128`, `complex192`, `complex256`"
      ]
    },
    {
      "cell_type": "code",
      "execution_count": null,
      "metadata": {
        "id": "wPj8iSh5bVX8",
        "outputId": "bfe6cfc1-f86d-43fb-95c6-40e6fc6b8fc9"
      },
      "outputs": [
        {
          "data": {
            "text/plain": [
              "array([10.        , 14.44444444, 18.88888889, 23.33333333, 27.77777778,\n",
              "       32.22222222, 36.66666667, 41.11111111, 45.55555556, 50.        ])"
            ]
          },
          "execution_count": 82,
          "metadata": {},
          "output_type": "execute_result"
        }
      ],
      "source": [
        "np.linspace(10, 50, num=10)"
      ]
    },
    {
      "cell_type": "code",
      "execution_count": null,
      "metadata": {
        "id": "CY39JDLmbVX8",
        "outputId": "6dcf8f4c-16a7-4a89-a56b-c41422a81bdf"
      },
      "outputs": [
        {
          "data": {
            "text/plain": [
              "array([10, 14, 18, 23, 27, 32, 36, 41, 45, 50], dtype=uint8)"
            ]
          },
          "execution_count": 22,
          "metadata": {},
          "output_type": "execute_result"
        }
      ],
      "source": [
        "np.linspace(10, 50, num=10, dtype=np.uint8)"
      ]
    },
    {
      "cell_type": "markdown",
      "metadata": {
        "id": "4AUkOoj1bVX8"
      },
      "source": [
        "### Other attributes\n",
        "\n",
        "`ndarray.T`: Returns a view of the array with axes transposed."
      ]
    },
    {
      "cell_type": "code",
      "execution_count": null,
      "metadata": {
        "id": "crkMSMfObVX8",
        "outputId": "2c8d331a-4501-4efc-c998-18e24e8f99c9"
      },
      "outputs": [
        {
          "data": {
            "text/plain": [
              "array([[ 0,  2,  4,  6,  8, 10],\n",
              "       [12, 14, 16, 18, 20, 22],\n",
              "       [24, 26, 28, 30, 32, 34],\n",
              "       [36, 38, 40, 42, 44, 46]])"
            ]
          },
          "execution_count": 23,
          "metadata": {},
          "output_type": "execute_result"
        }
      ],
      "source": [
        "even_array = np.arange(0, 48, 2)\n",
        "even_array.shape = (4, 6)\n",
        "even_array"
      ]
    },
    {
      "cell_type": "code",
      "execution_count": null,
      "metadata": {
        "id": "U4Xw8O_rbVX9",
        "outputId": "c94fbd79-a22d-4172-c242-ca9a60a5d8fd"
      },
      "outputs": [
        {
          "data": {
            "text/plain": [
              "array([[ 0, 12, 24, 36],\n",
              "       [ 2, 14, 26, 38],\n",
              "       [ 4, 16, 28, 40],\n",
              "       [ 6, 18, 30, 42],\n",
              "       [ 8, 20, 32, 44],\n",
              "       [10, 22, 34, 46]])"
            ]
          },
          "execution_count": 24,
          "metadata": {},
          "output_type": "execute_result"
        }
      ],
      "source": [
        "even_array.T"
      ]
    },
    {
      "cell_type": "markdown",
      "metadata": {
        "id": "3Uxh910zbVX9"
      },
      "source": [
        "`ndarray.flat`: A 1-D iterator over the array."
      ]
    },
    {
      "cell_type": "code",
      "execution_count": null,
      "metadata": {
        "id": "NZm6ZU0-bVX9",
        "outputId": "c53e7964-873b-49dd-b668-9aef8f05a58f"
      },
      "outputs": [
        {
          "data": {
            "text/plain": [
              "6"
            ]
          },
          "execution_count": 84,
          "metadata": {},
          "output_type": "execute_result"
        }
      ],
      "source": [
        "even_array.flat[2]"
      ]
    },
    {
      "cell_type": "markdown",
      "metadata": {
        "id": "q_FANOckbVX9"
      },
      "source": [
        "## Array Methods\n",
        "\n",
        "An `ndarray` object has many methods which operate on or with the array in some fashion, typically returning an array result."
      ]
    },
    {
      "cell_type": "markdown",
      "metadata": {
        "id": "mfZA33hcbVX9"
      },
      "source": [
        "### Array Conversion\n",
        "\n",
        "`ndarray.astype(<dtype>)`: Copy of the array, cast to a specified type."
      ]
    },
    {
      "cell_type": "code",
      "execution_count": null,
      "metadata": {
        "id": "sj7EeDN3bVX-",
        "outputId": "d33fe78d-db2a-45cb-a6d9-a6471b4143d1"
      },
      "outputs": [
        {
          "data": {
            "text/plain": [
              "dtype('int64')"
            ]
          },
          "execution_count": 26,
          "metadata": {},
          "output_type": "execute_result"
        }
      ],
      "source": [
        "even_array.dtype"
      ]
    },
    {
      "cell_type": "code",
      "execution_count": null,
      "metadata": {
        "id": "9dq8XY0MbVX-",
        "outputId": "8bd5cfe0-bc04-4c0e-f161-c631a21618b0"
      },
      "outputs": [
        {
          "data": {
            "text/plain": [
              "array([[ 0.,  2.,  4.,  6.,  8., 10.],\n",
              "       [12., 14., 16., 18., 20., 22.],\n",
              "       [24., 26., 28., 30., 32., 34.],\n",
              "       [36., 38., 40., 42., 44., 46.]], dtype=float16)"
            ]
          },
          "execution_count": 27,
          "metadata": {},
          "output_type": "execute_result"
        }
      ],
      "source": [
        "even_array_float = even_array.astype(np.float16)\n",
        "even_array_float"
      ]
    },
    {
      "cell_type": "markdown",
      "metadata": {
        "id": "0VeJ5HOlbVX-"
      },
      "source": [
        "`ndarray.fill(<value>)`: Fill the array with a scalar value."
      ]
    },
    {
      "cell_type": "code",
      "execution_count": null,
      "metadata": {
        "id": "K_TZBqdnbVX-",
        "outputId": "1f7e9df9-f55d-4294-bf94-54646c7cee21"
      },
      "outputs": [
        {
          "data": {
            "text/plain": [
              "array([[100, 100, 100, 100, 100, 100],\n",
              "       [100, 100, 100, 100, 100, 100],\n",
              "       [100, 100, 100, 100, 100, 100],\n",
              "       [100, 100, 100, 100, 100, 100]])"
            ]
          },
          "execution_count": 28,
          "metadata": {},
          "output_type": "execute_result"
        }
      ],
      "source": [
        "even_array.fill(100)\n",
        "even_array"
      ]
    },
    {
      "cell_type": "markdown",
      "metadata": {
        "id": "QZY8OzFIbVX-"
      },
      "source": [
        "### Shape Manipulation\n",
        "\n",
        "`ndarray.reshape(<shape>)`: Returns an array containing the same data with a new shape."
      ]
    },
    {
      "cell_type": "code",
      "execution_count": null,
      "metadata": {
        "id": "aq_C-da6bVX_",
        "outputId": "22b1842c-cddd-49ae-d7d8-0d0db8478fd9"
      },
      "outputs": [
        {
          "data": {
            "text/plain": [
              "(4, 6)"
            ]
          },
          "execution_count": 29,
          "metadata": {},
          "output_type": "execute_result"
        }
      ],
      "source": [
        "even_array.shape"
      ]
    },
    {
      "cell_type": "code",
      "execution_count": null,
      "metadata": {
        "id": "rdPk4TpWbVX_",
        "outputId": "cd4887e6-814f-4e43-8334-c9177bdb29e8"
      },
      "outputs": [
        {
          "data": {
            "text/plain": [
              "array([[100, 100],\n",
              "       [100, 100],\n",
              "       [100, 100],\n",
              "       [100, 100],\n",
              "       [100, 100],\n",
              "       [100, 100],\n",
              "       [100, 100],\n",
              "       [100, 100],\n",
              "       [100, 100],\n",
              "       [100, 100],\n",
              "       [100, 100],\n",
              "       [100, 100]])"
            ]
          },
          "execution_count": 30,
          "metadata": {},
          "output_type": "execute_result"
        }
      ],
      "source": [
        "even_array_long = even_array.reshape(12, 2)\n",
        "even_array_long"
      ]
    },
    {
      "cell_type": "code",
      "execution_count": null,
      "metadata": {
        "id": "_jFMgK4gbVX_",
        "outputId": "0a8026f7-05c7-4608-88d5-d81bb3dc9994"
      },
      "outputs": [
        {
          "data": {
            "text/plain": [
              "(4, 6)"
            ]
          },
          "execution_count": 31,
          "metadata": {},
          "output_type": "execute_result"
        }
      ],
      "source": [
        "even_array.shape"
      ]
    },
    {
      "cell_type": "markdown",
      "metadata": {
        "id": "sIac6c9qbVX_"
      },
      "source": [
        "`ndarray.transpose(<axis>)`: Returns a view of the array with axes transposed."
      ]
    },
    {
      "cell_type": "code",
      "execution_count": null,
      "metadata": {
        "id": "0vTjEtJ0bVYA",
        "outputId": "a5716a41-0ea3-49b7-e547-1570fbbc401e"
      },
      "outputs": [
        {
          "data": {
            "text/plain": [
              "array([[100, 100, 100, 100, 100, 100, 100, 100, 100, 100, 100, 100],\n",
              "       [100, 100, 100, 100, 100, 100, 100, 100, 100, 100, 100, 100]])"
            ]
          },
          "execution_count": 32,
          "metadata": {},
          "output_type": "execute_result"
        }
      ],
      "source": [
        "even_array_long.transpose()"
      ]
    },
    {
      "cell_type": "markdown",
      "metadata": {
        "id": "r9gP6eO2bVYA"
      },
      "source": [
        "`ndarray.flatten()`: Return a copy of the array collapsed into one dimension."
      ]
    },
    {
      "cell_type": "code",
      "execution_count": null,
      "metadata": {
        "id": "PkD4Iz34bVYA",
        "outputId": "30cd5797-c189-4b70-8d76-13ea2f035c85"
      },
      "outputs": [
        {
          "data": {
            "text/plain": [
              "array([100, 100, 100, 100, 100, 100, 100, 100, 100, 100, 100, 100, 100,\n",
              "       100, 100, 100, 100, 100, 100, 100, 100, 100, 100, 100])"
            ]
          },
          "execution_count": 33,
          "metadata": {},
          "output_type": "execute_result"
        }
      ],
      "source": [
        "even_array.flatten()"
      ]
    },
    {
      "cell_type": "markdown",
      "metadata": {
        "id": "N-0E5QgbbVYA"
      },
      "source": [
        "`ndarray.take(<indices>, <axis>)`: Return an array formed from the elements of a at the given indices."
      ]
    },
    {
      "cell_type": "code",
      "execution_count": null,
      "metadata": {
        "id": "wVSrcOHHbVYA",
        "outputId": "8b154e97-fa29-4575-efcb-ed667b0ac534"
      },
      "outputs": [
        {
          "data": {
            "text/plain": [
              "array([[ 0,  2,  4,  6,  8, 10],\n",
              "       [12, 14, 16, 18, 20, 22],\n",
              "       [24, 26, 28, 30, 32, 34],\n",
              "       [36, 38, 40, 42, 44, 46]])"
            ]
          },
          "execution_count": 34,
          "metadata": {},
          "output_type": "execute_result"
        }
      ],
      "source": [
        "even_array = np.arange(0, 48, 2).reshape(4, 6)\n",
        "even_array"
      ]
    },
    {
      "cell_type": "code",
      "execution_count": null,
      "metadata": {
        "id": "5DkMo9lSbVYB",
        "outputId": "921c487d-feef-4142-b298-d49b5dfa86ca"
      },
      "outputs": [
        {
          "data": {
            "text/plain": [
              "array([ 6, 16, 24, 44])"
            ]
          },
          "execution_count": 35,
          "metadata": {},
          "output_type": "execute_result"
        }
      ],
      "source": [
        "even_array.take([3,8,12,22])"
      ]
    },
    {
      "cell_type": "markdown",
      "metadata": {
        "id": "JgNC8NN-bVYB"
      },
      "source": [
        "`ndarray.put(<indices>, <values>)`: Set a.flat[n] = values[n] for all n in indices."
      ]
    },
    {
      "cell_type": "code",
      "execution_count": null,
      "metadata": {
        "id": "7a5gcvnBbVYB",
        "outputId": "2ff08c07-424a-4410-b882-05ae4b52438d"
      },
      "outputs": [
        {
          "data": {
            "text/plain": [
              "array([[100, 102, 104, 106,   8,  10],\n",
              "       [ 12,  14,  16,  18,  20,  22],\n",
              "       [ 24,  26,  28,  30,  32,  34],\n",
              "       [ 36,  38,  40,  42,  44,  46]])"
            ]
          },
          "execution_count": 36,
          "metadata": {},
          "output_type": "execute_result"
        }
      ],
      "source": [
        "even_array.put([0,1,2,3], [100, 102, 104, 106])\n",
        "even_array"
      ]
    },
    {
      "cell_type": "markdown",
      "metadata": {
        "id": "ihdvQiU5bVYB"
      },
      "source": [
        "`ndarray.sort(<axis=-1>)`: Sort an array, in-place."
      ]
    },
    {
      "cell_type": "code",
      "execution_count": null,
      "metadata": {
        "id": "WpNFah3mbVYB",
        "outputId": "86ba46f7-4314-4311-edda-eb3b26ae1964"
      },
      "outputs": [
        {
          "data": {
            "text/plain": [
              "array([[  8,  10, 100, 102, 104, 106],\n",
              "       [ 12,  14,  16,  18,  20,  22],\n",
              "       [ 24,  26,  28,  30,  32,  34],\n",
              "       [ 36,  38,  40,  42,  44,  46]])"
            ]
          },
          "execution_count": 37,
          "metadata": {},
          "output_type": "execute_result"
        }
      ],
      "source": [
        "even_array.sort()\n",
        "even_array"
      ]
    },
    {
      "cell_type": "code",
      "execution_count": null,
      "metadata": {
        "id": "AilwGEIIbVYC",
        "outputId": "3f20aee6-b160-4947-f140-3e716e0c93a3"
      },
      "outputs": [
        {
          "data": {
            "text/plain": [
              "array([[  8,  10,  16,  18,  20,  22],\n",
              "       [ 12,  14,  28,  30,  32,  34],\n",
              "       [ 24,  26,  40,  42,  44,  46],\n",
              "       [ 36,  38, 100, 102, 104, 106]])"
            ]
          },
          "execution_count": 38,
          "metadata": {},
          "output_type": "execute_result"
        }
      ],
      "source": [
        "even_array.sort(axis=0)\n",
        "even_array"
      ]
    },
    {
      "cell_type": "markdown",
      "metadata": {
        "id": "V25CjlMCbVYC"
      },
      "source": [
        "`ndarray.argsort(<axis>)`: Returns the indices that would sort this array."
      ]
    },
    {
      "cell_type": "code",
      "execution_count": null,
      "metadata": {
        "id": "uBH4OXxzbVYC",
        "outputId": "18107439-6efd-4bc7-ddc5-7dc0cc7d4c53"
      },
      "outputs": [
        {
          "data": {
            "text/plain": [
              "array([[5, 4, 3, 2, 1, 0],\n",
              "       [5, 4, 3, 2, 1, 0],\n",
              "       [5, 4, 3, 2, 1, 0],\n",
              "       [5, 4, 3, 2, 1, 0]])"
            ]
          },
          "execution_count": 86,
          "metadata": {},
          "output_type": "execute_result"
        }
      ],
      "source": [
        "even_array = np.arange(48, 0, -2).reshape(4, 6)\n",
        "even_array.argsort()"
      ]
    },
    {
      "cell_type": "markdown",
      "metadata": {
        "id": "RRIqeNmsbVYC"
      },
      "source": [
        "`ndarray.nonzero()`: Return the indices of the elements that are non-zero."
      ]
    },
    {
      "cell_type": "code",
      "execution_count": null,
      "metadata": {
        "id": "jy0W6xnjbVYC",
        "outputId": "78555ac3-24c0-400b-8a3c-556e7205f6cc"
      },
      "outputs": [
        {
          "data": {
            "text/plain": [
              "(array([0, 0, 0, 0, 0, 1, 1, 1, 1, 1, 1, 2, 2, 2, 2, 2, 2, 3, 3, 3, 3, 3,\n",
              "        3]),\n",
              " array([1, 2, 3, 4, 5, 0, 1, 2, 3, 4, 5, 0, 1, 2, 3, 4, 5, 0, 1, 2, 3, 4,\n",
              "        5]))"
            ]
          },
          "execution_count": 88,
          "metadata": {},
          "output_type": "execute_result"
        }
      ],
      "source": [
        "even_array = np.arange(0, 48, 2).reshape(4, 6)\n",
        "even_array.nonzero()"
      ]
    },
    {
      "cell_type": "markdown",
      "metadata": {
        "id": "M3LOxJLHbVYD"
      },
      "source": [
        "### Calculation\n",
        "\n",
        "Many of these methods take an argument named `axis`. In such cases,\n",
        "\n",
        "- If `axis` is `None` (the default), the array is treated as a 1-D array and the operation is performed over the entire array. This behavior is also the default if self is a 0-dimensional array or array scalar. (An array scalar is an instance of the types/classes float32, float64, etc., whereas a 0-dimensional array is an ndarray instance containing precisely one array scalar.)\n",
        "- If `axis` is an integer, then the operation is done over the given axis (for each 1-D subarray that can be created along the given axis).\n",
        "\n",
        "Below is the list of calculation methods available as array methods:\n",
        "\n",
        "- `ndarray.argmax([axis, out])`: Return indices of the maximum values along the given axis.\n",
        "- `ndarray.min([axis, out, keepdims])`: Return the minimum along a given axis.\n",
        "- `ndarray.argmin([axis, out])`: Return indices of the minimum values along the given axis of a.\n",
        "- `ndarray.ptp([axis, out, keepdims])`: Peak to peak (maximum - minimum) value along a given axis.\n",
        "- `ndarray.clip([min, max, out])`: Return an array whose values are limited to [min, max].\n",
        "- `ndarray.conj()`: Complex-conjugate all elements.\n",
        "- `ndarray.round([decimals, out])`: Return a with each element rounded to the given number of decimals.\n",
        "- `ndarray.trace([offset, axis1, axis2, dtype, out])`: Return the sum along diagonals of the array.\n",
        "- `ndarray.sum([axis, dtype, out, keepdims])`: Return the sum of the array elements over the given axis.\n",
        "- `ndarray.cumsum([axis, dtype, out])`: Return the cumulative sum of the elements along the given axis.\n",
        "- `ndarray.mean([axis, dtype, out, keepdims])`: Returns the average of the array elements along given axis.\n",
        "- `ndarray.var([axis, dtype, out, ddof, keepdims])`: Returns the variance of the array elements, along given axis.\n",
        "- `ndarray.std([axis, dtype, out, ddof, keepdims])`: Returns the standard deviation of the array elements along given axis.\n",
        "- `ndarray.prod([axis, dtype, out, keepdims])`: Return the product of the array elements over the given axis\n",
        "- `ndarray.cumprod([axis, dtype, out])`: Return the cumulative product of the elements along the given axis.\n",
        "- `ndarray.all([axis, out, keepdims])`: Returns True if all elements evaluate to True.\n",
        "- `ndarray.any([axis, out, keepdims])`: Returns True if any of the elements of a evaluate to True."
      ]
    },
    {
      "cell_type": "code",
      "execution_count": null,
      "metadata": {
        "id": "Iuwo9rBebVYD",
        "outputId": "91c85193-cb42-43a4-c39d-265ae7c23a6f"
      },
      "outputs": [
        {
          "data": {
            "text/plain": [
              "array([[ 2,  4,  6],\n",
              "       [ 8, 10, 12],\n",
              "       [14, 16, 18],\n",
              "       [20, 22, 24]])"
            ]
          },
          "execution_count": 41,
          "metadata": {},
          "output_type": "execute_result"
        }
      ],
      "source": [
        "even_array = np.arange(2, 26, 2).reshape(4, 3)\n",
        "even_array"
      ]
    },
    {
      "cell_type": "code",
      "execution_count": null,
      "metadata": {
        "id": "Sbx4GCaJbVYD",
        "outputId": "2b3de06f-76e0-4e41-dae9-43ce0f9867fc"
      },
      "outputs": [
        {
          "data": {
            "text/plain": [
              "2"
            ]
          },
          "execution_count": 42,
          "metadata": {},
          "output_type": "execute_result"
        }
      ],
      "source": [
        "even_array.min()"
      ]
    },
    {
      "cell_type": "code",
      "execution_count": null,
      "metadata": {
        "id": "ZK3SuNbIbVYD",
        "outputId": "c8945e98-22aa-4892-c758-59f2a34f5076"
      },
      "outputs": [
        {
          "data": {
            "text/plain": [
              "24"
            ]
          },
          "execution_count": 43,
          "metadata": {},
          "output_type": "execute_result"
        }
      ],
      "source": [
        "even_array.max()"
      ]
    },
    {
      "cell_type": "code",
      "execution_count": null,
      "metadata": {
        "id": "-mDe1-H7bVYE",
        "outputId": "95de08bc-e7d5-4293-b3ed-b70860c7ea1b"
      },
      "outputs": [
        {
          "data": {
            "text/plain": [
              "156"
            ]
          },
          "execution_count": 44,
          "metadata": {},
          "output_type": "execute_result"
        }
      ],
      "source": [
        "even_array.sum()"
      ]
    },
    {
      "cell_type": "code",
      "execution_count": null,
      "metadata": {
        "id": "6Jk5Xj6nbVYE",
        "outputId": "72615688-ad99-4b3c-f77a-5470ee0a52b6"
      },
      "outputs": [
        {
          "data": {
            "text/plain": [
              "13.0"
            ]
          },
          "execution_count": 45,
          "metadata": {},
          "output_type": "execute_result"
        }
      ],
      "source": [
        "even_array.mean()"
      ]
    },
    {
      "cell_type": "code",
      "execution_count": null,
      "metadata": {
        "id": "M07VrtPJbVYE",
        "outputId": "5d7c7269-49b7-4003-885d-bfd3e0b8da48"
      },
      "outputs": [
        {
          "data": {
            "text/plain": [
              "6.904105059069326"
            ]
          },
          "execution_count": 46,
          "metadata": {},
          "output_type": "execute_result"
        }
      ],
      "source": [
        "even_array.std()"
      ]
    },
    {
      "cell_type": "code",
      "execution_count": null,
      "metadata": {
        "id": "oJHQuc9HbVYF",
        "outputId": "c8680bfb-5c86-4772-d42b-69bdf03effcb"
      },
      "outputs": [
        {
          "data": {
            "text/plain": [
              "array([  2,   6,  12,  20,  30,  42,  56,  72,  90, 110, 132, 156])"
            ]
          },
          "execution_count": 47,
          "metadata": {},
          "output_type": "execute_result"
        }
      ],
      "source": [
        "even_array.cumsum()"
      ]
    },
    {
      "cell_type": "code",
      "execution_count": null,
      "metadata": {
        "id": "xHmG_E73bVYF",
        "outputId": "19c8a7f1-1684-45c8-8083-c40815ba1bdb"
      },
      "outputs": [
        {
          "data": {
            "text/plain": [
              "1961990553600"
            ]
          },
          "execution_count": 48,
          "metadata": {},
          "output_type": "execute_result"
        }
      ],
      "source": [
        "even_array.prod()"
      ]
    },
    {
      "cell_type": "code",
      "execution_count": null,
      "metadata": {
        "id": "ErTq-7HNbVYF",
        "outputId": "1289846a-c9f1-4ecf-e975-c2e948b093a3"
      },
      "outputs": [
        {
          "data": {
            "text/plain": [
              "array([            2,             8,            48,           384,\n",
              "                3840,         46080,        645120,      10321920,\n",
              "           185794560,    3715891200,   81749606400, 1961990553600])"
            ]
          },
          "execution_count": 49,
          "metadata": {},
          "output_type": "execute_result"
        }
      ],
      "source": [
        "even_array.cumprod()"
      ]
    },
    {
      "cell_type": "markdown",
      "metadata": {
        "id": "ziH9byCibVYF"
      },
      "source": [
        "## Array Indexing and Slicing\n",
        "\n",
        "`ndarrays` can be indexed using the standard Python x[obj] syntax, where `x` is the array and `obj` the selection.\n",
        "\n",
        "The basic slice syntax is `i:j:k` where `i` is the starting index, `j` is the stopping index, and `k` is the step ($k \\neq 0$)"
      ]
    },
    {
      "cell_type": "code",
      "execution_count": null,
      "metadata": {
        "id": "3l_Mo_mXbVYF",
        "outputId": "d350eb65-22b7-4c96-834a-95dfa506e90a"
      },
      "outputs": [
        {
          "data": {
            "text/plain": [
              "array([[ 1,  3,  5,  7,  9, 11],\n",
              "       [13, 15, 17, 19, 21, 23],\n",
              "       [25, 27, 29, 31, 33, 35],\n",
              "       [37, 39, 41, 43, 45, 47]])"
            ]
          },
          "execution_count": 50,
          "metadata": {},
          "output_type": "execute_result"
        }
      ],
      "source": [
        "odd_array = np.arange(1, 49, 2).reshape(4, 6)\n",
        "odd_array"
      ]
    },
    {
      "cell_type": "code",
      "execution_count": null,
      "metadata": {
        "id": "Cz7NHNOybVYG",
        "outputId": "a2e059af-0b39-4852-eaa6-741bae224a42"
      },
      "outputs": [
        {
          "data": {
            "text/plain": [
              "array([ 1,  3,  5,  7,  9, 11])"
            ]
          },
          "execution_count": 51,
          "metadata": {},
          "output_type": "execute_result"
        }
      ],
      "source": [
        "odd_array[0]"
      ]
    },
    {
      "cell_type": "code",
      "execution_count": null,
      "metadata": {
        "id": "rrIqntLsbVYG",
        "outputId": "564e111a-b1a0-4961-ee58-bbac7ec6db97"
      },
      "outputs": [
        {
          "data": {
            "text/plain": [
              "7"
            ]
          },
          "execution_count": 52,
          "metadata": {},
          "output_type": "execute_result"
        }
      ],
      "source": [
        "odd_array[0,3]"
      ]
    },
    {
      "cell_type": "code",
      "execution_count": null,
      "metadata": {
        "id": "L4DoBRFxbVYG",
        "outputId": "bd078d3a-df91-484f-c81e-ad2f4a0f1f4e"
      },
      "outputs": [
        {
          "data": {
            "text/plain": [
              "array([ 3, 15, 27, 39])"
            ]
          },
          "execution_count": 53,
          "metadata": {},
          "output_type": "execute_result"
        }
      ],
      "source": [
        "odd_array[:,1]"
      ]
    },
    {
      "cell_type": "code",
      "execution_count": null,
      "metadata": {
        "id": "IJ7mqRkRbVYG",
        "outputId": "08fd5844-fbde-44fc-adea-37c09ac51b00"
      },
      "outputs": [
        {
          "data": {
            "text/plain": [
              "array([[ 1,  3,  5,  7,  9, 11],\n",
              "       [25, 27, 29, 31, 33, 35]])"
            ]
          },
          "execution_count": 54,
          "metadata": {},
          "output_type": "execute_result"
        }
      ],
      "source": [
        "odd_array[::2]"
      ]
    },
    {
      "cell_type": "code",
      "execution_count": null,
      "metadata": {
        "id": "co_o2RjXbVYH",
        "outputId": "e93cf091-6b2a-471e-ac1c-f79d5cadef14"
      },
      "outputs": [
        {
          "data": {
            "text/plain": [
              "array([ 5, 29])"
            ]
          },
          "execution_count": 55,
          "metadata": {},
          "output_type": "execute_result"
        }
      ],
      "source": [
        "odd_array[::2, 2]"
      ]
    },
    {
      "cell_type": "code",
      "execution_count": null,
      "metadata": {
        "id": "YsG0N8KsbVYH",
        "outputId": "26533465-a543-414e-c1bd-6fd3fc0831d7"
      },
      "outputs": [
        {
          "data": {
            "text/plain": [
              "array([[ 1,  5,  9],\n",
              "       [25, 29, 33]])"
            ]
          },
          "execution_count": 56,
          "metadata": {},
          "output_type": "execute_result"
        }
      ],
      "source": [
        "odd_array[::2,::2]"
      ]
    },
    {
      "cell_type": "markdown",
      "metadata": {
        "id": "odSy9InbbVYH"
      },
      "source": [
        "Ellipsis (`...`) expand to the number of : objects needed to make a selection tuple of the same length as `ndarray.ndim`. There may only be a single ellipsis present."
      ]
    },
    {
      "cell_type": "code",
      "execution_count": null,
      "metadata": {
        "id": "_5y_oXVrbVYI",
        "outputId": "8a7e2a62-a325-4fb3-f428-7ef15521a1e7"
      },
      "outputs": [
        {
          "data": {
            "text/plain": [
              "array([[ 1,  3,  5,  7,  9, 11],\n",
              "       [13, 15, 17, 19, 21, 23],\n",
              "       [25, 27, 29, 31, 33, 35],\n",
              "       [37, 39, 41, 43, 45, 47]])"
            ]
          },
          "execution_count": 57,
          "metadata": {},
          "output_type": "execute_result"
        }
      ],
      "source": [
        "odd_array[...]"
      ]
    },
    {
      "cell_type": "code",
      "execution_count": null,
      "metadata": {
        "id": "2dCDVc4rbVYI",
        "outputId": "98f6e59d-e6a8-45a1-fdcc-e484cb7aeb19"
      },
      "outputs": [
        {
          "data": {
            "text/plain": [
              "array([13, 15, 17, 19, 21, 23])"
            ]
          },
          "execution_count": 58,
          "metadata": {},
          "output_type": "execute_result"
        }
      ],
      "source": [
        "odd_array[1,...]"
      ]
    },
    {
      "cell_type": "code",
      "execution_count": null,
      "metadata": {
        "id": "uwOcMRHHbVYI",
        "outputId": "e2853fef-69bd-40e6-ec96-659018cdc27e"
      },
      "outputs": [
        {
          "data": {
            "text/plain": [
              "array([[[ 1,  3,  5,  7],\n",
              "        [ 9, 11, 13, 15],\n",
              "        [17, 19, 21, 23]],\n",
              "\n",
              "       [[25, 27, 29, 31],\n",
              "        [33, 35, 37, 39],\n",
              "        [41, 43, 45, 47]]])"
            ]
          },
          "execution_count": 59,
          "metadata": {},
          "output_type": "execute_result"
        }
      ],
      "source": [
        "odd_array = odd_array.reshape(2,3,4)\n",
        "odd_array"
      ]
    },
    {
      "cell_type": "code",
      "execution_count": null,
      "metadata": {
        "id": "4EWWTHcXbVYJ",
        "outputId": "d96b2f39-c632-440a-c52e-9f255bbcb120"
      },
      "outputs": [
        {
          "data": {
            "text/plain": [
              "array([[25, 27, 29, 31],\n",
              "       [33, 35, 37, 39],\n",
              "       [41, 43, 45, 47]])"
            ]
          },
          "execution_count": 60,
          "metadata": {},
          "output_type": "execute_result"
        }
      ],
      "source": [
        "odd_array[1,...]"
      ]
    },
    {
      "cell_type": "code",
      "execution_count": null,
      "metadata": {
        "id": "FxSEeOuqbVYJ",
        "outputId": "14bec5c5-0d56-4ed4-ccdf-d664763e772e"
      },
      "outputs": [
        {
          "data": {
            "text/plain": [
              "array([[ 3, 11, 19],\n",
              "       [27, 35, 43]])"
            ]
          },
          "execution_count": 61,
          "metadata": {},
          "output_type": "execute_result"
        }
      ],
      "source": [
        "odd_array[...,1]"
      ]
    },
    {
      "cell_type": "code",
      "execution_count": null,
      "metadata": {
        "id": "vDLgtjjVbVYK",
        "outputId": "e65861ee-aafa-44a1-a590-213092ce0971"
      },
      "outputs": [
        {
          "data": {
            "text/plain": [
              "array([[ 9, 11, 13, 15],\n",
              "       [33, 35, 37, 39]])"
            ]
          },
          "execution_count": 62,
          "metadata": {},
          "output_type": "execute_result"
        }
      ],
      "source": [
        "odd_array[:,1,:]"
      ]
    },
    {
      "cell_type": "markdown",
      "metadata": {
        "id": "3sZO5WUUbVYK"
      },
      "source": [
        "### Integer Array Indexing\n",
        "\n",
        "Integer array indexing allows selection of arbitrary items in the array based on their N-dimensional index. Each integer array represents a number of indexes into that dimension."
      ]
    },
    {
      "cell_type": "code",
      "execution_count": null,
      "metadata": {
        "id": "sR84xYyrbVYK",
        "outputId": "9af69a18-45de-492b-aad3-6737bbdcb78b"
      },
      "outputs": [
        {
          "data": {
            "text/plain": [
              "array([[ 1,  3,  5,  7,  9, 11],\n",
              "       [13, 15, 17, 19, 21, 23],\n",
              "       [25, 27, 29, 31, 33, 35],\n",
              "       [37, 39, 41, 43, 45, 47]])"
            ]
          },
          "execution_count": 63,
          "metadata": {},
          "output_type": "execute_result"
        }
      ],
      "source": [
        "odd_array = odd_array.reshape(4, 6)\n",
        "odd_array"
      ]
    },
    {
      "cell_type": "code",
      "execution_count": null,
      "metadata": {
        "id": "bGitTFpqbVYK",
        "outputId": "257af032-61dd-4c28-9381-6ed54f23da4b"
      },
      "outputs": [
        {
          "data": {
            "text/plain": [
              "array([[ 1,  3,  5,  7,  9, 11],\n",
              "       [37, 39, 41, 43, 45, 47]])"
            ]
          },
          "execution_count": 64,
          "metadata": {},
          "output_type": "execute_result"
        }
      ],
      "source": [
        "odd_array[[0, 3],:]"
      ]
    },
    {
      "cell_type": "code",
      "execution_count": null,
      "metadata": {
        "id": "rkmHNR5kbVYK",
        "outputId": "a4bd2776-51dd-4a8c-ef85-dc65cce1f8bd"
      },
      "outputs": [
        {
          "data": {
            "text/plain": [
              "array([[ 3,  5,  9],\n",
              "       [15, 17, 21],\n",
              "       [27, 29, 33],\n",
              "       [39, 41, 45]])"
            ]
          },
          "execution_count": 65,
          "metadata": {},
          "output_type": "execute_result"
        }
      ],
      "source": [
        "odd_array[:,[1,2,4]]"
      ]
    },
    {
      "cell_type": "markdown",
      "metadata": {
        "id": "uCfW5dXLbVYL"
      },
      "source": [
        "### Boolean array indexing\n",
        "\n",
        "This advanced indexing occurs when obj is an array object of Boolean type, such as may be returned from comparison operators."
      ]
    },
    {
      "cell_type": "code",
      "execution_count": null,
      "metadata": {
        "id": "bJqwBwAibVYL",
        "outputId": "70d17e8a-fdb7-4672-cb27-93d9621ae6ea"
      },
      "outputs": [
        {
          "data": {
            "text/plain": [
              "array([ 0,  2,  4,  6,  8, 10, 12, 14, 16, 18, 20, 22, 24, 26, 28, 30])"
            ]
          },
          "execution_count": 66,
          "metadata": {},
          "output_type": "execute_result"
        }
      ],
      "source": [
        "even_vector = np.arange(0,31, 2)\n",
        "even_vector"
      ]
    },
    {
      "cell_type": "code",
      "execution_count": null,
      "metadata": {
        "id": "RowXOc8rbVYL",
        "outputId": "40034592-7d4c-4292-cb09-4ae66fc10af6"
      },
      "outputs": [
        {
          "data": {
            "text/plain": [
              "array([ True,  True,  True,  True,  True, False, False, False, False,\n",
              "       False, False, False, False, False, False, False])"
            ]
          },
          "execution_count": 67,
          "metadata": {},
          "output_type": "execute_result"
        }
      ],
      "source": [
        "even_vector < 10"
      ]
    },
    {
      "cell_type": "code",
      "execution_count": null,
      "metadata": {
        "id": "mhg2ZbLlbVYL",
        "outputId": "e31d9d56-2c6c-4ce4-d248-0733ffd546ab"
      },
      "outputs": [
        {
          "data": {
            "text/plain": [
              "array([0, 2, 4, 6, 8])"
            ]
          },
          "execution_count": 68,
          "metadata": {},
          "output_type": "execute_result"
        }
      ],
      "source": [
        "even_vector[even_vector < 10]"
      ]
    },
    {
      "cell_type": "code",
      "execution_count": null,
      "metadata": {
        "id": "5HCs_USnbVYM",
        "outputId": "8f42ab0e-4478-4705-943a-e82a18c4fdec"
      },
      "outputs": [
        {
          "data": {
            "text/plain": [
              "array([16, 18, 20, 22, 24, 26, 28, 30])"
            ]
          },
          "execution_count": 69,
          "metadata": {},
          "output_type": "execute_result"
        }
      ],
      "source": [
        "even_vector[even_vector >= even_vector.mean()]"
      ]
    },
    {
      "cell_type": "code",
      "execution_count": null,
      "metadata": {
        "id": "oNi9gIqvbVYM",
        "outputId": "a1b181cc-74a4-4b5f-ec38-ae1ff882b08f"
      },
      "outputs": [
        {
          "data": {
            "text/plain": [
              "array([ 0,  0,  0,  6,  0,  0,  0,  0, 16,  0,  0, 22,  0,  0, 28,  0])"
            ]
          },
          "execution_count": 70,
          "metadata": {},
          "output_type": "execute_result"
        }
      ],
      "source": [
        "even_vector * (np.abs(np.sin(even_vector)) < 0.5)"
      ]
    },
    {
      "cell_type": "code",
      "execution_count": null,
      "metadata": {
        "id": "qA1M1VMZbVYM",
        "outputId": "c6373021-2e7e-43f4-8f81-576b6cbf51b8"
      },
      "outputs": [
        {
          "data": {
            "text/plain": [
              "array([[ 0,  2,  4,  6],\n",
              "       [ 8, 10, 12, 14],\n",
              "       [16, 18, 20, 22],\n",
              "       [24, 26, 28, 30]])"
            ]
          },
          "execution_count": 71,
          "metadata": {},
          "output_type": "execute_result"
        }
      ],
      "source": [
        "even_vector.shape = (4, 4)\n",
        "even_vector"
      ]
    },
    {
      "cell_type": "code",
      "execution_count": null,
      "metadata": {
        "id": "Chu9hNFnbVYM",
        "outputId": "5abc3506-6677-4734-8ef7-06b57eccc735"
      },
      "outputs": [
        {
          "data": {
            "text/plain": [
              "array([[ 0,  0,  0,  0],\n",
              "       [ 0, 10,  0,  0],\n",
              "       [ 0,  0, 20,  0],\n",
              "       [ 0,  0,  0, 30]])"
            ]
          },
          "execution_count": 72,
          "metadata": {},
          "output_type": "execute_result"
        }
      ],
      "source": [
        "even_vector * (even_vector % 5 == 0)"
      ]
    },
    {
      "cell_type": "markdown",
      "metadata": {
        "id": "Y3grDrEebVYM"
      },
      "source": [
        "## Random Sampling\n",
        "\n",
        "NumPy provides several functions for generating random values, including samples from well-known probability distributions. All returned samples are of type ndarray, so they can easily be used in operations with other NumPy ndarrays. To see a complete list of available random generation functions, visit the following link:\n",
        "\n",
        "https://docs.scipy.org/doc/numpy-1.15.0/reference/routines.random.html"
      ]
    },
    {
      "cell_type": "markdown",
      "metadata": {
        "id": "cg0Wo31gbVYN"
      },
      "source": [
        "`numpy.random.random(<size>)`: Return random floats in the interval [0.0, 1.0)."
      ]
    },
    {
      "cell_type": "code",
      "execution_count": null,
      "metadata": {
        "id": "0UnhirxGbVYN",
        "outputId": "1464f6c1-4fd9-48e0-b5a9-4836acf8c2f7"
      },
      "outputs": [
        {
          "data": {
            "text/plain": [
              "array([0.37588979, 0.09898003, 0.75155888, 0.23674366, 0.16667968,\n",
              "       0.35289885, 0.87308844, 0.71099108, 0.38002111, 0.96284009])"
            ]
          },
          "execution_count": 73,
          "metadata": {},
          "output_type": "execute_result"
        }
      ],
      "source": [
        "np.random.random(10)"
      ]
    },
    {
      "cell_type": "markdown",
      "metadata": {
        "id": "UldaY-rxbVYN"
      },
      "source": [
        "`numpy.random.randint(<low>, <high>)`: Return random integers from `low` (inclusive) to `high` (exclusive)."
      ]
    },
    {
      "cell_type": "code",
      "execution_count": null,
      "metadata": {
        "id": "257IqQ30bVYN",
        "outputId": "e5a9d484-09ca-4555-b59b-eb163d2b9d7f"
      },
      "outputs": [
        {
          "data": {
            "text/plain": [
              "array([124, 129, 150, 115, 162, 123, 121, 125, 181, 199])"
            ]
          },
          "execution_count": 74,
          "metadata": {},
          "output_type": "execute_result"
        }
      ],
      "source": [
        "np.random.randint(100, 200, 10)"
      ]
    },
    {
      "cell_type": "markdown",
      "metadata": {
        "id": "8FKinMebbVYN"
      },
      "source": [
        "`numpy.random.exponential(<scale>, <size>)`: Draw samples from an exponential distribution with a specific `scale` parameter."
      ]
    },
    {
      "cell_type": "code",
      "execution_count": null,
      "metadata": {
        "id": "WJawvggMbVYO",
        "outputId": "74dc487e-e754-4436-9a14-3e0538d19ae8"
      },
      "outputs": [
        {
          "data": {
            "text/plain": [
              "array([1.43975149, 0.02075923, 1.27139783, 1.69609285, 0.16906979,\n",
              "       1.82917166, 1.42160387, 0.1242631 , 0.45070706, 0.04561556])"
            ]
          },
          "execution_count": 75,
          "metadata": {},
          "output_type": "execute_result"
        }
      ],
      "source": [
        "np.random.exponential(1, 10)"
      ]
    },
    {
      "cell_type": "markdown",
      "metadata": {
        "id": "YFDoN_iEbVYO"
      },
      "source": [
        "`numpy.random.normal(<loc>, <scale>, <size>)`: Draw random samples from a normal (Gaussian) distribution with the mean of `loc` and standard deviation of `scale`."
      ]
    },
    {
      "cell_type": "code",
      "execution_count": null,
      "metadata": {
        "id": "dhGLTyREbVYO",
        "outputId": "e17027c9-0964-43e7-a291-36a4fff2fdb0"
      },
      "outputs": [
        {
          "data": {
            "text/plain": [
              "array([-2.98426257,  3.81045098,  3.64862437,  1.80653591, -1.11453935,\n",
              "        5.20071873,  0.02625636, -3.44066097, -0.92866332,  2.77674338])"
            ]
          },
          "execution_count": 76,
          "metadata": {},
          "output_type": "execute_result"
        }
      ],
      "source": [
        "np.random.normal(0, 3, 10)"
      ]
    },
    {
      "cell_type": "markdown",
      "metadata": {
        "id": "TUAYU1EabVYO"
      },
      "source": [
        "`numpy.random.uniform(<low>, <high>, <size>)`: Draw samples from a uniform distribution."
      ]
    },
    {
      "cell_type": "code",
      "execution_count": null,
      "metadata": {
        "id": "OMw-tyHfbVYO",
        "outputId": "a5e22d62-5713-49c8-fc8b-6b34eb5aa644"
      },
      "outputs": [
        {
          "data": {
            "text/plain": [
              "array([18.8576768 , 19.03876096, 14.93972728, 12.93926026, 12.4186932 ,\n",
              "       19.02100285, 11.52120654, 19.85078574, 13.01017065, 19.60129023])"
            ]
          },
          "execution_count": 77,
          "metadata": {},
          "output_type": "execute_result"
        }
      ],
      "source": [
        "np.random.uniform(10, 20, 10)"
      ]
    },
    {
      "cell_type": "markdown",
      "metadata": {
        "id": "U5IJ-RKabVYP"
      },
      "source": [
        "`numpy.random.seed(<seed>)`: Seed the generator, so you can generate the same random numbers using the same seed. This helps replicating the same scenario again."
      ]
    },
    {
      "cell_type": "code",
      "execution_count": null,
      "metadata": {
        "id": "ecGyKsaQbVYP",
        "outputId": "98dde686-fc72-4c93-b2e9-717edbfaa3e0"
      },
      "outputs": [
        {
          "data": {
            "text/plain": [
              "array([0.51394334, 0.77316505, 0.87042769, 0.00804695, 0.30973593,\n",
              "       0.95760374, 0.51311671, 0.31828442, 0.53919994, 0.22125494])"
            ]
          },
          "execution_count": 78,
          "metadata": {},
          "output_type": "execute_result"
        }
      ],
      "source": [
        "np.random.seed(14)\n",
        "# the following always results in the same set of random variables\n",
        "np.random.random(10)"
      ]
    }
  ],
  "metadata": {
    "kernelspec": {
      "display_name": "Python 3",
      "language": "python",
      "name": "python3"
    },
    "language_info": {
      "codemirror_mode": {
        "name": "ipython",
        "version": 3
      },
      "file_extension": ".py",
      "mimetype": "text/x-python",
      "name": "python",
      "nbconvert_exporter": "python",
      "pygments_lexer": "ipython3",
      "version": "3.7.1"
    },
    "colab": {
      "provenance": []
    }
  },
  "nbformat": 4,
  "nbformat_minor": 0
}