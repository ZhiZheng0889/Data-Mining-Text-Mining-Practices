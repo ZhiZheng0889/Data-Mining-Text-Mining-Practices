{
 "cells": [
  {
   "cell_type": "markdown",
   "metadata": {
    "id": "3gYpbRnslpo_"
   },
   "source": [
    "# Transforming Data\n",
    "\n",
    "Data typically does not come in a single file. There could be several data files as it makes storage and sharing records easier. In some cases, if many data points are collected, there could be daily files and they can even be from different sources. Therefore, it is important to combine data for cleaning and analysis."
   ]
  },
  {
   "cell_type": "markdown",
   "metadata": {
    "id": "bpUGpMLylppB"
   },
   "source": [
    "## Concatenation\n",
    "\n",
    "Pandas `concat` method allows combining multiple DataFrames into one. If shapes (i.e., dimensions) of concatenated DataFrames do not match, missing values are replaced with `NaN`."
   ]
  },
  {
   "cell_type": "code",
   "execution_count": 1,
   "metadata": {
    "id": "Hbjbc6uulppB"
   },
   "outputs": [],
   "source": [
    "import numpy as np\n",
    "import pandas as pd"
   ]
  },
  {
   "cell_type": "code",
   "execution_count": 2,
   "metadata": {
    "id": "YsuM_yiVlppC"
   },
   "outputs": [],
   "source": [
    "np.random.seed(25)\n",
    "\n",
    "df1 = pd.DataFrame(np.random.randint(100, 200, 25).reshape(5, 5))\n",
    "df2 = pd.DataFrame(np.random.randint(200, 300, 15).reshape(3, 5))"
   ]
  },
  {
   "cell_type": "code",
   "execution_count": 3,
   "metadata": {
    "id": "QiRvnjFGlppD",
    "outputId": "d540a593-5530-4b0d-f1b9-959db30679be"
   },
   "outputs": [
    {
     "data": {
      "text/html": [
       "<div>\n",
       "<style scoped>\n",
       "    .dataframe tbody tr th:only-of-type {\n",
       "        vertical-align: middle;\n",
       "    }\n",
       "\n",
       "    .dataframe tbody tr th {\n",
       "        vertical-align: top;\n",
       "    }\n",
       "\n",
       "    .dataframe thead th {\n",
       "        text-align: right;\n",
       "    }\n",
       "</style>\n",
       "<table border=\"1\" class=\"dataframe\">\n",
       "  <thead>\n",
       "    <tr style=\"text-align: right;\">\n",
       "      <th></th>\n",
       "      <th>0</th>\n",
       "      <th>1</th>\n",
       "      <th>2</th>\n",
       "      <th>3</th>\n",
       "      <th>4</th>\n",
       "    </tr>\n",
       "  </thead>\n",
       "  <tbody>\n",
       "    <tr>\n",
       "      <th>0</th>\n",
       "      <td>104</td>\n",
       "      <td>162</td>\n",
       "      <td>190</td>\n",
       "      <td>115</td>\n",
       "      <td>161</td>\n",
       "    </tr>\n",
       "    <tr>\n",
       "      <th>1</th>\n",
       "      <td>123</td>\n",
       "      <td>144</td>\n",
       "      <td>150</td>\n",
       "      <td>108</td>\n",
       "      <td>128</td>\n",
       "    </tr>\n",
       "    <tr>\n",
       "      <th>2</th>\n",
       "      <td>104</td>\n",
       "      <td>189</td>\n",
       "      <td>131</td>\n",
       "      <td>169</td>\n",
       "      <td>101</td>\n",
       "    </tr>\n",
       "    <tr>\n",
       "      <th>3</th>\n",
       "      <td>139</td>\n",
       "      <td>103</td>\n",
       "      <td>188</td>\n",
       "      <td>155</td>\n",
       "      <td>103</td>\n",
       "    </tr>\n",
       "    <tr>\n",
       "      <th>4</th>\n",
       "      <td>184</td>\n",
       "      <td>145</td>\n",
       "      <td>103</td>\n",
       "      <td>101</td>\n",
       "      <td>122</td>\n",
       "    </tr>\n",
       "  </tbody>\n",
       "</table>\n",
       "</div>"
      ],
      "text/plain": [
       "     0    1    2    3    4\n",
       "0  104  162  190  115  161\n",
       "1  123  144  150  108  128\n",
       "2  104  189  131  169  101\n",
       "3  139  103  188  155  103\n",
       "4  184  145  103  101  122"
      ]
     },
     "execution_count": 3,
     "metadata": {},
     "output_type": "execute_result"
    }
   ],
   "source": [
    "df1"
   ]
  },
  {
   "cell_type": "code",
   "execution_count": 4,
   "metadata": {
    "id": "NYnpUZXhlppE",
    "outputId": "7134554c-4e6a-46aa-d34c-60bc217bc592"
   },
   "outputs": [
    {
     "data": {
      "text/html": [
       "<div>\n",
       "<style scoped>\n",
       "    .dataframe tbody tr th:only-of-type {\n",
       "        vertical-align: middle;\n",
       "    }\n",
       "\n",
       "    .dataframe tbody tr th {\n",
       "        vertical-align: top;\n",
       "    }\n",
       "\n",
       "    .dataframe thead th {\n",
       "        text-align: right;\n",
       "    }\n",
       "</style>\n",
       "<table border=\"1\" class=\"dataframe\">\n",
       "  <thead>\n",
       "    <tr style=\"text-align: right;\">\n",
       "      <th></th>\n",
       "      <th>0</th>\n",
       "      <th>1</th>\n",
       "      <th>2</th>\n",
       "      <th>3</th>\n",
       "      <th>4</th>\n",
       "    </tr>\n",
       "  </thead>\n",
       "  <tbody>\n",
       "    <tr>\n",
       "      <th>0</th>\n",
       "      <td>231</td>\n",
       "      <td>248</td>\n",
       "      <td>247</td>\n",
       "      <td>273</td>\n",
       "      <td>216</td>\n",
       "    </tr>\n",
       "    <tr>\n",
       "      <th>1</th>\n",
       "      <td>250</td>\n",
       "      <td>285</td>\n",
       "      <td>236</td>\n",
       "      <td>209</td>\n",
       "      <td>232</td>\n",
       "    </tr>\n",
       "    <tr>\n",
       "      <th>2</th>\n",
       "      <td>210</td>\n",
       "      <td>260</td>\n",
       "      <td>247</td>\n",
       "      <td>201</td>\n",
       "      <td>286</td>\n",
       "    </tr>\n",
       "  </tbody>\n",
       "</table>\n",
       "</div>"
      ],
      "text/plain": [
       "     0    1    2    3    4\n",
       "0  231  248  247  273  216\n",
       "1  250  285  236  209  232\n",
       "2  210  260  247  201  286"
      ]
     },
     "execution_count": 4,
     "metadata": {},
     "output_type": "execute_result"
    }
   ],
   "source": [
    "df2"
   ]
  },
  {
   "cell_type": "code",
   "execution_count": 5,
   "metadata": {
    "id": "zqoCHVHAlppE",
    "outputId": "d2f9020c-adbe-49cb-ef8f-629943bc4be2"
   },
   "outputs": [
    {
     "data": {
      "text/html": [
       "<div>\n",
       "<style scoped>\n",
       "    .dataframe tbody tr th:only-of-type {\n",
       "        vertical-align: middle;\n",
       "    }\n",
       "\n",
       "    .dataframe tbody tr th {\n",
       "        vertical-align: top;\n",
       "    }\n",
       "\n",
       "    .dataframe thead th {\n",
       "        text-align: right;\n",
       "    }\n",
       "</style>\n",
       "<table border=\"1\" class=\"dataframe\">\n",
       "  <thead>\n",
       "    <tr style=\"text-align: right;\">\n",
       "      <th></th>\n",
       "      <th>0</th>\n",
       "      <th>1</th>\n",
       "      <th>2</th>\n",
       "      <th>3</th>\n",
       "      <th>4</th>\n",
       "    </tr>\n",
       "  </thead>\n",
       "  <tbody>\n",
       "    <tr>\n",
       "      <th>0</th>\n",
       "      <td>104</td>\n",
       "      <td>162</td>\n",
       "      <td>190</td>\n",
       "      <td>115</td>\n",
       "      <td>161</td>\n",
       "    </tr>\n",
       "    <tr>\n",
       "      <th>1</th>\n",
       "      <td>123</td>\n",
       "      <td>144</td>\n",
       "      <td>150</td>\n",
       "      <td>108</td>\n",
       "      <td>128</td>\n",
       "    </tr>\n",
       "    <tr>\n",
       "      <th>2</th>\n",
       "      <td>104</td>\n",
       "      <td>189</td>\n",
       "      <td>131</td>\n",
       "      <td>169</td>\n",
       "      <td>101</td>\n",
       "    </tr>\n",
       "    <tr>\n",
       "      <th>3</th>\n",
       "      <td>139</td>\n",
       "      <td>103</td>\n",
       "      <td>188</td>\n",
       "      <td>155</td>\n",
       "      <td>103</td>\n",
       "    </tr>\n",
       "    <tr>\n",
       "      <th>4</th>\n",
       "      <td>184</td>\n",
       "      <td>145</td>\n",
       "      <td>103</td>\n",
       "      <td>101</td>\n",
       "      <td>122</td>\n",
       "    </tr>\n",
       "    <tr>\n",
       "      <th>0</th>\n",
       "      <td>231</td>\n",
       "      <td>248</td>\n",
       "      <td>247</td>\n",
       "      <td>273</td>\n",
       "      <td>216</td>\n",
       "    </tr>\n",
       "    <tr>\n",
       "      <th>1</th>\n",
       "      <td>250</td>\n",
       "      <td>285</td>\n",
       "      <td>236</td>\n",
       "      <td>209</td>\n",
       "      <td>232</td>\n",
       "    </tr>\n",
       "    <tr>\n",
       "      <th>2</th>\n",
       "      <td>210</td>\n",
       "      <td>260</td>\n",
       "      <td>247</td>\n",
       "      <td>201</td>\n",
       "      <td>286</td>\n",
       "    </tr>\n",
       "  </tbody>\n",
       "</table>\n",
       "</div>"
      ],
      "text/plain": [
       "     0    1    2    3    4\n",
       "0  104  162  190  115  161\n",
       "1  123  144  150  108  128\n",
       "2  104  189  131  169  101\n",
       "3  139  103  188  155  103\n",
       "4  184  145  103  101  122\n",
       "0  231  248  247  273  216\n",
       "1  250  285  236  209  232\n",
       "2  210  260  247  201  286"
      ]
     },
     "execution_count": 5,
     "metadata": {},
     "output_type": "execute_result"
    }
   ],
   "source": [
    "df3 = pd.concat([df1, df2])\n",
    "df3"
   ]
  },
  {
   "cell_type": "markdown",
   "metadata": {
    "id": "VEjpNmF5lppF"
   },
   "source": [
    "By default, `concat` method keeps original indices from merged DataFrames. This can lead into problems if indices are in consecutive integer form. To avoid this issue, we can have the `concat` method to reindex the result by passing `ignore_index=True` argument."
   ]
  },
  {
   "cell_type": "code",
   "execution_count": 6,
   "metadata": {
    "id": "lSySpGLklppF",
    "outputId": "3e40eb62-e6a2-4881-da7e-adfdb66217b3"
   },
   "outputs": [
    {
     "data": {
      "text/html": [
       "<div>\n",
       "<style scoped>\n",
       "    .dataframe tbody tr th:only-of-type {\n",
       "        vertical-align: middle;\n",
       "    }\n",
       "\n",
       "    .dataframe tbody tr th {\n",
       "        vertical-align: top;\n",
       "    }\n",
       "\n",
       "    .dataframe thead th {\n",
       "        text-align: right;\n",
       "    }\n",
       "</style>\n",
       "<table border=\"1\" class=\"dataframe\">\n",
       "  <thead>\n",
       "    <tr style=\"text-align: right;\">\n",
       "      <th></th>\n",
       "      <th>0</th>\n",
       "      <th>1</th>\n",
       "      <th>2</th>\n",
       "      <th>3</th>\n",
       "      <th>4</th>\n",
       "    </tr>\n",
       "  </thead>\n",
       "  <tbody>\n",
       "    <tr>\n",
       "      <th>0</th>\n",
       "      <td>104</td>\n",
       "      <td>162</td>\n",
       "      <td>190</td>\n",
       "      <td>115</td>\n",
       "      <td>161</td>\n",
       "    </tr>\n",
       "    <tr>\n",
       "      <th>1</th>\n",
       "      <td>123</td>\n",
       "      <td>144</td>\n",
       "      <td>150</td>\n",
       "      <td>108</td>\n",
       "      <td>128</td>\n",
       "    </tr>\n",
       "    <tr>\n",
       "      <th>2</th>\n",
       "      <td>104</td>\n",
       "      <td>189</td>\n",
       "      <td>131</td>\n",
       "      <td>169</td>\n",
       "      <td>101</td>\n",
       "    </tr>\n",
       "    <tr>\n",
       "      <th>3</th>\n",
       "      <td>139</td>\n",
       "      <td>103</td>\n",
       "      <td>188</td>\n",
       "      <td>155</td>\n",
       "      <td>103</td>\n",
       "    </tr>\n",
       "    <tr>\n",
       "      <th>4</th>\n",
       "      <td>184</td>\n",
       "      <td>145</td>\n",
       "      <td>103</td>\n",
       "      <td>101</td>\n",
       "      <td>122</td>\n",
       "    </tr>\n",
       "    <tr>\n",
       "      <th>5</th>\n",
       "      <td>231</td>\n",
       "      <td>248</td>\n",
       "      <td>247</td>\n",
       "      <td>273</td>\n",
       "      <td>216</td>\n",
       "    </tr>\n",
       "    <tr>\n",
       "      <th>6</th>\n",
       "      <td>250</td>\n",
       "      <td>285</td>\n",
       "      <td>236</td>\n",
       "      <td>209</td>\n",
       "      <td>232</td>\n",
       "    </tr>\n",
       "    <tr>\n",
       "      <th>7</th>\n",
       "      <td>210</td>\n",
       "      <td>260</td>\n",
       "      <td>247</td>\n",
       "      <td>201</td>\n",
       "      <td>286</td>\n",
       "    </tr>\n",
       "  </tbody>\n",
       "</table>\n",
       "</div>"
      ],
      "text/plain": [
       "     0    1    2    3    4\n",
       "0  104  162  190  115  161\n",
       "1  123  144  150  108  128\n",
       "2  104  189  131  169  101\n",
       "3  139  103  188  155  103\n",
       "4  184  145  103  101  122\n",
       "5  231  248  247  273  216\n",
       "6  250  285  236  209  232\n",
       "7  210  260  247  201  286"
      ]
     },
     "execution_count": 6,
     "metadata": {},
     "output_type": "execute_result"
    }
   ],
   "source": [
    "df4 = pd.concat([df1, df2], ignore_index=True)\n",
    "df4"
   ]
  },
  {
   "cell_type": "markdown",
   "metadata": {
    "id": "jTz8erYvlppF"
   },
   "source": [
    "By default, `concat` method concatenates DataFrames row-wise. If we need to concatenate DataFrames column-wise, we need to pass `axis=1` argument."
   ]
  },
  {
   "cell_type": "code",
   "execution_count": 7,
   "metadata": {
    "id": "CGjMyvPLlppF",
    "outputId": "16d2a1e4-5de5-49f8-eebf-f6c4a63d2397"
   },
   "outputs": [
    {
     "data": {
      "text/html": [
       "<div>\n",
       "<style scoped>\n",
       "    .dataframe tbody tr th:only-of-type {\n",
       "        vertical-align: middle;\n",
       "    }\n",
       "\n",
       "    .dataframe tbody tr th {\n",
       "        vertical-align: top;\n",
       "    }\n",
       "\n",
       "    .dataframe thead th {\n",
       "        text-align: right;\n",
       "    }\n",
       "</style>\n",
       "<table border=\"1\" class=\"dataframe\">\n",
       "  <thead>\n",
       "    <tr style=\"text-align: right;\">\n",
       "      <th></th>\n",
       "      <th>0</th>\n",
       "      <th>1</th>\n",
       "      <th>2</th>\n",
       "      <th>3</th>\n",
       "      <th>4</th>\n",
       "      <th>0</th>\n",
       "      <th>1</th>\n",
       "      <th>2</th>\n",
       "      <th>3</th>\n",
       "      <th>4</th>\n",
       "    </tr>\n",
       "  </thead>\n",
       "  <tbody>\n",
       "    <tr>\n",
       "      <th>0</th>\n",
       "      <td>104</td>\n",
       "      <td>162</td>\n",
       "      <td>190</td>\n",
       "      <td>115</td>\n",
       "      <td>161</td>\n",
       "      <td>231.0</td>\n",
       "      <td>248.0</td>\n",
       "      <td>247.0</td>\n",
       "      <td>273.0</td>\n",
       "      <td>216.0</td>\n",
       "    </tr>\n",
       "    <tr>\n",
       "      <th>1</th>\n",
       "      <td>123</td>\n",
       "      <td>144</td>\n",
       "      <td>150</td>\n",
       "      <td>108</td>\n",
       "      <td>128</td>\n",
       "      <td>250.0</td>\n",
       "      <td>285.0</td>\n",
       "      <td>236.0</td>\n",
       "      <td>209.0</td>\n",
       "      <td>232.0</td>\n",
       "    </tr>\n",
       "    <tr>\n",
       "      <th>2</th>\n",
       "      <td>104</td>\n",
       "      <td>189</td>\n",
       "      <td>131</td>\n",
       "      <td>169</td>\n",
       "      <td>101</td>\n",
       "      <td>210.0</td>\n",
       "      <td>260.0</td>\n",
       "      <td>247.0</td>\n",
       "      <td>201.0</td>\n",
       "      <td>286.0</td>\n",
       "    </tr>\n",
       "    <tr>\n",
       "      <th>3</th>\n",
       "      <td>139</td>\n",
       "      <td>103</td>\n",
       "      <td>188</td>\n",
       "      <td>155</td>\n",
       "      <td>103</td>\n",
       "      <td>NaN</td>\n",
       "      <td>NaN</td>\n",
       "      <td>NaN</td>\n",
       "      <td>NaN</td>\n",
       "      <td>NaN</td>\n",
       "    </tr>\n",
       "    <tr>\n",
       "      <th>4</th>\n",
       "      <td>184</td>\n",
       "      <td>145</td>\n",
       "      <td>103</td>\n",
       "      <td>101</td>\n",
       "      <td>122</td>\n",
       "      <td>NaN</td>\n",
       "      <td>NaN</td>\n",
       "      <td>NaN</td>\n",
       "      <td>NaN</td>\n",
       "      <td>NaN</td>\n",
       "    </tr>\n",
       "  </tbody>\n",
       "</table>\n",
       "</div>"
      ],
      "text/plain": [
       "     0    1    2    3    4      0      1      2      3      4\n",
       "0  104  162  190  115  161  231.0  248.0  247.0  273.0  216.0\n",
       "1  123  144  150  108  128  250.0  285.0  236.0  209.0  232.0\n",
       "2  104  189  131  169  101  210.0  260.0  247.0  201.0  286.0\n",
       "3  139  103  188  155  103    NaN    NaN    NaN    NaN    NaN\n",
       "4  184  145  103  101  122    NaN    NaN    NaN    NaN    NaN"
      ]
     },
     "execution_count": 7,
     "metadata": {},
     "output_type": "execute_result"
    }
   ],
   "source": [
    "df5 = pd.concat([df1, df2], axis=1)\n",
    "df5"
   ]
  },
  {
   "cell_type": "code",
   "execution_count": 8,
   "metadata": {
    "id": "FmuLCYndlppG",
    "outputId": "6c381aec-01bb-4e21-b247-3eb3b344f36b"
   },
   "outputs": [
    {
     "data": {
      "text/html": [
       "<div>\n",
       "<style scoped>\n",
       "    .dataframe tbody tr th:only-of-type {\n",
       "        vertical-align: middle;\n",
       "    }\n",
       "\n",
       "    .dataframe tbody tr th {\n",
       "        vertical-align: top;\n",
       "    }\n",
       "\n",
       "    .dataframe thead th {\n",
       "        text-align: right;\n",
       "    }\n",
       "</style>\n",
       "<table border=\"1\" class=\"dataframe\">\n",
       "  <thead>\n",
       "    <tr style=\"text-align: right;\">\n",
       "      <th></th>\n",
       "      <th>0</th>\n",
       "      <th>1</th>\n",
       "      <th>2</th>\n",
       "      <th>3</th>\n",
       "      <th>4</th>\n",
       "      <th>5</th>\n",
       "      <th>6</th>\n",
       "      <th>7</th>\n",
       "      <th>8</th>\n",
       "      <th>9</th>\n",
       "    </tr>\n",
       "  </thead>\n",
       "  <tbody>\n",
       "    <tr>\n",
       "      <th>0</th>\n",
       "      <td>104</td>\n",
       "      <td>162</td>\n",
       "      <td>190</td>\n",
       "      <td>115</td>\n",
       "      <td>161</td>\n",
       "      <td>231.0</td>\n",
       "      <td>248.0</td>\n",
       "      <td>247.0</td>\n",
       "      <td>273.0</td>\n",
       "      <td>216.0</td>\n",
       "    </tr>\n",
       "    <tr>\n",
       "      <th>1</th>\n",
       "      <td>123</td>\n",
       "      <td>144</td>\n",
       "      <td>150</td>\n",
       "      <td>108</td>\n",
       "      <td>128</td>\n",
       "      <td>250.0</td>\n",
       "      <td>285.0</td>\n",
       "      <td>236.0</td>\n",
       "      <td>209.0</td>\n",
       "      <td>232.0</td>\n",
       "    </tr>\n",
       "    <tr>\n",
       "      <th>2</th>\n",
       "      <td>104</td>\n",
       "      <td>189</td>\n",
       "      <td>131</td>\n",
       "      <td>169</td>\n",
       "      <td>101</td>\n",
       "      <td>210.0</td>\n",
       "      <td>260.0</td>\n",
       "      <td>247.0</td>\n",
       "      <td>201.0</td>\n",
       "      <td>286.0</td>\n",
       "    </tr>\n",
       "    <tr>\n",
       "      <th>3</th>\n",
       "      <td>139</td>\n",
       "      <td>103</td>\n",
       "      <td>188</td>\n",
       "      <td>155</td>\n",
       "      <td>103</td>\n",
       "      <td>NaN</td>\n",
       "      <td>NaN</td>\n",
       "      <td>NaN</td>\n",
       "      <td>NaN</td>\n",
       "      <td>NaN</td>\n",
       "    </tr>\n",
       "    <tr>\n",
       "      <th>4</th>\n",
       "      <td>184</td>\n",
       "      <td>145</td>\n",
       "      <td>103</td>\n",
       "      <td>101</td>\n",
       "      <td>122</td>\n",
       "      <td>NaN</td>\n",
       "      <td>NaN</td>\n",
       "      <td>NaN</td>\n",
       "      <td>NaN</td>\n",
       "      <td>NaN</td>\n",
       "    </tr>\n",
       "  </tbody>\n",
       "</table>\n",
       "</div>"
      ],
      "text/plain": [
       "     0    1    2    3    4      5      6      7      8      9\n",
       "0  104  162  190  115  161  231.0  248.0  247.0  273.0  216.0\n",
       "1  123  144  150  108  128  250.0  285.0  236.0  209.0  232.0\n",
       "2  104  189  131  169  101  210.0  260.0  247.0  201.0  286.0\n",
       "3  139  103  188  155  103    NaN    NaN    NaN    NaN    NaN\n",
       "4  184  145  103  101  122    NaN    NaN    NaN    NaN    NaN"
      ]
     },
     "execution_count": 8,
     "metadata": {},
     "output_type": "execute_result"
    }
   ],
   "source": [
    "df6 = pd.concat([df1, df2], axis=1, ignore_index=True)\n",
    "df6"
   ]
  },
  {
   "cell_type": "markdown",
   "metadata": {
    "id": "imdMMIHOlppG"
   },
   "source": [
    "## Deleting Rows and Columns\n",
    "\n",
    "To remove rows or columns from a DataFrame, the `drop` method with proper axis parameter can be used. The `drop` methods accepts a list of labels or indices to be removed from a DataFrame."
   ]
  },
  {
   "cell_type": "code",
   "execution_count": 9,
   "metadata": {
    "id": "f78j8FHzlppG",
    "outputId": "708d014e-98c4-46e2-9c9c-20eb8c2c8d58"
   },
   "outputs": [
    {
     "data": {
      "text/html": [
       "<div>\n",
       "<style scoped>\n",
       "    .dataframe tbody tr th:only-of-type {\n",
       "        vertical-align: middle;\n",
       "    }\n",
       "\n",
       "    .dataframe tbody tr th {\n",
       "        vertical-align: top;\n",
       "    }\n",
       "\n",
       "    .dataframe thead th {\n",
       "        text-align: right;\n",
       "    }\n",
       "</style>\n",
       "<table border=\"1\" class=\"dataframe\">\n",
       "  <thead>\n",
       "    <tr style=\"text-align: right;\">\n",
       "      <th></th>\n",
       "      <th>0</th>\n",
       "      <th>1</th>\n",
       "      <th>2</th>\n",
       "      <th>3</th>\n",
       "      <th>4</th>\n",
       "      <th>5</th>\n",
       "    </tr>\n",
       "  </thead>\n",
       "  <tbody>\n",
       "    <tr>\n",
       "      <th>0</th>\n",
       "      <td>191</td>\n",
       "      <td>149</td>\n",
       "      <td>118</td>\n",
       "      <td>192</td>\n",
       "      <td>136</td>\n",
       "      <td>198</td>\n",
       "    </tr>\n",
       "    <tr>\n",
       "      <th>1</th>\n",
       "      <td>130</td>\n",
       "      <td>138</td>\n",
       "      <td>102</td>\n",
       "      <td>105</td>\n",
       "      <td>157</td>\n",
       "      <td>173</td>\n",
       "    </tr>\n",
       "    <tr>\n",
       "      <th>2</th>\n",
       "      <td>122</td>\n",
       "      <td>111</td>\n",
       "      <td>102</td>\n",
       "      <td>143</td>\n",
       "      <td>190</td>\n",
       "      <td>161</td>\n",
       "    </tr>\n",
       "    <tr>\n",
       "      <th>3</th>\n",
       "      <td>184</td>\n",
       "      <td>183</td>\n",
       "      <td>174</td>\n",
       "      <td>117</td>\n",
       "      <td>114</td>\n",
       "      <td>183</td>\n",
       "    </tr>\n",
       "    <tr>\n",
       "      <th>4</th>\n",
       "      <td>137</td>\n",
       "      <td>187</td>\n",
       "      <td>150</td>\n",
       "      <td>151</td>\n",
       "      <td>114</td>\n",
       "      <td>171</td>\n",
       "    </tr>\n",
       "    <tr>\n",
       "      <th>5</th>\n",
       "      <td>162</td>\n",
       "      <td>190</td>\n",
       "      <td>115</td>\n",
       "      <td>114</td>\n",
       "      <td>176</td>\n",
       "      <td>139</td>\n",
       "    </tr>\n",
       "  </tbody>\n",
       "</table>\n",
       "</div>"
      ],
      "text/plain": [
       "     0    1    2    3    4    5\n",
       "0  191  149  118  192  136  198\n",
       "1  130  138  102  105  157  173\n",
       "2  122  111  102  143  190  161\n",
       "3  184  183  174  117  114  183\n",
       "4  137  187  150  151  114  171\n",
       "5  162  190  115  114  176  139"
      ]
     },
     "execution_count": 9,
     "metadata": {},
     "output_type": "execute_result"
    }
   ],
   "source": [
    "df1 = pd.DataFrame(np.random.randint(100, 200, 36).reshape(6, 6))\n",
    "df1"
   ]
  },
  {
   "cell_type": "code",
   "execution_count": 10,
   "metadata": {
    "id": "eZ5UliCGlppH",
    "outputId": "bc957b32-24d9-4092-e779-20a82f809e2b"
   },
   "outputs": [
    {
     "data": {
      "text/html": [
       "<div>\n",
       "<style scoped>\n",
       "    .dataframe tbody tr th:only-of-type {\n",
       "        vertical-align: middle;\n",
       "    }\n",
       "\n",
       "    .dataframe tbody tr th {\n",
       "        vertical-align: top;\n",
       "    }\n",
       "\n",
       "    .dataframe thead th {\n",
       "        text-align: right;\n",
       "    }\n",
       "</style>\n",
       "<table border=\"1\" class=\"dataframe\">\n",
       "  <thead>\n",
       "    <tr style=\"text-align: right;\">\n",
       "      <th></th>\n",
       "      <th>0</th>\n",
       "      <th>1</th>\n",
       "      <th>2</th>\n",
       "      <th>3</th>\n",
       "      <th>4</th>\n",
       "      <th>5</th>\n",
       "    </tr>\n",
       "  </thead>\n",
       "  <tbody>\n",
       "    <tr>\n",
       "      <th>0</th>\n",
       "      <td>191</td>\n",
       "      <td>149</td>\n",
       "      <td>118</td>\n",
       "      <td>192</td>\n",
       "      <td>136</td>\n",
       "      <td>198</td>\n",
       "    </tr>\n",
       "    <tr>\n",
       "      <th>2</th>\n",
       "      <td>122</td>\n",
       "      <td>111</td>\n",
       "      <td>102</td>\n",
       "      <td>143</td>\n",
       "      <td>190</td>\n",
       "      <td>161</td>\n",
       "    </tr>\n",
       "    <tr>\n",
       "      <th>4</th>\n",
       "      <td>137</td>\n",
       "      <td>187</td>\n",
       "      <td>150</td>\n",
       "      <td>151</td>\n",
       "      <td>114</td>\n",
       "      <td>171</td>\n",
       "    </tr>\n",
       "    <tr>\n",
       "      <th>5</th>\n",
       "      <td>162</td>\n",
       "      <td>190</td>\n",
       "      <td>115</td>\n",
       "      <td>114</td>\n",
       "      <td>176</td>\n",
       "      <td>139</td>\n",
       "    </tr>\n",
       "  </tbody>\n",
       "</table>\n",
       "</div>"
      ],
      "text/plain": [
       "     0    1    2    3    4    5\n",
       "0  191  149  118  192  136  198\n",
       "2  122  111  102  143  190  161\n",
       "4  137  187  150  151  114  171\n",
       "5  162  190  115  114  176  139"
      ]
     },
     "execution_count": 10,
     "metadata": {},
     "output_type": "execute_result"
    }
   ],
   "source": [
    "df1.drop([1, 3])"
   ]
  },
  {
   "cell_type": "code",
   "execution_count": 11,
   "metadata": {
    "id": "Tcl6eT9XlppH",
    "outputId": "f3b08c56-c86e-4056-e24c-fab799e05e7c"
   },
   "outputs": [
    {
     "data": {
      "text/html": [
       "<div>\n",
       "<style scoped>\n",
       "    .dataframe tbody tr th:only-of-type {\n",
       "        vertical-align: middle;\n",
       "    }\n",
       "\n",
       "    .dataframe tbody tr th {\n",
       "        vertical-align: top;\n",
       "    }\n",
       "\n",
       "    .dataframe thead th {\n",
       "        text-align: right;\n",
       "    }\n",
       "</style>\n",
       "<table border=\"1\" class=\"dataframe\">\n",
       "  <thead>\n",
       "    <tr style=\"text-align: right;\">\n",
       "      <th></th>\n",
       "      <th>0</th>\n",
       "      <th>1</th>\n",
       "      <th>3</th>\n",
       "      <th>5</th>\n",
       "    </tr>\n",
       "  </thead>\n",
       "  <tbody>\n",
       "    <tr>\n",
       "      <th>0</th>\n",
       "      <td>191</td>\n",
       "      <td>149</td>\n",
       "      <td>192</td>\n",
       "      <td>198</td>\n",
       "    </tr>\n",
       "    <tr>\n",
       "      <th>1</th>\n",
       "      <td>130</td>\n",
       "      <td>138</td>\n",
       "      <td>105</td>\n",
       "      <td>173</td>\n",
       "    </tr>\n",
       "    <tr>\n",
       "      <th>2</th>\n",
       "      <td>122</td>\n",
       "      <td>111</td>\n",
       "      <td>143</td>\n",
       "      <td>161</td>\n",
       "    </tr>\n",
       "    <tr>\n",
       "      <th>3</th>\n",
       "      <td>184</td>\n",
       "      <td>183</td>\n",
       "      <td>117</td>\n",
       "      <td>183</td>\n",
       "    </tr>\n",
       "    <tr>\n",
       "      <th>4</th>\n",
       "      <td>137</td>\n",
       "      <td>187</td>\n",
       "      <td>151</td>\n",
       "      <td>171</td>\n",
       "    </tr>\n",
       "    <tr>\n",
       "      <th>5</th>\n",
       "      <td>162</td>\n",
       "      <td>190</td>\n",
       "      <td>114</td>\n",
       "      <td>139</td>\n",
       "    </tr>\n",
       "  </tbody>\n",
       "</table>\n",
       "</div>"
      ],
      "text/plain": [
       "     0    1    3    5\n",
       "0  191  149  192  198\n",
       "1  130  138  105  173\n",
       "2  122  111  143  161\n",
       "3  184  183  117  183\n",
       "4  137  187  151  171\n",
       "5  162  190  114  139"
      ]
     },
     "execution_count": 11,
     "metadata": {},
     "output_type": "execute_result"
    }
   ],
   "source": [
    "df1.drop([2, 4], axis=1)"
   ]
  },
  {
   "cell_type": "markdown",
   "metadata": {
    "id": "Hx4Y5rRNlppI"
   },
   "source": [
    "## Adding Rows\n",
    "\n",
    "Pandas DataFrame has `append` method that adds row(s) to the end of it. This method accepts a list of values, Series, or DataFrames. Similar to `concat` method, it supports `ignore_index=True` argument to reindex added rows."
   ]
  },
  {
   "cell_type": "code",
   "execution_count": 12,
   "metadata": {
    "id": "Ku5j5ujMlppI",
    "outputId": "097bf04e-a724-45df-a8a0-f9a8fc4d06ee"
   },
   "outputs": [
    {
     "data": {
      "text/html": [
       "<div>\n",
       "<style scoped>\n",
       "    .dataframe tbody tr th:only-of-type {\n",
       "        vertical-align: middle;\n",
       "    }\n",
       "\n",
       "    .dataframe tbody tr th {\n",
       "        vertical-align: top;\n",
       "    }\n",
       "\n",
       "    .dataframe thead th {\n",
       "        text-align: right;\n",
       "    }\n",
       "</style>\n",
       "<table border=\"1\" class=\"dataframe\">\n",
       "  <thead>\n",
       "    <tr style=\"text-align: right;\">\n",
       "      <th></th>\n",
       "      <th>0</th>\n",
       "      <th>1</th>\n",
       "      <th>2</th>\n",
       "      <th>3</th>\n",
       "      <th>4</th>\n",
       "      <th>5</th>\n",
       "    </tr>\n",
       "  </thead>\n",
       "  <tbody>\n",
       "    <tr>\n",
       "      <th>0</th>\n",
       "      <td>188</td>\n",
       "      <td>146</td>\n",
       "      <td>153</td>\n",
       "      <td>129</td>\n",
       "      <td>113</td>\n",
       "      <td>146</td>\n",
       "    </tr>\n",
       "    <tr>\n",
       "      <th>1</th>\n",
       "      <td>153</td>\n",
       "      <td>162</td>\n",
       "      <td>167</td>\n",
       "      <td>102</td>\n",
       "      <td>144</td>\n",
       "      <td>144</td>\n",
       "    </tr>\n",
       "    <tr>\n",
       "      <th>2</th>\n",
       "      <td>163</td>\n",
       "      <td>145</td>\n",
       "      <td>124</td>\n",
       "      <td>109</td>\n",
       "      <td>167</td>\n",
       "      <td>159</td>\n",
       "    </tr>\n",
       "    <tr>\n",
       "      <th>3</th>\n",
       "      <td>179</td>\n",
       "      <td>132</td>\n",
       "      <td>195</td>\n",
       "      <td>105</td>\n",
       "      <td>156</td>\n",
       "      <td>136</td>\n",
       "    </tr>\n",
       "    <tr>\n",
       "      <th>4</th>\n",
       "      <td>183</td>\n",
       "      <td>119</td>\n",
       "      <td>111</td>\n",
       "      <td>137</td>\n",
       "      <td>166</td>\n",
       "      <td>155</td>\n",
       "    </tr>\n",
       "    <tr>\n",
       "      <th>5</th>\n",
       "      <td>117</td>\n",
       "      <td>186</td>\n",
       "      <td>129</td>\n",
       "      <td>124</td>\n",
       "      <td>112</td>\n",
       "      <td>171</td>\n",
       "    </tr>\n",
       "  </tbody>\n",
       "</table>\n",
       "</div>"
      ],
      "text/plain": [
       "     0    1    2    3    4    5\n",
       "0  188  146  153  129  113  146\n",
       "1  153  162  167  102  144  144\n",
       "2  163  145  124  109  167  159\n",
       "3  179  132  195  105  156  136\n",
       "4  183  119  111  137  166  155\n",
       "5  117  186  129  124  112  171"
      ]
     },
     "execution_count": 12,
     "metadata": {},
     "output_type": "execute_result"
    }
   ],
   "source": [
    "df1 = pd.DataFrame(np.random.randint(100, 200, 36).reshape(6, 6))\n",
    "df1"
   ]
  },
  {
   "cell_type": "code",
   "execution_count": 13,
   "metadata": {
    "id": "JZQqbSzBlppI",
    "outputId": "e72e2343-a871-40bd-a568-7dc9c14a5a24"
   },
   "outputs": [
    {
     "name": "stderr",
     "output_type": "stream",
     "text": [
      "C:\\Users\\zhizh\\AppData\\Local\\Temp\\ipykernel_8416\\496661473.py:1: FutureWarning: The frame.append method is deprecated and will be removed from pandas in a future version. Use pandas.concat instead.\n",
      "  df1 = df1.append([[1, 2, 3, 4, 5, 6]], ignore_index=True)\n"
     ]
    },
    {
     "data": {
      "text/html": [
       "<div>\n",
       "<style scoped>\n",
       "    .dataframe tbody tr th:only-of-type {\n",
       "        vertical-align: middle;\n",
       "    }\n",
       "\n",
       "    .dataframe tbody tr th {\n",
       "        vertical-align: top;\n",
       "    }\n",
       "\n",
       "    .dataframe thead th {\n",
       "        text-align: right;\n",
       "    }\n",
       "</style>\n",
       "<table border=\"1\" class=\"dataframe\">\n",
       "  <thead>\n",
       "    <tr style=\"text-align: right;\">\n",
       "      <th></th>\n",
       "      <th>0</th>\n",
       "      <th>1</th>\n",
       "      <th>2</th>\n",
       "      <th>3</th>\n",
       "      <th>4</th>\n",
       "      <th>5</th>\n",
       "    </tr>\n",
       "  </thead>\n",
       "  <tbody>\n",
       "    <tr>\n",
       "      <th>0</th>\n",
       "      <td>188</td>\n",
       "      <td>146</td>\n",
       "      <td>153</td>\n",
       "      <td>129</td>\n",
       "      <td>113</td>\n",
       "      <td>146</td>\n",
       "    </tr>\n",
       "    <tr>\n",
       "      <th>1</th>\n",
       "      <td>153</td>\n",
       "      <td>162</td>\n",
       "      <td>167</td>\n",
       "      <td>102</td>\n",
       "      <td>144</td>\n",
       "      <td>144</td>\n",
       "    </tr>\n",
       "    <tr>\n",
       "      <th>2</th>\n",
       "      <td>163</td>\n",
       "      <td>145</td>\n",
       "      <td>124</td>\n",
       "      <td>109</td>\n",
       "      <td>167</td>\n",
       "      <td>159</td>\n",
       "    </tr>\n",
       "    <tr>\n",
       "      <th>3</th>\n",
       "      <td>179</td>\n",
       "      <td>132</td>\n",
       "      <td>195</td>\n",
       "      <td>105</td>\n",
       "      <td>156</td>\n",
       "      <td>136</td>\n",
       "    </tr>\n",
       "    <tr>\n",
       "      <th>4</th>\n",
       "      <td>183</td>\n",
       "      <td>119</td>\n",
       "      <td>111</td>\n",
       "      <td>137</td>\n",
       "      <td>166</td>\n",
       "      <td>155</td>\n",
       "    </tr>\n",
       "    <tr>\n",
       "      <th>5</th>\n",
       "      <td>117</td>\n",
       "      <td>186</td>\n",
       "      <td>129</td>\n",
       "      <td>124</td>\n",
       "      <td>112</td>\n",
       "      <td>171</td>\n",
       "    </tr>\n",
       "    <tr>\n",
       "      <th>6</th>\n",
       "      <td>1</td>\n",
       "      <td>2</td>\n",
       "      <td>3</td>\n",
       "      <td>4</td>\n",
       "      <td>5</td>\n",
       "      <td>6</td>\n",
       "    </tr>\n",
       "  </tbody>\n",
       "</table>\n",
       "</div>"
      ],
      "text/plain": [
       "     0    1    2    3    4    5\n",
       "0  188  146  153  129  113  146\n",
       "1  153  162  167  102  144  144\n",
       "2  163  145  124  109  167  159\n",
       "3  179  132  195  105  156  136\n",
       "4  183  119  111  137  166  155\n",
       "5  117  186  129  124  112  171\n",
       "6    1    2    3    4    5    6"
      ]
     },
     "execution_count": 13,
     "metadata": {},
     "output_type": "execute_result"
    }
   ],
   "source": [
    "df1 = df1.append([[1, 2, 3, 4, 5, 6]], ignore_index=True)\n",
    "df1"
   ]
  },
  {
   "cell_type": "code",
   "execution_count": 14,
   "metadata": {
    "id": "0IEptHQllppJ",
    "outputId": "89390269-10d4-4d5d-ef13-af85d09d37f9"
   },
   "outputs": [
    {
     "data": {
      "text/plain": [
       "0    300\n",
       "1    301\n",
       "2    302\n",
       "3    303\n",
       "4    304\n",
       "5    305\n",
       "dtype: int64"
      ]
     },
     "execution_count": 14,
     "metadata": {},
     "output_type": "execute_result"
    }
   ],
   "source": [
    "sr1 = pd.Series(range(300, 306))\n",
    "sr1"
   ]
  },
  {
   "cell_type": "code",
   "execution_count": 15,
   "metadata": {
    "id": "7n6Pm-bSlppJ",
    "outputId": "e17ee9ee-ee4a-451a-9d0f-3215f8a52e20"
   },
   "outputs": [
    {
     "name": "stderr",
     "output_type": "stream",
     "text": [
      "C:\\Users\\zhizh\\AppData\\Local\\Temp\\ipykernel_8416\\936867903.py:1: FutureWarning: The frame.append method is deprecated and will be removed from pandas in a future version. Use pandas.concat instead.\n",
      "  df1 = df1.append(sr1, ignore_index=True)\n"
     ]
    },
    {
     "data": {
      "text/html": [
       "<div>\n",
       "<style scoped>\n",
       "    .dataframe tbody tr th:only-of-type {\n",
       "        vertical-align: middle;\n",
       "    }\n",
       "\n",
       "    .dataframe tbody tr th {\n",
       "        vertical-align: top;\n",
       "    }\n",
       "\n",
       "    .dataframe thead th {\n",
       "        text-align: right;\n",
       "    }\n",
       "</style>\n",
       "<table border=\"1\" class=\"dataframe\">\n",
       "  <thead>\n",
       "    <tr style=\"text-align: right;\">\n",
       "      <th></th>\n",
       "      <th>0</th>\n",
       "      <th>1</th>\n",
       "      <th>2</th>\n",
       "      <th>3</th>\n",
       "      <th>4</th>\n",
       "      <th>5</th>\n",
       "    </tr>\n",
       "  </thead>\n",
       "  <tbody>\n",
       "    <tr>\n",
       "      <th>0</th>\n",
       "      <td>188</td>\n",
       "      <td>146</td>\n",
       "      <td>153</td>\n",
       "      <td>129</td>\n",
       "      <td>113</td>\n",
       "      <td>146</td>\n",
       "    </tr>\n",
       "    <tr>\n",
       "      <th>1</th>\n",
       "      <td>153</td>\n",
       "      <td>162</td>\n",
       "      <td>167</td>\n",
       "      <td>102</td>\n",
       "      <td>144</td>\n",
       "      <td>144</td>\n",
       "    </tr>\n",
       "    <tr>\n",
       "      <th>2</th>\n",
       "      <td>163</td>\n",
       "      <td>145</td>\n",
       "      <td>124</td>\n",
       "      <td>109</td>\n",
       "      <td>167</td>\n",
       "      <td>159</td>\n",
       "    </tr>\n",
       "    <tr>\n",
       "      <th>3</th>\n",
       "      <td>179</td>\n",
       "      <td>132</td>\n",
       "      <td>195</td>\n",
       "      <td>105</td>\n",
       "      <td>156</td>\n",
       "      <td>136</td>\n",
       "    </tr>\n",
       "    <tr>\n",
       "      <th>4</th>\n",
       "      <td>183</td>\n",
       "      <td>119</td>\n",
       "      <td>111</td>\n",
       "      <td>137</td>\n",
       "      <td>166</td>\n",
       "      <td>155</td>\n",
       "    </tr>\n",
       "    <tr>\n",
       "      <th>5</th>\n",
       "      <td>117</td>\n",
       "      <td>186</td>\n",
       "      <td>129</td>\n",
       "      <td>124</td>\n",
       "      <td>112</td>\n",
       "      <td>171</td>\n",
       "    </tr>\n",
       "    <tr>\n",
       "      <th>6</th>\n",
       "      <td>1</td>\n",
       "      <td>2</td>\n",
       "      <td>3</td>\n",
       "      <td>4</td>\n",
       "      <td>5</td>\n",
       "      <td>6</td>\n",
       "    </tr>\n",
       "    <tr>\n",
       "      <th>7</th>\n",
       "      <td>300</td>\n",
       "      <td>301</td>\n",
       "      <td>302</td>\n",
       "      <td>303</td>\n",
       "      <td>304</td>\n",
       "      <td>305</td>\n",
       "    </tr>\n",
       "  </tbody>\n",
       "</table>\n",
       "</div>"
      ],
      "text/plain": [
       "     0    1    2    3    4    5\n",
       "0  188  146  153  129  113  146\n",
       "1  153  162  167  102  144  144\n",
       "2  163  145  124  109  167  159\n",
       "3  179  132  195  105  156  136\n",
       "4  183  119  111  137  166  155\n",
       "5  117  186  129  124  112  171\n",
       "6    1    2    3    4    5    6\n",
       "7  300  301  302  303  304  305"
      ]
     },
     "execution_count": 15,
     "metadata": {},
     "output_type": "execute_result"
    }
   ],
   "source": [
    "df1 = df1.append(sr1, ignore_index=True)\n",
    "df1"
   ]
  },
  {
   "cell_type": "markdown",
   "metadata": {
    "id": "abQOl9kqlppJ"
   },
   "source": [
    "`append` method accepts a list of values (i.e., rows) to be added as well."
   ]
  },
  {
   "cell_type": "code",
   "execution_count": 16,
   "metadata": {
    "id": "M0euGRZYlppK",
    "outputId": "56dda920-c5fb-4015-ff64-8c794b9c7652"
   },
   "outputs": [
    {
     "name": "stderr",
     "output_type": "stream",
     "text": [
      "C:\\Users\\zhizh\\AppData\\Local\\Temp\\ipykernel_8416\\3699490142.py:1: FutureWarning: The frame.append method is deprecated and will be removed from pandas in a future version. Use pandas.concat instead.\n",
      "  df1.append([np.arange(306, 312), np.arange(312, 318)], ignore_index=True)\n"
     ]
    },
    {
     "data": {
      "text/html": [
       "<div>\n",
       "<style scoped>\n",
       "    .dataframe tbody tr th:only-of-type {\n",
       "        vertical-align: middle;\n",
       "    }\n",
       "\n",
       "    .dataframe tbody tr th {\n",
       "        vertical-align: top;\n",
       "    }\n",
       "\n",
       "    .dataframe thead th {\n",
       "        text-align: right;\n",
       "    }\n",
       "</style>\n",
       "<table border=\"1\" class=\"dataframe\">\n",
       "  <thead>\n",
       "    <tr style=\"text-align: right;\">\n",
       "      <th></th>\n",
       "      <th>0</th>\n",
       "      <th>1</th>\n",
       "      <th>2</th>\n",
       "      <th>3</th>\n",
       "      <th>4</th>\n",
       "      <th>5</th>\n",
       "    </tr>\n",
       "  </thead>\n",
       "  <tbody>\n",
       "    <tr>\n",
       "      <th>0</th>\n",
       "      <td>188</td>\n",
       "      <td>146</td>\n",
       "      <td>153</td>\n",
       "      <td>129</td>\n",
       "      <td>113</td>\n",
       "      <td>146</td>\n",
       "    </tr>\n",
       "    <tr>\n",
       "      <th>1</th>\n",
       "      <td>153</td>\n",
       "      <td>162</td>\n",
       "      <td>167</td>\n",
       "      <td>102</td>\n",
       "      <td>144</td>\n",
       "      <td>144</td>\n",
       "    </tr>\n",
       "    <tr>\n",
       "      <th>2</th>\n",
       "      <td>163</td>\n",
       "      <td>145</td>\n",
       "      <td>124</td>\n",
       "      <td>109</td>\n",
       "      <td>167</td>\n",
       "      <td>159</td>\n",
       "    </tr>\n",
       "    <tr>\n",
       "      <th>3</th>\n",
       "      <td>179</td>\n",
       "      <td>132</td>\n",
       "      <td>195</td>\n",
       "      <td>105</td>\n",
       "      <td>156</td>\n",
       "      <td>136</td>\n",
       "    </tr>\n",
       "    <tr>\n",
       "      <th>4</th>\n",
       "      <td>183</td>\n",
       "      <td>119</td>\n",
       "      <td>111</td>\n",
       "      <td>137</td>\n",
       "      <td>166</td>\n",
       "      <td>155</td>\n",
       "    </tr>\n",
       "    <tr>\n",
       "      <th>5</th>\n",
       "      <td>117</td>\n",
       "      <td>186</td>\n",
       "      <td>129</td>\n",
       "      <td>124</td>\n",
       "      <td>112</td>\n",
       "      <td>171</td>\n",
       "    </tr>\n",
       "    <tr>\n",
       "      <th>6</th>\n",
       "      <td>1</td>\n",
       "      <td>2</td>\n",
       "      <td>3</td>\n",
       "      <td>4</td>\n",
       "      <td>5</td>\n",
       "      <td>6</td>\n",
       "    </tr>\n",
       "    <tr>\n",
       "      <th>7</th>\n",
       "      <td>300</td>\n",
       "      <td>301</td>\n",
       "      <td>302</td>\n",
       "      <td>303</td>\n",
       "      <td>304</td>\n",
       "      <td>305</td>\n",
       "    </tr>\n",
       "    <tr>\n",
       "      <th>8</th>\n",
       "      <td>306</td>\n",
       "      <td>307</td>\n",
       "      <td>308</td>\n",
       "      <td>309</td>\n",
       "      <td>310</td>\n",
       "      <td>311</td>\n",
       "    </tr>\n",
       "    <tr>\n",
       "      <th>9</th>\n",
       "      <td>312</td>\n",
       "      <td>313</td>\n",
       "      <td>314</td>\n",
       "      <td>315</td>\n",
       "      <td>316</td>\n",
       "      <td>317</td>\n",
       "    </tr>\n",
       "  </tbody>\n",
       "</table>\n",
       "</div>"
      ],
      "text/plain": [
       "     0    1    2    3    4    5\n",
       "0  188  146  153  129  113  146\n",
       "1  153  162  167  102  144  144\n",
       "2  163  145  124  109  167  159\n",
       "3  179  132  195  105  156  136\n",
       "4  183  119  111  137  166  155\n",
       "5  117  186  129  124  112  171\n",
       "6    1    2    3    4    5    6\n",
       "7  300  301  302  303  304  305\n",
       "8  306  307  308  309  310  311\n",
       "9  312  313  314  315  316  317"
      ]
     },
     "execution_count": 16,
     "metadata": {},
     "output_type": "execute_result"
    }
   ],
   "source": [
    "df1.append([np.arange(306, 312), np.arange(312, 318)], ignore_index=True)"
   ]
  },
  {
   "cell_type": "markdown",
   "metadata": {
    "id": "5ascNIQqlppK"
   },
   "source": [
    "## Merging Data\n",
    "\n",
    "Concatenation can be thought of as putting data that was once combined, back together. Sometimes we want to combine different types of data that come from different sources. Merging data is similar to joining tables in SQL. It helps us combine disparate datasets based on common columns. Pandas provides `merge` method to combine data sets using specific columns."
   ]
  },
  {
   "cell_type": "code",
   "execution_count": 17,
   "metadata": {
    "id": "xL8VEfaklppK",
    "outputId": "94b1c03a-fab1-45d6-a747-4d82ff207811"
   },
   "outputs": [
    {
     "ename": "FileNotFoundError",
     "evalue": "[Errno 2] No such file or directory: 'census2010.csv'",
     "output_type": "error",
     "traceback": [
      "\u001b[1;31m---------------------------------------------------------------------------\u001b[0m",
      "\u001b[1;31mFileNotFoundError\u001b[0m                         Traceback (most recent call last)",
      "Cell \u001b[1;32mIn[17], line 1\u001b[0m\n\u001b[1;32m----> 1\u001b[0m census2010 \u001b[38;5;241m=\u001b[39m pd\u001b[38;5;241m.\u001b[39mread_csv(\u001b[38;5;124m\"\u001b[39m\u001b[38;5;124mcensus2010.csv\u001b[39m\u001b[38;5;124m\"\u001b[39m)\n\u001b[0;32m      2\u001b[0m census2010\u001b[38;5;241m.\u001b[39mhead()\n",
      "File \u001b[1;32m~\\anaconda3\\Lib\\site-packages\\pandas\\util\\_decorators.py:211\u001b[0m, in \u001b[0;36mdeprecate_kwarg.<locals>._deprecate_kwarg.<locals>.wrapper\u001b[1;34m(*args, **kwargs)\u001b[0m\n\u001b[0;32m    209\u001b[0m     \u001b[38;5;28;01melse\u001b[39;00m:\n\u001b[0;32m    210\u001b[0m         kwargs[new_arg_name] \u001b[38;5;241m=\u001b[39m new_arg_value\n\u001b[1;32m--> 211\u001b[0m \u001b[38;5;28;01mreturn\u001b[39;00m func(\u001b[38;5;241m*\u001b[39margs, \u001b[38;5;241m*\u001b[39m\u001b[38;5;241m*\u001b[39mkwargs)\n",
      "File \u001b[1;32m~\\anaconda3\\Lib\\site-packages\\pandas\\util\\_decorators.py:331\u001b[0m, in \u001b[0;36mdeprecate_nonkeyword_arguments.<locals>.decorate.<locals>.wrapper\u001b[1;34m(*args, **kwargs)\u001b[0m\n\u001b[0;32m    325\u001b[0m \u001b[38;5;28;01mif\u001b[39;00m \u001b[38;5;28mlen\u001b[39m(args) \u001b[38;5;241m>\u001b[39m num_allow_args:\n\u001b[0;32m    326\u001b[0m     warnings\u001b[38;5;241m.\u001b[39mwarn(\n\u001b[0;32m    327\u001b[0m         msg\u001b[38;5;241m.\u001b[39mformat(arguments\u001b[38;5;241m=\u001b[39m_format_argument_list(allow_args)),\n\u001b[0;32m    328\u001b[0m         \u001b[38;5;167;01mFutureWarning\u001b[39;00m,\n\u001b[0;32m    329\u001b[0m         stacklevel\u001b[38;5;241m=\u001b[39mfind_stack_level(),\n\u001b[0;32m    330\u001b[0m     )\n\u001b[1;32m--> 331\u001b[0m \u001b[38;5;28;01mreturn\u001b[39;00m func(\u001b[38;5;241m*\u001b[39margs, \u001b[38;5;241m*\u001b[39m\u001b[38;5;241m*\u001b[39mkwargs)\n",
      "File \u001b[1;32m~\\anaconda3\\Lib\\site-packages\\pandas\\io\\parsers\\readers.py:950\u001b[0m, in \u001b[0;36mread_csv\u001b[1;34m(filepath_or_buffer, sep, delimiter, header, names, index_col, usecols, squeeze, prefix, mangle_dupe_cols, dtype, engine, converters, true_values, false_values, skipinitialspace, skiprows, skipfooter, nrows, na_values, keep_default_na, na_filter, verbose, skip_blank_lines, parse_dates, infer_datetime_format, keep_date_col, date_parser, dayfirst, cache_dates, iterator, chunksize, compression, thousands, decimal, lineterminator, quotechar, quoting, doublequote, escapechar, comment, encoding, encoding_errors, dialect, error_bad_lines, warn_bad_lines, on_bad_lines, delim_whitespace, low_memory, memory_map, float_precision, storage_options)\u001b[0m\n\u001b[0;32m    935\u001b[0m kwds_defaults \u001b[38;5;241m=\u001b[39m _refine_defaults_read(\n\u001b[0;32m    936\u001b[0m     dialect,\n\u001b[0;32m    937\u001b[0m     delimiter,\n\u001b[1;32m   (...)\u001b[0m\n\u001b[0;32m    946\u001b[0m     defaults\u001b[38;5;241m=\u001b[39m{\u001b[38;5;124m\"\u001b[39m\u001b[38;5;124mdelimiter\u001b[39m\u001b[38;5;124m\"\u001b[39m: \u001b[38;5;124m\"\u001b[39m\u001b[38;5;124m,\u001b[39m\u001b[38;5;124m\"\u001b[39m},\n\u001b[0;32m    947\u001b[0m )\n\u001b[0;32m    948\u001b[0m kwds\u001b[38;5;241m.\u001b[39mupdate(kwds_defaults)\n\u001b[1;32m--> 950\u001b[0m \u001b[38;5;28;01mreturn\u001b[39;00m _read(filepath_or_buffer, kwds)\n",
      "File \u001b[1;32m~\\anaconda3\\Lib\\site-packages\\pandas\\io\\parsers\\readers.py:605\u001b[0m, in \u001b[0;36m_read\u001b[1;34m(filepath_or_buffer, kwds)\u001b[0m\n\u001b[0;32m    602\u001b[0m _validate_names(kwds\u001b[38;5;241m.\u001b[39mget(\u001b[38;5;124m\"\u001b[39m\u001b[38;5;124mnames\u001b[39m\u001b[38;5;124m\"\u001b[39m, \u001b[38;5;28;01mNone\u001b[39;00m))\n\u001b[0;32m    604\u001b[0m \u001b[38;5;66;03m# Create the parser.\u001b[39;00m\n\u001b[1;32m--> 605\u001b[0m parser \u001b[38;5;241m=\u001b[39m TextFileReader(filepath_or_buffer, \u001b[38;5;241m*\u001b[39m\u001b[38;5;241m*\u001b[39mkwds)\n\u001b[0;32m    607\u001b[0m \u001b[38;5;28;01mif\u001b[39;00m chunksize \u001b[38;5;129;01mor\u001b[39;00m iterator:\n\u001b[0;32m    608\u001b[0m     \u001b[38;5;28;01mreturn\u001b[39;00m parser\n",
      "File \u001b[1;32m~\\anaconda3\\Lib\\site-packages\\pandas\\io\\parsers\\readers.py:1442\u001b[0m, in \u001b[0;36mTextFileReader.__init__\u001b[1;34m(self, f, engine, **kwds)\u001b[0m\n\u001b[0;32m   1439\u001b[0m     \u001b[38;5;28mself\u001b[39m\u001b[38;5;241m.\u001b[39moptions[\u001b[38;5;124m\"\u001b[39m\u001b[38;5;124mhas_index_names\u001b[39m\u001b[38;5;124m\"\u001b[39m] \u001b[38;5;241m=\u001b[39m kwds[\u001b[38;5;124m\"\u001b[39m\u001b[38;5;124mhas_index_names\u001b[39m\u001b[38;5;124m\"\u001b[39m]\n\u001b[0;32m   1441\u001b[0m \u001b[38;5;28mself\u001b[39m\u001b[38;5;241m.\u001b[39mhandles: IOHandles \u001b[38;5;241m|\u001b[39m \u001b[38;5;28;01mNone\u001b[39;00m \u001b[38;5;241m=\u001b[39m \u001b[38;5;28;01mNone\u001b[39;00m\n\u001b[1;32m-> 1442\u001b[0m \u001b[38;5;28mself\u001b[39m\u001b[38;5;241m.\u001b[39m_engine \u001b[38;5;241m=\u001b[39m \u001b[38;5;28mself\u001b[39m\u001b[38;5;241m.\u001b[39m_make_engine(f, \u001b[38;5;28mself\u001b[39m\u001b[38;5;241m.\u001b[39mengine)\n",
      "File \u001b[1;32m~\\anaconda3\\Lib\\site-packages\\pandas\\io\\parsers\\readers.py:1735\u001b[0m, in \u001b[0;36mTextFileReader._make_engine\u001b[1;34m(self, f, engine)\u001b[0m\n\u001b[0;32m   1733\u001b[0m     \u001b[38;5;28;01mif\u001b[39;00m \u001b[38;5;124m\"\u001b[39m\u001b[38;5;124mb\u001b[39m\u001b[38;5;124m\"\u001b[39m \u001b[38;5;129;01mnot\u001b[39;00m \u001b[38;5;129;01min\u001b[39;00m mode:\n\u001b[0;32m   1734\u001b[0m         mode \u001b[38;5;241m+\u001b[39m\u001b[38;5;241m=\u001b[39m \u001b[38;5;124m\"\u001b[39m\u001b[38;5;124mb\u001b[39m\u001b[38;5;124m\"\u001b[39m\n\u001b[1;32m-> 1735\u001b[0m \u001b[38;5;28mself\u001b[39m\u001b[38;5;241m.\u001b[39mhandles \u001b[38;5;241m=\u001b[39m get_handle(\n\u001b[0;32m   1736\u001b[0m     f,\n\u001b[0;32m   1737\u001b[0m     mode,\n\u001b[0;32m   1738\u001b[0m     encoding\u001b[38;5;241m=\u001b[39m\u001b[38;5;28mself\u001b[39m\u001b[38;5;241m.\u001b[39moptions\u001b[38;5;241m.\u001b[39mget(\u001b[38;5;124m\"\u001b[39m\u001b[38;5;124mencoding\u001b[39m\u001b[38;5;124m\"\u001b[39m, \u001b[38;5;28;01mNone\u001b[39;00m),\n\u001b[0;32m   1739\u001b[0m     compression\u001b[38;5;241m=\u001b[39m\u001b[38;5;28mself\u001b[39m\u001b[38;5;241m.\u001b[39moptions\u001b[38;5;241m.\u001b[39mget(\u001b[38;5;124m\"\u001b[39m\u001b[38;5;124mcompression\u001b[39m\u001b[38;5;124m\"\u001b[39m, \u001b[38;5;28;01mNone\u001b[39;00m),\n\u001b[0;32m   1740\u001b[0m     memory_map\u001b[38;5;241m=\u001b[39m\u001b[38;5;28mself\u001b[39m\u001b[38;5;241m.\u001b[39moptions\u001b[38;5;241m.\u001b[39mget(\u001b[38;5;124m\"\u001b[39m\u001b[38;5;124mmemory_map\u001b[39m\u001b[38;5;124m\"\u001b[39m, \u001b[38;5;28;01mFalse\u001b[39;00m),\n\u001b[0;32m   1741\u001b[0m     is_text\u001b[38;5;241m=\u001b[39mis_text,\n\u001b[0;32m   1742\u001b[0m     errors\u001b[38;5;241m=\u001b[39m\u001b[38;5;28mself\u001b[39m\u001b[38;5;241m.\u001b[39moptions\u001b[38;5;241m.\u001b[39mget(\u001b[38;5;124m\"\u001b[39m\u001b[38;5;124mencoding_errors\u001b[39m\u001b[38;5;124m\"\u001b[39m, \u001b[38;5;124m\"\u001b[39m\u001b[38;5;124mstrict\u001b[39m\u001b[38;5;124m\"\u001b[39m),\n\u001b[0;32m   1743\u001b[0m     storage_options\u001b[38;5;241m=\u001b[39m\u001b[38;5;28mself\u001b[39m\u001b[38;5;241m.\u001b[39moptions\u001b[38;5;241m.\u001b[39mget(\u001b[38;5;124m\"\u001b[39m\u001b[38;5;124mstorage_options\u001b[39m\u001b[38;5;124m\"\u001b[39m, \u001b[38;5;28;01mNone\u001b[39;00m),\n\u001b[0;32m   1744\u001b[0m )\n\u001b[0;32m   1745\u001b[0m \u001b[38;5;28;01massert\u001b[39;00m \u001b[38;5;28mself\u001b[39m\u001b[38;5;241m.\u001b[39mhandles \u001b[38;5;129;01mis\u001b[39;00m \u001b[38;5;129;01mnot\u001b[39;00m \u001b[38;5;28;01mNone\u001b[39;00m\n\u001b[0;32m   1746\u001b[0m f \u001b[38;5;241m=\u001b[39m \u001b[38;5;28mself\u001b[39m\u001b[38;5;241m.\u001b[39mhandles\u001b[38;5;241m.\u001b[39mhandle\n",
      "File \u001b[1;32m~\\anaconda3\\Lib\\site-packages\\pandas\\io\\common.py:856\u001b[0m, in \u001b[0;36mget_handle\u001b[1;34m(path_or_buf, mode, encoding, compression, memory_map, is_text, errors, storage_options)\u001b[0m\n\u001b[0;32m    851\u001b[0m \u001b[38;5;28;01melif\u001b[39;00m \u001b[38;5;28misinstance\u001b[39m(handle, \u001b[38;5;28mstr\u001b[39m):\n\u001b[0;32m    852\u001b[0m     \u001b[38;5;66;03m# Check whether the filename is to be opened in binary mode.\u001b[39;00m\n\u001b[0;32m    853\u001b[0m     \u001b[38;5;66;03m# Binary mode does not support 'encoding' and 'newline'.\u001b[39;00m\n\u001b[0;32m    854\u001b[0m     \u001b[38;5;28;01mif\u001b[39;00m ioargs\u001b[38;5;241m.\u001b[39mencoding \u001b[38;5;129;01mand\u001b[39;00m \u001b[38;5;124m\"\u001b[39m\u001b[38;5;124mb\u001b[39m\u001b[38;5;124m\"\u001b[39m \u001b[38;5;129;01mnot\u001b[39;00m \u001b[38;5;129;01min\u001b[39;00m ioargs\u001b[38;5;241m.\u001b[39mmode:\n\u001b[0;32m    855\u001b[0m         \u001b[38;5;66;03m# Encoding\u001b[39;00m\n\u001b[1;32m--> 856\u001b[0m         handle \u001b[38;5;241m=\u001b[39m \u001b[38;5;28mopen\u001b[39m(\n\u001b[0;32m    857\u001b[0m             handle,\n\u001b[0;32m    858\u001b[0m             ioargs\u001b[38;5;241m.\u001b[39mmode,\n\u001b[0;32m    859\u001b[0m             encoding\u001b[38;5;241m=\u001b[39mioargs\u001b[38;5;241m.\u001b[39mencoding,\n\u001b[0;32m    860\u001b[0m             errors\u001b[38;5;241m=\u001b[39merrors,\n\u001b[0;32m    861\u001b[0m             newline\u001b[38;5;241m=\u001b[39m\u001b[38;5;124m\"\u001b[39m\u001b[38;5;124m\"\u001b[39m,\n\u001b[0;32m    862\u001b[0m         )\n\u001b[0;32m    863\u001b[0m     \u001b[38;5;28;01melse\u001b[39;00m:\n\u001b[0;32m    864\u001b[0m         \u001b[38;5;66;03m# Binary mode\u001b[39;00m\n\u001b[0;32m    865\u001b[0m         handle \u001b[38;5;241m=\u001b[39m \u001b[38;5;28mopen\u001b[39m(handle, ioargs\u001b[38;5;241m.\u001b[39mmode)\n",
      "\u001b[1;31mFileNotFoundError\u001b[0m: [Errno 2] No such file or directory: 'census2010.csv'"
     ]
    }
   ],
   "source": [
    "census2010 = pd.read_csv(\"census2010.csv\")\n",
    "census2010.head()"
   ]
  },
  {
   "cell_type": "code",
   "execution_count": null,
   "metadata": {
    "id": "GGVY2J_QlppK",
    "outputId": "693e2c06-348f-4ea9-a102-014e7eb14bb3"
   },
   "outputs": [],
   "source": [
    "estimate2018 = pd.read_csv(\"estimate2018.csv\")\n",
    "estimate2018.head()"
   ]
  },
  {
   "cell_type": "markdown",
   "metadata": {
    "id": "CxuiZ5tglppL"
   },
   "source": [
    "For these two data sets, `concat` method will not work as they have different order and column names. We want to merge these two data sets using the state column (\"Geography\" in the first DataFrame and \"State\" in the second). First, let's see how `concat` method works for these two data sets."
   ]
  },
  {
   "cell_type": "code",
   "execution_count": null,
   "metadata": {
    "id": "_wpZh1qWlppL",
    "outputId": "783fe632-823c-47a2-cf4a-3dd8ac8882a9"
   },
   "outputs": [],
   "source": [
    "pd.concat([census2010, estimate2018], sort=True)"
   ]
  },
  {
   "cell_type": "markdown",
   "metadata": {
    "id": "4fXdXA5MlppL"
   },
   "source": [
    "To use the `merge` method, we have to specify the DataFrame on the \"left\" and \"right\" and column in each to be used for merging data. If merge columns in both DataFrames have the same title, we can use the \"on\" argument."
   ]
  },
  {
   "cell_type": "code",
   "execution_count": null,
   "metadata": {
    "id": "5_7wCgNOlppM",
    "outputId": "c02ce48d-4599-4c14-e495-1addffa5809f"
   },
   "outputs": [],
   "source": [
    "state_population = pd.merge(left=estimate2018, right=census2010, left_on=\"State\", right_on=\"Geography\")\n",
    "state_population"
   ]
  },
  {
   "cell_type": "markdown",
   "metadata": {
    "id": "2Z_nGCPwlppM"
   },
   "source": [
    "There are three types of merges that can occur:\n",
    "- One-to-one\n",
    "- One-to-many (many-to-one)\n",
    "- Many-to-many\n",
    "\n",
    "The example above is a one-to-one merge, as there is exactly one row in the \"left\" data set associated with a row in the \"right\" data set and vice versa. If there are multiple rows associated with one row in the other DataFrame, the one row is repeated for each related row in the merge process."
   ]
  },
  {
   "cell_type": "markdown",
   "metadata": {
    "id": "KhzWwsp9lppM"
   },
   "source": [
    "## Sorting Data\n",
    "\n",
    "Pandas supports sorting values in Series and DataFrames by a single or multiple columns. `sort_values` method accepts a `by` arguments that indicates a list of column labels to be used for sorting and `ascending` parameters that is list of boolean values indicating whether sort order for each of the specified columns should be ascending or descending."
   ]
  },
  {
   "cell_type": "code",
   "execution_count": null,
   "metadata": {
    "id": "Sgq60LCVlppM",
    "outputId": "63b5a0ae-3982-45ee-8fc6-663ec9692830"
   },
   "outputs": [],
   "source": [
    "state_population.sort_values(by=[\"State\"])"
   ]
  },
  {
   "cell_type": "code",
   "execution_count": null,
   "metadata": {
    "id": "o3j4cdv9lppN",
    "outputId": "7e9738e1-6587-4196-cff1-9420ab7e642b",
    "scrolled": true
   },
   "outputs": [],
   "source": [
    "clean_population = state_population.sort_values(by=[\"Estimate 2018\"], ascending=False)\n",
    "clean_population = clean_population.drop(\"Geography\", axis=1)\n",
    "clean_population.index = range(len(clean_population))\n",
    "clean_population"
   ]
  },
  {
   "cell_type": "markdown",
   "metadata": {
    "id": "LffQZ0edlz2H"
   },
   "source": [
    "# Tidy Data\n",
    "\n",
    "Data comes in a variety of shapes and formats. \"Tiday Data\" paper attempts to formalize how we describe shape of data and define a goal in data cleaning process (https://vita.had.co.nz/papers/tidy-data.pdf). It provides a standard way to organize data values within a dataset.\n",
    "\n",
    "As an example, compare the following representations of the same data."
   ]
  },
  {
   "cell_type": "code",
   "execution_count": null,
   "metadata": {
    "id": "bE4b9-iFl6eP"
   },
   "outputs": [],
   "source": [
    "import pandas as pd\n",
    "rep1 = pd.DataFrame({\n",
    "    \"name\": [\"John Smith\", \"Jane Doe\", \"Mary Johnson\"],\n",
    "    \"treatmenta\": [None, 16, 3],\n",
    "    \"treatmentb\": [2, 11, 1]\n",
    "})\n",
    "\n",
    "rep1"
   ]
  },
  {
   "cell_type": "code",
   "execution_count": null,
   "metadata": {
    "id": "RFBvfUFNl9yw"
   },
   "outputs": [],
   "source": [
    "rep2 = pd.DataFrame({\n",
    "    \"\": [\"treatmenta\", \"treatmentb\"],\n",
    "    \"John Smith\": [None, 2],\n",
    "    \"Jane Doe\": [16, 11],\n",
    "    \"Mary Johnson\": [3, 1]\n",
    "})\n",
    "\n",
    "rep2"
   ]
  },
  {
   "cell_type": "markdown",
   "metadata": {
    "id": "PnP5A5Tqmj_o"
   },
   "source": [
    "This simple example shows how different representations of the data could lead into different paths for analysis for potentially different outcomes. The mentioned paper, defined three principles of tidy data:\n",
    "1. Columns represent separate variables\n",
    "1. Rows represent individual observations\n",
    "1. Observational units form tables\n",
    "\n",
    "In the above example, columns in representation 1 are not separate variables, instead, they are different values (\"a\" and \"b\") for treatment variable. We can reorganize the above dataset into the new tidy format."
   ]
  },
  {
   "cell_type": "code",
   "execution_count": null,
   "metadata": {
    "id": "cGrYGy1tmlFH"
   },
   "outputs": [],
   "source": [
    "rep_tidy = pd.DataFrame({\n",
    "    \"name\": [\"Jane\", \"Mary\", \"John\", \"Jane\", \"Mary\"],\n",
    "    \"treatment\": [\"treatment a\", \"treatment a\", \"treatment b\", \"treatment b\", \"treatment b\"],\n",
    "    \"value\": [16, 3, 2, 11, 1]\n",
    "})\n",
    "\n",
    "rep_tidy"
   ]
  },
  {
   "cell_type": "markdown",
   "metadata": {
    "id": "DnGhDG4SmoYI"
   },
   "source": [
    "At a first glance, it seems the tidy format is more difficuly to read and find differences between treatment types. But we have to consider that some data formats are better for reporting and some better for analysis. Tidy data is aimed at improving analysis, rather than reporting.\n",
    "\n",
    "The most common issue that needs to be fixed in tidying a dataset is columns containing values, instead of variables. Pandas provides `melt` function to fix this problem.\n",
    "\n",
    "The first argument to the `melt` function is the DataFrame. A list of identifier columns should be passed by `id_vars` parameter. A list of columns containing the values for variables should be passed by `value_vars` parameter (columns to be melted)."
   ]
  },
  {
   "cell_type": "code",
   "execution_count": null,
   "metadata": {
    "id": "HUnmEIECmpMn"
   },
   "outputs": [],
   "source": [
    "pd.melt(rep1, id_vars=[\"name\"], value_vars=[\"treatmenta\", \"treatmentb\"])"
   ]
  },
  {
   "cell_type": "markdown",
   "metadata": {
    "id": "DngtxPASmrl-"
   },
   "source": [
    "By default, the `melt` function names the variable column as `variable` and value column as `value`. We can use the `var_name` parameter to rename the variable column and `value_name` to rename the value column."
   ]
  },
  {
   "cell_type": "code",
   "execution_count": null,
   "metadata": {
    "id": "o5YlOmydmv4P"
   },
   "outputs": [],
   "source": [
    "pd.melt(rep1, id_vars=[\"name\"], value_vars=[\"treatmenta\", \"treatmentb\"], var_name=\"treatment\", value_name=\"observation\")"
   ]
  },
  {
   "cell_type": "markdown",
   "metadata": {
    "id": "69qiOJq7mzF4"
   },
   "source": [
    "The opposite process of melting os called pivoting. In melting, we turn columns into rows, where in pivoting, we turn unique values into separate columns. This changes our dataset from an analysis friendly shape to a reporting friendly shape.\n",
    "\n",
    "Below is an example of a case where pivoting can improve our dataset:"
   ]
  },
  {
   "cell_type": "code",
   "execution_count": null,
   "metadata": {
    "id": "C6X3Q4fJmzS4"
   },
   "outputs": [],
   "source": [
    "temp_melt = pd.DataFrame({\n",
    "    \"date\": [\"2010-01-30\", \"2010-01-30\", \"2010-02-02\", \"2010-02-02\"],\n",
    "    \"element\": [\"tmax\", \"tmin\", \"tmax\", \"tmin\"],\n",
    "    \"value\": [27.8, 14.5, 27.3, 14.4]\n",
    "})\n",
    "\n",
    "temp_melt"
   ]
  },
  {
   "cell_type": "markdown",
   "metadata": {
    "id": "c6wlLagZm7dg"
   },
   "source": [
    "DataFrame objects have a `pivot` method to turn columns into rows. Using the `index` parameter of this function, we have to indicate which columns need remain fixed, `columns` for columns to break, and `values` for identifying columns containing the values (observations)."
   ]
  },
  {
   "cell_type": "code",
   "execution_count": null,
   "metadata": {
    "id": "Uv-pb7B_m-6w"
   },
   "outputs": [],
   "source": [
    "temp_melt.pivot(index=\"date\", columns=\"element\", values=\"value\")"
   ]
  },
  {
   "cell_type": "markdown",
   "metadata": {
    "id": "J6enu5MonDHb"
   },
   "source": [
    "`pivot` method does not work all the time. It requires all the columns to be broken to have exactly one observation for each row. In other words, it cannot deal with duplicate values for indices. Here is an example:"
   ]
  },
  {
   "cell_type": "code",
   "execution_count": null,
   "metadata": {
    "id": "FFxWJgcKnDzI"
   },
   "outputs": [],
   "source": [
    "temp_melt = pd.DataFrame({\n",
    "    \"date\": [\"2010-01-30\", \"2010-01-30\", \"2010-02-02\", \"2010-02-02\", \"2010-02-02\"],\n",
    "    \"element\": [\"tmax\", \"tmin\", \"tmax\", \"tmin\", \"tmax\"],\n",
    "    \"value\": [27.8, 14.5, 27.3, 14.4, 28.1]\n",
    "})\n",
    "\n",
    "temp_melt"
   ]
  },
  {
   "cell_type": "code",
   "execution_count": null,
   "metadata": {
    "id": "lHjjOjQ7nGRp"
   },
   "outputs": [],
   "source": [
    "try:\n",
    "    temp_melt.pivot(index=\"date\", columns=\"element\", values=\"value\")\n",
    "except:\n",
    "    print(\"Error performing pivot operation\")"
   ]
  },
  {
   "cell_type": "markdown",
   "metadata": {
    "id": "p5gx-0L4nIfw"
   },
   "source": [
    "To avoid this problem, we should use the `pivot_table` method. This method has a parameter that specifies how to deal with duplicate values. To do this, we use the `aggfunc` parameter of this method to specify what function should be applied when there are multiple values for an index."
   ]
  },
  {
   "cell_type": "code",
   "execution_count": null,
   "metadata": {
    "id": "OP2q6aWSnJLI"
   },
   "outputs": [],
   "source": [
    "temp_pivot = temp_melt.pivot_table(index=\"date\", columns=\"element\", values=\"value\", aggfunc=np.mean)\n",
    "temp_pivot"
   ]
  },
  {
   "cell_type": "markdown",
   "metadata": {
    "id": "HdbgdZh6nNFP"
   },
   "source": [
    "Sometimes after performing a pivot table operation, indices are modified and become different from the original dataset. To fix this problem, pandas provide a `reset_index` method on DataFrames to reset the index."
   ]
  },
  {
   "cell_type": "code",
   "execution_count": null,
   "metadata": {
    "id": "otoS5WbQnPpw",
    "tags": []
   },
   "outputs": [],
   "source": [
    "temp_pivot.reset_index()"
   ]
  }
 ],
 "metadata": {
  "colab": {
   "provenance": []
  },
  "kernelspec": {
   "display_name": "Python 3 (ipykernel)",
   "language": "python",
   "name": "python3"
  },
  "language_info": {
   "codemirror_mode": {
    "name": "ipython",
    "version": 3
   },
   "file_extension": ".py",
   "mimetype": "text/x-python",
   "name": "python",
   "nbconvert_exporter": "python",
   "pygments_lexer": "ipython3",
   "version": "3.11.4"
  }
 },
 "nbformat": 4,
 "nbformat_minor": 4
}
